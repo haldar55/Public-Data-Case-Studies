{
 "cells": [
  {
   "cell_type": "code",
   "execution_count": 1,
   "metadata": {},
   "outputs": [],
   "source": [
    "import pandas as pd\n",
    "import numpy as np\n",
    "import nltk, gensim, spacy\n",
    "from nltk.util import ngrams\n",
    "from scipy import sparse\n",
    "from sklearn.cluster import KMeans\n",
    "from nltk.corpus import stopwords\n",
    "from nltk.tokenize import word_tokenize\n",
    "from nltk.corpus import wordnet\n",
    "import re\n",
    "from textblob import TextBlob\n",
    "from sklearn.feature_extraction import text\n",
    "import string\n",
    "from nltk import pos_tag\n",
    "from nltk.tokenize import WhitespaceTokenizer\n",
    "from nltk.stem import WordNetLemmatizer\n",
    "from nltk.sentiment.vader import SentimentIntensityAnalyzer\n",
    "from gensim.test.utils import common_texts\n",
    "from gensim.models.doc2vec import Doc2Vec, TaggedDocument\n",
    "from sklearn.feature_extraction.text import CountVectorizer, TfidfVectorizer\n",
    "from sklearn.decomposition import LatentDirichletAllocation, TruncatedSVD\n",
    "from sklearn.model_selection import GridSearchCV\n",
    "\n",
    "import matplotlib.pyplot as plt\n",
    "from wordcloud import *\n",
    "from textblob import TextBlob\n",
    "import pickle"
   ]
  },
  {
   "cell_type": "code",
   "execution_count": 2,
   "metadata": {},
   "outputs": [],
   "source": [
    "bank_df = pd.read_excel(\"BankReviews.xlsx\",sheet_name=\"BankReviews\")"
   ]
  },
  {
   "cell_type": "code",
   "execution_count": 3,
   "metadata": {},
   "outputs": [
    {
     "name": "stdout",
     "output_type": "stream",
     "text": [
      "<class 'pandas.core.frame.DataFrame'>\n",
      "RangeIndex: 505 entries, 0 to 504\n",
      "Data columns (total 4 columns):\n",
      "Date        505 non-null datetime64[ns]\n",
      "Stars       505 non-null int64\n",
      "Reviews     505 non-null object\n",
      "BankName    505 non-null object\n",
      "dtypes: datetime64[ns](1), int64(1), object(2)\n",
      "memory usage: 15.9+ KB\n"
     ]
    }
   ],
   "source": [
    "bank_df.info()"
   ]
  },
  {
   "cell_type": "code",
   "execution_count": 4,
   "metadata": {
    "scrolled": true
   },
   "outputs": [
    {
     "name": "stdout",
     "output_type": "stream",
     "text": [
      "<class 'pandas.core.frame.DataFrame'>\n",
      "RangeIndex: 505 entries, 0 to 504\n",
      "Data columns (total 4 columns):\n",
      "Date        505 non-null datetime64[ns]\n",
      "Stars       505 non-null int64\n",
      "Reviews     505 non-null object\n",
      "BankName    505 non-null object\n",
      "dtypes: datetime64[ns](1), int64(1), object(2)\n",
      "memory usage: 15.9+ KB\n"
     ]
    }
   ],
   "source": [
    "bank_complaint_df = bank_df.copy()\n",
    "bank_complaint_df.info()"
   ]
  },
  {
   "cell_type": "markdown",
   "metadata": {},
   "source": [
    "#### Trying out TextBlob Sentiment analysis function on reviews to see if we can use it to classify reviews, basen on polarity score \n",
    "\n",
    "    - polarity <0 = negative\n",
    "    - polarity >0 = positive\n",
    "    - polarity ==0 = neutral)"
   ]
  },
  {
   "cell_type": "code",
   "execution_count": 5,
   "metadata": {},
   "outputs": [
    {
     "name": "stdout",
     "output_type": "stream",
     "text": [
      "Rating:  1\n",
      "Review:  This loan started off quite well. Our rep, Donna, was friendly and quick to respond to questions. She clearly explained how things would unfold, and it all sounded great. What I didn't count on was that the Bank never kept a single promise she made. I had the same problem with this Bank 15 or more times. I would ask for assurance about something, Donna would respond that things would be completed as I wished, and her promise was violated by the Bank EVERY SINGLE TIME. For example, in our first or second conversation, I explained to Donna that my wife would be traveling out of the country 11 weeks after beginning the loan process. Would it be a problem to get the loan closed before that? Not at all, she said. We should close several weeks before my wife's departure. 11 weeks later, the Bank was not ready to close. How did that happen? Donna would ask us to email documentation, which we would email back within 2-12 hours, depending on the occasion. Donna would then assure us that the documentation that we sent her was great, and the Bank had everything it needed. Then, weeks later, they would ask for additional documentation. This happened 5 or more times. Later in the process, they asked for repeats of earlier documentation because the earlier documentation that had I provided was now \"too old.\" I cannot tell if this patterns recured because the Bank doesn't care about customers, or because it is just incompetent. Every time we complained about additional requests or some promise that wasn't kept, Donna told us that our complaints were justified and she was sorry. But she was unable or unwilling to rectify the broken promises. We finally closed 13 weeks or so after our initial application. I can only imagine how long the process would have taken if we had not responded to every request from the Bank on the day they made it, and if we hadn't pushed hard to get this deal done. This Bank treats customers with complete disrespect. As someone who has owned several properties in my life and has received more than 10 home mortgages from different banks, I can honestly say that this is the worst mortgage experience I've ever had. You owe it to yourself to work with another Bank that is more professional and more respectful of customers. If I could, I'd rate this Bank lower than one star\n",
      "Polarity:  0.0726467331118494\n"
     ]
    }
   ],
   "source": [
    "#Ex 1\n",
    "print(\"Rating: \", bank_df.Stars.loc[43])\n",
    "rev = bank_df.Reviews.loc[43]\n",
    "print(\"Review: \",rev )\n",
    "\n",
    "analyze = TextBlob(rev)\n",
    "print(\"Polarity: \",analyze.polarity)"
   ]
  },
  {
   "cell_type": "code",
   "execution_count": 6,
   "metadata": {},
   "outputs": [
    {
     "name": "stdout",
     "output_type": "stream",
     "text": [
      "Rating:  1\n",
      "Review:  A good rate but a very frustrating process, constant delays, decisions made then changed, overwhelmed underwriting team with 3 week back log, rookie mistake related to Texas law that caused an additional 2 week wait. Closing happened almost 6 weeks after it should have. Courteous and professional, but not very knowledgeable and no sense of urgency. Would not recommend\n",
      "Polarity:  0.09749999999999999\n"
     ]
    }
   ],
   "source": [
    "#Ex 2\n",
    "print(\"Rating: \", bank_df.Stars.loc[18])\n",
    "rev = bank_df.Reviews.loc[18]\n",
    "print(\"Review: \",rev )\n",
    "\n",
    "analyze = TextBlob(rev)\n",
    "print(\"Polarity: \",analyze.polarity)"
   ]
  },
  {
   "cell_type": "code",
   "execution_count": 7,
   "metadata": {},
   "outputs": [
    {
     "name": "stdout",
     "output_type": "stream",
     "text": [
      "Rating:  5\n",
      "Review:  \r\n",
      "We were initially pretty skeptical about refinancing our home.  We’ve had personal and family issues that devastated our credit to the point where we felt that it would be a waste of time since we’d never be approved.  However, a real need arose when Dad’s declining health demanded we make room in our home so we can keep him close to us and give him the care he needs.  We weren’t sure what to expect from Patrick G at Reliance, but we were soon reassured and thoroughly delighted when Pat informed us that we were eligible and that he’d walk us through the entire process personally!  There simply are no superlatives sufficient to thank you for your fantastic guidance in getting our home refinanced!  You took what we assumed would be a challenging home refinance and successfully navigated us through the process to a successful conclusion.  In every single step, you proved to be friendly, patient, polite, knowledgeable, professional and consistently available to us.   We can't remember the last company we dealt with that returned calls and emails in such a timely manner!  You even personally called on weekends when there were items that needed our attention!  What more can a person ask for in a mortgage broker?  I will happily and enthusiastically recommend you to others.  Thanks Patrick for all your support and assistance... Read More\r\n",
      "        \n",
      "Polarity:  0.25014285714285717\n"
     ]
    }
   ],
   "source": [
    "#Ex 3\n",
    "print(\"Rating: \", bank_df.Stars.loc[53])\n",
    "rev = bank_df.Reviews.loc[53]\n",
    "print(\"Review: \",rev )\n",
    "\n",
    "analyze = TextBlob(rev)\n",
    "print(\"Polarity: \",analyze.polarity)"
   ]
  },
  {
   "cell_type": "code",
   "execution_count": 8,
   "metadata": {},
   "outputs": [
    {
     "name": "stdout",
     "output_type": "stream",
     "text": [
      "Rating:  5\n",
      "Review:  \r\n",
      "I am writing this review to share what ended up being an unpleasant experience with Kirk Gay and Pacific Beneficial Mortgage to other potential customers. \r\n",
      "\r\n",
      "I am a first time homebuyer and was originally going to go with a local mortgage broker for my loan, but wanted to shop around for a potential better rate, so I used LendingTree which is how Kirk contacted me. My original lender had offered to pay for my home appraisal in writing, and, wanting to compete, Kirk said he would pay for the appraisal (which he stated in writing) and asked for the letter the other lender had provided so he could get permission to have Pacific Beneficial pay for my appraisal. Kirk confirmed I would not be paying for the appraisal and was very happy with what Kirk was doing to accommodate me as a customer. However, when I closed on the home, the cost of the appraisal was on my Final Buyer’s Statement ($525). As Kirk had said that I would not be paying for the appraisal, I thought I would be reimbursed. I reached out to Kirk via email after close and got no further response than “We paid for appraisal upfront but we get reimbursed.” I then reached out to Kirk two times via email with no response. I then called the office and spoke to Kirk’s boss’ admin who instructed me to reach out to Kirk’s boss, Adam Carrion, which I did. It was only then that I received an email response from Kirk stating that the lender credit I received, which was less than the appraisal, was all I would receive to cover the cost, despite the fact that when I was entering into the loan Kirk told me that Pacific Beneficial would be paying for the appraisal and I would be receiving a lender credit. Kirk asked me to call him, which I did and left a voicemail, and he never called me back. I called Kirk again leaving a voicemail with no response. I then began reaching out to his boss Adam Carrion via email to continue to explain the situation. Only then did I receive an email from Kirk asking me to call him, which I did, left a voicemail, and received no response. I then called Adam and spoke to him on the phone and only then did I receive a call from Kirk, offering me a nominal amount of money. I stated that I wanted to be reimbursed for the entire appraisal amount and he said he would go back to the powers that be to see what he could do. I never heard from him. I reached out to Kirk and Adam via email to check in on status with no response. The next day I reached out again, voicing my displeasure and that I was going to take action via reviews. It was only then that I received an email from Kirk accusing me of extorting him. I want other potential customers to know about what occurred as not only was I misled, but I was treated terribly as a customer once Kirk had been paid his commission. It is extremely disappointing that this brokerage would go to these lengths over $525 after the fact when they promised this a customer.\r\n",
      "... Read More\r\n",
      "        \n",
      "Polarity:  0.030147058823529423\n"
     ]
    }
   ],
   "source": [
    "#Ex 4\n",
    "print(\"Rating: \", bank_df.Stars.loc[138])\n",
    "rev = bank_df.Reviews.loc[138]\n",
    "print(\"Review: \",rev )\n",
    "\n",
    "analyze = TextBlob(rev)\n",
    "print(\"Polarity: \",analyze.polarity)"
   ]
  },
  {
   "cell_type": "markdown",
   "metadata": {},
   "source": [
    "**Conclusion:** The sentiment analysis function isn't performing as well when there is a big paragraph to parse. A lot of negative reviews are passing with +ve polarities. Hence, we would use a Regression technique in conjunction with the Stars column to determine the Sentiment of a review"
   ]
  },
  {
   "cell_type": "code",
   "execution_count": 9,
   "metadata": {},
   "outputs": [
    {
     "data": {
      "text/html": [
       "<div>\n",
       "<style scoped>\n",
       "    .dataframe tbody tr th:only-of-type {\n",
       "        vertical-align: middle;\n",
       "    }\n",
       "\n",
       "    .dataframe tbody tr th {\n",
       "        vertical-align: top;\n",
       "    }\n",
       "\n",
       "    .dataframe thead th {\n",
       "        text-align: right;\n",
       "    }\n",
       "</style>\n",
       "<table border=\"1\" class=\"dataframe\">\n",
       "  <thead>\n",
       "    <tr style=\"text-align: right;\">\n",
       "      <th></th>\n",
       "      <th>Reviews</th>\n",
       "      <th>is_Good</th>\n",
       "    </tr>\n",
       "  </thead>\n",
       "  <tbody>\n",
       "    <tr>\n",
       "      <th>0</th>\n",
       "      <td>Great job, Wyndham Capital! Each person was pr...</td>\n",
       "      <td>1</td>\n",
       "    </tr>\n",
       "    <tr>\n",
       "      <th>1</th>\n",
       "      <td>Matthew Richardson is professional and helpful...</td>\n",
       "      <td>1</td>\n",
       "    </tr>\n",
       "    <tr>\n",
       "      <th>2</th>\n",
       "      <td>We had a past experience with Wyndham Mortgage...</td>\n",
       "      <td>1</td>\n",
       "    </tr>\n",
       "    <tr>\n",
       "      <th>3</th>\n",
       "      <td>We have been dealing with Brad Thomka from the...</td>\n",
       "      <td>1</td>\n",
       "    </tr>\n",
       "    <tr>\n",
       "      <th>4</th>\n",
       "      <td>I can't express how grateful I am for the supp...</td>\n",
       "      <td>1</td>\n",
       "    </tr>\n",
       "  </tbody>\n",
       "</table>\n",
       "</div>"
      ],
      "text/plain": [
       "                                             Reviews  is_Good\n",
       "0  Great job, Wyndham Capital! Each person was pr...        1\n",
       "1  Matthew Richardson is professional and helpful...        1\n",
       "2  We had a past experience with Wyndham Mortgage...        1\n",
       "3  We have been dealing with Brad Thomka from the...        1\n",
       "4  I can't express how grateful I am for the supp...        1"
      ]
     },
     "execution_count": 9,
     "metadata": {},
     "output_type": "execute_result"
    }
   ],
   "source": [
    "rev_df = pd.DataFrame(columns=[\"Reviews\",\"is_Good\"])\n",
    "rev_df[\"Reviews\"] = bank_df[\"Reviews\"]\n",
    "rev_df[\"is_Good\"] = bank_df[\"Stars\"].apply(lambda x: 1 if x == 5 else 0)\n",
    "\n",
    "rev_df.head()"
   ]
  },
  {
   "cell_type": "code",
   "execution_count": 10,
   "metadata": {},
   "outputs": [
    {
     "name": "stdout",
     "output_type": "stream",
     "text": [
      "<class 'pandas.core.frame.DataFrame'>\n",
      "RangeIndex: 505 entries, 0 to 504\n",
      "Data columns (total 2 columns):\n",
      "Reviews    505 non-null object\n",
      "is_Good    505 non-null int64\n",
      "dtypes: int64(1), object(1)\n",
      "memory usage: 8.0+ KB\n"
     ]
    }
   ],
   "source": [
    "rev_df.info()"
   ]
  },
  {
   "cell_type": "markdown",
   "metadata": {},
   "source": [
    "### Cleaning Data"
   ]
  },
  {
   "cell_type": "code",
   "execution_count": 11,
   "metadata": {},
   "outputs": [
    {
     "data": {
      "text/plain": [
       "'!\"#$%&\\'()*+,-./:;<=>?@[\\\\]^_`{|}~'"
      ]
     },
     "execution_count": 11,
     "metadata": {},
     "output_type": "execute_result"
    }
   ],
   "source": [
    "string.punctuation"
   ]
  },
  {
   "cell_type": "code",
   "execution_count": 12,
   "metadata": {},
   "outputs": [
    {
     "data": {
      "text/plain": [
       "['i',\n",
       " 'me',\n",
       " 'my',\n",
       " 'myself',\n",
       " 'we',\n",
       " 'our',\n",
       " 'ours',\n",
       " 'ourselves',\n",
       " 'you',\n",
       " \"you're\",\n",
       " \"you've\",\n",
       " \"you'll\",\n",
       " \"you'd\",\n",
       " 'your',\n",
       " 'yours',\n",
       " 'yourself',\n",
       " 'yourselves',\n",
       " 'he',\n",
       " 'him',\n",
       " 'his',\n",
       " 'himself',\n",
       " 'she',\n",
       " \"she's\",\n",
       " 'her',\n",
       " 'hers',\n",
       " 'herself',\n",
       " 'it',\n",
       " \"it's\",\n",
       " 'its',\n",
       " 'itself',\n",
       " 'they',\n",
       " 'them',\n",
       " 'their',\n",
       " 'theirs',\n",
       " 'themselves',\n",
       " 'what',\n",
       " 'which',\n",
       " 'who',\n",
       " 'whom',\n",
       " 'this',\n",
       " 'that',\n",
       " \"that'll\",\n",
       " 'these',\n",
       " 'those',\n",
       " 'am',\n",
       " 'is',\n",
       " 'are',\n",
       " 'was',\n",
       " 'were',\n",
       " 'be',\n",
       " 'been',\n",
       " 'being',\n",
       " 'have',\n",
       " 'has',\n",
       " 'had',\n",
       " 'having',\n",
       " 'do',\n",
       " 'does',\n",
       " 'did',\n",
       " 'doing',\n",
       " 'a',\n",
       " 'an',\n",
       " 'the',\n",
       " 'and',\n",
       " 'but',\n",
       " 'if',\n",
       " 'or',\n",
       " 'because',\n",
       " 'as',\n",
       " 'until',\n",
       " 'while',\n",
       " 'of',\n",
       " 'at',\n",
       " 'by',\n",
       " 'for',\n",
       " 'with',\n",
       " 'about',\n",
       " 'against',\n",
       " 'between',\n",
       " 'into',\n",
       " 'through',\n",
       " 'during',\n",
       " 'before',\n",
       " 'after',\n",
       " 'above',\n",
       " 'below',\n",
       " 'to',\n",
       " 'from',\n",
       " 'up',\n",
       " 'down',\n",
       " 'in',\n",
       " 'out',\n",
       " 'on',\n",
       " 'off',\n",
       " 'over',\n",
       " 'under',\n",
       " 'again',\n",
       " 'further',\n",
       " 'then',\n",
       " 'once',\n",
       " 'here',\n",
       " 'there',\n",
       " 'when',\n",
       " 'where',\n",
       " 'why',\n",
       " 'how',\n",
       " 'all',\n",
       " 'any',\n",
       " 'both',\n",
       " 'each',\n",
       " 'few',\n",
       " 'more',\n",
       " 'most',\n",
       " 'other',\n",
       " 'some',\n",
       " 'such',\n",
       " 'no',\n",
       " 'nor',\n",
       " 'not',\n",
       " 'only',\n",
       " 'own',\n",
       " 'same',\n",
       " 'so',\n",
       " 'than',\n",
       " 'too',\n",
       " 'very',\n",
       " 's',\n",
       " 't',\n",
       " 'can',\n",
       " 'will',\n",
       " 'just',\n",
       " 'don',\n",
       " \"don't\",\n",
       " 'should',\n",
       " \"should've\",\n",
       " 'now',\n",
       " 'd',\n",
       " 'll',\n",
       " 'm',\n",
       " 'o',\n",
       " 're',\n",
       " 've',\n",
       " 'y',\n",
       " 'ain',\n",
       " 'aren',\n",
       " \"aren't\",\n",
       " 'couldn',\n",
       " \"couldn't\",\n",
       " 'didn',\n",
       " \"didn't\",\n",
       " 'doesn',\n",
       " \"doesn't\",\n",
       " 'hadn',\n",
       " \"hadn't\",\n",
       " 'hasn',\n",
       " \"hasn't\",\n",
       " 'haven',\n",
       " \"haven't\",\n",
       " 'isn',\n",
       " \"isn't\",\n",
       " 'ma',\n",
       " 'mightn',\n",
       " \"mightn't\",\n",
       " 'mustn',\n",
       " \"mustn't\",\n",
       " 'needn',\n",
       " \"needn't\",\n",
       " 'shan',\n",
       " \"shan't\",\n",
       " 'shouldn',\n",
       " \"shouldn't\",\n",
       " 'wasn',\n",
       " \"wasn't\",\n",
       " 'weren',\n",
       " \"weren't\",\n",
       " 'won',\n",
       " \"won't\",\n",
       " 'wouldn',\n",
       " \"wouldn't\"]"
      ]
     },
     "execution_count": 12,
     "metadata": {},
     "output_type": "execute_result"
    }
   ],
   "source": [
    "stop = stopwords.words('english')\n",
    "stop"
   ]
  },
  {
   "cell_type": "code",
   "execution_count": 13,
   "metadata": {},
   "outputs": [
    {
     "data": {
      "text/plain": [
       "[('\\r\\nin', 'JJ'),\n",
       " ('response', 'NN'),\n",
       " ('previous', 'JJ'),\n",
       " ('review', 'NN'),\n",
       " ('greg', 'NN'),\n",
       " ('bellezza', 'NN'),\n",
       " ('reliance', 'NN'),\n",
       " ('capital', 'NN'),\n",
       " ('refund', 'NN'),\n",
       " ('appraisal', 'NN'),\n",
       " ('fee.\\r\\n', 'NN')]"
      ]
     },
     "execution_count": 13,
     "metadata": {},
     "output_type": "execute_result"
    }
   ],
   "source": [
    "# lower text\n",
    "text = rev_df.Reviews.loc[92].lower()\n",
    "# tokenize text and remove puncutation\n",
    "text = [word.strip(string.punctuation) for word in text.split(\" \")]\n",
    "# remove stop words\n",
    "stop = stopwords.words('english')\n",
    "text = [x for x in text if x not in stop]\n",
    "# remove empty tokens\n",
    "text = [t for t in text if len(t) > 0]\n",
    "\n",
    "pos_tag(text)"
   ]
  },
  {
   "cell_type": "code",
   "execution_count": 14,
   "metadata": {
    "scrolled": true
   },
   "outputs": [
    {
     "data": {
      "text/plain": [
       "[(' in', 'JJ'),\n",
       " ('response', 'NN'),\n",
       " ('previous', 'JJ'),\n",
       " ('review', 'NN'),\n",
       " ('greg', 'NN'),\n",
       " ('bellezza', 'NN'),\n",
       " ('reliance', 'NN'),\n",
       " ('capital', 'NN'),\n",
       " ('refund', 'NN'),\n",
       " ('appraisal', 'NN'),\n",
       " ('fee. ', 'NN')]"
      ]
     },
     "execution_count": 14,
     "metadata": {},
     "output_type": "execute_result"
    }
   ],
   "source": [
    "#remove \\r\\n characters from the review\n",
    "text = [t.replace('\\n', ' ').replace('\\r', '') for t in text]\n",
    "pos_tag(text)"
   ]
  },
  {
   "cell_type": "code",
   "execution_count": 15,
   "metadata": {},
   "outputs": [],
   "source": [
    "#Lemmatize words based on POS tagging\n",
    "def get_wordnet_pos(pos_tag):\n",
    "    if pos_tag.startswith('J'):\n",
    "        return wordnet.ADJ\n",
    "    elif pos_tag.startswith('V'):\n",
    "        return wordnet.VERB\n",
    "    elif pos_tag.startswith('N'):\n",
    "        return wordnet.NOUN\n",
    "    elif pos_tag.startswith('R'):\n",
    "        return wordnet.ADV\n",
    "    else:\n",
    "        return wordnet.NOUN"
   ]
  },
  {
   "cell_type": "code",
   "execution_count": 16,
   "metadata": {},
   "outputs": [],
   "source": [
    "def clean_texts(text):\n",
    "    # lower text\n",
    "    text = text.lower()\n",
    "    # tokenize text and remove puncutation\n",
    "    text = [word.strip(string.punctuation) for word in text.split(\" \")]\n",
    "    # remove stop words\n",
    "    text = [x for x in text if x not in stop]\n",
    "    #remove \\r\\n characters from the review\n",
    "    text = [t.replace('\\n', ' ').replace('\\r', '') for t in text]\n",
    "    # remove empty tokens\n",
    "    text = [t for t in text if len(t) > 0]\n",
    "    # pos tag text based on the context of word placement in review\n",
    "    pos_tags = pos_tag(text)\n",
    "    # lemmatize text\n",
    "    text = [WordNetLemmatizer().lemmatize(t[0], get_wordnet_pos(t[1])) for t in pos_tags]\n",
    "    # remove words with only one letter\n",
    "    text = [t for t in text if len(t) > 1]\n",
    "    # join all\n",
    "    text = \" \".join(text)\n",
    "    return(text)"
   ]
  },
  {
   "cell_type": "code",
   "execution_count": 17,
   "metadata": {},
   "outputs": [],
   "source": [
    "rev_df[\"Reviews_clean\"] = rev_df[\"Reviews\"].apply(lambda x: clean_texts(x))"
   ]
  },
  {
   "cell_type": "code",
   "execution_count": 18,
   "metadata": {},
   "outputs": [
    {
     "data": {
      "text/plain": [
       "' in response previous review greg bellezza reliance capital refund appraisal fee. '"
      ]
     },
     "execution_count": 18,
     "metadata": {},
     "output_type": "execute_result"
    }
   ],
   "source": [
    "rev_df.Reviews_clean.loc[92]"
   ]
  },
  {
   "cell_type": "markdown",
   "metadata": {},
   "source": [
    "## Section 1: Sentiment Analysis\n",
    "### Using Vader package \n",
    "\n",
    "We use this package because for each text, Vader returns 4 values:\n",
    "- neutrality score\n",
    "- positivity score\n",
    "- negativity score\n",
    "- overall score that summarizes the previous scores\n"
   ]
  },
  {
   "cell_type": "code",
   "execution_count": 19,
   "metadata": {},
   "outputs": [
    {
     "name": "stderr",
     "output_type": "stream",
     "text": [
      "[nltk_data] Downloading package vader_lexicon to\n",
      "[nltk_data]     C:\\Users\\Pratiksha\\AppData\\Roaming\\nltk_data...\n",
      "[nltk_data]   Package vader_lexicon is already up-to-date!\n"
     ]
    },
    {
     "data": {
      "text/plain": [
       "True"
      ]
     },
     "execution_count": 19,
     "metadata": {},
     "output_type": "execute_result"
    }
   ],
   "source": [
    "nltk.download('vader_lexicon')"
   ]
  },
  {
   "cell_type": "code",
   "execution_count": 20,
   "metadata": {},
   "outputs": [],
   "source": [
    "# add sentiment anaylsis columns\n",
    "\n",
    "sid = SentimentIntensityAnalyzer()\n",
    "rev_df[\"sentiments\"] = rev_df[\"Reviews\"].apply(lambda x: sid.polarity_scores(x))\n",
    "# modifying sentiments so that each score has its own column\n",
    "rev_df = pd.concat([rev_df.drop(['sentiments'], axis=1), rev_df['sentiments'].apply(pd.Series)], axis=1)"
   ]
  },
  {
   "cell_type": "code",
   "execution_count": 21,
   "metadata": {},
   "outputs": [
    {
     "data": {
      "text/html": [
       "<div>\n",
       "<style scoped>\n",
       "    .dataframe tbody tr th:only-of-type {\n",
       "        vertical-align: middle;\n",
       "    }\n",
       "\n",
       "    .dataframe tbody tr th {\n",
       "        vertical-align: top;\n",
       "    }\n",
       "\n",
       "    .dataframe thead th {\n",
       "        text-align: right;\n",
       "    }\n",
       "</style>\n",
       "<table border=\"1\" class=\"dataframe\">\n",
       "  <thead>\n",
       "    <tr style=\"text-align: right;\">\n",
       "      <th></th>\n",
       "      <th>Reviews</th>\n",
       "      <th>is_Good</th>\n",
       "      <th>Reviews_clean</th>\n",
       "      <th>neg</th>\n",
       "      <th>neu</th>\n",
       "      <th>pos</th>\n",
       "      <th>compound</th>\n",
       "    </tr>\n",
       "  </thead>\n",
       "  <tbody>\n",
       "    <tr>\n",
       "      <th>0</th>\n",
       "      <td>Great job, Wyndham Capital! Each person was pr...</td>\n",
       "      <td>1</td>\n",
       "      <td>great job wyndham capital person professional ...</td>\n",
       "      <td>0.000</td>\n",
       "      <td>0.703</td>\n",
       "      <td>0.297</td>\n",
       "      <td>0.8011</td>\n",
       "    </tr>\n",
       "    <tr>\n",
       "      <th>1</th>\n",
       "      <td>Matthew Richardson is professional and helpful...</td>\n",
       "      <td>1</td>\n",
       "      <td>matthew richardson professional helpful help f...</td>\n",
       "      <td>0.000</td>\n",
       "      <td>0.703</td>\n",
       "      <td>0.297</td>\n",
       "      <td>0.8516</td>\n",
       "    </tr>\n",
       "    <tr>\n",
       "      <th>2</th>\n",
       "      <td>We had a past experience with Wyndham Mortgage...</td>\n",
       "      <td>1</td>\n",
       "      <td>past experience wyndham mortgage would without...</td>\n",
       "      <td>0.000</td>\n",
       "      <td>0.794</td>\n",
       "      <td>0.206</td>\n",
       "      <td>0.9595</td>\n",
       "    </tr>\n",
       "    <tr>\n",
       "      <th>3</th>\n",
       "      <td>We have been dealing with Brad Thomka from the...</td>\n",
       "      <td>1</td>\n",
       "      <td>deal brad thomka beginning start stressful tim...</td>\n",
       "      <td>0.018</td>\n",
       "      <td>0.756</td>\n",
       "      <td>0.226</td>\n",
       "      <td>0.9818</td>\n",
       "    </tr>\n",
       "    <tr>\n",
       "      <th>4</th>\n",
       "      <td>I can't express how grateful I am for the supp...</td>\n",
       "      <td>1</td>\n",
       "      <td>can't express grateful support zach provide fa...</td>\n",
       "      <td>0.040</td>\n",
       "      <td>0.861</td>\n",
       "      <td>0.099</td>\n",
       "      <td>0.5569</td>\n",
       "    </tr>\n",
       "  </tbody>\n",
       "</table>\n",
       "</div>"
      ],
      "text/plain": [
       "                                             Reviews  is_Good  \\\n",
       "0  Great job, Wyndham Capital! Each person was pr...        1   \n",
       "1  Matthew Richardson is professional and helpful...        1   \n",
       "2  We had a past experience with Wyndham Mortgage...        1   \n",
       "3  We have been dealing with Brad Thomka from the...        1   \n",
       "4  I can't express how grateful I am for the supp...        1   \n",
       "\n",
       "                                       Reviews_clean    neg    neu    pos  \\\n",
       "0  great job wyndham capital person professional ...  0.000  0.703  0.297   \n",
       "1  matthew richardson professional helpful help f...  0.000  0.703  0.297   \n",
       "2  past experience wyndham mortgage would without...  0.000  0.794  0.206   \n",
       "3  deal brad thomka beginning start stressful tim...  0.018  0.756  0.226   \n",
       "4  can't express grateful support zach provide fa...  0.040  0.861  0.099   \n",
       "\n",
       "   compound  \n",
       "0    0.8011  \n",
       "1    0.8516  \n",
       "2    0.9595  \n",
       "3    0.9818  \n",
       "4    0.5569  "
      ]
     },
     "execution_count": 21,
     "metadata": {},
     "output_type": "execute_result"
    }
   ],
   "source": [
    "rev_df.head()"
   ]
  },
  {
   "cell_type": "code",
   "execution_count": 22,
   "metadata": {
    "scrolled": true
   },
   "outputs": [
    {
     "data": {
      "text/plain": [
       "Reviews          A good rate but a very frustrating process, co...\n",
       "is_Good                                                          0\n",
       "Reviews_clean    good rate frustrate process constant delay dec...\n",
       "neg                                                          0.195\n",
       "neu                                                          0.692\n",
       "pos                                                          0.113\n",
       "compound                                                   -0.7615\n",
       "Name: 18, dtype: object"
      ]
     },
     "execution_count": 22,
     "metadata": {},
     "output_type": "execute_result"
    }
   ],
   "source": [
    "rev_df.loc[18]\n",
    "# The compounded scoring looks quite promising"
   ]
  },
  {
   "cell_type": "markdown",
   "metadata": {},
   "source": [
    "Next we will **vectorize the texts** in the review to have a better understanding of which words are similar in nature. This will be done in the context of the sentence and hence will be of more value to us."
   ]
  },
  {
   "cell_type": "code",
   "execution_count": null,
   "metadata": {
    "scrolled": true
   },
   "outputs": [],
   "source": [
    "docs = [TaggedDocument(doc, [i]) for i, doc in enumerate(rev_df[\"Reviews_clean\"].apply(lambda x: x.split(\" \")))]\n",
    "\n",
    "# train a Doc2Vec model with our text data\n",
    "model = Doc2Vec(docs, vector_size=10, window=2, min_count=1, workers=8)\n",
    "\n",
    "# transform each document into a vector data\n",
    "doc2vec_df = rev_df[\"Reviews_clean\"].apply(lambda x: model.infer_vector(x.split(\" \"))).apply(pd.Series)\n",
    "doc2vec_df.columns = [\"doc2vec_vector_\" + str(x) for x in doc2vec_df.columns]\n",
    "rev_df = pd.concat([rev_df, doc2vec_df], axis=1)\n",
    "\n",
    "rev_df.head()"
   ]
  },
  {
   "cell_type": "markdown",
   "metadata": {},
   "source": [
    "Finally we add the **TF-IDF (Term Frequency - Inverse Document Frequency)** values for every word and every document. \n",
    "\n",
    "\n",
    "We add TF-IDF columns for every word that appear in at least 5 different texts(since dataset is small) to filter some of them and reduce the size of the final output."
   ]
  },
  {
   "cell_type": "code",
   "execution_count": null,
   "metadata": {
    "scrolled": true
   },
   "outputs": [],
   "source": [
    "# add tf-idfs columns\n",
    "from sklearn.feature_extraction.text import TfidfVectorizer\n",
    "\n",
    "tfidf = TfidfVectorizer(min_df = 5)\n",
    "tfidf_result = tfidf.fit_transform(rev_df[\"Reviews_clean\"]).toarray()\n",
    "tfidf_df = pd.DataFrame(tfidf_result, columns = tfidf.get_feature_names())\n",
    "tfidf_df.columns = [\"word_\" + str(x) for x in tfidf_df.columns]\n",
    "tfidf_df.index = rev_df.index\n",
    "rev_df = pd.concat([rev_df, tfidf_df], axis=1)\n",
    "\n",
    "rev_df.head()"
   ]
  },
  {
   "cell_type": "markdown",
   "metadata": {},
   "source": [
    "**Checking if the sentiments look fine**"
   ]
  },
  {
   "cell_type": "code",
   "execution_count": 23,
   "metadata": {},
   "outputs": [
    {
     "data": {
      "text/html": [
       "<div>\n",
       "<style scoped>\n",
       "    .dataframe tbody tr th:only-of-type {\n",
       "        vertical-align: middle;\n",
       "    }\n",
       "\n",
       "    .dataframe tbody tr th {\n",
       "        vertical-align: top;\n",
       "    }\n",
       "\n",
       "    .dataframe thead th {\n",
       "        text-align: right;\n",
       "    }\n",
       "</style>\n",
       "<table border=\"1\" class=\"dataframe\">\n",
       "  <thead>\n",
       "    <tr style=\"text-align: right;\">\n",
       "      <th></th>\n",
       "      <th>Reviews</th>\n",
       "      <th>compound</th>\n",
       "    </tr>\n",
       "  </thead>\n",
       "  <tbody>\n",
       "    <tr>\n",
       "      <th>109</th>\n",
       "      <td>\\r\\nI can't say enough about Adam, Bill and Pa...</td>\n",
       "      <td>0.9960</td>\n",
       "    </tr>\n",
       "    <tr>\n",
       "      <th>108</th>\n",
       "      <td>\\r\\nI can't say enough about Adam and Pac Ben....</td>\n",
       "      <td>0.9960</td>\n",
       "    </tr>\n",
       "    <tr>\n",
       "      <th>53</th>\n",
       "      <td>\\r\\nWe were initially pretty skeptical about r...</td>\n",
       "      <td>0.9950</td>\n",
       "    </tr>\n",
       "    <tr>\n",
       "      <th>130</th>\n",
       "      <td>\\r\\nWhen we put an offer on in our home, our r...</td>\n",
       "      <td>0.9936</td>\n",
       "    </tr>\n",
       "    <tr>\n",
       "      <th>129</th>\n",
       "      <td>\\r\\nWhen we put an offer on in our home, our r...</td>\n",
       "      <td>0.9936</td>\n",
       "    </tr>\n",
       "    <tr>\n",
       "      <th>396</th>\n",
       "      <td>\\r\\nA friend of mine told me that he just refi...</td>\n",
       "      <td>0.9930</td>\n",
       "    </tr>\n",
       "    <tr>\n",
       "      <th>343</th>\n",
       "      <td>\\r\\nWe have bought and sold multiple propertie...</td>\n",
       "      <td>0.9923</td>\n",
       "    </tr>\n",
       "    <tr>\n",
       "      <th>250</th>\n",
       "      <td>\\r\\nThis was my first home purchas; however, w...</td>\n",
       "      <td>0.9917</td>\n",
       "    </tr>\n",
       "    <tr>\n",
       "      <th>280</th>\n",
       "      <td>\\r\\nI started a process for a mortgage loan wi...</td>\n",
       "      <td>0.9909</td>\n",
       "    </tr>\n",
       "    <tr>\n",
       "      <th>288</th>\n",
       "      <td>\\r\\nWent above and beyond to make sure I had a...</td>\n",
       "      <td>0.9872</td>\n",
       "    </tr>\n",
       "  </tbody>\n",
       "</table>\n",
       "</div>"
      ],
      "text/plain": [
       "                                               Reviews  compound\n",
       "109  \\r\\nI can't say enough about Adam, Bill and Pa...    0.9960\n",
       "108  \\r\\nI can't say enough about Adam and Pac Ben....    0.9960\n",
       "53   \\r\\nWe were initially pretty skeptical about r...    0.9950\n",
       "130  \\r\\nWhen we put an offer on in our home, our r...    0.9936\n",
       "129  \\r\\nWhen we put an offer on in our home, our r...    0.9936\n",
       "396  \\r\\nA friend of mine told me that he just refi...    0.9930\n",
       "343  \\r\\nWe have bought and sold multiple propertie...    0.9923\n",
       "250  \\r\\nThis was my first home purchas; however, w...    0.9917\n",
       "280  \\r\\nI started a process for a mortgage loan wi...    0.9909\n",
       "288  \\r\\nWent above and beyond to make sure I had a...    0.9872"
      ]
     },
     "execution_count": 23,
     "metadata": {},
     "output_type": "execute_result"
    }
   ],
   "source": [
    "# highest positive sentiment reviews\n",
    "rev_df.sort_values(\"compound\", ascending = False)[[\"Reviews\", \"compound\"]].head(10)"
   ]
  },
  {
   "cell_type": "code",
   "execution_count": 43,
   "metadata": {},
   "outputs": [
    {
     "data": {
      "text/html": [
       "<div>\n",
       "<style scoped>\n",
       "    .dataframe tbody tr th:only-of-type {\n",
       "        vertical-align: middle;\n",
       "    }\n",
       "\n",
       "    .dataframe tbody tr th {\n",
       "        vertical-align: top;\n",
       "    }\n",
       "\n",
       "    .dataframe thead th {\n",
       "        text-align: right;\n",
       "    }\n",
       "</style>\n",
       "<table border=\"1\" class=\"dataframe\">\n",
       "  <thead>\n",
       "    <tr style=\"text-align: right;\">\n",
       "      <th></th>\n",
       "      <th>Reviews</th>\n",
       "      <th>compound</th>\n",
       "    </tr>\n",
       "  </thead>\n",
       "  <tbody>\n",
       "    <tr>\n",
       "      <th>233</th>\n",
       "      <td>\\r\\nThe Interest rate offered and time to clos...</td>\n",
       "      <td>-0.9372</td>\n",
       "    </tr>\n",
       "    <tr>\n",
       "      <th>220</th>\n",
       "      <td>\\r\\nMiserable experience. They screwed up ever...</td>\n",
       "      <td>-0.8939</td>\n",
       "    </tr>\n",
       "    <tr>\n",
       "      <th>40</th>\n",
       "      <td>Miserable experience. They screwed up everythi...</td>\n",
       "      <td>-0.8939</td>\n",
       "    </tr>\n",
       "    <tr>\n",
       "      <th>492</th>\n",
       "      <td>\\r\\nMiserable experience. They screwed up ever...</td>\n",
       "      <td>-0.8939</td>\n",
       "    </tr>\n",
       "    <tr>\n",
       "      <th>93</th>\n",
       "      <td>\\r\\nIf you use Reliance First Capitol...DO NOT...</td>\n",
       "      <td>-0.8401</td>\n",
       "    </tr>\n",
       "    <tr>\n",
       "      <th>406</th>\n",
       "      <td>\\r\\nAdam and his team apparently do not commun...</td>\n",
       "      <td>-0.8170</td>\n",
       "    </tr>\n",
       "    <tr>\n",
       "      <th>219</th>\n",
       "      <td>\\r\\nThe closing process for a VA loan went smo...</td>\n",
       "      <td>-0.8019</td>\n",
       "    </tr>\n",
       "    <tr>\n",
       "      <th>39</th>\n",
       "      <td>The closing process for a VA loan went smoothl...</td>\n",
       "      <td>-0.8019</td>\n",
       "    </tr>\n",
       "    <tr>\n",
       "      <th>491</th>\n",
       "      <td>\\r\\nThe closing process for a VA loan went smo...</td>\n",
       "      <td>-0.8019</td>\n",
       "    </tr>\n",
       "    <tr>\n",
       "      <th>502</th>\n",
       "      <td>\\r\\nWhat a horrible experience. We have excell...</td>\n",
       "      <td>-0.7882</td>\n",
       "    </tr>\n",
       "  </tbody>\n",
       "</table>\n",
       "</div>"
      ],
      "text/plain": [
       "                                               Reviews  compound\n",
       "233  \\r\\nThe Interest rate offered and time to clos...   -0.9372\n",
       "220  \\r\\nMiserable experience. They screwed up ever...   -0.8939\n",
       "40   Miserable experience. They screwed up everythi...   -0.8939\n",
       "492  \\r\\nMiserable experience. They screwed up ever...   -0.8939\n",
       "93   \\r\\nIf you use Reliance First Capitol...DO NOT...   -0.8401\n",
       "406  \\r\\nAdam and his team apparently do not commun...   -0.8170\n",
       "219  \\r\\nThe closing process for a VA loan went smo...   -0.8019\n",
       "39   The closing process for a VA loan went smoothl...   -0.8019\n",
       "491  \\r\\nThe closing process for a VA loan went smo...   -0.8019\n",
       "502  \\r\\nWhat a horrible experience. We have excell...   -0.7882"
      ]
     },
     "execution_count": 43,
     "metadata": {},
     "output_type": "execute_result"
    }
   ],
   "source": [
    "rev_df.sort_values(\"compound\", ascending = True)[[\"Reviews\", \"compound\"]].head(10)"
   ]
  },
  {
   "cell_type": "markdown",
   "metadata": {},
   "source": [
    "### New Column: Review_polarity\n",
    "To define the sentiment of the review from positive, negative or neutral"
   ]
  },
  {
   "cell_type": "code",
   "execution_count": 25,
   "metadata": {},
   "outputs": [
    {
     "data": {
      "text/html": [
       "<div>\n",
       "<style scoped>\n",
       "    .dataframe tbody tr th:only-of-type {\n",
       "        vertical-align: middle;\n",
       "    }\n",
       "\n",
       "    .dataframe tbody tr th {\n",
       "        vertical-align: top;\n",
       "    }\n",
       "\n",
       "    .dataframe thead th {\n",
       "        text-align: right;\n",
       "    }\n",
       "</style>\n",
       "<table border=\"1\" class=\"dataframe\">\n",
       "  <thead>\n",
       "    <tr style=\"text-align: right;\">\n",
       "      <th></th>\n",
       "      <th>Reviews</th>\n",
       "      <th>is_Good</th>\n",
       "      <th>Reviews_clean</th>\n",
       "      <th>neg</th>\n",
       "      <th>neu</th>\n",
       "      <th>pos</th>\n",
       "      <th>compound</th>\n",
       "      <th>Review_polarity</th>\n",
       "    </tr>\n",
       "  </thead>\n",
       "  <tbody>\n",
       "    <tr>\n",
       "      <th>0</th>\n",
       "      <td>Great job, Wyndham Capital! Each person was pr...</td>\n",
       "      <td>1</td>\n",
       "      <td>great job wyndham capital person professional ...</td>\n",
       "      <td>0.000</td>\n",
       "      <td>0.703</td>\n",
       "      <td>0.297</td>\n",
       "      <td>0.8011</td>\n",
       "      <td>positive</td>\n",
       "    </tr>\n",
       "    <tr>\n",
       "      <th>1</th>\n",
       "      <td>Matthew Richardson is professional and helpful...</td>\n",
       "      <td>1</td>\n",
       "      <td>matthew richardson professional helpful help f...</td>\n",
       "      <td>0.000</td>\n",
       "      <td>0.703</td>\n",
       "      <td>0.297</td>\n",
       "      <td>0.8516</td>\n",
       "      <td>positive</td>\n",
       "    </tr>\n",
       "    <tr>\n",
       "      <th>2</th>\n",
       "      <td>We had a past experience with Wyndham Mortgage...</td>\n",
       "      <td>1</td>\n",
       "      <td>past experience wyndham mortgage would without...</td>\n",
       "      <td>0.000</td>\n",
       "      <td>0.794</td>\n",
       "      <td>0.206</td>\n",
       "      <td>0.9595</td>\n",
       "      <td>positive</td>\n",
       "    </tr>\n",
       "    <tr>\n",
       "      <th>3</th>\n",
       "      <td>We have been dealing with Brad Thomka from the...</td>\n",
       "      <td>1</td>\n",
       "      <td>deal brad thomka beginning start stressful tim...</td>\n",
       "      <td>0.018</td>\n",
       "      <td>0.756</td>\n",
       "      <td>0.226</td>\n",
       "      <td>0.9818</td>\n",
       "      <td>positive</td>\n",
       "    </tr>\n",
       "    <tr>\n",
       "      <th>4</th>\n",
       "      <td>I can't express how grateful I am for the supp...</td>\n",
       "      <td>1</td>\n",
       "      <td>can't express grateful support zach provide fa...</td>\n",
       "      <td>0.040</td>\n",
       "      <td>0.861</td>\n",
       "      <td>0.099</td>\n",
       "      <td>0.5569</td>\n",
       "      <td>positive</td>\n",
       "    </tr>\n",
       "  </tbody>\n",
       "</table>\n",
       "</div>"
      ],
      "text/plain": [
       "                                             Reviews  is_Good  \\\n",
       "0  Great job, Wyndham Capital! Each person was pr...        1   \n",
       "1  Matthew Richardson is professional and helpful...        1   \n",
       "2  We had a past experience with Wyndham Mortgage...        1   \n",
       "3  We have been dealing with Brad Thomka from the...        1   \n",
       "4  I can't express how grateful I am for the supp...        1   \n",
       "\n",
       "                                       Reviews_clean    neg    neu    pos  \\\n",
       "0  great job wyndham capital person professional ...  0.000  0.703  0.297   \n",
       "1  matthew richardson professional helpful help f...  0.000  0.703  0.297   \n",
       "2  past experience wyndham mortgage would without...  0.000  0.794  0.206   \n",
       "3  deal brad thomka beginning start stressful tim...  0.018  0.756  0.226   \n",
       "4  can't express grateful support zach provide fa...  0.040  0.861  0.099   \n",
       "\n",
       "   compound Review_polarity  \n",
       "0    0.8011        positive  \n",
       "1    0.8516        positive  \n",
       "2    0.9595        positive  \n",
       "3    0.9818        positive  \n",
       "4    0.5569        positive  "
      ]
     },
     "execution_count": 25,
     "metadata": {},
     "output_type": "execute_result"
    }
   ],
   "source": [
    "def get_polarity_class(n):\n",
    "    if n > 0:\n",
    "        return \"positive\"\n",
    "    elif n < 0:\n",
    "        return \"negative\"\n",
    "    else:\n",
    "        return \"neutral\"\n",
    "\n",
    "\n",
    "rev_df[\"Review_polarity\"] = rev_df[\"compound\"].apply(lambda x: get_polarity_class(x))\n",
    "rev_df.head()"
   ]
  },
  {
   "cell_type": "code",
   "execution_count": 41,
   "metadata": {},
   "outputs": [],
   "source": [
    "rev_df[rev_df[\"Review_polarity\"]==\"neutral\"].to_csv(\"chk_neutral_review.csv\")"
   ]
  },
  {
   "cell_type": "code",
   "execution_count": 64,
   "metadata": {},
   "outputs": [],
   "source": [
    "# Reviews misclassified when comparing the is_Good column\n",
    "x = []\n",
    "for rw in rev_df.itertuples():\n",
    "    if (rw[2] == 1) & (rw[7]<=0):\n",
    "        x.append(rw)\n",
    "    elif (rw[2] == 0) & (rw[7]>=0):\n",
    "        x.append(rw)\n"
   ]
  },
  {
   "cell_type": "code",
   "execution_count": 74,
   "metadata": {
    "scrolled": true
   },
   "outputs": [
    {
     "name": "stdout",
     "output_type": "stream",
     "text": [
      "0.8772277227722772\n"
     ]
    }
   ],
   "source": [
    "# % of correct classification\n",
    "print(1-(len(x)/len(rev_df)))"
   ]
  },
  {
   "cell_type": "markdown",
   "metadata": {},
   "source": [
    "**87% accuracy** in determining the sentiment of the review is a good model"
   ]
  },
  {
   "cell_type": "markdown",
   "metadata": {},
   "source": [
    "## Section 2: Topic Modelling\n",
    "### Using LDA model"
   ]
  },
  {
   "cell_type": "code",
   "execution_count": 44,
   "metadata": {},
   "outputs": [],
   "source": [
    "lst_Review = rev_df[\"Reviews_clean\"].tolist()"
   ]
  },
  {
   "cell_type": "code",
   "execution_count": 45,
   "metadata": {},
   "outputs": [],
   "source": [
    "vectorizer = CountVectorizer(analyzer='word',       \n",
    "                             min_df=7,                        # minimum reqd occurences of a word \n",
    "                             stop_words='english',             # remove stop words\n",
    "                             lowercase=True,                   # convert all words to lowercase\n",
    "                             token_pattern='[a-zA-Z0-9]{3,}',  # num chars > 3\n",
    "                            )\n",
    "\n",
    "data_vectorized = vectorizer.fit_transform(lst_Review)"
   ]
  },
  {
   "cell_type": "code",
   "execution_count": 46,
   "metadata": {},
   "outputs": [
    {
     "name": "stdout",
     "output_type": "stream",
     "text": [
      "LatentDirichletAllocation(batch_size=50, doc_topic_prior=None,\n",
      "                          evaluate_every=-1, learning_decay=0.7,\n",
      "                          learning_method='online', learning_offset=10.0,\n",
      "                          max_doc_update_iter=100, max_iter=10,\n",
      "                          mean_change_tol=0.001, n_components=3, n_jobs=-1,\n",
      "                          perp_tol=0.1, random_state=42, topic_word_prior=None,\n",
      "                          total_samples=1000000.0, verbose=0)\n"
     ]
    }
   ],
   "source": [
    "# Based on best params from GridSearchCV algo\n",
    "lda_model = LatentDirichletAllocation(n_components=3,               # Number of topics\n",
    "                                      max_iter=10,               # Max learning iterations\n",
    "                                      learning_method='online',   \n",
    "                                      random_state=42,          # Random state\n",
    "                                      batch_size=50,            # n docs in each learning iter\n",
    "                                      learning_decay=0.7,\n",
    "                                      evaluate_every = -1,       # compute perplexity every n iters, default: Don't\n",
    "                                      n_jobs = -1,               # Use all available CPUs\n",
    "                                     )\n",
    "lda_output = lda_model.fit_transform(data_vectorized)\n",
    "\n",
    "print(lda_model)  # Model attributes"
   ]
  },
  {
   "cell_type": "code",
   "execution_count": 47,
   "metadata": {
    "scrolled": true
   },
   "outputs": [
    {
     "name": "stdout",
     "output_type": "stream",
     "text": [
      "Log Likelihood:  -67458.17168379054\n",
      "Perplexity:  276.1780831613547\n",
      "{'batch_size': 50, 'doc_topic_prior': None, 'evaluate_every': -1, 'learning_decay': 0.7, 'learning_method': 'online', 'learning_offset': 10.0, 'max_doc_update_iter': 100, 'max_iter': 10, 'mean_change_tol': 0.001, 'n_components': 3, 'n_jobs': -1, 'perp_tol': 0.1, 'random_state': 42, 'topic_word_prior': None, 'total_samples': 1000000.0, 'verbose': 0}\n"
     ]
    }
   ],
   "source": [
    "# Log Likelyhood: Higher the better\n",
    "print(\"Log Likelihood: \", lda_model.score(data_vectorized))\n",
    "\n",
    "# Perplexity: Lower the better. Perplexity = exp(-1. * log-likelihood per word)\n",
    "print(\"Perplexity: \", lda_model.perplexity(data_vectorized))\n",
    "\n",
    "# See model parameters\n",
    "print(lda_model.get_params())"
   ]
  },
  {
   "cell_type": "markdown",
   "metadata": {},
   "source": [
    "### Load model from pickle\n",
    "```\n",
    "pickle_in = open(\"gridsearch_model.pickle\",\"rb\")\n",
    "model = pickle.load(pickle_in)\n",
    "```"
   ]
  },
  {
   "cell_type": "raw",
   "metadata": {},
   "source": [
    "pickle_in = open(\"gridsearch_model.pickle\",\"rb\")\n",
    "model = pickle.load(pickle_in)"
   ]
  },
  {
   "cell_type": "raw",
   "metadata": {},
   "source": [
    "from sklearn.model_selection import GridSearchCV\n",
    "\n",
    "search_params = {'n_components': [3,4, 5,8], 'learning_decay': [.5, .7,.8,.9]}\n",
    "lda = LatentDirichletAllocation()\n",
    "model = GridSearchCV(lda, param_grid=search_params)\n",
    "model.fit(data_vectorized)\n"
   ]
  },
  {
   "cell_type": "code",
   "execution_count": 48,
   "metadata": {},
   "outputs": [
    {
     "name": "stdout",
     "output_type": "stream",
     "text": [
      "Model Perplexity:  276.1780831613547\n"
     ]
    }
   ],
   "source": [
    "# Best Model\n",
    "#best_lda_model = model.best_estimator_\n",
    "best_lda_model = lda_model\n",
    "# Model Parameters\n",
    "#print(\"Best Model's Params: \", model.best_params_)\n",
    "\n",
    "# Log Likelihood Score\n",
    "#print(\"Best Log Likelihood Score: \", model.best_score_)\n",
    "\n",
    "# Perplexity\n",
    "print(\"Model Perplexity: \", best_lda_model.perplexity(data_vectorized))"
   ]
  },
  {
   "cell_type": "code",
   "execution_count": 49,
   "metadata": {},
   "outputs": [
    {
     "data": {
      "text/html": [
       "<div>\n",
       "<style scoped>\n",
       "    .dataframe tbody tr th:only-of-type {\n",
       "        vertical-align: middle;\n",
       "    }\n",
       "\n",
       "    .dataframe tbody tr th {\n",
       "        vertical-align: top;\n",
       "    }\n",
       "\n",
       "    .dataframe thead th {\n",
       "        text-align: right;\n",
       "    }\n",
       "</style>\n",
       "<table border=\"1\" class=\"dataframe\">\n",
       "  <thead>\n",
       "    <tr style=\"text-align: right;\">\n",
       "      <th></th>\n",
       "      <th>Topic0</th>\n",
       "      <th>Topic1</th>\n",
       "      <th>Topic2</th>\n",
       "      <th>dominant_topic</th>\n",
       "    </tr>\n",
       "  </thead>\n",
       "  <tbody>\n",
       "    <tr>\n",
       "      <th>Doc0</th>\n",
       "      <td>0.24</td>\n",
       "      <td>0.73</td>\n",
       "      <td>0.03</td>\n",
       "      <td>1</td>\n",
       "    </tr>\n",
       "    <tr>\n",
       "      <th>Doc1</th>\n",
       "      <td>0.04</td>\n",
       "      <td>0.92</td>\n",
       "      <td>0.04</td>\n",
       "      <td>1</td>\n",
       "    </tr>\n",
       "    <tr>\n",
       "      <th>Doc2</th>\n",
       "      <td>0.25</td>\n",
       "      <td>0.73</td>\n",
       "      <td>0.02</td>\n",
       "      <td>1</td>\n",
       "    </tr>\n",
       "    <tr>\n",
       "      <th>Doc3</th>\n",
       "      <td>0.26</td>\n",
       "      <td>0.72</td>\n",
       "      <td>0.01</td>\n",
       "      <td>1</td>\n",
       "    </tr>\n",
       "    <tr>\n",
       "      <th>Doc4</th>\n",
       "      <td>0.02</td>\n",
       "      <td>0.96</td>\n",
       "      <td>0.02</td>\n",
       "      <td>1</td>\n",
       "    </tr>\n",
       "  </tbody>\n",
       "</table>\n",
       "</div>"
      ],
      "text/plain": [
       "      Topic0  Topic1  Topic2  dominant_topic\n",
       "Doc0    0.24    0.73    0.03               1\n",
       "Doc1    0.04    0.92    0.04               1\n",
       "Doc2    0.25    0.73    0.02               1\n",
       "Doc3    0.26    0.72    0.01               1\n",
       "Doc4    0.02    0.96    0.02               1"
      ]
     },
     "execution_count": 49,
     "metadata": {},
     "output_type": "execute_result"
    }
   ],
   "source": [
    "# Create Document - Topic Matrix\n",
    "lda_output = best_lda_model.transform(data_vectorized)\n",
    "\n",
    "# column names\n",
    "topicnames = [\"Topic\" + str(i) for i in range(best_lda_model.n_components)]\n",
    "\n",
    "# index names\n",
    "docnames = [\"Doc\" + str(i) for i in range(len(lst_Review))]\n",
    "\n",
    "# Make the pandas dataframe\n",
    "df_document_topic = pd.DataFrame(np.round(lda_output, 2), columns=topicnames, index=docnames)\n",
    "\n",
    "# Get dominant topic for each document\n",
    "dominant_topic = np.argmax(df_document_topic.values, axis=1)\n",
    "df_document_topic['dominant_topic'] = dominant_topic\n",
    "\n",
    "df_document_topic.head()"
   ]
  },
  {
   "cell_type": "code",
   "execution_count": 50,
   "metadata": {},
   "outputs": [
    {
     "data": {
      "text/html": [
       "<div>\n",
       "<style scoped>\n",
       "    .dataframe tbody tr th:only-of-type {\n",
       "        vertical-align: middle;\n",
       "    }\n",
       "\n",
       "    .dataframe tbody tr th {\n",
       "        vertical-align: top;\n",
       "    }\n",
       "\n",
       "    .dataframe thead th {\n",
       "        text-align: right;\n",
       "    }\n",
       "</style>\n",
       "<table border=\"1\" class=\"dataframe\">\n",
       "  <thead>\n",
       "    <tr style=\"text-align: right;\">\n",
       "      <th></th>\n",
       "      <th>Topic Num</th>\n",
       "      <th>Num Documents</th>\n",
       "    </tr>\n",
       "  </thead>\n",
       "  <tbody>\n",
       "    <tr>\n",
       "      <th>0</th>\n",
       "      <td>0</td>\n",
       "      <td>124</td>\n",
       "    </tr>\n",
       "    <tr>\n",
       "      <th>1</th>\n",
       "      <td>1</td>\n",
       "      <td>323</td>\n",
       "    </tr>\n",
       "    <tr>\n",
       "      <th>2</th>\n",
       "      <td>2</td>\n",
       "      <td>58</td>\n",
       "    </tr>\n",
       "  </tbody>\n",
       "</table>\n",
       "</div>"
      ],
      "text/plain": [
       "   Topic Num  Num Documents\n",
       "0          0            124\n",
       "1          1            323\n",
       "2          2             58"
      ]
     },
     "execution_count": 50,
     "metadata": {},
     "output_type": "execute_result"
    }
   ],
   "source": [
    "# Review topics distribution across documents\n",
    "\n",
    "df_topic_distribution = df_document_topic['dominant_topic'].value_counts().reset_index(name=\"Num Documents\")\n",
    "df_topic_distribution.columns = ['Topic Num', 'Num Documents']\n",
    "df_topic_distribution.sort_values(by = \"Topic Num\").reset_index(drop=True)"
   ]
  },
  {
   "cell_type": "markdown",
   "metadata": {},
   "source": [
    "#### Topic Keywords"
   ]
  },
  {
   "cell_type": "code",
   "execution_count": 51,
   "metadata": {},
   "outputs": [
    {
     "data": {
      "text/html": [
       "<div>\n",
       "<style scoped>\n",
       "    .dataframe tbody tr th:only-of-type {\n",
       "        vertical-align: middle;\n",
       "    }\n",
       "\n",
       "    .dataframe tbody tr th {\n",
       "        vertical-align: top;\n",
       "    }\n",
       "\n",
       "    .dataframe thead th {\n",
       "        text-align: right;\n",
       "    }\n",
       "</style>\n",
       "<table border=\"1\" class=\"dataframe\">\n",
       "  <thead>\n",
       "    <tr style=\"text-align: right;\">\n",
       "      <th></th>\n",
       "      <th>100</th>\n",
       "      <th>aaron</th>\n",
       "      <th>able</th>\n",
       "      <th>absolutely</th>\n",
       "      <th>accept</th>\n",
       "      <th>account</th>\n",
       "      <th>accurate</th>\n",
       "      <th>actual</th>\n",
       "      <th>adam</th>\n",
       "      <th>adan</th>\n",
       "      <th>...</th>\n",
       "      <th>weekend</th>\n",
       "      <th>wife</th>\n",
       "      <th>willing</th>\n",
       "      <th>wonderful</th>\n",
       "      <th>word</th>\n",
       "      <th>work</th>\n",
       "      <th>working</th>\n",
       "      <th>write</th>\n",
       "      <th>wyndham</th>\n",
       "      <th>year</th>\n",
       "    </tr>\n",
       "  </thead>\n",
       "  <tbody>\n",
       "    <tr>\n",
       "      <th>Topic0</th>\n",
       "      <td>2.360710</td>\n",
       "      <td>0.354517</td>\n",
       "      <td>26.361829</td>\n",
       "      <td>5.276008</td>\n",
       "      <td>19.037718</td>\n",
       "      <td>0.359719</td>\n",
       "      <td>3.560991</td>\n",
       "      <td>7.973921</td>\n",
       "      <td>26.094507</td>\n",
       "      <td>2.694316</td>\n",
       "      <td>...</td>\n",
       "      <td>5.683919</td>\n",
       "      <td>21.290964</td>\n",
       "      <td>0.359156</td>\n",
       "      <td>12.713323</td>\n",
       "      <td>14.876047</td>\n",
       "      <td>85.853999</td>\n",
       "      <td>0.339367</td>\n",
       "      <td>7.527886</td>\n",
       "      <td>0.912705</td>\n",
       "      <td>66.306762</td>\n",
       "    </tr>\n",
       "    <tr>\n",
       "      <th>Topic1</th>\n",
       "      <td>4.451542</td>\n",
       "      <td>22.251378</td>\n",
       "      <td>27.721409</td>\n",
       "      <td>7.054874</td>\n",
       "      <td>0.343202</td>\n",
       "      <td>0.338316</td>\n",
       "      <td>5.781440</td>\n",
       "      <td>0.340752</td>\n",
       "      <td>0.466334</td>\n",
       "      <td>11.199666</td>\n",
       "      <td>...</td>\n",
       "      <td>1.675315</td>\n",
       "      <td>3.867872</td>\n",
       "      <td>6.612166</td>\n",
       "      <td>0.395281</td>\n",
       "      <td>1.017248</td>\n",
       "      <td>180.446413</td>\n",
       "      <td>8.826414</td>\n",
       "      <td>0.654189</td>\n",
       "      <td>11.928004</td>\n",
       "      <td>1.728619</td>\n",
       "    </tr>\n",
       "    <tr>\n",
       "      <th>Topic2</th>\n",
       "      <td>2.022419</td>\n",
       "      <td>0.347102</td>\n",
       "      <td>0.428398</td>\n",
       "      <td>0.342794</td>\n",
       "      <td>0.363266</td>\n",
       "      <td>23.996308</td>\n",
       "      <td>0.386338</td>\n",
       "      <td>0.355796</td>\n",
       "      <td>7.652953</td>\n",
       "      <td>0.349376</td>\n",
       "      <td>...</td>\n",
       "      <td>0.338460</td>\n",
       "      <td>7.972451</td>\n",
       "      <td>0.410048</td>\n",
       "      <td>0.339624</td>\n",
       "      <td>5.307292</td>\n",
       "      <td>21.549690</td>\n",
       "      <td>0.588618</td>\n",
       "      <td>14.077959</td>\n",
       "      <td>0.355374</td>\n",
       "      <td>26.685433</td>\n",
       "    </tr>\n",
       "  </tbody>\n",
       "</table>\n",
       "<p>3 rows × 419 columns</p>\n",
       "</div>"
      ],
      "text/plain": [
       "             100      aaron       able  absolutely     accept    account  \\\n",
       "Topic0  2.360710   0.354517  26.361829    5.276008  19.037718   0.359719   \n",
       "Topic1  4.451542  22.251378  27.721409    7.054874   0.343202   0.338316   \n",
       "Topic2  2.022419   0.347102   0.428398    0.342794   0.363266  23.996308   \n",
       "\n",
       "        accurate    actual       adam       adan  ...   weekend       wife  \\\n",
       "Topic0  3.560991  7.973921  26.094507   2.694316  ...  5.683919  21.290964   \n",
       "Topic1  5.781440  0.340752   0.466334  11.199666  ...  1.675315   3.867872   \n",
       "Topic2  0.386338  0.355796   7.652953   0.349376  ...  0.338460   7.972451   \n",
       "\n",
       "         willing  wonderful       word        work   working      write  \\\n",
       "Topic0  0.359156  12.713323  14.876047   85.853999  0.339367   7.527886   \n",
       "Topic1  6.612166   0.395281   1.017248  180.446413  8.826414   0.654189   \n",
       "Topic2  0.410048   0.339624   5.307292   21.549690  0.588618  14.077959   \n",
       "\n",
       "          wyndham       year  \n",
       "Topic0   0.912705  66.306762  \n",
       "Topic1  11.928004   1.728619  \n",
       "Topic2   0.355374  26.685433  \n",
       "\n",
       "[3 rows x 419 columns]"
      ]
     },
     "execution_count": 51,
     "metadata": {},
     "output_type": "execute_result"
    }
   ],
   "source": [
    "# Topic-Keyword Matrix\n",
    "df_topic_keywords = pd.DataFrame(best_lda_model.components_)\n",
    "\n",
    "# Assign Column and Index\n",
    "df_topic_keywords.columns = vectorizer.get_feature_names()\n",
    "df_topic_keywords.index = topicnames\n",
    "\n",
    "# View\n",
    "df_topic_keywords"
   ]
  },
  {
   "cell_type": "code",
   "execution_count": 52,
   "metadata": {
    "scrolled": false
   },
   "outputs": [
    {
     "data": {
      "text/html": [
       "<div>\n",
       "<style scoped>\n",
       "    .dataframe tbody tr th:only-of-type {\n",
       "        vertical-align: middle;\n",
       "    }\n",
       "\n",
       "    .dataframe tbody tr th {\n",
       "        vertical-align: top;\n",
       "    }\n",
       "\n",
       "    .dataframe thead th {\n",
       "        text-align: right;\n",
       "    }\n",
       "</style>\n",
       "<table border=\"1\" class=\"dataframe\">\n",
       "  <thead>\n",
       "    <tr style=\"text-align: right;\">\n",
       "      <th></th>\n",
       "      <th>Word 0</th>\n",
       "      <th>Word 1</th>\n",
       "      <th>Word 2</th>\n",
       "      <th>Word 3</th>\n",
       "      <th>Word 4</th>\n",
       "      <th>Word 5</th>\n",
       "      <th>Word 6</th>\n",
       "      <th>Word 7</th>\n",
       "      <th>Word 8</th>\n",
       "      <th>Word 9</th>\n",
       "      <th>Word 10</th>\n",
       "      <th>Word 11</th>\n",
       "      <th>Word 12</th>\n",
       "      <th>Word 13</th>\n",
       "      <th>Word 14</th>\n",
       "    </tr>\n",
       "  </thead>\n",
       "  <tbody>\n",
       "    <tr>\n",
       "      <th>Topic 0</th>\n",
       "      <td>loan</td>\n",
       "      <td>refinance</td>\n",
       "      <td>company</td>\n",
       "      <td>officer</td>\n",
       "      <td>use</td>\n",
       "      <td>time</td>\n",
       "      <td>read</td>\n",
       "      <td>home</td>\n",
       "      <td>work</td>\n",
       "      <td>make</td>\n",
       "      <td>year</td>\n",
       "      <td>close</td>\n",
       "      <td>day</td>\n",
       "      <td>mortgage</td>\n",
       "      <td>recommend</td>\n",
       "    </tr>\n",
       "    <tr>\n",
       "      <th>Topic 1</th>\n",
       "      <td>work</td>\n",
       "      <td>process</td>\n",
       "      <td>loan</td>\n",
       "      <td>great</td>\n",
       "      <td>team</td>\n",
       "      <td>recommend</td>\n",
       "      <td>make</td>\n",
       "      <td>home</td>\n",
       "      <td>rate</td>\n",
       "      <td>read</td>\n",
       "      <td>experience</td>\n",
       "      <td>best</td>\n",
       "      <td>time</td>\n",
       "      <td>question</td>\n",
       "      <td>service</td>\n",
       "    </tr>\n",
       "    <tr>\n",
       "      <th>Topic 2</th>\n",
       "      <td>loan</td>\n",
       "      <td>bank</td>\n",
       "      <td>email</td>\n",
       "      <td>say</td>\n",
       "      <td>tell</td>\n",
       "      <td>pay</td>\n",
       "      <td>rate</td>\n",
       "      <td>time</td>\n",
       "      <td>ask</td>\n",
       "      <td>closing</td>\n",
       "      <td>week</td>\n",
       "      <td>send</td>\n",
       "      <td>cost</td>\n",
       "      <td>phone</td>\n",
       "      <td>receive</td>\n",
       "    </tr>\n",
       "  </tbody>\n",
       "</table>\n",
       "</div>"
      ],
      "text/plain": [
       "        Word 0     Word 1   Word 2   Word 3 Word 4     Word 5 Word 6 Word 7  \\\n",
       "Topic 0   loan  refinance  company  officer    use       time   read   home   \n",
       "Topic 1   work    process     loan    great   team  recommend   make   home   \n",
       "Topic 2   loan       bank    email      say   tell        pay   rate   time   \n",
       "\n",
       "        Word 8   Word 9     Word 10 Word 11 Word 12   Word 13    Word 14  \n",
       "Topic 0   work     make        year   close     day  mortgage  recommend  \n",
       "Topic 1   rate     read  experience    best    time  question    service  \n",
       "Topic 2    ask  closing        week    send    cost     phone    receive  "
      ]
     },
     "execution_count": 52,
     "metadata": {},
     "output_type": "execute_result"
    }
   ],
   "source": [
    "# Show top n keywords for each topic\n",
    "def show_topics(vectorizer=vectorizer, lda_model=lda_model, n_words=20):\n",
    "    keywords = np.array(vectorizer.get_feature_names())\n",
    "    topic_keywords = []\n",
    "    for topic_weights in lda_model.components_:\n",
    "        top_keyword_locs = (-topic_weights).argsort()[:n_words]\n",
    "        topic_keywords.append(keywords.take(top_keyword_locs))\n",
    "    return topic_keywords\n",
    "\n",
    "topic_keywords = show_topics(vectorizer=vectorizer, lda_model=best_lda_model, n_words=15)        \n",
    "\n",
    "# Topic - Keywords Dataframe\n",
    "df_topic_keywords = pd.DataFrame(topic_keywords)\n",
    "df_topic_keywords.columns = ['Word '+str(i) for i in range(df_topic_keywords.shape[1])]\n",
    "df_topic_keywords.index = ['Topic '+str(i) for i in range(df_topic_keywords.shape[0])]\n",
    "df_topic_keywords"
   ]
  },
  {
   "cell_type": "markdown",
   "metadata": {},
   "source": [
    "### Topic Conclusion:\n",
    "\n",
    "What does each topic seems to say about user's concerns?\n",
    "1. **Topic 0 :** Duration of completing a process\n",
    "2. **Topic 1 :** The team's interaction throughout the process\n",
    "3. **Topic 2 :** The availability of the team to answer questions regarding the process\n"
   ]
  },
  {
   "cell_type": "code",
   "execution_count": 54,
   "metadata": {},
   "outputs": [
    {
     "name": "stdout",
     "output_type": "stream",
     "text": [
      "<class 'pandas.core.frame.DataFrame'>\n",
      "Index: 505 entries, Doc0 to Doc504\n",
      "Data columns (total 4 columns):\n",
      "Topic0            505 non-null float64\n",
      "Topic1            505 non-null float64\n",
      "Topic2            505 non-null float64\n",
      "dominant_topic    505 non-null int64\n",
      "dtypes: float64(3), int64(1)\n",
      "memory usage: 19.7+ KB\n"
     ]
    }
   ],
   "source": [
    "df_document_topic.info()"
   ]
  },
  {
   "cell_type": "code",
   "execution_count": 53,
   "metadata": {},
   "outputs": [],
   "source": [
    "df_topic = df_document_topic.copy()\n",
    "df_topic.rename(index=lambda s: s.replace(\"Doc\",''),inplace = True)\n",
    "df_topic.index = df_topic.index.astype(int)"
   ]
  },
  {
   "cell_type": "code",
   "execution_count": 55,
   "metadata": {},
   "outputs": [
    {
     "data": {
      "text/html": [
       "<div>\n",
       "<style scoped>\n",
       "    .dataframe tbody tr th:only-of-type {\n",
       "        vertical-align: middle;\n",
       "    }\n",
       "\n",
       "    .dataframe tbody tr th {\n",
       "        vertical-align: top;\n",
       "    }\n",
       "\n",
       "    .dataframe thead th {\n",
       "        text-align: right;\n",
       "    }\n",
       "</style>\n",
       "<table border=\"1\" class=\"dataframe\">\n",
       "  <thead>\n",
       "    <tr style=\"text-align: right;\">\n",
       "      <th></th>\n",
       "      <th>Topic0</th>\n",
       "      <th>Topic1</th>\n",
       "      <th>Topic2</th>\n",
       "      <th>dominant_topic</th>\n",
       "    </tr>\n",
       "  </thead>\n",
       "  <tbody>\n",
       "    <tr>\n",
       "      <th>0</th>\n",
       "      <td>0.24</td>\n",
       "      <td>0.73</td>\n",
       "      <td>0.03</td>\n",
       "      <td>1</td>\n",
       "    </tr>\n",
       "    <tr>\n",
       "      <th>1</th>\n",
       "      <td>0.04</td>\n",
       "      <td>0.92</td>\n",
       "      <td>0.04</td>\n",
       "      <td>1</td>\n",
       "    </tr>\n",
       "    <tr>\n",
       "      <th>2</th>\n",
       "      <td>0.25</td>\n",
       "      <td>0.73</td>\n",
       "      <td>0.02</td>\n",
       "      <td>1</td>\n",
       "    </tr>\n",
       "    <tr>\n",
       "      <th>3</th>\n",
       "      <td>0.26</td>\n",
       "      <td>0.72</td>\n",
       "      <td>0.01</td>\n",
       "      <td>1</td>\n",
       "    </tr>\n",
       "    <tr>\n",
       "      <th>4</th>\n",
       "      <td>0.02</td>\n",
       "      <td>0.96</td>\n",
       "      <td>0.02</td>\n",
       "      <td>1</td>\n",
       "    </tr>\n",
       "    <tr>\n",
       "      <th>5</th>\n",
       "      <td>0.27</td>\n",
       "      <td>0.72</td>\n",
       "      <td>0.01</td>\n",
       "      <td>1</td>\n",
       "    </tr>\n",
       "    <tr>\n",
       "      <th>6</th>\n",
       "      <td>0.94</td>\n",
       "      <td>0.03</td>\n",
       "      <td>0.03</td>\n",
       "      <td>0</td>\n",
       "    </tr>\n",
       "    <tr>\n",
       "      <th>7</th>\n",
       "      <td>0.52</td>\n",
       "      <td>0.37</td>\n",
       "      <td>0.12</td>\n",
       "      <td>0</td>\n",
       "    </tr>\n",
       "    <tr>\n",
       "      <th>8</th>\n",
       "      <td>0.04</td>\n",
       "      <td>0.70</td>\n",
       "      <td>0.25</td>\n",
       "      <td>1</td>\n",
       "    </tr>\n",
       "    <tr>\n",
       "      <th>9</th>\n",
       "      <td>0.23</td>\n",
       "      <td>0.33</td>\n",
       "      <td>0.44</td>\n",
       "      <td>2</td>\n",
       "    </tr>\n",
       "    <tr>\n",
       "      <th>10</th>\n",
       "      <td>0.56</td>\n",
       "      <td>0.42</td>\n",
       "      <td>0.02</td>\n",
       "      <td>0</td>\n",
       "    </tr>\n",
       "    <tr>\n",
       "      <th>11</th>\n",
       "      <td>0.98</td>\n",
       "      <td>0.01</td>\n",
       "      <td>0.01</td>\n",
       "      <td>0</td>\n",
       "    </tr>\n",
       "    <tr>\n",
       "      <th>12</th>\n",
       "      <td>0.44</td>\n",
       "      <td>0.53</td>\n",
       "      <td>0.02</td>\n",
       "      <td>1</td>\n",
       "    </tr>\n",
       "    <tr>\n",
       "      <th>13</th>\n",
       "      <td>0.04</td>\n",
       "      <td>0.93</td>\n",
       "      <td>0.03</td>\n",
       "      <td>1</td>\n",
       "    </tr>\n",
       "    <tr>\n",
       "      <th>14</th>\n",
       "      <td>0.13</td>\n",
       "      <td>0.85</td>\n",
       "      <td>0.01</td>\n",
       "      <td>1</td>\n",
       "    </tr>\n",
       "    <tr>\n",
       "      <th>15</th>\n",
       "      <td>0.82</td>\n",
       "      <td>0.03</td>\n",
       "      <td>0.15</td>\n",
       "      <td>0</td>\n",
       "    </tr>\n",
       "    <tr>\n",
       "      <th>16</th>\n",
       "      <td>0.37</td>\n",
       "      <td>0.04</td>\n",
       "      <td>0.58</td>\n",
       "      <td>2</td>\n",
       "    </tr>\n",
       "    <tr>\n",
       "      <th>17</th>\n",
       "      <td>0.49</td>\n",
       "      <td>0.02</td>\n",
       "      <td>0.49</td>\n",
       "      <td>0</td>\n",
       "    </tr>\n",
       "    <tr>\n",
       "      <th>18</th>\n",
       "      <td>0.17</td>\n",
       "      <td>0.70</td>\n",
       "      <td>0.14</td>\n",
       "      <td>1</td>\n",
       "    </tr>\n",
       "    <tr>\n",
       "      <th>19</th>\n",
       "      <td>0.39</td>\n",
       "      <td>0.01</td>\n",
       "      <td>0.60</td>\n",
       "      <td>2</td>\n",
       "    </tr>\n",
       "    <tr>\n",
       "      <th>20</th>\n",
       "      <td>0.02</td>\n",
       "      <td>0.21</td>\n",
       "      <td>0.77</td>\n",
       "      <td>2</td>\n",
       "    </tr>\n",
       "    <tr>\n",
       "      <th>21</th>\n",
       "      <td>0.02</td>\n",
       "      <td>0.21</td>\n",
       "      <td>0.77</td>\n",
       "      <td>2</td>\n",
       "    </tr>\n",
       "    <tr>\n",
       "      <th>22</th>\n",
       "      <td>0.19</td>\n",
       "      <td>0.80</td>\n",
       "      <td>0.01</td>\n",
       "      <td>1</td>\n",
       "    </tr>\n",
       "    <tr>\n",
       "      <th>23</th>\n",
       "      <td>0.63</td>\n",
       "      <td>0.35</td>\n",
       "      <td>0.01</td>\n",
       "      <td>0</td>\n",
       "    </tr>\n",
       "    <tr>\n",
       "      <th>24</th>\n",
       "      <td>0.37</td>\n",
       "      <td>0.62</td>\n",
       "      <td>0.01</td>\n",
       "      <td>1</td>\n",
       "    </tr>\n",
       "    <tr>\n",
       "      <th>25</th>\n",
       "      <td>0.01</td>\n",
       "      <td>0.86</td>\n",
       "      <td>0.13</td>\n",
       "      <td>1</td>\n",
       "    </tr>\n",
       "    <tr>\n",
       "      <th>26</th>\n",
       "      <td>0.02</td>\n",
       "      <td>0.97</td>\n",
       "      <td>0.02</td>\n",
       "      <td>1</td>\n",
       "    </tr>\n",
       "    <tr>\n",
       "      <th>27</th>\n",
       "      <td>0.01</td>\n",
       "      <td>0.83</td>\n",
       "      <td>0.16</td>\n",
       "      <td>1</td>\n",
       "    </tr>\n",
       "    <tr>\n",
       "      <th>28</th>\n",
       "      <td>0.01</td>\n",
       "      <td>0.97</td>\n",
       "      <td>0.01</td>\n",
       "      <td>1</td>\n",
       "    </tr>\n",
       "    <tr>\n",
       "      <th>29</th>\n",
       "      <td>0.02</td>\n",
       "      <td>0.96</td>\n",
       "      <td>0.02</td>\n",
       "      <td>1</td>\n",
       "    </tr>\n",
       "    <tr>\n",
       "      <th>...</th>\n",
       "      <td>...</td>\n",
       "      <td>...</td>\n",
       "      <td>...</td>\n",
       "      <td>...</td>\n",
       "    </tr>\n",
       "    <tr>\n",
       "      <th>475</th>\n",
       "      <td>0.43</td>\n",
       "      <td>0.54</td>\n",
       "      <td>0.03</td>\n",
       "      <td>1</td>\n",
       "    </tr>\n",
       "    <tr>\n",
       "      <th>476</th>\n",
       "      <td>0.97</td>\n",
       "      <td>0.02</td>\n",
       "      <td>0.01</td>\n",
       "      <td>0</td>\n",
       "    </tr>\n",
       "    <tr>\n",
       "      <th>477</th>\n",
       "      <td>0.97</td>\n",
       "      <td>0.02</td>\n",
       "      <td>0.01</td>\n",
       "      <td>0</td>\n",
       "    </tr>\n",
       "    <tr>\n",
       "      <th>478</th>\n",
       "      <td>0.90</td>\n",
       "      <td>0.07</td>\n",
       "      <td>0.03</td>\n",
       "      <td>0</td>\n",
       "    </tr>\n",
       "    <tr>\n",
       "      <th>479</th>\n",
       "      <td>0.11</td>\n",
       "      <td>0.75</td>\n",
       "      <td>0.13</td>\n",
       "      <td>1</td>\n",
       "    </tr>\n",
       "    <tr>\n",
       "      <th>480</th>\n",
       "      <td>0.37</td>\n",
       "      <td>0.61</td>\n",
       "      <td>0.03</td>\n",
       "      <td>1</td>\n",
       "    </tr>\n",
       "    <tr>\n",
       "      <th>481</th>\n",
       "      <td>0.04</td>\n",
       "      <td>0.69</td>\n",
       "      <td>0.27</td>\n",
       "      <td>1</td>\n",
       "    </tr>\n",
       "    <tr>\n",
       "      <th>482</th>\n",
       "      <td>0.03</td>\n",
       "      <td>0.95</td>\n",
       "      <td>0.02</td>\n",
       "      <td>1</td>\n",
       "    </tr>\n",
       "    <tr>\n",
       "      <th>483</th>\n",
       "      <td>0.29</td>\n",
       "      <td>0.68</td>\n",
       "      <td>0.03</td>\n",
       "      <td>1</td>\n",
       "    </tr>\n",
       "    <tr>\n",
       "      <th>484</th>\n",
       "      <td>0.29</td>\n",
       "      <td>0.68</td>\n",
       "      <td>0.03</td>\n",
       "      <td>1</td>\n",
       "    </tr>\n",
       "    <tr>\n",
       "      <th>485</th>\n",
       "      <td>0.11</td>\n",
       "      <td>0.86</td>\n",
       "      <td>0.03</td>\n",
       "      <td>1</td>\n",
       "    </tr>\n",
       "    <tr>\n",
       "      <th>486</th>\n",
       "      <td>0.04</td>\n",
       "      <td>0.93</td>\n",
       "      <td>0.03</td>\n",
       "      <td>1</td>\n",
       "    </tr>\n",
       "    <tr>\n",
       "      <th>487</th>\n",
       "      <td>0.06</td>\n",
       "      <td>0.48</td>\n",
       "      <td>0.46</td>\n",
       "      <td>1</td>\n",
       "    </tr>\n",
       "    <tr>\n",
       "      <th>488</th>\n",
       "      <td>0.20</td>\n",
       "      <td>0.76</td>\n",
       "      <td>0.04</td>\n",
       "      <td>1</td>\n",
       "    </tr>\n",
       "    <tr>\n",
       "      <th>489</th>\n",
       "      <td>0.07</td>\n",
       "      <td>0.88</td>\n",
       "      <td>0.04</td>\n",
       "      <td>1</td>\n",
       "    </tr>\n",
       "    <tr>\n",
       "      <th>490</th>\n",
       "      <td>0.25</td>\n",
       "      <td>0.55</td>\n",
       "      <td>0.20</td>\n",
       "      <td>1</td>\n",
       "    </tr>\n",
       "    <tr>\n",
       "      <th>491</th>\n",
       "      <td>0.00</td>\n",
       "      <td>0.00</td>\n",
       "      <td>0.99</td>\n",
       "      <td>2</td>\n",
       "    </tr>\n",
       "    <tr>\n",
       "      <th>492</th>\n",
       "      <td>0.92</td>\n",
       "      <td>0.04</td>\n",
       "      <td>0.04</td>\n",
       "      <td>0</td>\n",
       "    </tr>\n",
       "    <tr>\n",
       "      <th>493</th>\n",
       "      <td>0.98</td>\n",
       "      <td>0.01</td>\n",
       "      <td>0.01</td>\n",
       "      <td>0</td>\n",
       "    </tr>\n",
       "    <tr>\n",
       "      <th>494</th>\n",
       "      <td>0.99</td>\n",
       "      <td>0.01</td>\n",
       "      <td>0.01</td>\n",
       "      <td>0</td>\n",
       "    </tr>\n",
       "    <tr>\n",
       "      <th>495</th>\n",
       "      <td>0.58</td>\n",
       "      <td>0.02</td>\n",
       "      <td>0.40</td>\n",
       "      <td>0</td>\n",
       "    </tr>\n",
       "    <tr>\n",
       "      <th>496</th>\n",
       "      <td>0.06</td>\n",
       "      <td>0.06</td>\n",
       "      <td>0.88</td>\n",
       "      <td>2</td>\n",
       "    </tr>\n",
       "    <tr>\n",
       "      <th>497</th>\n",
       "      <td>0.00</td>\n",
       "      <td>0.12</td>\n",
       "      <td>0.88</td>\n",
       "      <td>2</td>\n",
       "    </tr>\n",
       "    <tr>\n",
       "      <th>498</th>\n",
       "      <td>0.85</td>\n",
       "      <td>0.02</td>\n",
       "      <td>0.14</td>\n",
       "      <td>0</td>\n",
       "    </tr>\n",
       "    <tr>\n",
       "      <th>499</th>\n",
       "      <td>0.05</td>\n",
       "      <td>0.04</td>\n",
       "      <td>0.91</td>\n",
       "      <td>2</td>\n",
       "    </tr>\n",
       "    <tr>\n",
       "      <th>500</th>\n",
       "      <td>0.48</td>\n",
       "      <td>0.00</td>\n",
       "      <td>0.52</td>\n",
       "      <td>2</td>\n",
       "    </tr>\n",
       "    <tr>\n",
       "      <th>501</th>\n",
       "      <td>0.91</td>\n",
       "      <td>0.01</td>\n",
       "      <td>0.08</td>\n",
       "      <td>0</td>\n",
       "    </tr>\n",
       "    <tr>\n",
       "      <th>502</th>\n",
       "      <td>0.01</td>\n",
       "      <td>0.98</td>\n",
       "      <td>0.01</td>\n",
       "      <td>1</td>\n",
       "    </tr>\n",
       "    <tr>\n",
       "      <th>503</th>\n",
       "      <td>0.01</td>\n",
       "      <td>0.52</td>\n",
       "      <td>0.48</td>\n",
       "      <td>1</td>\n",
       "    </tr>\n",
       "    <tr>\n",
       "      <th>504</th>\n",
       "      <td>0.01</td>\n",
       "      <td>0.01</td>\n",
       "      <td>0.99</td>\n",
       "      <td>2</td>\n",
       "    </tr>\n",
       "  </tbody>\n",
       "</table>\n",
       "<p>505 rows × 4 columns</p>\n",
       "</div>"
      ],
      "text/plain": [
       "     Topic0  Topic1  Topic2  dominant_topic\n",
       "0      0.24    0.73    0.03               1\n",
       "1      0.04    0.92    0.04               1\n",
       "2      0.25    0.73    0.02               1\n",
       "3      0.26    0.72    0.01               1\n",
       "4      0.02    0.96    0.02               1\n",
       "5      0.27    0.72    0.01               1\n",
       "6      0.94    0.03    0.03               0\n",
       "7      0.52    0.37    0.12               0\n",
       "8      0.04    0.70    0.25               1\n",
       "9      0.23    0.33    0.44               2\n",
       "10     0.56    0.42    0.02               0\n",
       "11     0.98    0.01    0.01               0\n",
       "12     0.44    0.53    0.02               1\n",
       "13     0.04    0.93    0.03               1\n",
       "14     0.13    0.85    0.01               1\n",
       "15     0.82    0.03    0.15               0\n",
       "16     0.37    0.04    0.58               2\n",
       "17     0.49    0.02    0.49               0\n",
       "18     0.17    0.70    0.14               1\n",
       "19     0.39    0.01    0.60               2\n",
       "20     0.02    0.21    0.77               2\n",
       "21     0.02    0.21    0.77               2\n",
       "22     0.19    0.80    0.01               1\n",
       "23     0.63    0.35    0.01               0\n",
       "24     0.37    0.62    0.01               1\n",
       "25     0.01    0.86    0.13               1\n",
       "26     0.02    0.97    0.02               1\n",
       "27     0.01    0.83    0.16               1\n",
       "28     0.01    0.97    0.01               1\n",
       "29     0.02    0.96    0.02               1\n",
       "..      ...     ...     ...             ...\n",
       "475    0.43    0.54    0.03               1\n",
       "476    0.97    0.02    0.01               0\n",
       "477    0.97    0.02    0.01               0\n",
       "478    0.90    0.07    0.03               0\n",
       "479    0.11    0.75    0.13               1\n",
       "480    0.37    0.61    0.03               1\n",
       "481    0.04    0.69    0.27               1\n",
       "482    0.03    0.95    0.02               1\n",
       "483    0.29    0.68    0.03               1\n",
       "484    0.29    0.68    0.03               1\n",
       "485    0.11    0.86    0.03               1\n",
       "486    0.04    0.93    0.03               1\n",
       "487    0.06    0.48    0.46               1\n",
       "488    0.20    0.76    0.04               1\n",
       "489    0.07    0.88    0.04               1\n",
       "490    0.25    0.55    0.20               1\n",
       "491    0.00    0.00    0.99               2\n",
       "492    0.92    0.04    0.04               0\n",
       "493    0.98    0.01    0.01               0\n",
       "494    0.99    0.01    0.01               0\n",
       "495    0.58    0.02    0.40               0\n",
       "496    0.06    0.06    0.88               2\n",
       "497    0.00    0.12    0.88               2\n",
       "498    0.85    0.02    0.14               0\n",
       "499    0.05    0.04    0.91               2\n",
       "500    0.48    0.00    0.52               2\n",
       "501    0.91    0.01    0.08               0\n",
       "502    0.01    0.98    0.01               1\n",
       "503    0.01    0.52    0.48               1\n",
       "504    0.01    0.01    0.99               2\n",
       "\n",
       "[505 rows x 4 columns]"
      ]
     },
     "execution_count": 55,
     "metadata": {},
     "output_type": "execute_result"
    }
   ],
   "source": [
    "df_topic"
   ]
  },
  {
   "cell_type": "code",
   "execution_count": 56,
   "metadata": {
    "scrolled": false
   },
   "outputs": [
    {
     "data": {
      "text/html": [
       "<div>\n",
       "<style scoped>\n",
       "    .dataframe tbody tr th:only-of-type {\n",
       "        vertical-align: middle;\n",
       "    }\n",
       "\n",
       "    .dataframe tbody tr th {\n",
       "        vertical-align: top;\n",
       "    }\n",
       "\n",
       "    .dataframe thead th {\n",
       "        text-align: right;\n",
       "    }\n",
       "</style>\n",
       "<table border=\"1\" class=\"dataframe\">\n",
       "  <thead>\n",
       "    <tr style=\"text-align: right;\">\n",
       "      <th></th>\n",
       "      <th>Reviews</th>\n",
       "      <th>is_Good</th>\n",
       "      <th>Reviews_clean</th>\n",
       "      <th>neg</th>\n",
       "      <th>neu</th>\n",
       "      <th>pos</th>\n",
       "      <th>compound</th>\n",
       "      <th>Review_polarity</th>\n",
       "      <th>Topic</th>\n",
       "    </tr>\n",
       "  </thead>\n",
       "  <tbody>\n",
       "    <tr>\n",
       "      <th>0</th>\n",
       "      <td>Great job, Wyndham Capital! Each person was pr...</td>\n",
       "      <td>1</td>\n",
       "      <td>great job wyndham capital person professional ...</td>\n",
       "      <td>0.000</td>\n",
       "      <td>0.703</td>\n",
       "      <td>0.297</td>\n",
       "      <td>0.8011</td>\n",
       "      <td>positive</td>\n",
       "      <td>1</td>\n",
       "    </tr>\n",
       "    <tr>\n",
       "      <th>1</th>\n",
       "      <td>Matthew Richardson is professional and helpful...</td>\n",
       "      <td>1</td>\n",
       "      <td>matthew richardson professional helpful help f...</td>\n",
       "      <td>0.000</td>\n",
       "      <td>0.703</td>\n",
       "      <td>0.297</td>\n",
       "      <td>0.8516</td>\n",
       "      <td>positive</td>\n",
       "      <td>1</td>\n",
       "    </tr>\n",
       "    <tr>\n",
       "      <th>2</th>\n",
       "      <td>We had a past experience with Wyndham Mortgage...</td>\n",
       "      <td>1</td>\n",
       "      <td>past experience wyndham mortgage would without...</td>\n",
       "      <td>0.000</td>\n",
       "      <td>0.794</td>\n",
       "      <td>0.206</td>\n",
       "      <td>0.9595</td>\n",
       "      <td>positive</td>\n",
       "      <td>1</td>\n",
       "    </tr>\n",
       "    <tr>\n",
       "      <th>3</th>\n",
       "      <td>We have been dealing with Brad Thomka from the...</td>\n",
       "      <td>1</td>\n",
       "      <td>deal brad thomka beginning start stressful tim...</td>\n",
       "      <td>0.018</td>\n",
       "      <td>0.756</td>\n",
       "      <td>0.226</td>\n",
       "      <td>0.9818</td>\n",
       "      <td>positive</td>\n",
       "      <td>1</td>\n",
       "    </tr>\n",
       "    <tr>\n",
       "      <th>4</th>\n",
       "      <td>I can't express how grateful I am for the supp...</td>\n",
       "      <td>1</td>\n",
       "      <td>can't express grateful support zach provide fa...</td>\n",
       "      <td>0.040</td>\n",
       "      <td>0.861</td>\n",
       "      <td>0.099</td>\n",
       "      <td>0.5569</td>\n",
       "      <td>positive</td>\n",
       "      <td>1</td>\n",
       "    </tr>\n",
       "  </tbody>\n",
       "</table>\n",
       "</div>"
      ],
      "text/plain": [
       "                                             Reviews  is_Good  \\\n",
       "0  Great job, Wyndham Capital! Each person was pr...        1   \n",
       "1  Matthew Richardson is professional and helpful...        1   \n",
       "2  We had a past experience with Wyndham Mortgage...        1   \n",
       "3  We have been dealing with Brad Thomka from the...        1   \n",
       "4  I can't express how grateful I am for the supp...        1   \n",
       "\n",
       "                                       Reviews_clean    neg    neu    pos  \\\n",
       "0  great job wyndham capital person professional ...  0.000  0.703  0.297   \n",
       "1  matthew richardson professional helpful help f...  0.000  0.703  0.297   \n",
       "2  past experience wyndham mortgage would without...  0.000  0.794  0.206   \n",
       "3  deal brad thomka beginning start stressful tim...  0.018  0.756  0.226   \n",
       "4  can't express grateful support zach provide fa...  0.040  0.861  0.099   \n",
       "\n",
       "   compound Review_polarity  Topic  \n",
       "0    0.8011        positive      1  \n",
       "1    0.8516        positive      1  \n",
       "2    0.9595        positive      1  \n",
       "3    0.9818        positive      1  \n",
       "4    0.5569        positive      1  "
      ]
     },
     "execution_count": 56,
     "metadata": {},
     "output_type": "execute_result"
    }
   ],
   "source": [
    "rev_df = rev_df.assign(Topic=df_topic['dominant_topic']) \n",
    "rev_df.head()\n"
   ]
  },
  {
   "cell_type": "code",
   "execution_count": null,
   "metadata": {},
   "outputs": [],
   "source": [
    "# model pickle the GridSearch\n",
    "pickle_out = open(\"gridsearch_model.pickle\",\"wb\")\n",
    "pickle.dump(model, pickle_out)\n",
    "pickle_out.close()"
   ]
  },
  {
   "cell_type": "markdown",
   "metadata": {},
   "source": [
    "## Section 3: Most frequent Positive and Negative Words\n",
    "\n",
    "Will utilize the column **is_Good** to classify in this section.<br><br>\n",
    "**Method** :<br> Identify all the _**adverbs and adjectives**_ in a review since these are the part of speech that define the sentiment of a sentence.\n",
    "<br>**Wordcloud** map of these words will give us the most frequently used words in positive and negative reviews. "
   ]
  },
  {
   "cell_type": "code",
   "execution_count": 133,
   "metadata": {},
   "outputs": [
    {
     "data": {
      "text/html": [
       "<div>\n",
       "<style scoped>\n",
       "    .dataframe tbody tr th:only-of-type {\n",
       "        vertical-align: middle;\n",
       "    }\n",
       "\n",
       "    .dataframe tbody tr th {\n",
       "        vertical-align: top;\n",
       "    }\n",
       "\n",
       "    .dataframe thead th {\n",
       "        text-align: right;\n",
       "    }\n",
       "</style>\n",
       "<table border=\"1\" class=\"dataframe\">\n",
       "  <thead>\n",
       "    <tr style=\"text-align: right;\">\n",
       "      <th></th>\n",
       "      <th>Reviews_clean</th>\n",
       "    </tr>\n",
       "  </thead>\n",
       "  <tbody>\n",
       "    <tr>\n",
       "      <th>0</th>\n",
       "      <td>great job wyndham capital person professional ...</td>\n",
       "    </tr>\n",
       "    <tr>\n",
       "      <th>1</th>\n",
       "      <td>matthew richardson professional helpful help f...</td>\n",
       "    </tr>\n",
       "    <tr>\n",
       "      <th>2</th>\n",
       "      <td>past experience wyndham mortgage would without...</td>\n",
       "    </tr>\n",
       "    <tr>\n",
       "      <th>3</th>\n",
       "      <td>deal brad thomka beginning start stressful tim...</td>\n",
       "    </tr>\n",
       "    <tr>\n",
       "      <th>4</th>\n",
       "      <td>can't express grateful support zach provide fa...</td>\n",
       "    </tr>\n",
       "  </tbody>\n",
       "</table>\n",
       "</div>"
      ],
      "text/plain": [
       "                                       Reviews_clean\n",
       "0  great job wyndham capital person professional ...\n",
       "1  matthew richardson professional helpful help f...\n",
       "2  past experience wyndham mortgage would without...\n",
       "3  deal brad thomka beginning start stressful tim...\n",
       "4  can't express grateful support zach provide fa..."
      ]
     },
     "execution_count": 133,
     "metadata": {},
     "output_type": "execute_result"
    }
   ],
   "source": [
    "ref_df = rev_df[rev_df[\"is_Good\"]==1]\n",
    "positive_rev = pd.concat([ref_df[\"Reviews_clean\"]],axis = 1)\n",
    "positive_rev.head()"
   ]
  },
  {
   "cell_type": "code",
   "execution_count": 135,
   "metadata": {},
   "outputs": [
    {
     "data": {
      "text/html": [
       "<div>\n",
       "<style scoped>\n",
       "    .dataframe tbody tr th:only-of-type {\n",
       "        vertical-align: middle;\n",
       "    }\n",
       "\n",
       "    .dataframe tbody tr th {\n",
       "        vertical-align: top;\n",
       "    }\n",
       "\n",
       "    .dataframe thead th {\n",
       "        text-align: right;\n",
       "    }\n",
       "</style>\n",
       "<table border=\"1\" class=\"dataframe\">\n",
       "  <thead>\n",
       "    <tr style=\"text-align: right;\">\n",
       "      <th></th>\n",
       "      <th>Positive_Review</th>\n",
       "    </tr>\n",
       "  </thead>\n",
       "  <tbody>\n",
       "    <tr>\n",
       "      <th>0</th>\n",
       "      <td>great job wyndham capital person professional ...</td>\n",
       "    </tr>\n",
       "    <tr>\n",
       "      <th>1</th>\n",
       "      <td>matthew richardson professional helpful help f...</td>\n",
       "    </tr>\n",
       "    <tr>\n",
       "      <th>2</th>\n",
       "      <td>past experience wyndham mortgage would without...</td>\n",
       "    </tr>\n",
       "    <tr>\n",
       "      <th>3</th>\n",
       "      <td>deal brad thomka beginning start stressful tim...</td>\n",
       "    </tr>\n",
       "    <tr>\n",
       "      <th>4</th>\n",
       "      <td>can't express grateful support zach provide fa...</td>\n",
       "    </tr>\n",
       "  </tbody>\n",
       "</table>\n",
       "</div>"
      ],
      "text/plain": [
       "                                     Positive_Review\n",
       "0  great job wyndham capital person professional ...\n",
       "1  matthew richardson professional helpful help f...\n",
       "2  past experience wyndham mortgage would without...\n",
       "3  deal brad thomka beginning start stressful tim...\n",
       "4  can't express grateful support zach provide fa..."
      ]
     },
     "execution_count": 135,
     "metadata": {},
     "output_type": "execute_result"
    }
   ],
   "source": [
    "positive_rev.rename(columns = {\"Reviews_clean\":\"Positive_Review\"},inplace=True)\n",
    "positive_rev.head()"
   ]
  },
  {
   "cell_type": "code",
   "execution_count": 136,
   "metadata": {
    "scrolled": true
   },
   "outputs": [
    {
     "name": "stdout",
     "output_type": "stream",
     "text": [
      "great job wyndham capital person professional help move refinance process smoothly thank\n"
     ]
    },
    {
     "data": {
      "text/plain": [
       "Sentiment(polarity=0.43333333333333335, subjectivity=0.45, assessments=[(['great'], 0.8, 0.75, None), (['professional'], 0.1, 0.1, None), (['smoothly'], 0.4, 0.5, None)])"
      ]
     },
     "execution_count": 136,
     "metadata": {},
     "output_type": "execute_result"
    }
   ],
   "source": [
    "print(positive_rev[\"Positive_Review\"].loc[0])\n",
    "analysis = TextBlob(positive_rev[\"Positive_Review\"].loc[0]) \n",
    "analysis.sentiment_assessments"
   ]
  },
  {
   "cell_type": "code",
   "execution_count": 137,
   "metadata": {},
   "outputs": [
    {
     "name": "stdout",
     "output_type": "stream",
     "text": [
      "<class 'list'>\n"
     ]
    },
    {
     "data": {
      "text/plain": [
       "['great', 'wyndham', 'professional']"
      ]
     },
     "execution_count": 137,
     "metadata": {},
     "output_type": "execute_result"
    }
   ],
   "source": [
    "#Confirming the assumption that adverbs and adjectives will define the sentiment of a document\n",
    "\n",
    "token = nltk.word_tokenize(positive_rev[\"Positive_Review\"].loc[0])\n",
    "#print(token)\n",
    "lst = pos_tag(token)\n",
    "print(type(lst))\n",
    "lst\n",
    "p = []\n",
    "for x in lst:\n",
    "    if x[1].startswith('J'):\n",
    "        p.append(x[0])\n",
    "p"
   ]
  },
  {
   "cell_type": "code",
   "execution_count": 128,
   "metadata": {},
   "outputs": [
    {
     "name": "stdout",
     "output_type": "stream",
     "text": [
      "['great', 'wyndham', 'professional', 'smoothly', 'professional', 'correct', 'much', 'excellent', 'past', 'extra', 'wrong', 'encountered', 'previous', 'together', 'viable', 'ultimately', 'save', 'highly', 'sincere', 'stressful', 'entire', 'happy', 'extra', 'wrong', 'encountered', 'previous', 'together', 'find', 'viable', 'ultimately', 'save', 'highly', 'sincere', 'less', 'grateful', 'responsiveness', 'professional', 'second', 'educate', 'highly', 'recommend', 'wyndham', 'wyndham', 'original', 'underwrite', 'entire', 'responsive', 'professional', 'smooth', 'timely', 'stressful', 'greatly', 'professionally', 'really', 'overall', 'truly', 'back', 'professionally', 'wonderful', 'patrick', 'answer', 'email', 'immediately', 'sure', 'right', 'portal', 'extremely', 'easy', 'close', 'pleased', 'later', 'loved', 'always', 'answer', 'quickly', 'possible', 'knowledgeable', 'lender', 'negative', 'great', 'quick', 'almost', 'exclusively', 'always', 'really', 'well', 'first', 'first', 'smooth', 'successful', 'definitely', 'usten', 'stiff', 'scary', 'quite', 'possibly', 'large', 'ever', 'simply', 'want', 'faceless', 'sure', 'austen', 'true', 'austen', 'best', 'also', 'true', 'first', 'later', 'give', 'huge', 'right', 'happy', 'easy', 'hold', 'huge', 'whole', 'right', 'great', 'wyndham', 'especially', 'mark', 'great', 'really', 'even', 'mean', 'fantastic', 'entire', 'original', 'step', 'quickly', 'glue', 'together', 'first', 'last', 'chaz', 'spirit', 'assist', 'quickly', 'much', 'good', 'enough', 'positive', 'professional', 'highly', 'touch', 'austen', 'awsome', 'best', 'thoroughly', 'even', 'look', 'specifically', 'hang', 'quote', 'well', 'ridiculous', 'worked', 'excellent', 'knowledgeable', 'entire', 'entire', 'great', 'highly', 'recommend', 'best', 'ever', 'different', 'calm', 'professional', 'extremely', 'knowledgeable', 'entire', 'else', 'forward', 'responsiveness', 'second', 'expert', 'well', 'verse', 'financial', 'best', 'advocate', 'real', 'close', 'high', 'professionally', 'patiently', 'answer', 'also', 'stellar', 'handle', 'antebellum', 'tough', 'military', 'tough', 'even', 'close', 'best', 'origination', 'close', 'important', 'many', 'military', 'entire', 'guide', 'tough', 'truly', 'closed', 'different', 'nasb', 'especially', 'entire', 'special', 'thank', 'professional', 'close', 'originally', 'save', 'current', 'real', 'great', 'lend', 'tree', 'competitive', 'several', 'slightly', 'beat', 'nasb', 'chose', 'nasb', 'competitive', 'professional', 'timely', 'supportive', 'truthful', 'brent', 'whole', 'deliver', 'completely', 'appreciative', 'amaze', 'first', 'always', 'away', 'ready', 'stringent', 'easy', 'possible', 'definitely', 'potential', 'ever', 'decide', 'nasb', 'amazing', 'pre-approval', 'easy', 'informational', 'close', 'nasb', 'first', 'amazing', 'great', 'extremely', 'simple', 'quick', 'knowledgeable', 'helpful', 'incredibly', 'awesome', 'small', 'nasb', 'military', 'many', 'best', 'ever', 'bryant', 'easy', 'best', 'never', 'bryant', 'instantly', 'nasb', 'best', 'exceeded', 'hard', 'best', 'possible', 'highly', 'adam', 'great', 'smooth', 'easy', 'several', 'thru', 'unsure', 'confident', 'professional', 'knowledgeable', 'timely', 'highly', 'great', 'knowledgeable', 'always', 'back', 'quickly', 'answer', 'tedious', 'multiple', 'tree', 'alex', 'nasb', 'best', 'entire', 'knowledgeable', 'definitely', 'helpful', 'close', 'issue', 'still', 'able', 'great', 'professional', 'answer', 'somehow', 'close', 'various', 'adam', 'highly', 'first', 'speak', 'clear', 'friendly', 'professional', 'knowledgeable', 'hard', 'necessary', 'effective', 'personal', 'close', 'send', 'write', 'wonderful', 'good', 'well', 'connect', 'definitely', 'future', 'mary', 'connolly', 'well', 'upper', 'helpful', 'entire', 'special', 'lady', 'understood', 'never', 'uncomfortable', 'nervous', 'always', 'available', 'answer', 'wonderful', 'read', 'more', 'difficult', 'impossible', 'lately', 'hard', 'happy', 'able', 'less', 'stellar', 'financial', 'especially', 'excellent', 'more', 'initially', 'pretty', 'skeptical', 'personal', 'never', 'however', 'real', 'arose', 'decline', 'close', 'give', 'sure', 'patrick', 'soon', 'thoroughly', 'entire', 'personally', 'simply', 'sufficient', 'fantastic', 'successfully', 'navigate', 'successful', 'single', 'friendly', 'knowledgeable', 'professional', 'consistently', 'available', 'last', 'call', 'timely', 'even', 'personally', 'call', 'happily', 'enthusiastically', 'patrick', 'more', 'englert', 'excellent', 'fast', 'first', 'ritu', 'positive', 'energetic', 'knowledgeable', 'willing', 'several', 'different', 'sure', 'happy', 'process', 'begin', 'again', 'start', 'close', 'special', 'quickly', 'very', 'receptive', 'quick', 'easy', 'extra', 'overcome', 'truthful', 'dependable', 'professional', 'federal', 'tedious', 'consume', 'high', 'obvious', 'very', 'informative', 'informative', 'begin', 'able', 'fast', 'easy', 'friendly', 'help', 'quick', 'simple', 'little', 'complete', 'well', 'pleased', 'teddy', 'well', 'communicative', 'excellent', 'teddy', 'begin', 'honest', 'required', 'timely', 'professional', 'kelly', 'kindness', 'greatly', 'appreciate', 'forward', 'together', 'future', 'kelly', 'extremely', 'helpful', 'stressful', 'really', 'first', 'understood', 'perfectly', 'able', 'give', 'realistic', 'steve', 'accurate', 'more', 'friendly', 'great', 'keep', 'well', 'very', 'informative', 'informative', 'begin', 'able', 'fast', 'easy', 'friendly', 'help', 'quick', 'simple', 'little', 'complete', 'well', 'pleased', 'teddy', 'well', 'communicative', 'excellent', 'teddy', 'begin', 'honest', 'required', 'timely', 'professional', 'kelly', 'kindness', 'greatly', 'appreciate', 'forward', 'together', 'future', 'kelly', 'extremely', 'helpful', 'stressful', 'really', 'first', 'understood', 'perfectly', 'able', 'give', 'realistic', 'steve', 'accurate', 'more', 'friendly', 'great', 'keep', 'well', 'first', 'call', 'well', 'inform', 'also', 'sure', 'completely', 'fast', 'heisser', 'fantastic', 'daily', 'talked-i', 'friend-and', 'close', 'informative', 'right', 'sure', 'still', 'along', 'right', 'go-he', 'best', 'ever', 'more', 'steven', 'phenomenal', 'highly', 'steven', 'well', 'steven', 'tirelessly', 'completely', 'satisfied', 'current', 'tree', 'shatz', 'decide', 'base', 'tree', 'willing', 'best', 'close', 'fairly', 'quickly', 'right', 'always', 'away', 'never', 'highly', 'first', 'steven', 'shatz', 'more', 'best', 'almost', 'wish', 'amaze', 'possible', 'truely', 'absolutely', 'amazing', 'know', 'sure', 'enough', 'think', 'extremely', 'lucky', 'quickly', 'almost', 'spin', 'more', 'knowledgeable', 'quickly', 'spend', 'complete', 'little', 'patrick', 'regular', 'close', 'great', 'wesley', 'white', 'tirelessly', 'patiently', 'close', 'several', 'responsive', 'even', 'hard', 'possible', 'definitely', 'very', 'professional', 'call', 'fast', 'great', 'whole', 'enough', 'adam', 'extra', 'else', 'speak', 'soooooo', 'much', 'pretty', 'sure', 'stupid', 'always', 'thoroughly', 'also', 'wonderfully', 'calm', 'knowledgeable', 'approachable', 'much', 'well', 'remotely', 'easily', 'palatable', 'sure', 'best', 'possible', 'real', 'well', 'best', 'anywhere', 'else', 'back', 'adam/pac', 'honestly', 'else', 'more', 'enough', 'adam', 'extra', 'else', 'speak', 'soooooo', 'much', 'pretty', 'sure', 'stupid', 'always', 'thoroughly', 'also', 'wonderfully', 'calm', 'knowledgeable', 'approachable', 'much', 'well', 'remotely', 'easily', 'palatable', 'sure', 'best', 'possible', 'real', 'well', 'best', 'anywhere', 'else', 'back', 'adam/pac', 'honestly', 'else', 'adam', 'more', 'amaze', 'third', 'beneficial', 'close', 'appraisal', 'waive', 'amaze', 'third', 'beneficial', 'close', 'appraisal', 'waive', 'amaze', 'third', 'beneficial', 'close', 'appraisal', 'waive', 'quick', 'personable', 'patient', 'first-time', 'answer', 'possible', 'entire', 'extremely', 'stressful', 'michele', 'diligently', 'sure', 'able', 'complete', 'helpful', 'messy', 'extremely', 'patient', 'always', 'beneficial', 'high', 'often', 'extremely', 'refresh', 'beneficial', 'more', 'absolutely', 'wonderful', 'several', 'additional', 'hard', 'good', 'absolutely', 'adam', 'patient', 'smoothly', 'possible', 'extremely', 'fortunate', 'adam', 'more', 'adam', 'best', 'always', 'answer', 'next', 'anytime', 'simple', 'adam', 'else', 'best', 'definitely', 'fast', 'simple', 'painless', 'more', 'outstanding', 'many', 'previous', 'best', 'alex', 'first', 'call', 'prior', 'rental', 'alex', 'almost', 'daily', 'many', 'different', 'alex', 'professionally', 'last', 'least', 'alex', 'more', 'outstanding', 'many', 'previous', 'best', 'alex', 'first', 'call', 'prior', 'rental', 'alex', 'almost', 'daily', 'many', 'different', 'alex', 'professionally', 'last', 'least', 'alex', 'more', 'easy', 'smooth', 'great', 'condo', 'lender', 'definitely', 'enough', 'great', 'alex', 'beneficial', 'finish', 'daily', 'great', 'back', 'great', 'stressful', 'scary', 'confident', 'great', 'wrong', 'read', 'more', 'enough', 'great', 'alex', 'beneficial', 'finish', 'daily', 'great', 'back', 'great', 'stressful', 'scary', 'confident', 'great', 'wrong', 'read', 'more', 'very', 'professional', 'up-to-date', 'excellent', 'always', 'comfortable', 'alex', 'alex', 'always', 'patient', 'answer', 'promptly', 'call', 'even', 'pleasant', 'alex', 'little', 'skeptical', 'familiar', 'know', 'yelp', 'alex', 'beneficial', 'entire', 'always', 'promptly', 'comfortable', 'even', 'realtor', 'easy', 'alex', 'definitely', 'alex', 'more', 'whole', 'alex', 'attentive', 'always', 'available', 'many', 'alex', 'ever', 'great', 'smooth', 'alex', 'incredible', 'susan', 'familiar', 'pacific', 'beneficial', 'sure', 'southern', 'north', 'local', 'initial', 'local', 'happy', 'available', 'normal', 'well', 'include', 'susan', 'pacific', 'beneficial', 'several', 'responsiveness', 'easy', 'close', 'full', 'early', 'hard', 'alex', 'close', 'necessary', 'escrow', 'great', 'well', 'didn', 'pacific', 'beneficial', 'however', 'friend', 'much', 'alex', 'easy', 'glitch', 'certainly', 'forward', 'future', 'more', 'susan', 'familiar', 'pacific', 'beneficial', 'sure', 'southern', 'north', 'local', 'initial', 'local', 'happy', 'available', 'normal', 'well', 'include', 'susan', 'pacific', 'beneficial', 'several', 'responsiveness', 'easy', 'close', 'full', 'early', 'hard', 'alex', 'close', 'necessary', 'escrow', 'great', 'well', 'didn', 'pacific', 'beneficial', 'however', 'friend', 'much', 'alex', 'easy', 'glitch', 'certainly', 'forward', 'future', 'more', 'extremely', 'attentive', 'courteous', 'extremely', 'attentive', 'honest', 'responsive', 'alex', 'unfortunate', 'failed', 'alex', 'finally', 'close', 'personable', 'alex', 'consistently', 'sure', 'close', 'overall', 'excellent', 'alex', 'pacific', 'beneficial', 'more', 'alex', 'unfortunate', 'alex', 'finally', 'close', 'personable', 'alex', 'consistently', 'sure', 'close', 'overall', 'excellent', 'alex', 'pacific', 'beneficial', 'more', 'great', 'first', 'first', 'able', 'close', 'escrow', 'previous', 'mostly', 'even', 'repetitive', 'great', 'highly', 'first', 'much', 'smoother', 'fast', 'also', 'provide', 'great', 'more', 'unpleasant', 'beneficial', 'potential', 'first', 'originally', 'local', 'potential', 'good', 'lendingtree', 'original', 'write', 'compete', 'appraisal', 'beneficial', 'happy', 'however', 'close', 'appraisal', 'final', 'close', 'appraisal', 'upfront', 'reimbursed.', 'email', 'admin', 'adam', 'less', 'pacific', 'never', 'back', 'adam', 'nominal', 'entire', 'back', 'never', 'next', 'potential', 'mislead', 'terribly', 'extremely', 'disappointing', 'lengths', 'more', 'easy', 'completely', 'happy', 'fast', 'respond', 'complete', 'easy', 'completely', 'happy', 'fast', 'respond', 'complete', 'accountant', 'different', 'quick', 'give', 'definitely', 'amaze', 'highly', 'recommend', 'more', 'true', 'specifically', 'efficient', 'informative', 'ever', 'enough', 'pacific', 'honestly', 'exceeded', 'more', 'absolutely', 'best', 'ever', 'friendly', 'knowledgeable', 'patient', 'extraordinarily', 'helpful', 'choose', 'right', 'precisely', 'available', 'eager', 'answer', 'related', 'more', 'timely', 'friendly', 'close', 'quickly', 'friendly', 'professional', 'friendly', 'effective', 'pacific', 'beneficial', 'incredibly', 'responsive', 'definitely', 'pacific', 'beneficial', 'gladly', 'call', 'incredibly', 'responsive', 'definitely', 'gladly', 'easy', 'good', 'really', 'close', 'definitely', 'first', 'knowledgeable', 'easy', 'process', 'great', 'professional', 'courteous', 'timeline', 'overall', 'fine', 'receive', 'minor', 'peter', 'good', 'kory', 'excellent', 'knowledgeable', 'entire', 'entire', 'great', 'highly', 'recommend', 'future', 'more', 'best', 'ever', 'different', 'calm', 'professional', 'extremely', 'knowledgeable', 'entire', 'else', 'forward', 'responsiveness', 'second', 'more', 'expert', 'well', 'verse', 'financial', 'best', 'advocate', 'real', 'close', 'high', 'professionally', 'patiently', 'answer', 'also', 'stellar', 'handle', 'antebellum', 'tough', 'military', 'tough', 'even', 'close', 'best', 'origination', 'more', 'close', 'important', 'many', 'military', 'entire', 'guide', 'tough', 'truly', 'closed', 'different', 'nasb', 'especially', 'more', 'entire', 'special', 'thank', 'professional', 'close', 'originally', 'save', 'current', 'real', 'great', 'lend', 'tree', 'competitive', 'several', 'slightly', 'beat', 'nasb', 'chose', 'nasb', 'competitive', 'professional', 'timely', 'supportive', 'truthful', 'brent', 'whole', 'deliver', 'completely', 'appreciative', 'more', 'amaze', 'first', 'always', 'away', 'ready', 'stringent', 'easy', 'possible', 'definitely', 'potential', 'ever', 'decide', 'more', 'nasb', 'amazing', 'pre-approval', 'easy', 'informational', 'close', 'nasb', 'first', 'amaze', 'great', 'extremely', 'simple', 'quick', 'knowledgeable', 'helpful', 'great', 'extremely', 'simple', 'quick', 'knowledgeable', 'helpful', 'incredibly', 'awesome', 'small', 'nasb', 'military', 'many', 'best', 'ever', 'bryant', 'easy', 'best', 'never', 'bryant', 'instantly', 'nasb', 'more', 'best', 'exceeded', 'hard', 'best', 'possible', 'highly', 'adam', 'great', 'smooth', 'easy', 'several', 'thru', 'unsure', 'confident', 'professional', 'knowledgeable', 'timely', 'highly', 'read', 'more', 'great', 'knowledgeable', 'always', 'back', 'quickly', 'answer', 'tedious', 'multiple', 'tree', 'alex', 'nasb', 'best', 'entire', 'knowledgeable', 'definitely', 'helpful', 'close', 'issue', 'still', 'able', 'great', 'professional', 'answer', 'somehow', 'close', 'various', 'adam', 'highly', 'first', 'speak', 'clear', 'friendly', 'professional', 'knowledgeable', 'hard', 'necessary', 'effective', 'personal', 'close', 'send', 'write', 'know', 'more', 'real', 'first', 'certainly', 'first', 'entire', 'even', 'barrett', 'errounous', 'certainly', 'enjoy', 'more', 'nasb', 'upmost', 'even', 'close', 'even', 'barrett', 'nasb', 'first', 'blindly', 'bryant', 'guide', 'speak', 'genuinely', 'entire', 'prompt', 'always', 'clear', 'next', 'even', 'bryant', 'seek', 'financial', 'more', 'best', 'even', 'well', 'alex', 'persistent', 'easy', 'excellent', 'absoltely', 'several', 'different', 'best', 'ever', 'ever', 'definitely', 'back', 'nasb', 'look', 'great', 'always', 'available', 'respectful', 'extra', 'hard', 'close', 'brent', 'keep', 'turned', 'previous', 'possible', 'deadline', 'happy', 'first', 'lease', 'serious', 'again', 'later', 'later', 'close', 'always', 'talk', 'daily', 'comfortable', 'whole', 'always', 'honestly', 'much', 'easy', 'more', 'little', 'nervous', 'adam', 'well', 'great', 'communicate', 'best', 'completely', 'knowledgeable', 'really', 'more', 'nice', 'always', 'available', 'really', 'never', 'pleasant', 'best', 'possible', 'best', 'kary', 'kory', 'nasb', 'much', 'financial', 'additional', 'pros', 'different', 'conventional', 'also', 'monthly', 'close', 'never', 'like', 'quite', 'opposite', 'fully', 'right', 'unique', 'comfortable', 'financial', 'more', 'kory', 'nasb', 'much', 'financial', 'additional', 'pros', 'different', 'conventional', 'also', 'monthly', 'close', 'never', 'like', 'quite', 'opposite', 'fully', 'right', 'unique', 'comfortable', 'financial', 'more', 'father', 'best', 'able', 'extra', 'appraiser', 'close', 'great', 'more', 'happiness', 'aaron', 'professional', 'knowledgeable', 'literally', 'save', 'good', 'able', 'almost', 'full', 'able', 'tight', 'highly', 'more', 'very', 'responsive', 'hard', 'approved', 'stressful', 'really', 'helpful', 'friendly', 'timely', 'friendly', 'helpful', 'nasb', 'currently', 'nearly', 'close', 'north', 'american', 'steve', 'assign', 'wonderful', 'least', 'steve', 'always', 'promptly', 'always', 'sure', 'colleague', 'honestly', 'enough', 'ultimately', 'able', 'much', 'monthly', 'highly', 'recommend', 'more', 'excellent', 'straight', 'shooter', 'honorable', 'understood', 'long', 'great', 'personally', 'even', 'extremely', 'slow', 'still', 'close', 'great', 'well', 'more', 'very', 'smooth', 'extremely', 'easy', 'easily', 'nasb', 'requirement', 'past', 'especially', 'closing', 'highly', 'outstanding', 'always', 'timely', 'make', 'sure', 'smoothly', 'call', 'hard', 'true', 'fast', 'helpful', 'best', 'possible', 'heartily', 'humanly', 'possible', 'best', 'possibly', 'never', 'knowledgable', 'responsive', 'many', 'extremely', 'friendly', 'always', 'front', 'extra', 'always', 'available', 'first', 'possible', 'great', 'enough', 'more', 'alex', 'extremely', 'helpful', 'always', 'available', 'constant', 'exactly', 'happen', 'quickly', 'longer', 'always', 'extra', 'sure', 'great', 'easy', 'such', 'alex', 'well', 'good', 'responsive', 'extremely', 'smooth', 'well', 'expect', 'great', 'around', 'schedule', 'always', 'always', 'exactly', 'process', 'next', 'leehy', 'hard', 'honest', 'awesome', 'knowledgeable', 'quick', 'sure', 'track', 'close', 'highly', 'fine', 'traditional', 'great', 'real', 'real', 'knowledgeable', 'accessible', 'positive', 'complex', 'true', 'functionary', 'trust', 'never', 'also', 'great', 'non-local', 'local', 'previously', 'usually', 'non-local', 'local', 'previously', 'usually', 'even', 'great', 'very', 'professional', 'steve', 'responsive', 'many', 'many', 'highly', 'enough', 'highly', 'great', 'very', 'helpful', 'great', 'character', 'thank', 'stressful', 'specially', 'always', 'extra', 'really', 'happy', 'bottom', 'first', 'more', 'helpful', 'provide', 'great', 'fast', 'close', 'competitive', 'amaze', 'smooth', 'free', 'definitely', 'super', 'fast', 'helpful', 'satisfied', 'very', 'professional', 'personable', 'quick', 'highly', 'easy', 'painless', 'awesome', 'highly', 'recommend', 'great', 'first', 'already', 'really', 'stephanie', 'quick', 'answer', 'decide', 'much', 'large', 'name', 'happy', 'triumph', 'needy', 'however', 'triumph', 'quickly', 'gimmicky', 'pleasant', 'whole', 'happy', 'rental', 'next', 'more', 'first', 'however', 'peter', 'monica', 'easy', 'smooth', 'always', 'stress', 'good', 'close', 'laugh', 'honestly', 'simple', 'quick', 'actually', 'able', 'enjoy', 'entire', 'close', 'unbelievable', 'almost', 'extremely', 'fast', 'outstanding', 'close', 'sure', 'well', 'much', 'never', 'enough', 'best', 'more', 'incredible', 'first', 'home-buying', 'highly', 'always', 'willing', 'perhaps', 'importantly', 'answer', 'even', 'text', 'calm', 'professional', 'absolutely', 'close', 'utmost', 'able', 'superior', 'forward', 'andy', 'more', 'always', 'back', 'right', 'away', 'question', 'sure', 'smooth', 'close', 'much', 'online', 'easy', 'answered', 'sure', 'understood', 'whole', 'responsive', 'still', 'forward', 'close', 'late', 'relatively', 'fast', 'smoothly', 'more', 'good', 'triumph', 'never', 'back', 'pre-approval', 'completely', 'wait', 'back', 'ever', 'real', 'prize', 'particularly', 'pushy', 'completely', 'unprofessional', 'informed', 'lower', 'triumph', 'mostly', 'vanessa', 'seriously', 'never', 'quickly', 'accurately', 'sound', 'first', 'more', 'perfect', 'always', 'even', 'importantly', 'always', 'right', 'more', 'john', 'close', 'element', 'timely', 'even', 'ready', 'prior', 'close', 'compare', 'great', 'financially', 'more', 'extremely', 'efficient', 'pleased', 'entire', 'knowledgeable', 'real', 'back', 'personable', 'awesome', 'definitely', 'recommend', 'excellent', 'great', 'enough', 'great', 'always', 'available', 'always', 'right', 'away', 'answered', 'sure', 'understood', 'painful', 'fill', 'chris', 'easy', 'easy', 'always', 'ready', 'answer', 'friendly', 'knowledgeable', 'professional', 'always', 'best', 'best', 'ever', 'more', 'amazing', 'absolutely', 'first', 'thankful', 'never', 'best', 'highly', 'great', 'great', 'easy', 'listen', 'understands', 'best', 'open', 'upfront', 'quickly', 'high', 'write', 'best', 'ever', 'want', 'great', 'more', 'great', 'responsive', 'stephanie', 'great', 'quick', 'highly', 'stephanie', 'great', 'solid', 'really', 'provide', 'drewry', 'friendly', 'professional', 'always', 'quickly', 'great', 'give', 'smooth', 'stress', 'free', 'definitely', 'super', 'fast', 'super', 'helpful', 'fantastic', 'helpful', 'responsive', 'ever', 'really', 'provide', 'best', 'possible', 'chris', 'excellent', 'knowledgeable', 'follow', 'really', 'professional', 'chris', 'hard', 'great', 'hard', 'chris', 'always', 'responsive', 'even', 'contact', 'follow-up', 'great', 'well', 'highly', 'more', 'first', 'chris', 'mutual', 'responsive', 'proactive', 'real', 'highly', 'recommend', 'first', 'chris', 'mutual', 'responsive', 'proactive', 'real', 'highly', 'recommend', 'great', 'hassle-free', 'great', 'sure', 'answer', 'pre-approval', 'easy', 'complete', 'quick', 'pre-approval', 'able', 'close', 'well', 'more', 'stephanie', 'wonderful', 'personal', 'timely', 'begin', 'tree', 'excellent', 'complete', 'together', 'well-oiled', 'awesome', 'well', 'together', 'lend', 'phenomenal', 'informed', 'answer', 'receive', 'call', 'process', 'give', 'pre-approval', 'quickly', 'great', 'continually', 'inform', 'entire', 'representative', 'tirelessly', 'best', 'possible', 'always', 'available', 'answer', 'easy', 'peter', 'able', 'overcome', 'best', 'highly', 'recommend', 'efficient', 'more', 'great', 'best', 'marcos', 'tremendous', 'extremely', 'helpful', 'explain', 'informed', 'accomplish', 'last', 'high', 'great', 'great', 'professional', 'stephanie', 'great', 'informed', 'together', 'excellent', 'right', 'great', 'smoothly', 'able', 'close', 'earlier', 'expect', 'triumph', 'close', 'smoothly', 'great', 'definitely', 'triumph', 'more', 'lender', 'answered', 'later', 'amazing', 'well', 'lender', 'strict', 'higher', 'amazing', 'more', 'sure', 'much', 'close', 'great', 'connect', 'timely', 'close', 'early', 'individual', 'great', 'overall', 'great', 'overall', 'hard', 'super', 'truly', 'appreciate', 'right', 'more', 'condo', 'much', 'easier', 'definitely', 'recommend', 'stephanie', 'awesome', 'hard', 'sure', 'great', 'stephanie', 'hard', 'closed', 'address/resolve', 'prior', 'suggest', 'specifically', 'second', 'smoothly', 'second', 'also', 'responsiveness', 'even', 'answer', 'non-business', 'great', 'follow', 'fast', 'easy', 'steven', 'back', 'pregnant', 'later', 'forward', 'helpful', 'explain', 'helpful', 'little', 'really', 'appreciated', 'close', 'smooth', 'more', 'steven', 'back', 'pregnant', 'later', 'forward', 'helpful', 'explain', 'helpful', 'answer', 'little', 'really', 'appreciated', 'close', 'smooth', 'more', 'last', 'different', 'john', 'always', 'ready', 'second', 'finally', 'always', 'available', 'almost', 'immediately', 'john', 'enjoyable', 'easy', 'process', 'more', 'able', 'make', 'also', 'almost', 'probably', 'definitely', 'contact', 'next', 'great', 'never', 'annoyed', 'never', 'express', 'always', 'pleasant', 'much', 'easy', 'more', 'able', 'make', 'also', 'almost', 'probably', 'definitely', 'contact', 'next', 'great', 'never', 'annoyed', 'never', 'express', 'always', 'pleasant', 'much', 'easy', 'more', 'sometime', 'knowledgeable', 'easy', 'close', 'chris', 'triumph', 'truly', 'thankful', 'more', 'very', 'friendly', 'knowledgeable', 'willing', 'answer', 'highly', 'loansnap', 'friendly', 'knowledgeable', 'willing', 'answer', 'highly', 'loansnap', 'highly', 'knowledgeable', 'make', 'whole', 'easy', 'multiple', 'compete', 'really', 'stressful', 'enormously', 'upfront', 'accept', 'close', 'previous', 'tree', 'honestly', 'next', 'minute', 'back', 'knowledgable', 'articulate', 'well-coordinated', 'perfectly', 'finish', 'special', 'shout-out', 'unflappable', 'highly', 'responsive', 'more', 'constant', 'entire', 'many', 'provide', 'comfortable', 'great', 'highly', 'recommend', 'financial', 'janeen', 'great', 'robert', 'bump', 'real', 'great', 'never', 'incredibly', 'responsive', 'complete', 'little', 'great', 'brian', 'absolutely', 'best', 'quick', 'second', 'dread', 'brian', 'truly', 'painless', 'easy', 'want', 'brian', 'more', 'ethan', 'financial', 'absolutely', 'finish', 'loop', 'fast', 'well', 'lisa', 'attentive', 'first', 'best', 'definitely', 'earned', 'many', 'more', 'adan', 'great', 'always', 'responsive', 'knowledgeable', 'best', 'good', 'much', 'apparently', 'sleep', 'almost', 'immediately', 'refinanced', 'smooth', 'adan', 'best', 'slow', 'agree', 'appear', 'wait', 'honored', 'really', 'best', 'good', 'bother', 'many', 'always', 'professional', 'fully', 'mean', 'huge', 'more', 'super', 'responsive', 'next', 'promptly', 'current', 'entire', 'also', 'easy', 'mostly', 'online', 'flawlessly', 'many', 'honestly', 'best', 'ever', 'prompt', 'responsive', 'always', 'timely', 'often', 'painless', 'more', 'many', 'different', 'best', 'always', 'swiftly', 'often', 'always', 'professional', 'knowledgeable', 'honestly', 'often', 'laborious', 'more', 'fantastic', 'figured', 'complete', 'happy', 'easy', 'clear', 'knowledgeable', 'direct', 'well', 'team', 'document', 'smooth', 'successful', 'happy', 'more', 'just', 'funded', 'smooth', 'neal', 'super', 'communicative', 'available', 'sekani', 'hamiltn', 'also', 'constant', 'great', 'attentive', 'responsive', 'knowledgeable', 'good', 'orient', 'more', 'great', 'financial', 'painless', 'prompt', 'whole', 'always', 'definitely', 'financial', 'more', 'adan', 'munoz', 'down', 'underwrite', 'pleased', 'more', 'knowledgeable', 'entire', 're-fi', 'credible', 'cost-effective', 'efficient', 'orient', 'financial', 'knowledgeable', 'entire', 're-fi', 'credible', 'cost-effective', 'efficient', 'orient', 'financial', 'first', 'completely', 'online', 'several', 'senior', 'courteous', 'knowledgeable', 'wish', 'past', 'happy', 'more', 'primary', 'senior', 'patiently', 'thoroughly', 'fully', 'start', 'best', 'right', 'endless', 'usually', 'downside', 'hidden', 'financially', 'creative', 'thoughtful', 'chose', 'successful', 'finish', 'thus', 'anthony', 'financial', 'best', 'more', 'recently', 'successfully', 'financial', 'senior', 'traditional', 'impossible', 'variable', 'self-employed', 'multi-emmy-winning', 'major', 'however', 'carefully', 'unique', 'rather', 'bunch', 'standard', 'crunch', 'average', 'straightforwardly', 'fully', 'explain', 'patiently', 'thoroughly', 'fully', 'start', 'best', 'right', 'endless', 'usually', 'downside', 'hidden', 'financially', 'creative', 'thoughtful', 'chose', 'successful', 'finish', 'thus', 'high', 'more', 'come', 'adan', 'knowledgable', 'professional', 'always', 'calm', 'helpful', 'well', 'well', 'close', 'earlier', 'happy', 'more', 'come', 'adan', 'knowledgable', 'professional', 'always', 'calm', 'helpful', 'well', 'well', 'close', 'earlier', 'happy', 'more', 'munoz', 'responsive', 'available', 'even', 'necessary', 'highly', 'financial', 'friendly', 'awesome', 'easy', 'firm', 'whole', 'easy', 'hard', 'give', 'surely', 'future', 'more', 'financial', 'hard', 'even', 'financial.our', 'hard', 'always', 'answer', 'super', 'friendly', 'easy', 'sakani', 'stressful', 'fast', 'surely', 'read', 'more', 'fantastic', 'able', 'best', 'achieve', 'long-term', 'simple', 'really', 're-fi', 'stressful', 'handle', 'best', 'well', 'present', 'underway', 'want', 'overall', 'easily', 'non-invasive', 'highly', 'want', 'correctly', 'minimal', 'more', 'orginal', 'again', 'thank', 'break', 'hard', 'forward', 'several', 'pushy', 'bryan', 'current', 'little', 'compassion', 'smooth', 'bryan', 'future', 'more', 'definitely', 'best', 'knowledgeable', 'highly', 'best', 'quick', 'great', 'also', 'real', 'thru', 'terrible', 'large', 'recently', 'really', 'knowledgeable', 'personal', 'also', 'more', 'great', 'initial', 'final', 'well', 'timely', 'always', 'available', 'come', 'future', 'tirelessly', 'close', 'extra', 'attentive', 'whole', 'responsive', 'many', 'first', 'great', 'guide', 'entire', 'absolute', 'best', 'provide', 'fair', 'responsive', 'helpful', 'next', 'absolutely', 'best', 'twice', 'lender', 'send', 'close', 'extremely', 'knowledgeable', 'well', 'first', 'sure', 'smoothly', 'close', 'tine', 'exceptional', 'first', 'penny', 'several', 'high', 'enough', 'give', 'able', 'finally', 'arrive', 'always', 'penny', 'penny', 'friendly', 'care', 'able', 'beautiful', 'also', 'finish', 'even', 'happy', 'more', 'sell', 'multiple', 'many', 'unique', 'least', 'brandon', 'true', 'professional', 'efficient', 'supportive', 'never', 'experience', 'commitment', 'best', 'quite', 'remarkable', 'constant', 'frequent', 'comfortable', 'almost', 'immediately', 'follow-up', 'impeccable', 'more', 'home', 'provide', 'wonderful', 'well', 'clear', 'close', 'ahead', 'fazio', 'more', 'provide', 'wonderful', 'well', 'clear', 'close', 'ahead', 'know', 'more', 'friendly', 'knowledgeable', 'best', 'next', 'best', 'raleigh', 'north', 'forward', 'short', 'multiple', 'comfortable', 'hard', 'happy', 'well', 'penny', 'hard', 'best', 'purpose', 'fast', 'quick', 'many', 'referral', 'happy', 'well', 'strongly', 'more', 'good', 'helpful', 'several', 'also', 'first', 'intimidate', 'dread', 'whole', 'much', 'easy', 'less', 'stressful', 'positive', 'more', 'dean', 'easy', 'lend', 'pre-approval', 'table', 'excellent', 'extremely', 'responsive', 'provide', 'great', 'close', 'provide', 'great', 'tremendous', 'highly', 'huge', 'undivided', 'highly', 'regular', 'very', 'able', 'knowledgeable', 'dean', 'professionally', 'well', 'personal', 'professional', 'aspect', 'happy', 'highly', 'recommend', 'next', 'more', 'dean', 'simple', 'first', 'overwhelm', 'right', 'dean', 'later', 'still', 'happy', 'highly', 'dean', 'professional', 'right', 'impressive', 'quickly', 'update', 'conventional', 'close', 'frame', 'dean', 'give', 'hard', 'unforeseen', 'certainly', 'recommend', 'confident', 'receive', 'clear', 'more', 'first', 'freak', 'whole', 'easy', 'great', 'highly', 'ready', 'next', 'numerous', 'particularly', 'opportune', 'complete', 'full', 'full-time', 'quite', 'respectable', 'however', 'rather', 'meet', 'high', 'stumble', 'then', 'fortunate', 'michael', 'professional', 'quick', 'responsible', 'immediately', 'ever', 'original', 'respectable', 'free', 'imaginable', 'more', 'great', 'always', 'quick', 'last', 'stressful', 'least', 'difficult', 'reluctant', 'express', 'happy', 'absolutely', 'away', 'wonderful', 'beautifully', 'always', 'available', 'phenomenal', 'more', 'last', 'stressful', 'least', 'difficult', 'reluctant', 'express', 'happy', 'absolutely', 'away', 'wonderful', 'beautifully', 'always', 'available', 'phenomenal', 'more', 'entire', 'simply', 'awesome', 'responsive', 'hard', 'able', 'difficult', 'possibly', 'wrong', 'wrong', 'right', 'able', 'close', 'forever', 'grateful', 'defiantly', 'more', 'begin', 'wonderful', 'many', 'guaranteed', 'candid', 'honest', 'reasonable', 'fantastic', 'delightful', 'begin', 'highly', 'thank', 'much', 'hard', 'smoothly', 'really', 'answer', 'always', 'sure', 'good', 'similar', 'knowledable', 'best', 'hear', 'more', 'easy', 'quick', 'responsive', 'definitely', 'recommend', 'able', 'close', 'timely', 'scott', 'incredible', 'front', 'free', 'thankful', 'great', 'second', 'expensive', 'matt', 'various', 'helpful', 'quick', 'easy', 'satisfied', 'entire', 'third', 'apart', 'rick', 'able', 'pick', 'complete', 'whole', 'fast', 'efficiently', 'original', 'anticipated', 'courteous', 'informative', 'highly', 'more', 'simple', 'straight-forward', 'continually', 'provide', 'repeatedly', 'happy', 'quickly', 'easily', 'start', 'finish', 'mcdevitt', 'available', 'previous', 'poor', 'numerous', 'even', 'close', 'approached', 'dramatic', 'eventually', 'decide', 'forward', 'faster', 'literally', 'hang-up', 'totally', 'guaranteed', 'online', 'several', 'really', 'personally', 'local', 'lack', 'face-to-face', 'daily', 'never', 'ready', 'guaranteed', 'again', 'more', 'fantastic', 'brian', 'first', 'home', 'available', 'happy', 'able', 'ultimately', 'much', 'highly', 'absolutely', 'future', 'more', 'completely', 'professional', 'always', 'willing', 'great', 'definitely', 'always', 'available', 'answer', 'true', 'professional', 'thankful', 'choose', 'first', 'great', 'able', 'tight', 'comfortable', 'right', 'definitely', 'recommend', 'quick', 'easy', 'rich', 'great', 'several', 'also', 'first', 'intimidate', 'dread', 'whole', 'much', 'easy', 'less', 'stressful', 'positive', 'more', 'dean', 'easy', 'lend', 'pre-approval', 'table', 'excellent', 'extremely', 'responsive', 'provide', 'great', 'close', 'provide', 'great', 'tremendous', 'highly', 'huge', 'undivided', 'highly', 'regular', 'very', 'able', 'knowledgeable', 'dean', 'professionally', 'well', 'personal', 'professional', 'aspect', 'happy', 'highly', 'recommend', 'next', 'more', 'dean', 'simple', 'first', 'overwhelm', 'right', 'dean', 'later', 'still', 'happy', 'highly', 'dean', 'professional', 'right', 'impressive', 'quickly', 'update', 'conventional', 'close', 'frame', 'dean', 'give', 'hard', 'unforeseen', 'certainly', 'recommend', 'confident', 'receive', 'clear', 'more', 'first', 'freak', 'whole', 'easy', 'great', 'highly', 'ready', 'next', 'numerous', 'particularly', 'opportune', 'complete', 'full', 'full-time', 'quite', 'respectable', 'however', 'rather', 'meet', 'high', 'stumble', 'then', 'fortunate', 'michael', 'professional', 'quick', 'responsible', 'immediately', 'ever', 'original', 'respectable', 'free', 'imaginable', 'more', 'great', 'always', 'quick', 'best', 'close', 'quickly', 'complete', 'much', 'appreciate', 'entire', 'always', 'able', 'promptly', 'hurdle', 'happy', 'smoothly', 'sail', 'usually', 'horrible', 'tremendous', 'quick', 'clean', 'fantastic', 'easy', 'else', 'best', 'evident', 'never', 'faster', 'great', 'great', 'highly', 'successful', 'also', 'knowledgeable', 'frequently', 'rely', 'educate', 'late', 'also', 'extremely', 'impressed', 'mike', 'preapproval', 'normal', 'more', 'unbelievable', 'little', 'skeptical', 'dilucchio', 'fantastic', 'super', 'friendly', 'answered', 'werent', 'other', 'different', 'patiently', 'importantly', 'meet', 'enough', 'folk', 'instead', 'really', 'certainly', 'interested', 'certainly', 'future', 'more', 'pretty', 'sure', 'properly', 'down', 'great', 'knowledgeable', 'patient', 'answer', 'even', 'basic', 'easy', 'accessible', 'definitely', 'smoothly', 'confident', 'else', 'process', 'more', 'awesome', 'professional', 'great', 'simple', 'efficient', 'late', 'close', '.highly', 'rick', 'professional', 'competitive', 'kory', 'excellent', 'knowledgeable', 'entire', 'entire', 'great', 'highly', 'recommend', 'future', 'more', 'best', 'ever', 'different', 'calm', 'professional', 'extremely', 'knowledgeable', 'entire', 'else', 'forward', 'responsiveness', 'second', 'more', 'expert', 'well', 'verse', 'financial', 'best', 'advocate', 'real', 'close', 'high', 'professionally', 'patiently', 'answer', 'also', 'stellar', 'handle', 'antebellum', 'tough', 'military', 'tough', 'even', 'close', 'best', 'origination', 'more', 'close', 'important', 'many', 'military', 'entire', 'guide', 'tough', 'truly', 'closed', 'different', 'nasb', 'especially', 'more', 'entire', 'special', 'thank', 'professional', 'close', 'originally', 'save', 'current', 'real', 'great', 'lend', 'tree', 'competitive', 'several', 'slightly', 'beat', 'nasb', 'chose', 'nasb', 'competitive', 'professional', 'timely', 'supportive', 'truthful', 'brent', 'whole', 'deliver', 'completely', 'appreciative', 'more', 'amaze', 'first', 'always', 'away', 'ready', 'stringent', 'easy', 'possible', 'definitely', 'potential', 'ever', 'decide', 'more', 'nasb', 'amazing', 'pre-approval', 'easy', 'informational', 'close', 'nasb', 'first', 'amaze', 'great', 'extremely', 'simple', 'quick', 'knowledgeable', 'helpful', 'great', 'extremely', 'simple', 'quick', 'knowledgeable', 'helpful', 'incredibly', 'awesome', 'small', 'nasb', 'military', 'many', 'best', 'ever', 'bryant', 'easy', 'best', 'never', 'bryant', 'instantly', 'nasb', 'more', 'best', 'exceeded', 'hard', 'best', 'possible', 'highly', 'adam', 'great', 'smooth', 'easy', 'several', 'thru', 'unsure', 'confident', 'professional', 'knowledgeable', 'timely', 'highly', 'read', 'more', 'great', 'knowledgeable', 'always', 'back', 'quickly', 'answer', 'tedious', 'multiple', 'tree', 'alex', 'nasb', 'best', 'entire', 'knowledgeable', 'definitely', 'helpful', 'close', 'issue', 'still', 'able', 'great', 'professional', 'answer', 'somehow', 'close', 'various', 'adam', 'highly', 'first', 'speak', 'clear', 'friendly', 'professional', 'knowledgeable', 'hard', 'necessary', 'effective', 'personal', 'close', 'send', 'write', 'know', 'more', 'real', 'first', 'certainly', 'first', 'entire', 'even', 'barrett', 'errounous', 'certainly', 'enjoy', 'more', 'nasb', 'upmost', 'even', 'close', 'even', 'barrett', 'nasb', 'first', 'blindly', 'bryant', 'guide', 'speak', 'genuinely', 'entire', 'prompt', 'always', 'clear', 'next', 'even', 'bryant', 'seek', 'financial', 'more', 'best', 'even', 'well', 'alex', 'persistent', 'easy', 'excellent', 'absoltely', 'several', 'different', 'best', 'ever', 'ever', 'definitely', 'back', 'nasb', 'look', 'great', 'always', 'available', 'respectful', 'extra', 'hard', 'close', 'brent', 'keep', 'turned', 'previous', 'possible', 'deadline', 'happy', 'first', 'lease', 'serious', 'again', 'later', 'later', 'close', 'always', 'talk', 'daily', 'comfortable', 'whole', 'always', 'honestly', 'much', 'easy', 'more', 'little', 'nervous', 'adam', 'well', 'great', 'communicate', 'best', 'completely', 'knowledgeable', 'really', 'more', 'nice', 'always', 'available', 'really', 'never', 'pleasant', 'best', 'possible', 'best', 'kary', 'kory', 'nasb', 'much', 'financial', 'additional', 'pros', 'different', 'conventional', 'also', 'monthly', 'close', 'never', 'like', 'quite', 'opposite', 'fully', 'right', 'unique', 'comfortable', 'financial', 'more', 'kory', 'nasb', 'much', 'financial', 'additional', 'pros', 'different', 'conventional', 'also', 'monthly', 'close', 'never', 'like', 'quite', 'opposite', 'fully', 'right', 'unique', 'comfortable', 'financial', 'more', 'father', 'best', 'able', 'extra', 'appraiser', 'close', 'great', 'more', 'happiness', 'aaron', 'professional', 'knowledgeable', 'literally', 'save', 'good', 'able', 'almost', 'full', 'able', 'tight', 'highly', 'more', 'very', 'responsive', 'hard', 'approved', 'stressful', 'really', 'helpful', 'friendly', 'timely', 'friendly', 'helpful', 'nasb', 'currently', 'nearly', 'close', 'north', 'american', 'steve', 'assign', 'wonderful', 'least', 'steve', 'always', 'promptly', 'always', 'sure', 'colleague', 'honestly', 'enough', 'ultimately', 'able', 'much', 'monthly', 'highly', 'recommend', 'more', 'excellent', 'straight', 'shooter', 'honorable', 'understood', 'long', 'great', 'personally', 'even', 'extremely', 'slow', 'still', 'close', 'great', 'well', 'more', 'very', 'smooth', 'extremely', 'easy', 'easily', 'nasb', 'requirement', 'past', 'especially', 'closing', 'highly', 'outstanding', 'always', 'timely', 'make', 'sure', 'smoothly', 'call', 'hard', 'true', 'fast', 'helpful', 'best', 'possible', 'heartily', 'humanly', 'possible', 'best', 'possibly', 'never', 'knowledgable', 'responsive', 'many', 'extremely', 'friendly', 'always', 'front', 'extra', 'always', 'available', 'first', 'possible', 'great', 'enough', 'more', 'alex', 'extremely', 'helpful', 'always', 'available', 'constant', 'exactly', 'happen', 'quickly', 'longer', 'always', 'extra', 'sure', 'great', 'easy', 'such', 'alex', 'well', 'good', 'responsive', 'extremely', 'smooth', 'well', 'expect', 'great', 'around', 'schedule', 'always', 'always', 'exactly', 'process', 'next', 'leehy', 'hard', 'honest', 'awesome', 'knowledgeable', 'quick', 'sure', 'track', 'close', 'highly', 'fine', 'traditional', 'great', 'real', 'real', 'knowledgeable', 'accessible', 'positive', 'complex', 'true', 'functionary', 'trust', 'never', 'also', 'great', 'non-local', 'local', 'previously', 'usually', 'non-local', 'local', 'previously', 'usually', 'even', 'great', 'very', 'professional', 'steve', 'responsive', 'many', 'many', 'highly', 'enough', 'highly', 'great', 'great', 'easily', 'best', 'knowledgeable', 'always', 'available', 'never', 'deadline', 'obviously', 'give', 'successful', 'extremely', 'impressed', 'close', 'speak', 'several', 'nasb', 'happy', 'great', 'extremely', 'impressed', 'close', 'speak', 'several', 'nasb', 'happy', 'great', 'excellent', 'able', 'close', 'close', 'smooth', 'excellent', 'sure', 'close', 'quick', 'helpful', 'entire', 'first', 'much', 'good', 'nasb', 'dallas', 'best', 'possible', 'many', 'lifetime', 'pleasurable', 'receive', 'great', 'unmatched', 'best', 'maybe', 'ever', 'more', 'speak', 'quite', 'lender', 'great', 'drive', 'crazy', 'extra', 'stressful', 'technologically', 'illiterate', 'patient', 'professional', 'entire', 'empathetic', 'ever', 'many', 'many', 'easiest', 'pleasurable', 'truly', 'best', 'completely', 'trust', 'already', 'daughter', 'more']\n"
     ]
    }
   ],
   "source": [
    "# Getting a list of Sentiment defining words from Postive Review list\n",
    "senti_wrd = []\n",
    "for rw in positive_rev.itertuples():\n",
    "    pos_list = []\n",
    "    token = []\n",
    "    \n",
    "    token = nltk.word_tokenize(rw[1])\n",
    "    pos_list = pos_tag(token)\n",
    "    for tup in pos_list:\n",
    "        if len(tup[0]) > 3:\n",
    "            if tup[1].startswith('J'):\n",
    "                senti_wrd.append(tup[0])\n",
    "            elif tup[1].startswith('R'):\n",
    "                senti_wrd.append(tup[0])\n",
    "\n",
    "print(senti_wrd)"
   ]
  },
  {
   "cell_type": "code",
   "execution_count": 131,
   "metadata": {},
   "outputs": [
    {
     "data": {
      "text/plain": [
       "'great\\nwyndham\\nprofessional\\nsmoothly\\nprofessional\\ncorrect\\nmuch\\nexcellent\\npast\\nextra\\nwrong\\nencountered\\nprevious\\ntogether\\nviable\\nultimately\\nsave\\nhighly\\nsincere\\nstressful\\nentire\\nhappy\\nextra\\nwrong\\nencountered\\nprevious\\ntogether\\nfind\\nviable\\nultimately\\nsave\\nhighly\\nsincere\\nless\\ngrateful\\nresponsiveness\\nprofessional\\nsecond\\neducate\\nhighly\\nrecommend\\nwyndham\\nwyndham\\noriginal\\nunderwrite\\nentire\\nresponsive\\nprofessional\\nsmooth\\ntimely\\nstressful\\ngreatly\\nprofessionally\\nreally\\noverall\\ntruly\\nback\\nprofessionally\\nwonderful\\npatrick\\nanswer\\nemail\\nimmediately\\nsure\\nright\\nportal\\nextremely\\neasy\\nclose\\npleased\\nlater\\nloved\\nalways\\nanswer\\nquickly\\npossible\\nknowledgeable\\nlender\\nnegative\\ngreat\\nquick\\nalmost\\nexclusively\\nalways\\nreally\\nwell\\nfirst\\nfirst\\nsmooth\\nsuccessful\\ndefinitely\\nusten\\nstiff\\nscary\\nquite\\npossibly\\nlarge\\never\\nsimply\\nwant\\nfaceless\\nsure\\nausten\\ntrue\\nausten\\nbest\\nalso\\ntrue\\nfirst\\nlater\\ngive\\nhuge\\nright\\nhappy\\neasy\\nhold\\nhuge\\nwhole\\nright\\ngreat\\nwyndham\\nespecially\\nmark\\ngreat\\nreally\\neven\\nmean\\nfantastic\\nentire\\noriginal\\nstep\\nquickly\\nglue\\ntogether\\nfirst\\nlast\\nchaz\\nspirit\\nassist\\nquickly\\nmuch\\ngood\\nenough\\npositive\\nprofessional\\nhighly\\ntouch\\nausten\\nawsome\\nbest\\nthoroughly\\neven\\nlook\\nspecifically\\nhang\\nquote\\nwell\\nridiculous\\nworked\\nexcellent\\nknowledgeable\\nentire\\nentire\\ngreat\\nhighly\\nrecommend\\nbest\\never\\ndifferent\\ncalm\\nprofessional\\nextremely\\nknowledgeable\\nentire\\nelse\\nforward\\nresponsiveness\\nsecond\\nexpert\\nwell\\nverse\\nfinancial\\nbest\\nadvocate\\nreal\\nclose\\nhigh\\nprofessionally\\npatiently\\nanswer\\nalso\\nstellar\\nhandle\\nantebellum\\ntough\\nmilitary\\ntough\\neven\\nclose\\nbest\\norigination\\nclose\\nimportant\\nmany\\nmilitary\\nentire\\nguide\\ntough\\ntruly\\nclosed\\ndifferent\\nnasb\\nespecially\\nentire\\nspecial\\nthank\\nprofessional\\nclose\\noriginally\\nsave\\ncurrent\\nreal\\ngreat\\nlend\\ntree\\ncompetitive\\nseveral\\nslightly\\nbeat\\nnasb\\nchose\\nnasb\\ncompetitive\\nprofessional\\ntimely\\nsupportive\\ntruthful\\nbrent\\nwhole\\ndeliver\\ncompletely\\nappreciative\\namaze\\nfirst\\nalways\\naway\\nready\\nstringent\\neasy\\npossible\\ndefinitely\\npotential\\never\\ndecide\\nnasb\\namazing\\npre-approval\\neasy\\ninformational\\nclose\\nnasb\\nfirst\\namazing\\ngreat\\nextremely\\nsimple\\nquick\\nknowledgeable\\nhelpful\\nincredibly\\nawesome\\nsmall\\nnasb\\nmilitary\\nmany\\nbest\\never\\nbryant\\neasy\\nbest\\nnever\\nbryant\\ninstantly\\nnasb\\nbest\\nexceeded\\nhard\\nbest\\npossible\\nhighly\\nadam\\ngreat\\nsmooth\\neasy\\nseveral\\nthru\\nunsure\\nconfident\\nprofessional\\nknowledgeable\\ntimely\\nhighly\\ngreat\\nknowledgeable\\nalways\\nback\\nquickly\\nanswer\\ntedious\\nmultiple\\ntree\\nalex\\nnasb\\nbest\\nentire\\nknowledgeable\\ndefinitely\\nhelpful\\nclose\\nissue\\nstill\\nable\\ngreat\\nprofessional\\nanswer\\nsomehow\\nclose\\nvarious\\nadam\\nhighly\\nfirst\\nspeak\\nclear\\nfriendly\\nprofessional\\nknowledgeable\\nhard\\nnecessary\\neffective\\npersonal\\nclose\\nsend\\nwrite\\nwonderful\\ngood\\nwell\\nconnect\\ndefinitely\\nfuture\\nmary\\nconnolly\\nwell\\nupper\\nhelpful\\nentire\\nspecial\\nlady\\nunderstood\\nnever\\nuncomfortable\\nnervous\\nalways\\navailable\\nanswer\\nwonderful\\nread\\nmore\\ndifficult\\nimpossible\\nlately\\nhard\\nhappy\\nable\\nless\\nstellar\\nfinancial\\nespecially\\nexcellent\\nmore\\ninitially\\npretty\\nskeptical\\npersonal\\nnever\\nhowever\\nreal\\narose\\ndecline\\nclose\\ngive\\nsure\\npatrick\\nsoon\\nthoroughly\\nentire\\npersonally\\nsimply\\nsufficient\\nfantastic\\nsuccessfully\\nnavigate\\nsuccessful\\nsingle\\nfriendly\\nknowledgeable\\nprofessional\\nconsistently\\navailable\\nlast\\ncall\\ntimely\\neven\\npersonally\\ncall\\nhappily\\nenthusiastically\\npatrick\\nmore\\nenglert\\nexcellent\\nfast\\nfirst\\nritu\\npositive\\nenergetic\\nknowledgeable\\nwilling\\nseveral\\ndifferent\\nsure\\nhappy\\nprocess\\nbegin\\nagain\\nstart\\nclose\\nspecial\\nquickly\\nvery\\nreceptive\\nquick\\neasy\\nextra\\novercome\\ntruthful\\ndependable\\nprofessional\\nfederal\\ntedious\\nconsume\\nhigh\\nobvious\\nvery\\ninformative\\ninformative\\nbegin\\nable\\nfast\\neasy\\nfriendly\\nhelp\\nquick\\nsimple\\nlittle\\ncomplete\\nwell\\npleased\\nteddy\\nwell\\ncommunicative\\nexcellent\\nteddy\\nbegin\\nhonest\\nrequired\\ntimely\\nprofessional\\nkelly\\nkindness\\ngreatly\\nappreciate\\nforward\\ntogether\\nfuture\\nkelly\\nextremely\\nhelpful\\nstressful\\nreally\\nfirst\\nunderstood\\nperfectly\\nable\\ngive\\nrealistic\\nsteve\\naccurate\\nmore\\nfriendly\\ngreat\\nkeep\\nwell\\nvery\\ninformative\\ninformative\\nbegin\\nable\\nfast\\neasy\\nfriendly\\nhelp\\nquick\\nsimple\\nlittle\\ncomplete\\nwell\\npleased\\nteddy\\nwell\\ncommunicative\\nexcellent\\nteddy\\nbegin\\nhonest\\nrequired\\ntimely\\nprofessional\\nkelly\\nkindness\\ngreatly\\nappreciate\\nforward\\ntogether\\nfuture\\nkelly\\nextremely\\nhelpful\\nstressful\\nreally\\nfirst\\nunderstood\\nperfectly\\nable\\ngive\\nrealistic\\nsteve\\naccurate\\nmore\\nfriendly\\ngreat\\nkeep\\nwell\\nfirst\\ncall\\nwell\\ninform\\nalso\\nsure\\ncompletely\\nfast\\nheisser\\nfantastic\\ndaily\\ntalked-i\\nfriend-and\\nclose\\ninformative\\nright\\nsure\\nstill\\nalong\\nright\\ngo-he\\nbest\\never\\nmore\\nsteven\\nphenomenal\\nhighly\\nsteven\\nwell\\nsteven\\ntirelessly\\ncompletely\\nsatisfied\\ncurrent\\ntree\\nshatz\\ndecide\\nbase\\ntree\\nwilling\\nbest\\nclose\\nfairly\\nquickly\\nright\\nalways\\naway\\nnever\\nhighly\\nfirst\\nsteven\\nshatz\\nmore\\nbest\\nalmost\\nwish\\namaze\\npossible\\ntruely\\nabsolutely\\namazing\\nknow\\nsure\\nenough\\nthink\\nextremely\\nlucky\\nquickly\\nalmost\\nspin\\nmore\\nknowledgeable\\nquickly\\nspend\\ncomplete\\nlittle\\npatrick\\nregular\\nclose\\ngreat\\nwesley\\nwhite\\ntirelessly\\npatiently\\nclose\\nseveral\\nresponsive\\neven\\nhard\\npossible\\ndefinitely\\nvery\\nprofessional\\ncall\\nfast\\ngreat\\nwhole\\nenough\\nadam\\nextra\\nelse\\nspeak\\nsoooooo\\nmuch\\npretty\\nsure\\nstupid\\nalways\\nthoroughly\\nalso\\nwonderfully\\ncalm\\nknowledgeable\\napproachable\\nmuch\\nwell\\nremotely\\neasily\\npalatable\\nsure\\nbest\\npossible\\nreal\\nwell\\nbest\\nanywhere\\nelse\\nback\\nadam/pac\\nhonestly\\nelse\\nmore\\nenough\\nadam\\nextra\\nelse\\nspeak\\nsoooooo\\nmuch\\npretty\\nsure\\nstupid\\nalways\\nthoroughly\\nalso\\nwonderfully\\ncalm\\nknowledgeable\\napproachable\\nmuch\\nwell\\nremotely\\neasily\\npalatable\\nsure\\nbest\\npossible\\nreal\\nwell\\nbest\\nanywhere\\nelse\\nback\\nadam/pac\\nhonestly\\nelse\\nadam\\nmore\\namaze\\nthird\\nbeneficial\\nclose\\nappraisal\\nwaive\\namaze\\nthird\\nbeneficial\\nclose\\nappraisal\\nwaive\\namaze\\nthird\\nbeneficial\\nclose\\nappraisal\\nwaive\\nquick\\npersonable\\npatient\\nfirst-time\\nanswer\\npossible\\nentire\\nextremely\\nstressful\\nmichele\\ndiligently\\nsure\\nable\\ncomplete\\nhelpful\\nmessy\\nextremely\\npatient\\nalways\\nbeneficial\\nhigh\\noften\\nextremely\\nrefresh\\nbeneficial\\nmore\\nabsolutely\\nwonderful\\nseveral\\nadditional\\nhard\\ngood\\nabsolutely\\nadam\\npatient\\nsmoothly\\npossible\\nextremely\\nfortunate\\nadam\\nmore\\nadam\\nbest\\nalways\\nanswer\\nnext\\nanytime\\nsimple\\nadam\\nelse\\nbest\\ndefinitely\\nfast\\nsimple\\npainless\\nmore\\noutstanding\\nmany\\nprevious\\nbest\\nalex\\nfirst\\ncall\\nprior\\nrental\\nalex\\nalmost\\ndaily\\nmany\\ndifferent\\nalex\\nprofessionally\\nlast\\nleast\\nalex\\nmore\\noutstanding\\nmany\\nprevious\\nbest\\nalex\\nfirst\\ncall\\nprior\\nrental\\nalex\\nalmost\\ndaily\\nmany\\ndifferent\\nalex\\nprofessionally\\nlast\\nleast\\nalex\\nmore\\neasy\\nsmooth\\ngreat\\ncondo\\nlender\\ndefinitely\\nenough\\ngreat\\nalex\\nbeneficial\\nfinish\\ndaily\\ngreat\\nback\\ngreat\\nstressful\\nscary\\nconfident\\ngreat\\nwrong\\nread\\nmore\\nenough\\ngreat\\nalex\\nbeneficial\\nfinish\\ndaily\\ngreat\\nback\\ngreat\\nstressful\\nscary\\nconfident\\ngreat\\nwrong\\nread\\nmore\\nvery\\nprofessional\\nup-to-date\\nexcellent\\nalways\\ncomfortable\\nalex\\nalex\\nalways\\npatient\\nanswer\\npromptly\\ncall\\neven\\npleasant\\nalex\\nlittle\\nskeptical\\nfamiliar\\nknow\\nyelp\\nalex\\nbeneficial\\nentire\\nalways\\npromptly\\ncomfortable\\neven\\nrealtor\\neasy\\nalex\\ndefinitely\\nalex\\nmore\\nwhole\\nalex\\nattentive\\nalways\\navailable\\nmany\\nalex\\never\\ngreat\\nsmooth\\nalex\\nincredible\\nsusan\\nfamiliar\\npacific\\nbeneficial\\nsure\\nsouthern\\nnorth\\nlocal\\ninitial\\nlocal\\nhappy\\navailable\\nnormal\\nwell\\ninclude\\nsusan\\npacific\\nbeneficial\\nseveral\\nresponsiveness\\neasy\\nclose\\nfull\\nearly\\nhard\\nalex\\nclose\\nnecessary\\nescrow\\ngreat\\nwell\\ndidn\\npacific\\nbeneficial\\nhowever\\nfriend\\nmuch\\nalex\\neasy\\nglitch\\ncertainly\\nforward\\nfuture\\nmore\\nsusan\\nfamiliar\\npacific\\nbeneficial\\nsure\\nsouthern\\nnorth\\nlocal\\ninitial\\nlocal\\nhappy\\navailable\\nnormal\\nwell\\ninclude\\nsusan\\npacific\\nbeneficial\\nseveral\\nresponsiveness\\neasy\\nclose\\nfull\\nearly\\nhard\\nalex\\nclose\\nnecessary\\nescrow\\ngreat\\nwell\\ndidn\\npacific\\nbeneficial\\nhowever\\nfriend\\nmuch\\nalex\\neasy\\nglitch\\ncertainly\\nforward\\nfuture\\nmore\\nextremely\\nattentive\\ncourteous\\nextremely\\nattentive\\nhonest\\nresponsive\\nalex\\nunfortunate\\nfailed\\nalex\\nfinally\\nclose\\npersonable\\nalex\\nconsistently\\nsure\\nclose\\noverall\\nexcellent\\nalex\\npacific\\nbeneficial\\nmore\\nalex\\nunfortunate\\nalex\\nfinally\\nclose\\npersonable\\nalex\\nconsistently\\nsure\\nclose\\noverall\\nexcellent\\nalex\\npacific\\nbeneficial\\nmore\\ngreat\\nfirst\\nfirst\\nable\\nclose\\nescrow\\nprevious\\nmostly\\neven\\nrepetitive\\ngreat\\nhighly\\nfirst\\nmuch\\nsmoother\\nfast\\nalso\\nprovide\\ngreat\\nmore\\nunpleasant\\nbeneficial\\npotential\\nfirst\\noriginally\\nlocal\\npotential\\ngood\\nlendingtree\\noriginal\\nwrite\\ncompete\\nappraisal\\nbeneficial\\nhappy\\nhowever\\nclose\\nappraisal\\nfinal\\nclose\\nappraisal\\nupfront\\nreimbursed.\\nemail\\nadmin\\nadam\\nless\\npacific\\nnever\\nback\\nadam\\nnominal\\nentire\\nback\\nnever\\nnext\\npotential\\nmislead\\nterribly\\nextremely\\ndisappointing\\nlengths\\nmore\\neasy\\ncompletely\\nhappy\\nfast\\nrespond\\ncomplete\\neasy\\ncompletely\\nhappy\\nfast\\nrespond\\ncomplete\\naccountant\\ndifferent\\nquick\\ngive\\ndefinitely\\namaze\\nhighly\\nrecommend\\nmore\\ntrue\\nspecifically\\nefficient\\ninformative\\never\\nenough\\npacific\\nhonestly\\nexceeded\\nmore\\nabsolutely\\nbest\\never\\nfriendly\\nknowledgeable\\npatient\\nextraordinarily\\nhelpful\\nchoose\\nright\\nprecisely\\navailable\\neager\\nanswer\\nrelated\\nmore\\ntimely\\nfriendly\\nclose\\nquickly\\nfriendly\\nprofessional\\nfriendly\\neffective\\npacific\\nbeneficial\\nincredibly\\nresponsive\\ndefinitely\\npacific\\nbeneficial\\ngladly\\ncall\\nincredibly\\nresponsive\\ndefinitely\\ngladly\\neasy\\ngood\\nreally\\nclose\\ndefinitely\\nfirst\\nknowledgeable\\neasy\\nprocess\\ngreat\\nprofessional\\ncourteous\\ntimeline\\noverall\\nfine\\nreceive\\nminor\\npeter\\ngood\\nkory\\nexcellent\\nknowledgeable\\nentire\\nentire\\ngreat\\nhighly\\nrecommend\\nfuture\\nmore\\nbest\\never\\ndifferent\\ncalm\\nprofessional\\nextremely\\nknowledgeable\\nentire\\nelse\\nforward\\nresponsiveness\\nsecond\\nmore\\nexpert\\nwell\\nverse\\nfinancial\\nbest\\nadvocate\\nreal\\nclose\\nhigh\\nprofessionally\\npatiently\\nanswer\\nalso\\nstellar\\nhandle\\nantebellum\\ntough\\nmilitary\\ntough\\neven\\nclose\\nbest\\norigination\\nmore\\nclose\\nimportant\\nmany\\nmilitary\\nentire\\nguide\\ntough\\ntruly\\nclosed\\ndifferent\\nnasb\\nespecially\\nmore\\nentire\\nspecial\\nthank\\nprofessional\\nclose\\noriginally\\nsave\\ncurrent\\nreal\\ngreat\\nlend\\ntree\\ncompetitive\\nseveral\\nslightly\\nbeat\\nnasb\\nchose\\nnasb\\ncompetitive\\nprofessional\\ntimely\\nsupportive\\ntruthful\\nbrent\\nwhole\\ndeliver\\ncompletely\\nappreciative\\nmore\\namaze\\nfirst\\nalways\\naway\\nready\\nstringent\\neasy\\npossible\\ndefinitely\\npotential\\never\\ndecide\\nmore\\nnasb\\namazing\\npre-approval\\neasy\\ninformational\\nclose\\nnasb\\nfirst\\namaze\\ngreat\\nextremely\\nsimple\\nquick\\nknowledgeable\\nhelpful\\ngreat\\nextremely\\nsimple\\nquick\\nknowledgeable\\nhelpful\\nincredibly\\nawesome\\nsmall\\nnasb\\nmilitary\\nmany\\nbest\\never\\nbryant\\neasy\\nbest\\nnever\\nbryant\\ninstantly\\nnasb\\nmore\\nbest\\nexceeded\\nhard\\nbest\\npossible\\nhighly\\nadam\\ngreat\\nsmooth\\neasy\\nseveral\\nthru\\nunsure\\nconfident\\nprofessional\\nknowledgeable\\ntimely\\nhighly\\nread\\nmore\\ngreat\\nknowledgeable\\nalways\\nback\\nquickly\\nanswer\\ntedious\\nmultiple\\ntree\\nalex\\nnasb\\nbest\\nentire\\nknowledgeable\\ndefinitely\\nhelpful\\nclose\\nissue\\nstill\\nable\\ngreat\\nprofessional\\nanswer\\nsomehow\\nclose\\nvarious\\nadam\\nhighly\\nfirst\\nspeak\\nclear\\nfriendly\\nprofessional\\nknowledgeable\\nhard\\nnecessary\\neffective\\npersonal\\nclose\\nsend\\nwrite\\nknow\\nmore\\nreal\\nfirst\\ncertainly\\nfirst\\nentire\\neven\\nbarrett\\nerrounous\\ncertainly\\nenjoy\\nmore\\nnasb\\nupmost\\neven\\nclose\\neven\\nbarrett\\nnasb\\nfirst\\nblindly\\nbryant\\nguide\\nspeak\\ngenuinely\\nentire\\nprompt\\nalways\\nclear\\nnext\\neven\\nbryant\\nseek\\nfinancial\\nmore\\nbest\\neven\\nwell\\nalex\\npersistent\\neasy\\nexcellent\\nabsoltely\\nseveral\\ndifferent\\nbest\\never\\never\\ndefinitely\\nback\\nnasb\\nlook\\ngreat\\nalways\\navailable\\nrespectful\\nextra\\nhard\\nclose\\nbrent\\nkeep\\nturned\\nprevious\\npossible\\ndeadline\\nhappy\\nfirst\\nlease\\nserious\\nagain\\nlater\\nlater\\nclose\\nalways\\ntalk\\ndaily\\ncomfortable\\nwhole\\nalways\\nhonestly\\nmuch\\neasy\\nmore\\nlittle\\nnervous\\nadam\\nwell\\ngreat\\ncommunicate\\nbest\\ncompletely\\nknowledgeable\\nreally\\nmore\\nnice\\nalways\\navailable\\nreally\\nnever\\npleasant\\nbest\\npossible\\nbest\\nkary\\nkory\\nnasb\\nmuch\\nfinancial\\nadditional\\npros\\ndifferent\\nconventional\\nalso\\nmonthly\\nclose\\nnever\\nlike\\nquite\\nopposite\\nfully\\nright\\nunique\\ncomfortable\\nfinancial\\nmore\\nkory\\nnasb\\nmuch\\nfinancial\\nadditional\\npros\\ndifferent\\nconventional\\nalso\\nmonthly\\nclose\\nnever\\nlike\\nquite\\nopposite\\nfully\\nright\\nunique\\ncomfortable\\nfinancial\\nmore\\nfather\\nbest\\nable\\nextra\\nappraiser\\nclose\\ngreat\\nmore\\nhappiness\\naaron\\nprofessional\\nknowledgeable\\nliterally\\nsave\\ngood\\nable\\nalmost\\nfull\\nable\\ntight\\nhighly\\nmore\\nvery\\nresponsive\\nhard\\napproved\\nstressful\\nreally\\nhelpful\\nfriendly\\ntimely\\nfriendly\\nhelpful\\nnasb\\ncurrently\\nnearly\\nclose\\nnorth\\namerican\\nsteve\\nassign\\nwonderful\\nleast\\nsteve\\nalways\\npromptly\\nalways\\nsure\\ncolleague\\nhonestly\\nenough\\nultimately\\nable\\nmuch\\nmonthly\\nhighly\\nrecommend\\nmore\\nexcellent\\nstraight\\nshooter\\nhonorable\\nunderstood\\nlong\\ngreat\\npersonally\\neven\\nextremely\\nslow\\nstill\\nclose\\ngreat\\nwell\\nmore\\nvery\\nsmooth\\nextremely\\neasy\\neasily\\nnasb\\nrequirement\\npast\\nespecially\\nclosing\\nhighly\\noutstanding\\nalways\\ntimely\\nmake\\nsure\\nsmoothly\\ncall\\nhard\\ntrue\\nfast\\nhelpful\\nbest\\npossible\\nheartily\\nhumanly\\npossible\\nbest\\npossibly\\nnever\\nknowledgable\\nresponsive\\nmany\\nextremely\\nfriendly\\nalways\\nfront\\nextra\\nalways\\navailable\\nfirst\\npossible\\ngreat\\nenough\\nmore\\nalex\\nextremely\\nhelpful\\nalways\\navailable\\nconstant\\nexactly\\nhappen\\nquickly\\nlonger\\nalways\\nextra\\nsure\\ngreat\\neasy\\nsuch\\nalex\\nwell\\ngood\\nresponsive\\nextremely\\nsmooth\\nwell\\nexpect\\ngreat\\naround\\nschedule\\nalways\\nalways\\nexactly\\nprocess\\nnext\\nleehy\\nhard\\nhonest\\nawesome\\nknowledgeable\\nquick\\nsure\\ntrack\\nclose\\nhighly\\nfine\\ntraditional\\ngreat\\nreal\\nreal\\nknowledgeable\\naccessible\\npositive\\ncomplex\\ntrue\\nfunctionary\\ntrust\\nnever\\nalso\\ngreat\\nnon-local\\nlocal\\npreviously\\nusually\\nnon-local\\nlocal\\npreviously\\nusually\\neven\\ngreat\\nvery\\nprofessional\\nsteve\\nresponsive\\nmany\\nmany\\nhighly\\nenough\\nhighly\\ngreat\\nvery\\nhelpful\\ngreat\\ncharacter\\nthank\\nstressful\\nspecially\\nalways\\nextra\\nreally\\nhappy\\nbottom\\nfirst\\nmore\\nhelpful\\nprovide\\ngreat\\nfast\\nclose\\ncompetitive\\namaze\\nsmooth\\nfree\\ndefinitely\\nsuper\\nfast\\nhelpful\\nsatisfied\\nvery\\nprofessional\\npersonable\\nquick\\nhighly\\neasy\\npainless\\nawesome\\nhighly\\nrecommend\\ngreat\\nfirst\\nalready\\nreally\\nstephanie\\nquick\\nanswer\\ndecide\\nmuch\\nlarge\\nname\\nhappy\\ntriumph\\nneedy\\nhowever\\ntriumph\\nquickly\\ngimmicky\\npleasant\\nwhole\\nhappy\\nrental\\nnext\\nmore\\nfirst\\nhowever\\npeter\\nmonica\\neasy\\nsmooth\\nalways\\nstress\\ngood\\nclose\\nlaugh\\nhonestly\\nsimple\\nquick\\nactually\\nable\\nenjoy\\nentire\\nclose\\nunbelievable\\nalmost\\nextremely\\nfast\\noutstanding\\nclose\\nsure\\nwell\\nmuch\\nnever\\nenough\\nbest\\nmore\\nincredible\\nfirst\\nhome-buying\\nhighly\\nalways\\nwilling\\nperhaps\\nimportantly\\nanswer\\neven\\ntext\\ncalm\\nprofessional\\nabsolutely\\nclose\\nutmost\\nable\\nsuperior\\nforward\\nandy\\nmore\\nalways\\nback\\nright\\naway\\nquestion\\nsure\\nsmooth\\nclose\\nmuch\\nonline\\neasy\\nanswered\\nsure\\nunderstood\\nwhole\\nresponsive\\nstill\\nforward\\nclose\\nlate\\nrelatively\\nfast\\nsmoothly\\nmore\\ngood\\ntriumph\\nnever\\nback\\npre-approval\\ncompletely\\nwait\\nback\\never\\nreal\\nprize\\nparticularly\\npushy\\ncompletely\\nunprofessional\\ninformed\\nlower\\ntriumph\\nmostly\\nvanessa\\nseriously\\nnever\\nquickly\\naccurately\\nsound\\nfirst\\nmore\\nperfect\\nalways\\neven\\nimportantly\\nalways\\nright\\nmore\\njohn\\nclose\\nelement\\ntimely\\neven\\nready\\nprior\\nclose\\ncompare\\ngreat\\nfinancially\\nmore\\nextremely\\nefficient\\npleased\\nentire\\nknowledgeable\\nreal\\nback\\npersonable\\nawesome\\ndefinitely\\nrecommend\\nexcellent\\ngreat\\nenough\\ngreat\\nalways\\navailable\\nalways\\nright\\naway\\nanswered\\nsure\\nunderstood\\npainful\\nfill\\nchris\\neasy\\neasy\\nalways\\nready\\nanswer\\nfriendly\\nknowledgeable\\nprofessional\\nalways\\nbest\\nbest\\never\\nmore\\namazing\\nabsolutely\\nfirst\\nthankful\\nnever\\nbest\\nhighly\\ngreat\\ngreat\\neasy\\nlisten\\nunderstands\\nbest\\nopen\\nupfront\\nquickly\\nhigh\\nwrite\\nbest\\never\\nwant\\ngreat\\nmore\\ngreat\\nresponsive\\nstephanie\\ngreat\\nquick\\nhighly\\nstephanie\\ngreat\\nsolid\\nreally\\nprovide\\ndrewry\\nfriendly\\nprofessional\\nalways\\nquickly\\ngreat\\ngive\\nsmooth\\nstress\\nfree\\ndefinitely\\nsuper\\nfast\\nsuper\\nhelpful\\nfantastic\\nhelpful\\nresponsive\\never\\nreally\\nprovide\\nbest\\npossible\\nchris\\nexcellent\\nknowledgeable\\nfollow\\nreally\\nprofessional\\nchris\\nhard\\ngreat\\nhard\\nchris\\nalways\\nresponsive\\neven\\ncontact\\nfollow-up\\ngreat\\nwell\\nhighly\\nmore\\nfirst\\nchris\\nmutual\\nresponsive\\nproactive\\nreal\\nhighly\\nrecommend\\nfirst\\nchris\\nmutual\\nresponsive\\nproactive\\nreal\\nhighly\\nrecommend\\ngreat\\nhassle-free\\ngreat\\nsure\\nanswer\\npre-approval\\neasy\\ncomplete\\nquick\\npre-approval\\nable\\nclose\\nwell\\nmore\\nstephanie\\nwonderful\\npersonal\\ntimely\\nbegin\\ntree\\nexcellent\\ncomplete\\ntogether\\nwell-oiled\\nawesome\\nwell\\ntogether\\nlend\\nphenomenal\\ninformed\\nanswer\\nreceive\\ncall\\nprocess\\ngive\\npre-approval\\nquickly\\ngreat\\ncontinually\\ninform\\nentire\\nrepresentative\\ntirelessly\\nbest\\npossible\\nalways\\navailable\\nanswer\\neasy\\npeter\\nable\\novercome\\nbest\\nhighly\\nrecommend\\nefficient\\nmore\\ngreat\\nbest\\nmarcos\\ntremendous\\nextremely\\nhelpful\\nexplain\\ninformed\\naccomplish\\nlast\\nhigh\\ngreat\\ngreat\\nprofessional\\nstephanie\\ngreat\\ninformed\\ntogether\\nexcellent\\nright\\ngreat\\nsmoothly\\nable\\nclose\\nearlier\\nexpect\\ntriumph\\nclose\\nsmoothly\\ngreat\\ndefinitely\\ntriumph\\nmore\\nlender\\nanswered\\nlater\\namazing\\nwell\\nlender\\nstrict\\nhigher\\namazing\\nmore\\nsure\\nmuch\\nclose\\ngreat\\nconnect\\ntimely\\nclose\\nearly\\nindividual\\ngreat\\noverall\\ngreat\\noverall\\nhard\\nsuper\\ntruly\\nappreciate\\nright\\nmore\\ncondo\\nmuch\\neasier\\ndefinitely\\nrecommend\\nstephanie\\nawesome\\nhard\\nsure\\ngreat\\nstephanie\\nhard\\nclosed\\naddress/resolve\\nprior\\nsuggest\\nspecifically\\nsecond\\nsmoothly\\nsecond\\nalso\\nresponsiveness\\neven\\nanswer\\nnon-business\\ngreat\\nfollow\\nfast\\neasy\\nsteven\\nback\\npregnant\\nlater\\nforward\\nhelpful\\nexplain\\nhelpful\\nlittle\\nreally\\nappreciated\\nclose\\nsmooth\\nmore\\nsteven\\nback\\npregnant\\nlater\\nforward\\nhelpful\\nexplain\\nhelpful\\nanswer\\nlittle\\nreally\\nappreciated\\nclose\\nsmooth\\nmore\\nlast\\ndifferent\\njohn\\nalways\\nready\\nsecond\\nfinally\\nalways\\navailable\\nalmost\\nimmediately\\njohn\\nenjoyable\\neasy\\nprocess\\nmore\\nable\\nmake\\nalso\\nalmost\\nprobably\\ndefinitely\\ncontact\\nnext\\ngreat\\nnever\\nannoyed\\nnever\\nexpress\\nalways\\npleasant\\nmuch\\neasy\\nmore\\nable\\nmake\\nalso\\nalmost\\nprobably\\ndefinitely\\ncontact\\nnext\\ngreat\\nnever\\nannoyed\\nnever\\nexpress\\nalways\\npleasant\\nmuch\\neasy\\nmore\\nsometime\\nknowledgeable\\neasy\\nclose\\nchris\\ntriumph\\ntruly\\nthankful\\nmore\\nvery\\nfriendly\\nknowledgeable\\nwilling\\nanswer\\nhighly\\nloansnap\\nfriendly\\nknowledgeable\\nwilling\\nanswer\\nhighly\\nloansnap\\nhighly\\nknowledgeable\\nmake\\nwhole\\neasy\\nmultiple\\ncompete\\nreally\\nstressful\\nenormously\\nupfront\\naccept\\nclose\\nprevious\\ntree\\nhonestly\\nnext\\nminute\\nback\\nknowledgable\\narticulate\\nwell-coordinated\\nperfectly\\nfinish\\nspecial\\nshout-out\\nunflappable\\nhighly\\nresponsive\\nmore\\nconstant\\nentire\\nmany\\nprovide\\ncomfortable\\ngreat\\nhighly\\nrecommend\\nfinancial\\njaneen\\ngreat\\nrobert\\nbump\\nreal\\ngreat\\nnever\\nincredibly\\nresponsive\\ncomplete\\nlittle\\ngreat\\nbrian\\nabsolutely\\nbest\\nquick\\nsecond\\ndread\\nbrian\\ntruly\\npainless\\neasy\\nwant\\nbrian\\nmore\\nethan\\nfinancial\\nabsolutely\\nfinish\\nloop\\nfast\\nwell\\nlisa\\nattentive\\nfirst\\nbest\\ndefinitely\\nearned\\nmany\\nmore\\nadan\\ngreat\\nalways\\nresponsive\\nknowledgeable\\nbest\\ngood\\nmuch\\napparently\\nsleep\\nalmost\\nimmediately\\nrefinanced\\nsmooth\\nadan\\nbest\\nslow\\nagree\\nappear\\nwait\\nhonored\\nreally\\nbest\\ngood\\nbother\\nmany\\nalways\\nprofessional\\nfully\\nmean\\nhuge\\nmore\\nsuper\\nresponsive\\nnext\\npromptly\\ncurrent\\nentire\\nalso\\neasy\\nmostly\\nonline\\nflawlessly\\nmany\\nhonestly\\nbest\\never\\nprompt\\nresponsive\\nalways\\ntimely\\noften\\npainless\\nmore\\nmany\\ndifferent\\nbest\\nalways\\nswiftly\\noften\\nalways\\nprofessional\\nknowledgeable\\nhonestly\\noften\\nlaborious\\nmore\\nfantastic\\nfigured\\ncomplete\\nhappy\\neasy\\nclear\\nknowledgeable\\ndirect\\nwell\\nteam\\ndocument\\nsmooth\\nsuccessful\\nhappy\\nmore\\njust\\nfunded\\nsmooth\\nneal\\nsuper\\ncommunicative\\navailable\\nsekani\\nhamiltn\\nalso\\nconstant\\ngreat\\nattentive\\nresponsive\\nknowledgeable\\ngood\\norient\\nmore\\ngreat\\nfinancial\\npainless\\nprompt\\nwhole\\nalways\\ndefinitely\\nfinancial\\nmore\\nadan\\nmunoz\\ndown\\nunderwrite\\npleased\\nmore\\nknowledgeable\\nentire\\nre-fi\\ncredible\\ncost-effective\\nefficient\\norient\\nfinancial\\nknowledgeable\\nentire\\nre-fi\\ncredible\\ncost-effective\\nefficient\\norient\\nfinancial\\nfirst\\ncompletely\\nonline\\nseveral\\nsenior\\ncourteous\\nknowledgeable\\nwish\\npast\\nhappy\\nmore\\nprimary\\nsenior\\npatiently\\nthoroughly\\nfully\\nstart\\nbest\\nright\\nendless\\nusually\\ndownside\\nhidden\\nfinancially\\ncreative\\nthoughtful\\nchose\\nsuccessful\\nfinish\\nthus\\nanthony\\nfinancial\\nbest\\nmore\\nrecently\\nsuccessfully\\nfinancial\\nsenior\\ntraditional\\nimpossible\\nvariable\\nself-employed\\nmulti-emmy-winning\\nmajor\\nhowever\\ncarefully\\nunique\\nrather\\nbunch\\nstandard\\ncrunch\\naverage\\nstraightforwardly\\nfully\\nexplain\\npatiently\\nthoroughly\\nfully\\nstart\\nbest\\nright\\nendless\\nusually\\ndownside\\nhidden\\nfinancially\\ncreative\\nthoughtful\\nchose\\nsuccessful\\nfinish\\nthus\\nhigh\\nmore\\ncome\\nadan\\nknowledgable\\nprofessional\\nalways\\ncalm\\nhelpful\\nwell\\nwell\\nclose\\nearlier\\nhappy\\nmore\\ncome\\nadan\\nknowledgable\\nprofessional\\nalways\\ncalm\\nhelpful\\nwell\\nwell\\nclose\\nearlier\\nhappy\\nmore\\nmunoz\\nresponsive\\navailable\\neven\\nnecessary\\nhighly\\nfinancial\\nfriendly\\nawesome\\neasy\\nfirm\\nwhole\\neasy\\nhard\\ngive\\nsurely\\nfuture\\nmore\\nfinancial\\nhard\\neven\\nfinancial.our\\nhard\\nalways\\nanswer\\nsuper\\nfriendly\\neasy\\nsakani\\nstressful\\nfast\\nsurely\\nread\\nmore\\nfantastic\\nable\\nbest\\nachieve\\nlong-term\\nsimple\\nreally\\nre-fi\\nstressful\\nhandle\\nbest\\nwell\\npresent\\nunderway\\nwant\\noverall\\neasily\\nnon-invasive\\nhighly\\nwant\\ncorrectly\\nminimal\\nmore\\norginal\\nagain\\nthank\\nbreak\\nhard\\nforward\\nseveral\\npushy\\nbryan\\ncurrent\\nlittle\\ncompassion\\nsmooth\\nbryan\\nfuture\\nmore\\ndefinitely\\nbest\\nknowledgeable\\nhighly\\nbest\\nquick\\ngreat\\nalso\\nreal\\nthru\\nterrible\\nlarge\\nrecently\\nreally\\nknowledgeable\\npersonal\\nalso\\nmore\\ngreat\\ninitial\\nfinal\\nwell\\ntimely\\nalways\\navailable\\ncome\\nfuture\\ntirelessly\\nclose\\nextra\\nattentive\\nwhole\\nresponsive\\nmany\\nfirst\\ngreat\\nguide\\nentire\\nabsolute\\nbest\\nprovide\\nfair\\nresponsive\\nhelpful\\nnext\\nabsolutely\\nbest\\ntwice\\nlender\\nsend\\nclose\\nextremely\\nknowledgeable\\nwell\\nfirst\\nsure\\nsmoothly\\nclose\\ntine\\nexceptional\\nfirst\\npenny\\nseveral\\nhigh\\nenough\\ngive\\nable\\nfinally\\narrive\\nalways\\npenny\\npenny\\nfriendly\\ncare\\nable\\nbeautiful\\nalso\\nfinish\\neven\\nhappy\\nmore\\nsell\\nmultiple\\nmany\\nunique\\nleast\\nbrandon\\ntrue\\nprofessional\\nefficient\\nsupportive\\nnever\\nexperience\\ncommitment\\nbest\\nquite\\nremarkable\\nconstant\\nfrequent\\ncomfortable\\nalmost\\nimmediately\\nfollow-up\\nimpeccable\\nmore\\nhome\\nprovide\\nwonderful\\nwell\\nclear\\nclose\\nahead\\nfazio\\nmore\\nprovide\\nwonderful\\nwell\\nclear\\nclose\\nahead\\nknow\\nmore\\nfriendly\\nknowledgeable\\nbest\\nnext\\nbest\\nraleigh\\nnorth\\nforward\\nshort\\nmultiple\\ncomfortable\\nhard\\nhappy\\nwell\\npenny\\nhard\\nbest\\npurpose\\nfast\\nquick\\nmany\\nreferral\\nhappy\\nwell\\nstrongly\\nmore\\ngood\\nhelpful\\nseveral\\nalso\\nfirst\\nintimidate\\ndread\\nwhole\\nmuch\\neasy\\nless\\nstressful\\npositive\\nmore\\ndean\\neasy\\nlend\\npre-approval\\ntable\\nexcellent\\nextremely\\nresponsive\\nprovide\\ngreat\\nclose\\nprovide\\ngreat\\ntremendous\\nhighly\\nhuge\\nundivided\\nhighly\\nregular\\nvery\\nable\\nknowledgeable\\ndean\\nprofessionally\\nwell\\npersonal\\nprofessional\\naspect\\nhappy\\nhighly\\nrecommend\\nnext\\nmore\\ndean\\nsimple\\nfirst\\noverwhelm\\nright\\ndean\\nlater\\nstill\\nhappy\\nhighly\\ndean\\nprofessional\\nright\\nimpressive\\nquickly\\nupdate\\nconventional\\nclose\\nframe\\ndean\\ngive\\nhard\\nunforeseen\\ncertainly\\nrecommend\\nconfident\\nreceive\\nclear\\nmore\\nfirst\\nfreak\\nwhole\\neasy\\ngreat\\nhighly\\nready\\nnext\\nnumerous\\nparticularly\\nopportune\\ncomplete\\nfull\\nfull-time\\nquite\\nrespectable\\nhowever\\nrather\\nmeet\\nhigh\\nstumble\\nthen\\nfortunate\\nmichael\\nprofessional\\nquick\\nresponsible\\nimmediately\\never\\noriginal\\nrespectable\\nfree\\nimaginable\\nmore\\ngreat\\nalways\\nquick\\nlast\\nstressful\\nleast\\ndifficult\\nreluctant\\nexpress\\nhappy\\nabsolutely\\naway\\nwonderful\\nbeautifully\\nalways\\navailable\\nphenomenal\\nmore\\nlast\\nstressful\\nleast\\ndifficult\\nreluctant\\nexpress\\nhappy\\nabsolutely\\naway\\nwonderful\\nbeautifully\\nalways\\navailable\\nphenomenal\\nmore\\nentire\\nsimply\\nawesome\\nresponsive\\nhard\\nable\\ndifficult\\npossibly\\nwrong\\nwrong\\nright\\nable\\nclose\\nforever\\ngrateful\\ndefiantly\\nmore\\nbegin\\nwonderful\\nmany\\nguaranteed\\ncandid\\nhonest\\nreasonable\\nfantastic\\ndelightful\\nbegin\\nhighly\\nthank\\nmuch\\nhard\\nsmoothly\\nreally\\nanswer\\nalways\\nsure\\ngood\\nsimilar\\nknowledable\\nbest\\nhear\\nmore\\neasy\\nquick\\nresponsive\\ndefinitely\\nrecommend\\nable\\nclose\\ntimely\\nscott\\nincredible\\nfront\\nfree\\nthankful\\ngreat\\nsecond\\nexpensive\\nmatt\\nvarious\\nhelpful\\nquick\\neasy\\nsatisfied\\nentire\\nthird\\napart\\nrick\\nable\\npick\\ncomplete\\nwhole\\nfast\\nefficiently\\noriginal\\nanticipated\\ncourteous\\ninformative\\nhighly\\nmore\\nsimple\\nstraight-forward\\ncontinually\\nprovide\\nrepeatedly\\nhappy\\nquickly\\neasily\\nstart\\nfinish\\nmcdevitt\\navailable\\nprevious\\npoor\\nnumerous\\neven\\nclose\\napproached\\ndramatic\\neventually\\ndecide\\nforward\\nfaster\\nliterally\\nhang-up\\ntotally\\nguaranteed\\nonline\\nseveral\\nreally\\npersonally\\nlocal\\nlack\\nface-to-face\\ndaily\\nnever\\nready\\nguaranteed\\nagain\\nmore\\nfantastic\\nbrian\\nfirst\\nhome\\navailable\\nhappy\\nable\\nultimately\\nmuch\\nhighly\\nabsolutely\\nfuture\\nmore\\ncompletely\\nprofessional\\nalways\\nwilling\\ngreat\\ndefinitely\\nalways\\navailable\\nanswer\\ntrue\\nprofessional\\nthankful\\nchoose\\nfirst\\ngreat\\nable\\ntight\\ncomfortable\\nright\\ndefinitely\\nrecommend\\nquick\\neasy\\nrich\\ngreat\\nseveral\\nalso\\nfirst\\nintimidate\\ndread\\nwhole\\nmuch\\neasy\\nless\\nstressful\\npositive\\nmore\\ndean\\neasy\\nlend\\npre-approval\\ntable\\nexcellent\\nextremely\\nresponsive\\nprovide\\ngreat\\nclose\\nprovide\\ngreat\\ntremendous\\nhighly\\nhuge\\nundivided\\nhighly\\nregular\\nvery\\nable\\nknowledgeable\\ndean\\nprofessionally\\nwell\\npersonal\\nprofessional\\naspect\\nhappy\\nhighly\\nrecommend\\nnext\\nmore\\ndean\\nsimple\\nfirst\\noverwhelm\\nright\\ndean\\nlater\\nstill\\nhappy\\nhighly\\ndean\\nprofessional\\nright\\nimpressive\\nquickly\\nupdate\\nconventional\\nclose\\nframe\\ndean\\ngive\\nhard\\nunforeseen\\ncertainly\\nrecommend\\nconfident\\nreceive\\nclear\\nmore\\nfirst\\nfreak\\nwhole\\neasy\\ngreat\\nhighly\\nready\\nnext\\nnumerous\\nparticularly\\nopportune\\ncomplete\\nfull\\nfull-time\\nquite\\nrespectable\\nhowever\\nrather\\nmeet\\nhigh\\nstumble\\nthen\\nfortunate\\nmichael\\nprofessional\\nquick\\nresponsible\\nimmediately\\never\\noriginal\\nrespectable\\nfree\\nimaginable\\nmore\\ngreat\\nalways\\nquick\\nbest\\nclose\\nquickly\\ncomplete\\nmuch\\nappreciate\\nentire\\nalways\\nable\\npromptly\\nhurdle\\nhappy\\nsmoothly\\nsail\\nusually\\nhorrible\\ntremendous\\nquick\\nclean\\nfantastic\\neasy\\nelse\\nbest\\nevident\\nnever\\nfaster\\ngreat\\ngreat\\nhighly\\nsuccessful\\nalso\\nknowledgeable\\nfrequently\\nrely\\neducate\\nlate\\nalso\\nextremely\\nimpressed\\nmike\\npreapproval\\nnormal\\nmore\\nunbelievable\\nlittle\\nskeptical\\ndilucchio\\nfantastic\\nsuper\\nfriendly\\nanswered\\nwerent\\nother\\ndifferent\\npatiently\\nimportantly\\nmeet\\nenough\\nfolk\\ninstead\\nreally\\ncertainly\\ninterested\\ncertainly\\nfuture\\nmore\\npretty\\nsure\\nproperly\\ndown\\ngreat\\nknowledgeable\\npatient\\nanswer\\neven\\nbasic\\neasy\\naccessible\\ndefinitely\\nsmoothly\\nconfident\\nelse\\nprocess\\nmore\\nawesome\\nprofessional\\ngreat\\nsimple\\nefficient\\nlate\\nclose\\n.highly\\nrick\\nprofessional\\ncompetitive\\nkory\\nexcellent\\nknowledgeable\\nentire\\nentire\\ngreat\\nhighly\\nrecommend\\nfuture\\nmore\\nbest\\never\\ndifferent\\ncalm\\nprofessional\\nextremely\\nknowledgeable\\nentire\\nelse\\nforward\\nresponsiveness\\nsecond\\nmore\\nexpert\\nwell\\nverse\\nfinancial\\nbest\\nadvocate\\nreal\\nclose\\nhigh\\nprofessionally\\npatiently\\nanswer\\nalso\\nstellar\\nhandle\\nantebellum\\ntough\\nmilitary\\ntough\\neven\\nclose\\nbest\\norigination\\nmore\\nclose\\nimportant\\nmany\\nmilitary\\nentire\\nguide\\ntough\\ntruly\\nclosed\\ndifferent\\nnasb\\nespecially\\nmore\\nentire\\nspecial\\nthank\\nprofessional\\nclose\\noriginally\\nsave\\ncurrent\\nreal\\ngreat\\nlend\\ntree\\ncompetitive\\nseveral\\nslightly\\nbeat\\nnasb\\nchose\\nnasb\\ncompetitive\\nprofessional\\ntimely\\nsupportive\\ntruthful\\nbrent\\nwhole\\ndeliver\\ncompletely\\nappreciative\\nmore\\namaze\\nfirst\\nalways\\naway\\nready\\nstringent\\neasy\\npossible\\ndefinitely\\npotential\\never\\ndecide\\nmore\\nnasb\\namazing\\npre-approval\\neasy\\ninformational\\nclose\\nnasb\\nfirst\\namaze\\ngreat\\nextremely\\nsimple\\nquick\\nknowledgeable\\nhelpful\\ngreat\\nextremely\\nsimple\\nquick\\nknowledgeable\\nhelpful\\nincredibly\\nawesome\\nsmall\\nnasb\\nmilitary\\nmany\\nbest\\never\\nbryant\\neasy\\nbest\\nnever\\nbryant\\ninstantly\\nnasb\\nmore\\nbest\\nexceeded\\nhard\\nbest\\npossible\\nhighly\\nadam\\ngreat\\nsmooth\\neasy\\nseveral\\nthru\\nunsure\\nconfident\\nprofessional\\nknowledgeable\\ntimely\\nhighly\\nread\\nmore\\ngreat\\nknowledgeable\\nalways\\nback\\nquickly\\nanswer\\ntedious\\nmultiple\\ntree\\nalex\\nnasb\\nbest\\nentire\\nknowledgeable\\ndefinitely\\nhelpful\\nclose\\nissue\\nstill\\nable\\ngreat\\nprofessional\\nanswer\\nsomehow\\nclose\\nvarious\\nadam\\nhighly\\nfirst\\nspeak\\nclear\\nfriendly\\nprofessional\\nknowledgeable\\nhard\\nnecessary\\neffective\\npersonal\\nclose\\nsend\\nwrite\\nknow\\nmore\\nreal\\nfirst\\ncertainly\\nfirst\\nentire\\neven\\nbarrett\\nerrounous\\ncertainly\\nenjoy\\nmore\\nnasb\\nupmost\\neven\\nclose\\neven\\nbarrett\\nnasb\\nfirst\\nblindly\\nbryant\\nguide\\nspeak\\ngenuinely\\nentire\\nprompt\\nalways\\nclear\\nnext\\neven\\nbryant\\nseek\\nfinancial\\nmore\\nbest\\neven\\nwell\\nalex\\npersistent\\neasy\\nexcellent\\nabsoltely\\nseveral\\ndifferent\\nbest\\never\\never\\ndefinitely\\nback\\nnasb\\nlook\\ngreat\\nalways\\navailable\\nrespectful\\nextra\\nhard\\nclose\\nbrent\\nkeep\\nturned\\nprevious\\npossible\\ndeadline\\nhappy\\nfirst\\nlease\\nserious\\nagain\\nlater\\nlater\\nclose\\nalways\\ntalk\\ndaily\\ncomfortable\\nwhole\\nalways\\nhonestly\\nmuch\\neasy\\nmore\\nlittle\\nnervous\\nadam\\nwell\\ngreat\\ncommunicate\\nbest\\ncompletely\\nknowledgeable\\nreally\\nmore\\nnice\\nalways\\navailable\\nreally\\nnever\\npleasant\\nbest\\npossible\\nbest\\nkary\\nkory\\nnasb\\nmuch\\nfinancial\\nadditional\\npros\\ndifferent\\nconventional\\nalso\\nmonthly\\nclose\\nnever\\nlike\\nquite\\nopposite\\nfully\\nright\\nunique\\ncomfortable\\nfinancial\\nmore\\nkory\\nnasb\\nmuch\\nfinancial\\nadditional\\npros\\ndifferent\\nconventional\\nalso\\nmonthly\\nclose\\nnever\\nlike\\nquite\\nopposite\\nfully\\nright\\nunique\\ncomfortable\\nfinancial\\nmore\\nfather\\nbest\\nable\\nextra\\nappraiser\\nclose\\ngreat\\nmore\\nhappiness\\naaron\\nprofessional\\nknowledgeable\\nliterally\\nsave\\ngood\\nable\\nalmost\\nfull\\nable\\ntight\\nhighly\\nmore\\nvery\\nresponsive\\nhard\\napproved\\nstressful\\nreally\\nhelpful\\nfriendly\\ntimely\\nfriendly\\nhelpful\\nnasb\\ncurrently\\nnearly\\nclose\\nnorth\\namerican\\nsteve\\nassign\\nwonderful\\nleast\\nsteve\\nalways\\npromptly\\nalways\\nsure\\ncolleague\\nhonestly\\nenough\\nultimately\\nable\\nmuch\\nmonthly\\nhighly\\nrecommend\\nmore\\nexcellent\\nstraight\\nshooter\\nhonorable\\nunderstood\\nlong\\ngreat\\npersonally\\neven\\nextremely\\nslow\\nstill\\nclose\\ngreat\\nwell\\nmore\\nvery\\nsmooth\\nextremely\\neasy\\neasily\\nnasb\\nrequirement\\npast\\nespecially\\nclosing\\nhighly\\noutstanding\\nalways\\ntimely\\nmake\\nsure\\nsmoothly\\ncall\\nhard\\ntrue\\nfast\\nhelpful\\nbest\\npossible\\nheartily\\nhumanly\\npossible\\nbest\\npossibly\\nnever\\nknowledgable\\nresponsive\\nmany\\nextremely\\nfriendly\\nalways\\nfront\\nextra\\nalways\\navailable\\nfirst\\npossible\\ngreat\\nenough\\nmore\\nalex\\nextremely\\nhelpful\\nalways\\navailable\\nconstant\\nexactly\\nhappen\\nquickly\\nlonger\\nalways\\nextra\\nsure\\ngreat\\neasy\\nsuch\\nalex\\nwell\\ngood\\nresponsive\\nextremely\\nsmooth\\nwell\\nexpect\\ngreat\\naround\\nschedule\\nalways\\nalways\\nexactly\\nprocess\\nnext\\nleehy\\nhard\\nhonest\\nawesome\\nknowledgeable\\nquick\\nsure\\ntrack\\nclose\\nhighly\\nfine\\ntraditional\\ngreat\\nreal\\nreal\\nknowledgeable\\naccessible\\npositive\\ncomplex\\ntrue\\nfunctionary\\ntrust\\nnever\\nalso\\ngreat\\nnon-local\\nlocal\\npreviously\\nusually\\nnon-local\\nlocal\\npreviously\\nusually\\neven\\ngreat\\nvery\\nprofessional\\nsteve\\nresponsive\\nmany\\nmany\\nhighly\\nenough\\nhighly\\ngreat\\ngreat\\neasily\\nbest\\nknowledgeable\\nalways\\navailable\\nnever\\ndeadline\\nobviously\\ngive\\nsuccessful\\nextremely\\nimpressed\\nclose\\nspeak\\nseveral\\nnasb\\nhappy\\ngreat\\nextremely\\nimpressed\\nclose\\nspeak\\nseveral\\nnasb\\nhappy\\ngreat\\nexcellent\\nable\\nclose\\nclose\\nsmooth\\nexcellent\\nsure\\nclose\\nquick\\nhelpful\\nentire\\nfirst\\nmuch\\ngood\\nnasb\\ndallas\\nbest\\npossible\\nmany\\nlifetime\\npleasurable\\nreceive\\ngreat\\nunmatched\\nbest\\nmaybe\\never\\nmore\\nspeak\\nquite\\nlender\\ngreat\\ndrive\\ncrazy\\nextra\\nstressful\\ntechnologically\\nilliterate\\npatient\\nprofessional\\nentire\\nempathetic\\never\\nmany\\nmany\\neasiest\\npleasurable\\ntruly\\nbest\\ncompletely\\ntrust\\nalready\\ndaughter\\nmore'"
      ]
     },
     "execution_count": 131,
     "metadata": {},
     "output_type": "execute_result"
    }
   ],
   "source": [
    "positive = '\\n'.join(senti_wrd)\n",
    "positive"
   ]
  },
  {
   "cell_type": "code",
   "execution_count": 142,
   "metadata": {
    "scrolled": false
   },
   "outputs": [
    {
     "data": {
      "image/png": "[encoded data removed]",
      "text/plain": [
       "<Figure size 864x864 with 1 Axes>"
      ]
     },
     "metadata": {
      "needs_background": "light"
     },
     "output_type": "display_data"
    }
   ],
   "source": [
    "wordcloud = WordCloud(background_color='white',\n",
    "                     ).generate(positive) \n",
    "\n",
    "fig = plt.figure(1, figsize=(12, 12))\n",
    "plt.axis('off')\n",
    "plt.imshow(wordcloud)\n",
    "plt.title('Wordcloud of most frequently used POSITIVE words',fontdict={'fontfamily':'serif','fontsize':20})\n",
    "plt.show()"
   ]
  },
  {
   "cell_type": "code",
   "execution_count": 143,
   "metadata": {},
   "outputs": [
    {
     "data": {
      "text/html": [
       "<div>\n",
       "<style scoped>\n",
       "    .dataframe tbody tr th:only-of-type {\n",
       "        vertical-align: middle;\n",
       "    }\n",
       "\n",
       "    .dataframe tbody tr th {\n",
       "        vertical-align: top;\n",
       "    }\n",
       "\n",
       "    .dataframe thead th {\n",
       "        text-align: right;\n",
       "    }\n",
       "</style>\n",
       "<table border=\"1\" class=\"dataframe\">\n",
       "  <thead>\n",
       "    <tr style=\"text-align: right;\">\n",
       "      <th></th>\n",
       "      <th>Reviews_clean</th>\n",
       "    </tr>\n",
       "  </thead>\n",
       "  <tbody>\n",
       "    <tr>\n",
       "      <th>17</th>\n",
       "      <td>bad experience ever like never go process coul...</td>\n",
       "    </tr>\n",
       "    <tr>\n",
       "      <th>18</th>\n",
       "      <td>good rate frustrate process constant delay dec...</td>\n",
       "    </tr>\n",
       "    <tr>\n",
       "      <th>19</th>\n",
       "      <td>upfront learn mistake trust loan officer zero ...</td>\n",
       "    </tr>\n",
       "    <tr>\n",
       "      <th>20</th>\n",
       "      <td>initially mortgage broker friendly assertive p...</td>\n",
       "    </tr>\n",
       "    <tr>\n",
       "      <th>21</th>\n",
       "      <td>initially mortgage broker friendly assertive p...</td>\n",
       "    </tr>\n",
       "  </tbody>\n",
       "</table>\n",
       "</div>"
      ],
      "text/plain": [
       "                                        Reviews_clean\n",
       "17  bad experience ever like never go process coul...\n",
       "18  good rate frustrate process constant delay dec...\n",
       "19  upfront learn mistake trust loan officer zero ...\n",
       "20  initially mortgage broker friendly assertive p...\n",
       "21  initially mortgage broker friendly assertive p..."
      ]
     },
     "execution_count": 143,
     "metadata": {},
     "output_type": "execute_result"
    }
   ],
   "source": [
    "ref_df = rev_df[rev_df[\"is_Good\"]==0]\n",
    "negative_rev = pd.concat([ref_df[\"Reviews_clean\"]],axis = 1)\n",
    "negative_rev.head()"
   ]
  },
  {
   "cell_type": "code",
   "execution_count": 144,
   "metadata": {},
   "outputs": [
    {
     "data": {
      "text/html": [
       "<div>\n",
       "<style scoped>\n",
       "    .dataframe tbody tr th:only-of-type {\n",
       "        vertical-align: middle;\n",
       "    }\n",
       "\n",
       "    .dataframe tbody tr th {\n",
       "        vertical-align: top;\n",
       "    }\n",
       "\n",
       "    .dataframe thead th {\n",
       "        text-align: right;\n",
       "    }\n",
       "</style>\n",
       "<table border=\"1\" class=\"dataframe\">\n",
       "  <thead>\n",
       "    <tr style=\"text-align: right;\">\n",
       "      <th></th>\n",
       "      <th>Negative_Review</th>\n",
       "    </tr>\n",
       "  </thead>\n",
       "  <tbody>\n",
       "    <tr>\n",
       "      <th>17</th>\n",
       "      <td>bad experience ever like never go process coul...</td>\n",
       "    </tr>\n",
       "    <tr>\n",
       "      <th>18</th>\n",
       "      <td>good rate frustrate process constant delay dec...</td>\n",
       "    </tr>\n",
       "    <tr>\n",
       "      <th>19</th>\n",
       "      <td>upfront learn mistake trust loan officer zero ...</td>\n",
       "    </tr>\n",
       "    <tr>\n",
       "      <th>20</th>\n",
       "      <td>initially mortgage broker friendly assertive p...</td>\n",
       "    </tr>\n",
       "    <tr>\n",
       "      <th>21</th>\n",
       "      <td>initially mortgage broker friendly assertive p...</td>\n",
       "    </tr>\n",
       "  </tbody>\n",
       "</table>\n",
       "</div>"
      ],
      "text/plain": [
       "                                      Negative_Review\n",
       "17  bad experience ever like never go process coul...\n",
       "18  good rate frustrate process constant delay dec...\n",
       "19  upfront learn mistake trust loan officer zero ...\n",
       "20  initially mortgage broker friendly assertive p...\n",
       "21  initially mortgage broker friendly assertive p..."
      ]
     },
     "execution_count": 144,
     "metadata": {},
     "output_type": "execute_result"
    }
   ],
   "source": [
    "negative_rev.rename(columns = {\"Reviews_clean\":\"Negative_Review\"},inplace=True)\n",
    "negative_rev.head()"
   ]
  },
  {
   "cell_type": "code",
   "execution_count": 145,
   "metadata": {},
   "outputs": [
    {
     "name": "stdout",
     "output_type": "stream",
     "text": [
      "['ever', 'never', 'complete', 'many', 'send', 'underwrite', 'back', 'many', 'send', 'correctly', 'different', 'never', 'awful', 'good', 'constant', 'underwriting', 'back', 'additional', 'almost', 'courteous', 'knowledgeable', 'upfront', 'initially', 'good', 'high', 'favorable', 'good', 'please', 'careful', 'initially', 'friendly', 'assertive', 'fill', 'increasingly', 'difficult', 'call', 'forward', 'initially', 'friendly', 'assertive', 'fill', 'increasingly', 'difficult', 'call', 'forward', 'close', 'smoothly', 'so-called', 'complete', 'automatic', 'clunky', 'website', 'intuitive', 'first', 'automatically', 'debit', 'external', 'however', 'escrow', 'nasb', 'send', 'automatically', 'debit', 'nasb', 'late', 'double', 'current', 'later', 'receive', 'e-mail', 'first', 'speak', 'earlier', 'second', 'automatic', 'adjust', 'various', 'never', 'specifically', 'last', 'agent', 'capable', 'actually', 'miserable', 'imaginable', 'never', 'doghouse', 'much', 'less', 'purchase', 'happy', 'poor', 'poor', 'also', 'sure', 'current', 'call', 'twice', 'poor', 'several', 'document', 'even', 'minute', 'email', 'good', 'actual', 'sweet', 'competent', 'notary', 'poor', 'poor', 'never', 'nasb', 'already', 'steer', 'clear', 'nick', 'earlier', 'possible', 'never', 'nick', 'several', 'even', 'e-mailed', 'quite', 'well', 'friendly', 'quick', 'clearly', 'explain', 'sound', 'great', 'never', 'single', 'wished', 'single', 'first', 'second', 'donna', 'close', 'close', 'several', 'later', 'ready', 'close', 'happen', 'email', 'back', '2-12', 'great', 'later', 'additional', 'later', 'process', 'earlier', 'earlier', 'pattern', 'additional', 'unable', 'unwilling', 'broken', 'finally', 'close', 'initial', 'long', 'hard', 'complete', 'several', 'different', 'honestly', 'ever', 'professional', 'respectful', 'lower', 'previous', 'unprofessional', 'never', 'prevent', 'north', 'american', 'lender', 'minimal', 'nasb', 'less', 'still', 'close', 'good', 'docs', 'notary', 'back', 'also', 'personal', 'later', 'already', 'sent', 'stressful', 'less', 'horrible', 'excellent', 'plenty', 'nasb', 'close', 'disappear', 'give', 'thankfully', 'immediately', 'contact', 'local', 'well', 'extremely', 'professional', 'friendly', 'helpful', 'first', 'initial', 'select', 'directly', 'send', 'select', 'best', 'current', 'exact', 'nasb', 'late', 'else', 'already', 'lock', 'follow', 'receive', 'ready', 'closed', 'january', 'february', 'really', 'ever', 'also', 'competitive', 'pretty', 'best', 'total', 'good', 'good', 'total', 'short', 'certain', 'expense', 'refund', 'final', 'termite', 'back', 'nope', 'back', 'also', 'tell', 'close', 'late', 'late', 'present', 'then', 'payable', 'lender', 'late', 'electronic', 'happy', 'more', 'aware', 'critical', 'several', 'finally', 'also', 'several', 'later', 'promise', 'wrong', 'late', 'next', 'cordial', 'constant', 'overall', 'incorrect', 'impossible', 'whole', 'more', 'previous', 'first', 'you.i', 'always', 'back', 'hear', 'probably', 'times..it', 'extremely', 'probably', 'little', 'then', 'redone', 'then', 'also', 'suppose', 'well', 'title', 'back', 'hear', 'back', 'next', 'more', 'first', 'professional', 'rare', 'make', 'nice', 'first', 'interested', 'leave', 'andd', 'maybe', 'interested', 'extremely', 'frustrate', 'first', 'usual', 'pile', 'prove', 'unable', 'electronically', 'transcript', 'ridiculous', 'directly', 'still', 'ahead', 'dummy', 'long', 'exactly', 'separate', 'later', 'finally', 'sometimes', 'many', 'even', 'black', 'annoy', 'demean', 'basic', 'english', 'inferior', 'least', 'make', 'sure', 'transcript', 'certainly', 'more', 'speak', 'interrupt', 'rather', 'listen', 'quite', 'pushy', 'salesman', 'astronomical', 'give', 'initial', 'forward', 'next', 'call', 'know', 'interested', 'never', 'online', 'more', 'lisa', 'different', 'last', 'minuet', 'entire', 'unprofessional', 'unpleasant', 'more', 'worst', 'incorrect', 'quite', 'twice', 'much', 'termite', 'close', 'hello', 'more', 'personally', 'different', 'awful', 'close', 'still', 'wait', 'slow', 'close', 'financial', 'thought', 'notify', 'notary', 't-shirt', 'notary', 'legal', 'legal', 'later', 'learn', 'related', 'real', 'more', 'good', 'hard', 'potential', 'legal', 'back', 'almost', 'still', 'still', 'absolutely', 'ridiculous', 'long', 'close', 'even', 'notify', 'documentation', 'initial', 'file', 'good', 'well', 'complaint', 'more', 'originally', 'much', 'high', 'back', 'tell', 'told', 'even', 'appraisal', 'more', 'long', 'conventional', 'want', 'else', 'more', 'lender', 'prior', 'really', 'want', 'hard', 'mutually', 'beneficial', 'more', 'probably', 'alex', 'numerous', 'close', 'finish', 'most', 'quicken', 'request', 'likely', 'quicken', 'apparently', 'also', 'fully', 'read', 'entirely', 'significant', 'local', 'comparable', 'more', 'unpleasant', 'beneficial', 'potential', 'first', 'originally', 'local', 'potential', 'good', 'lendingtree', 'original', 'write', 'compete', 'appraisal', 'beneficial', 'happy', 'however', 'close', 'appraisal', 'final', 'close', 'appraisal', 'upfront', 'reimbursed.', 'email', 'admin', 'adam', 'less', 'pacific', 'never', 'back', 'adam', 'nominal', 'entire', 'back', 'never', 'next', 'potential', 'mislead', 'terribly', 'extremely', 'disappointing', 'lengths', 'more', 'nice', 'positive', 'past', 'initial', 'pick', 'select', 'poor', 'honestly', 'blank', 'more', 'different', 'many', 'forever', 'nearly', 'reply', 'email', 'later', 'almost', 'reply', 'poor', 'even', 'pacific', 'even', 'pacific', 'more', 'tree', 'initial', 'e-mails', 'polite', 'professional', 'somewhat', 'financial', 'preliminary', 'immediately', 'highly', 'personal', 'later', 'e-mailed', 'good', 'sure', 'never', 'e-mailed', 'mental', 'telepathy', 'e-mailed', 'arghhh', 'update', 'really', 'financial', 'info', 'tree', 'applicant', 'good', 'clear', 'more', 'smoothly', 'so-called', 'complete', 'automatic', 'clunky', 'website', 'intuitive', 'first', 'automatically', 'debit', 'external', 'however', 'escrow', 'nasb', 'send', 'automatically', 'nasb', 'late', 'double', 'current', 'later', 'receive', 'e-mail', 'first', 'speak', 'earlier', 'second', 'automatic', 'adjust', 'various', 'never', 'specifically', 'last', 'agent', 'capable', 'actually', 'more', 'miserable', 'imaginable', 'never', 'doghouse', 'much', 'less', 'purchase', 'happy', 'poor', 'poor', 'also', 'sure', 'current', 'call', 'twice', 'poor', 'several', 'document', 'even', 'minute', 'email', 'good', 'actual', 'sweet', 'competent', 'notary', 'poor', 'poor', 'never', 'nasb', 'already', 'steer', 'clear', 'more', 'happy', 'poor', 'poor', 'also', 'sure', 'interested', 'current', 'call', 'twice', 'poor', 'several', 'document', 'even', 'minute', 'email', 'good', 'actual', 'sweet', 'competent', 'notary', 'poor', 'poor', 'never', 'nasb', 'already', 'steer', 'clear', 'more', 'nick', 'earlier', 'possible', 'never', 'nick', 'several', 'even', 'e-mailed', 'more', 'high', 'quite', 'well', 'friendly', 'quick', 'clearly', 'explain', 'sound', 'great', 'never', 'single', 'wished', 'single', 'first', 'second', 'donna', 'close', 'close', 'several', 'later', 'ready', 'close', 'happen', 'email', 'back', '2-12', 'great', 'later', 'additional', 'later', 'process', 'earlier', 'earlier', 'pattern', 'additional', 'unable', 'unwilling', 'broken', 'finally', 'close', 'initial', 'long', 'hard', 'complete', 'several', 'different', 'honestly', 'ever', 'professional', 'respectful', 'lower', 'more', 'small', 'compare', 'much', 'long', 'tell', 'mishandle', 'necessary', 'close', 'north', 'american', 'more', 'previous', 'unprofessional', 'never', 'write', 'prevent', 'north', 'american', 'lender', 'minimal', 'average', 'interested', 'sometimes', 'mostly', 'lead', 'frequent', 'able', 'personally', 'additional', 'little', 'annoy', 'however', 'comply', 'contact', 'suitable', 'comp', 'forward', 'sufficient', 'honor', 'forward', 'voicemail', 'stuck', 'assessment', 'also', 'high', 'expect', 'strongly', 'urge', 'north', 'american', 'more', 'nasb', 'less', 'still', 'close', 'good', 'docs', 'notary', 'back', 'also', 'personal', 'later', 'already', 'sent', 'more', 'horrible', 'excellent', 'plenty', 'nasb', 'close', 'disappear', 'give', 'thankfully', 'immediately', 'contact', 'local', 'well', 'constantly', 'busy', 'many', 'apparent', 'sure', 'apparently', 'sure', 'good', 'more', 'extremely', 'professional', 'friendly', 'helpful', 'first', 'initial', 'select', 'directly', 'send', 'select', 'best', 'current', 'exact', 'nasb', 'late', 'else', 'already', 'lock', 'follow', 'receive', 'ready', 'closed', 'january', 'february', 'really', 'ever', 'also', 'competitive', 'pretty', 'best', 'more', 'total', 'good', 'good', 'total', 'extra', 'aware', 'repeatedly', 'total', 'repeatedly', 'later', 'suppose', 'different', 'close', 'expect', 'honest', 'nasb', 'receive', 'more', 'close', 'short', 'underwrite', 'irrrl', 'necessary', 'first', 'constant', 'huge', 'initial', 'expressly', 'communicate', 'available', 'currently', 'immediate', 'initial', 'late', 'nasb', 'sell', 'thankfully', 'correct', 'first', 'nasb', 'appeared', 'definite', 'sometime', 'future', 'find', 'immediate', 'likely', 'definite', 'definite', 'initial', 'suppose', 'prior', 'arrival', 'close', 'neutral', 'instead', 'extremely', 'poor', 'unacceptable', 'more', 'quote', 'different', 'different', 'close', 'need', 'quick', 'free', 'whole', 'good', 'close', 'also', 'good', 'long', 'frustrating', 'longer', 'mostly', 'busy', 'difficult', 'always', 'blame', 'close', 'middle', 'nasb', 'document', 'last', 'back', 'else', 'back', 'next', 'hear', 'also', 'noticed', 'minute', 'many', 'hear', 'many', 'many', 'never', 'miss', 'able', 'take', 'always', 'busy', 'sample', 'such', 'please', 'final', 'favorite', 'sorry', 'often', 'aware', 'possibly', 'thank', 'tgif', 'hear', 'suggest', 'only', 'only', 'hard', 'only', 'overall', 'hassle', 'more', 'soon', 'call', 'finally', 'hold', 'short', 'little', 'different', 'more', 'pretty', 'smooth', 'prompt', 'well', 'document', 'keen', 'electronic', 'easy', 'well', 'great', 'good', 'close', 'final', 'final', 'close', 'later', 'great', 'able', 'close', 'close', 'close', 'more', 'willing', 'and/or', 'give', 'personal', 'unprofessional', 'monthly', 'actual', 'provide', 'necessary', 'clearly', 'twice', 'figure', 'accurate', 'more', 'able', 'close', 'never', 'extra', 'several', 'appropriately', 'able', 'quickly', 'professional', 'guaranteed', 'more', 'never', 'monday', 'almost', 'immediately', 'missed', 'initially', 'ball', 'entire', '.then', 'even', 'even', 'even', 'email', 'back', 'soon', 'perfectly', 'else', 'more', 'unfortunately', 'andrew', 'agent', 'aspect', 'unfortunately', 'strong', 'more', 'apparently', 'extremely', 'disorganized', 'unprofessional', 'william', 'fine', 'good', 'entire', 'horrible', 'actual', 'additional', 'last', 'close', 'feel', 'able', 'give', 'prior', 'good', 'wait', 'appraisal', 'live', 'mean', 'close', 'actual', '10-14', 'already', 'good', 'even', 'assistance', 'well', 'airfare', 'come', 'stressful', 'uncalled', 'understanding', 'real', 'away', 'more', 'tree', 'fail', 'list', 'never', 'first', 'martin', 'twice', 'never', 'good', 'unable', 'approve', 'fine', 'least', 'aweful', 'follow-up', 'overall', 'least', 'louisville', 'close', '30-days', 'still', 'close', 'average', '3-days', 'follow-up', 'stop', 'enough', 'finally', 'corporate', 'back', 'freddy', 'western', 'follow-up', 'more', 'able', 'viable', 'upset', 'second', 'tree', 'later', 'pull', 'specific', 'horrible', 'quite', 'give', 'even', 'negative', 'send', 'ever', 'back', 'else', 'send', 'next', 'poor', 'poor', 'poor', 'more', 'positive', 'complete', 'however', 'available', 'several', 'several', 'also', 'available', 'elsewhere', 'less', 'formally', 'feedback', 'underwrite', 'later', 'alert', 'close', 'full', 'later', 'miss', 'new-home', 'horrible', 'great', 'receive', 'receive', 'typically', 'follow-up', 'additional', 'definitely', 'receive', 'believe', 'underwrite', 'never', 'rationale', 'surprise', 'back', 'apologize', 'complete', 'well', 'more', 'back', 'tried', 'busy', 'well', 'answer', 'soon', 'appraisal', 'able', 'call', 'appraisal', 'huge', 'sure', 'enough', 'least', 'shot', 'intelligent', 'similar', 'several', 'polite', 'happy', 'answer', 'however', 'attitude', 'annoyed', 'general', 'middle', 'well', 'sure', 'aaron', 'acceptable', 'similar', 'bright', 'plenty', 'well', 'aaron', 'more', 'pre-approved', 'extensive', 'full', 'enter', 'months-long', 'multiple', 'clearly', 'spell', 'sent', 'later', 'underwrite', 'else', 'total', 'finally', 'high', 'give', 'first', 'pre-approved', 'primary', 're-financing', 'monthly', 'basically', 'acceptable', 'eventually', 'however', 'never', 'high', 'least', 'agree', 'back', 'quick', 'similar', 'back', 'fast', 'however', 'process', 'drag', 'almost', 'give', 'more', 'smoothly', 'so-called', 'complete', 'automatic', 'clunky', 'website', 'intuitive', 'first', 'automatically', 'debit', 'external', 'however', 'escrow', 'nasb', 'send', 'automatically', 'nasb', 'late', 'double', 'current', 'later', 'receive', 'e-mail', 'first', 'speak', 'earlier', 'second', 'automatic', 'adjust', 'various', 'never', 'specifically', 'last', 'agent', 'capable', 'actually', 'more', 'miserable', 'imaginable', 'never', 'doghouse', 'much', 'less', 'purchase', 'happy', 'poor', 'poor', 'also', 'sure', 'current', 'call', 'twice', 'poor', 'several', 'document', 'even', 'minute', 'email', 'good', 'actual', 'sweet', 'competent', 'notary', 'poor', 'poor', 'never', 'nasb', 'already', 'steer', 'clear', 'more', 'happy', 'poor', 'poor', 'also', 'sure', 'interested', 'current', 'call', 'twice', 'poor', 'several', 'document', 'even', 'minute', 'email', 'good', 'actual', 'sweet', 'competent', 'notary', 'poor', 'poor', 'never', 'nasb', 'already', 'steer', 'clear', 'more', 'nick', 'earlier', 'possible', 'never', 'nick', 'several', 'even', 'e-mailed', 'more', 'high', 'quite', 'well', 'friendly', 'quick', 'clearly', 'explain', 'sound', 'great', 'never', 'single', 'wished', 'single', 'first', 'second', 'donna', 'close', 'close', 'several', 'later', 'ready', 'close', 'happen', 'email', 'back', '2-12', 'great', 'later', 'additional', 'later', 'process', 'earlier', 'earlier', 'pattern', 'additional', 'unable', 'unwilling', 'broken', 'finally', 'close', 'initial', 'long', 'hard', 'complete', 'several', 'different', 'honestly', 'ever', 'professional', 'respectful', 'lower', 'more', 'small', 'compare', 'much', 'long', 'tell', 'mishandle', 'necessary', 'close', 'north', 'american', 'more', 'previous', 'unprofessional', 'never', 'write', 'prevent', 'north', 'american', 'lender', 'minimal', 'average', 'interested', 'sometimes', 'mostly', 'lead', 'frequent', 'able', 'personally', 'additional', 'little', 'annoy', 'however', 'comply', 'contact', 'suitable', 'comp', 'forward', 'sufficient', 'honor', 'forward', 'voicemail', 'stuck', 'assessment', 'also', 'high', 'expect', 'strongly', 'urge', 'north', 'american', 'more', 'nasb', 'less', 'still', 'close', 'good', 'docs', 'notary', 'back', 'also', 'personal', 'later', 'already', 'sent', 'more', 'horrible', 'excellent', 'plenty', 'nasb', 'close', 'disappear', 'give', 'thankfully', 'immediately', 'contact', 'local', 'well', 'constantly', 'busy', 'many', 'apparent', 'sure', 'apparently', 'sure', 'good', 'more', 'extremely', 'professional', 'friendly', 'helpful', 'first', 'initial', 'select', 'directly', 'send', 'select', 'best', 'current', 'exact', 'nasb', 'late', 'else', 'already', 'lock', 'follow', 'receive', 'ready', 'closed', 'january', 'february', 'really', 'ever', 'also', 'competitive', 'pretty', 'best', 'more', 'total', 'good', 'good', 'total', 'extra', 'aware', 'repeatedly', 'total', 'repeatedly', 'later', 'suppose', 'different', 'close', 'expect', 'honest', 'nasb', 'receive', 'more']\n"
     ]
    }
   ],
   "source": [
    "# Getting a list of Sentiment defining words from Postive Review list\n",
    "senti_wrd = []\n",
    "for rw in negative_rev.itertuples():\n",
    "    pos_list = []\n",
    "    token = []\n",
    "    \n",
    "    token = nltk.word_tokenize(rw[1])\n",
    "    pos_list = pos_tag(token)\n",
    "    for tup in pos_list:\n",
    "        if len(tup[0]) > 3:\n",
    "            if tup[1].startswith('J'):\n",
    "                senti_wrd.append(tup[0])\n",
    "            elif tup[1].startswith('R'):\n",
    "                senti_wrd.append(tup[0])\n",
    "\n",
    "print(senti_wrd)"
   ]
  },
  {
   "cell_type": "code",
   "execution_count": 146,
   "metadata": {},
   "outputs": [
    {
     "data": {
      "text/plain": [
       "'ever\\nnever\\ncomplete\\nmany\\nsend\\nunderwrite\\nback\\nmany\\nsend\\ncorrectly\\ndifferent\\nnever\\nawful\\ngood\\nconstant\\nunderwriting\\nback\\nadditional\\nalmost\\ncourteous\\nknowledgeable\\nupfront\\ninitially\\ngood\\nhigh\\nfavorable\\ngood\\nplease\\ncareful\\ninitially\\nfriendly\\nassertive\\nfill\\nincreasingly\\ndifficult\\ncall\\nforward\\ninitially\\nfriendly\\nassertive\\nfill\\nincreasingly\\ndifficult\\ncall\\nforward\\nclose\\nsmoothly\\nso-called\\ncomplete\\nautomatic\\nclunky\\nwebsite\\nintuitive\\nfirst\\nautomatically\\ndebit\\nexternal\\nhowever\\nescrow\\nnasb\\nsend\\nautomatically\\ndebit\\nnasb\\nlate\\ndouble\\ncurrent\\nlater\\nreceive\\ne-mail\\nfirst\\nspeak\\nearlier\\nsecond\\nautomatic\\nadjust\\nvarious\\nnever\\nspecifically\\nlast\\nagent\\ncapable\\nactually\\nmiserable\\nimaginable\\nnever\\ndoghouse\\nmuch\\nless\\npurchase\\nhappy\\npoor\\npoor\\nalso\\nsure\\ncurrent\\ncall\\ntwice\\npoor\\nseveral\\ndocument\\neven\\nminute\\nemail\\ngood\\nactual\\nsweet\\ncompetent\\nnotary\\npoor\\npoor\\nnever\\nnasb\\nalready\\nsteer\\nclear\\nnick\\nearlier\\npossible\\nnever\\nnick\\nseveral\\neven\\ne-mailed\\nquite\\nwell\\nfriendly\\nquick\\nclearly\\nexplain\\nsound\\ngreat\\nnever\\nsingle\\nwished\\nsingle\\nfirst\\nsecond\\ndonna\\nclose\\nclose\\nseveral\\nlater\\nready\\nclose\\nhappen\\nemail\\nback\\n2-12\\ngreat\\nlater\\nadditional\\nlater\\nprocess\\nearlier\\nearlier\\npattern\\nadditional\\nunable\\nunwilling\\nbroken\\nfinally\\nclose\\ninitial\\nlong\\nhard\\ncomplete\\nseveral\\ndifferent\\nhonestly\\never\\nprofessional\\nrespectful\\nlower\\nprevious\\nunprofessional\\nnever\\nprevent\\nnorth\\namerican\\nlender\\nminimal\\nnasb\\nless\\nstill\\nclose\\ngood\\ndocs\\nnotary\\nback\\nalso\\npersonal\\nlater\\nalready\\nsent\\nstressful\\nless\\nhorrible\\nexcellent\\nplenty\\nnasb\\nclose\\ndisappear\\ngive\\nthankfully\\nimmediately\\ncontact\\nlocal\\nwell\\nextremely\\nprofessional\\nfriendly\\nhelpful\\nfirst\\ninitial\\nselect\\ndirectly\\nsend\\nselect\\nbest\\ncurrent\\nexact\\nnasb\\nlate\\nelse\\nalready\\nlock\\nfollow\\nreceive\\nready\\nclosed\\njanuary\\nfebruary\\nreally\\never\\nalso\\ncompetitive\\npretty\\nbest\\ntotal\\ngood\\ngood\\ntotal\\nshort\\ncertain\\nexpense\\nrefund\\nfinal\\ntermite\\nback\\nnope\\nback\\nalso\\ntell\\nclose\\nlate\\nlate\\npresent\\nthen\\npayable\\nlender\\nlate\\nelectronic\\nhappy\\nmore\\naware\\ncritical\\nseveral\\nfinally\\nalso\\nseveral\\nlater\\npromise\\nwrong\\nlate\\nnext\\ncordial\\nconstant\\noverall\\nincorrect\\nimpossible\\nwhole\\nmore\\nprevious\\nfirst\\nyou.i\\nalways\\nback\\nhear\\nprobably\\ntimes..it\\nextremely\\nprobably\\nlittle\\nthen\\nredone\\nthen\\nalso\\nsuppose\\nwell\\ntitle\\nback\\nhear\\nback\\nnext\\nmore\\nfirst\\nprofessional\\nrare\\nmake\\nnice\\nfirst\\ninterested\\nleave\\nandd\\nmaybe\\ninterested\\nextremely\\nfrustrate\\nfirst\\nusual\\npile\\nprove\\nunable\\nelectronically\\ntranscript\\nridiculous\\ndirectly\\nstill\\nahead\\ndummy\\nlong\\nexactly\\nseparate\\nlater\\nfinally\\nsometimes\\nmany\\neven\\nblack\\nannoy\\ndemean\\nbasic\\nenglish\\ninferior\\nleast\\nmake\\nsure\\ntranscript\\ncertainly\\nmore\\nspeak\\ninterrupt\\nrather\\nlisten\\nquite\\npushy\\nsalesman\\nastronomical\\ngive\\ninitial\\nforward\\nnext\\ncall\\nknow\\ninterested\\nnever\\nonline\\nmore\\nlisa\\ndifferent\\nlast\\nminuet\\nentire\\nunprofessional\\nunpleasant\\nmore\\nworst\\nincorrect\\nquite\\ntwice\\nmuch\\ntermite\\nclose\\nhello\\nmore\\npersonally\\ndifferent\\nawful\\nclose\\nstill\\nwait\\nslow\\nclose\\nfinancial\\nthought\\nnotify\\nnotary\\nt-shirt\\nnotary\\nlegal\\nlegal\\nlater\\nlearn\\nrelated\\nreal\\nmore\\ngood\\nhard\\npotential\\nlegal\\nback\\nalmost\\nstill\\nstill\\nabsolutely\\nridiculous\\nlong\\nclose\\neven\\nnotify\\ndocumentation\\ninitial\\nfile\\ngood\\nwell\\ncomplaint\\nmore\\noriginally\\nmuch\\nhigh\\nback\\ntell\\ntold\\neven\\nappraisal\\nmore\\nlong\\nconventional\\nwant\\nelse\\nmore\\nlender\\nprior\\nreally\\nwant\\nhard\\nmutually\\nbeneficial\\nmore\\nprobably\\nalex\\nnumerous\\nclose\\nfinish\\nmost\\nquicken\\nrequest\\nlikely\\nquicken\\napparently\\nalso\\nfully\\nread\\nentirely\\nsignificant\\nlocal\\ncomparable\\nmore\\nunpleasant\\nbeneficial\\npotential\\nfirst\\noriginally\\nlocal\\npotential\\ngood\\nlendingtree\\noriginal\\nwrite\\ncompete\\nappraisal\\nbeneficial\\nhappy\\nhowever\\nclose\\nappraisal\\nfinal\\nclose\\nappraisal\\nupfront\\nreimbursed.\\nemail\\nadmin\\nadam\\nless\\npacific\\nnever\\nback\\nadam\\nnominal\\nentire\\nback\\nnever\\nnext\\npotential\\nmislead\\nterribly\\nextremely\\ndisappointing\\nlengths\\nmore\\nnice\\npositive\\npast\\ninitial\\npick\\nselect\\npoor\\nhonestly\\nblank\\nmore\\ndifferent\\nmany\\nforever\\nnearly\\nreply\\nemail\\nlater\\nalmost\\nreply\\npoor\\neven\\npacific\\neven\\npacific\\nmore\\ntree\\ninitial\\ne-mails\\npolite\\nprofessional\\nsomewhat\\nfinancial\\npreliminary\\nimmediately\\nhighly\\npersonal\\nlater\\ne-mailed\\ngood\\nsure\\nnever\\ne-mailed\\nmental\\ntelepathy\\ne-mailed\\narghhh\\nupdate\\nreally\\nfinancial\\ninfo\\ntree\\napplicant\\ngood\\nclear\\nmore\\nsmoothly\\nso-called\\ncomplete\\nautomatic\\nclunky\\nwebsite\\nintuitive\\nfirst\\nautomatically\\ndebit\\nexternal\\nhowever\\nescrow\\nnasb\\nsend\\nautomatically\\nnasb\\nlate\\ndouble\\ncurrent\\nlater\\nreceive\\ne-mail\\nfirst\\nspeak\\nearlier\\nsecond\\nautomatic\\nadjust\\nvarious\\nnever\\nspecifically\\nlast\\nagent\\ncapable\\nactually\\nmore\\nmiserable\\nimaginable\\nnever\\ndoghouse\\nmuch\\nless\\npurchase\\nhappy\\npoor\\npoor\\nalso\\nsure\\ncurrent\\ncall\\ntwice\\npoor\\nseveral\\ndocument\\neven\\nminute\\nemail\\ngood\\nactual\\nsweet\\ncompetent\\nnotary\\npoor\\npoor\\nnever\\nnasb\\nalready\\nsteer\\nclear\\nmore\\nhappy\\npoor\\npoor\\nalso\\nsure\\ninterested\\ncurrent\\ncall\\ntwice\\npoor\\nseveral\\ndocument\\neven\\nminute\\nemail\\ngood\\nactual\\nsweet\\ncompetent\\nnotary\\npoor\\npoor\\nnever\\nnasb\\nalready\\nsteer\\nclear\\nmore\\nnick\\nearlier\\npossible\\nnever\\nnick\\nseveral\\neven\\ne-mailed\\nmore\\nhigh\\nquite\\nwell\\nfriendly\\nquick\\nclearly\\nexplain\\nsound\\ngreat\\nnever\\nsingle\\nwished\\nsingle\\nfirst\\nsecond\\ndonna\\nclose\\nclose\\nseveral\\nlater\\nready\\nclose\\nhappen\\nemail\\nback\\n2-12\\ngreat\\nlater\\nadditional\\nlater\\nprocess\\nearlier\\nearlier\\npattern\\nadditional\\nunable\\nunwilling\\nbroken\\nfinally\\nclose\\ninitial\\nlong\\nhard\\ncomplete\\nseveral\\ndifferent\\nhonestly\\never\\nprofessional\\nrespectful\\nlower\\nmore\\nsmall\\ncompare\\nmuch\\nlong\\ntell\\nmishandle\\nnecessary\\nclose\\nnorth\\namerican\\nmore\\nprevious\\nunprofessional\\nnever\\nwrite\\nprevent\\nnorth\\namerican\\nlender\\nminimal\\naverage\\ninterested\\nsometimes\\nmostly\\nlead\\nfrequent\\nable\\npersonally\\nadditional\\nlittle\\nannoy\\nhowever\\ncomply\\ncontact\\nsuitable\\ncomp\\nforward\\nsufficient\\nhonor\\nforward\\nvoicemail\\nstuck\\nassessment\\nalso\\nhigh\\nexpect\\nstrongly\\nurge\\nnorth\\namerican\\nmore\\nnasb\\nless\\nstill\\nclose\\ngood\\ndocs\\nnotary\\nback\\nalso\\npersonal\\nlater\\nalready\\nsent\\nmore\\nhorrible\\nexcellent\\nplenty\\nnasb\\nclose\\ndisappear\\ngive\\nthankfully\\nimmediately\\ncontact\\nlocal\\nwell\\nconstantly\\nbusy\\nmany\\napparent\\nsure\\napparently\\nsure\\ngood\\nmore\\nextremely\\nprofessional\\nfriendly\\nhelpful\\nfirst\\ninitial\\nselect\\ndirectly\\nsend\\nselect\\nbest\\ncurrent\\nexact\\nnasb\\nlate\\nelse\\nalready\\nlock\\nfollow\\nreceive\\nready\\nclosed\\njanuary\\nfebruary\\nreally\\never\\nalso\\ncompetitive\\npretty\\nbest\\nmore\\ntotal\\ngood\\ngood\\ntotal\\nextra\\naware\\nrepeatedly\\ntotal\\nrepeatedly\\nlater\\nsuppose\\ndifferent\\nclose\\nexpect\\nhonest\\nnasb\\nreceive\\nmore\\nclose\\nshort\\nunderwrite\\nirrrl\\nnecessary\\nfirst\\nconstant\\nhuge\\ninitial\\nexpressly\\ncommunicate\\navailable\\ncurrently\\nimmediate\\ninitial\\nlate\\nnasb\\nsell\\nthankfully\\ncorrect\\nfirst\\nnasb\\nappeared\\ndefinite\\nsometime\\nfuture\\nfind\\nimmediate\\nlikely\\ndefinite\\ndefinite\\ninitial\\nsuppose\\nprior\\narrival\\nclose\\nneutral\\ninstead\\nextremely\\npoor\\nunacceptable\\nmore\\nquote\\ndifferent\\ndifferent\\nclose\\nneed\\nquick\\nfree\\nwhole\\ngood\\nclose\\nalso\\ngood\\nlong\\nfrustrating\\nlonger\\nmostly\\nbusy\\ndifficult\\nalways\\nblame\\nclose\\nmiddle\\nnasb\\ndocument\\nlast\\nback\\nelse\\nback\\nnext\\nhear\\nalso\\nnoticed\\nminute\\nmany\\nhear\\nmany\\nmany\\nnever\\nmiss\\nable\\ntake\\nalways\\nbusy\\nsample\\nsuch\\nplease\\nfinal\\nfavorite\\nsorry\\noften\\naware\\npossibly\\nthank\\ntgif\\nhear\\nsuggest\\nonly\\nonly\\nhard\\nonly\\noverall\\nhassle\\nmore\\nsoon\\ncall\\nfinally\\nhold\\nshort\\nlittle\\ndifferent\\nmore\\npretty\\nsmooth\\nprompt\\nwell\\ndocument\\nkeen\\nelectronic\\neasy\\nwell\\ngreat\\ngood\\nclose\\nfinal\\nfinal\\nclose\\nlater\\ngreat\\nable\\nclose\\nclose\\nclose\\nmore\\nwilling\\nand/or\\ngive\\npersonal\\nunprofessional\\nmonthly\\nactual\\nprovide\\nnecessary\\nclearly\\ntwice\\nfigure\\naccurate\\nmore\\nable\\nclose\\nnever\\nextra\\nseveral\\nappropriately\\nable\\nquickly\\nprofessional\\nguaranteed\\nmore\\nnever\\nmonday\\nalmost\\nimmediately\\nmissed\\ninitially\\nball\\nentire\\n.then\\neven\\neven\\neven\\nemail\\nback\\nsoon\\nperfectly\\nelse\\nmore\\nunfortunately\\nandrew\\nagent\\naspect\\nunfortunately\\nstrong\\nmore\\napparently\\nextremely\\ndisorganized\\nunprofessional\\nwilliam\\nfine\\ngood\\nentire\\nhorrible\\nactual\\nadditional\\nlast\\nclose\\nfeel\\nable\\ngive\\nprior\\ngood\\nwait\\nappraisal\\nlive\\nmean\\nclose\\nactual\\n10-14\\nalready\\ngood\\neven\\nassistance\\nwell\\nairfare\\ncome\\nstressful\\nuncalled\\nunderstanding\\nreal\\naway\\nmore\\ntree\\nfail\\nlist\\nnever\\nfirst\\nmartin\\ntwice\\nnever\\ngood\\nunable\\napprove\\nfine\\nleast\\naweful\\nfollow-up\\noverall\\nleast\\nlouisville\\nclose\\n30-days\\nstill\\nclose\\naverage\\n3-days\\nfollow-up\\nstop\\nenough\\nfinally\\ncorporate\\nback\\nfreddy\\nwestern\\nfollow-up\\nmore\\nable\\nviable\\nupset\\nsecond\\ntree\\nlater\\npull\\nspecific\\nhorrible\\nquite\\ngive\\neven\\nnegative\\nsend\\never\\nback\\nelse\\nsend\\nnext\\npoor\\npoor\\npoor\\nmore\\npositive\\ncomplete\\nhowever\\navailable\\nseveral\\nseveral\\nalso\\navailable\\nelsewhere\\nless\\nformally\\nfeedback\\nunderwrite\\nlater\\nalert\\nclose\\nfull\\nlater\\nmiss\\nnew-home\\nhorrible\\ngreat\\nreceive\\nreceive\\ntypically\\nfollow-up\\nadditional\\ndefinitely\\nreceive\\nbelieve\\nunderwrite\\nnever\\nrationale\\nsurprise\\nback\\napologize\\ncomplete\\nwell\\nmore\\nback\\ntried\\nbusy\\nwell\\nanswer\\nsoon\\nappraisal\\nable\\ncall\\nappraisal\\nhuge\\nsure\\nenough\\nleast\\nshot\\nintelligent\\nsimilar\\nseveral\\npolite\\nhappy\\nanswer\\nhowever\\nattitude\\nannoyed\\ngeneral\\nmiddle\\nwell\\nsure\\naaron\\nacceptable\\nsimilar\\nbright\\nplenty\\nwell\\naaron\\nmore\\npre-approved\\nextensive\\nfull\\nenter\\nmonths-long\\nmultiple\\nclearly\\nspell\\nsent\\nlater\\nunderwrite\\nelse\\ntotal\\nfinally\\nhigh\\ngive\\nfirst\\npre-approved\\nprimary\\nre-financing\\nmonthly\\nbasically\\nacceptable\\neventually\\nhowever\\nnever\\nhigh\\nleast\\nagree\\nback\\nquick\\nsimilar\\nback\\nfast\\nhowever\\nprocess\\ndrag\\nalmost\\ngive\\nmore\\nsmoothly\\nso-called\\ncomplete\\nautomatic\\nclunky\\nwebsite\\nintuitive\\nfirst\\nautomatically\\ndebit\\nexternal\\nhowever\\nescrow\\nnasb\\nsend\\nautomatically\\nnasb\\nlate\\ndouble\\ncurrent\\nlater\\nreceive\\ne-mail\\nfirst\\nspeak\\nearlier\\nsecond\\nautomatic\\nadjust\\nvarious\\nnever\\nspecifically\\nlast\\nagent\\ncapable\\nactually\\nmore\\nmiserable\\nimaginable\\nnever\\ndoghouse\\nmuch\\nless\\npurchase\\nhappy\\npoor\\npoor\\nalso\\nsure\\ncurrent\\ncall\\ntwice\\npoor\\nseveral\\ndocument\\neven\\nminute\\nemail\\ngood\\nactual\\nsweet\\ncompetent\\nnotary\\npoor\\npoor\\nnever\\nnasb\\nalready\\nsteer\\nclear\\nmore\\nhappy\\npoor\\npoor\\nalso\\nsure\\ninterested\\ncurrent\\ncall\\ntwice\\npoor\\nseveral\\ndocument\\neven\\nminute\\nemail\\ngood\\nactual\\nsweet\\ncompetent\\nnotary\\npoor\\npoor\\nnever\\nnasb\\nalready\\nsteer\\nclear\\nmore\\nnick\\nearlier\\npossible\\nnever\\nnick\\nseveral\\neven\\ne-mailed\\nmore\\nhigh\\nquite\\nwell\\nfriendly\\nquick\\nclearly\\nexplain\\nsound\\ngreat\\nnever\\nsingle\\nwished\\nsingle\\nfirst\\nsecond\\ndonna\\nclose\\nclose\\nseveral\\nlater\\nready\\nclose\\nhappen\\nemail\\nback\\n2-12\\ngreat\\nlater\\nadditional\\nlater\\nprocess\\nearlier\\nearlier\\npattern\\nadditional\\nunable\\nunwilling\\nbroken\\nfinally\\nclose\\ninitial\\nlong\\nhard\\ncomplete\\nseveral\\ndifferent\\nhonestly\\never\\nprofessional\\nrespectful\\nlower\\nmore\\nsmall\\ncompare\\nmuch\\nlong\\ntell\\nmishandle\\nnecessary\\nclose\\nnorth\\namerican\\nmore\\nprevious\\nunprofessional\\nnever\\nwrite\\nprevent\\nnorth\\namerican\\nlender\\nminimal\\naverage\\ninterested\\nsometimes\\nmostly\\nlead\\nfrequent\\nable\\npersonally\\nadditional\\nlittle\\nannoy\\nhowever\\ncomply\\ncontact\\nsuitable\\ncomp\\nforward\\nsufficient\\nhonor\\nforward\\nvoicemail\\nstuck\\nassessment\\nalso\\nhigh\\nexpect\\nstrongly\\nurge\\nnorth\\namerican\\nmore\\nnasb\\nless\\nstill\\nclose\\ngood\\ndocs\\nnotary\\nback\\nalso\\npersonal\\nlater\\nalready\\nsent\\nmore\\nhorrible\\nexcellent\\nplenty\\nnasb\\nclose\\ndisappear\\ngive\\nthankfully\\nimmediately\\ncontact\\nlocal\\nwell\\nconstantly\\nbusy\\nmany\\napparent\\nsure\\napparently\\nsure\\ngood\\nmore\\nextremely\\nprofessional\\nfriendly\\nhelpful\\nfirst\\ninitial\\nselect\\ndirectly\\nsend\\nselect\\nbest\\ncurrent\\nexact\\nnasb\\nlate\\nelse\\nalready\\nlock\\nfollow\\nreceive\\nready\\nclosed\\njanuary\\nfebruary\\nreally\\never\\nalso\\ncompetitive\\npretty\\nbest\\nmore\\ntotal\\ngood\\ngood\\ntotal\\nextra\\naware\\nrepeatedly\\ntotal\\nrepeatedly\\nlater\\nsuppose\\ndifferent\\nclose\\nexpect\\nhonest\\nnasb\\nreceive\\nmore'"
      ]
     },
     "execution_count": 146,
     "metadata": {},
     "output_type": "execute_result"
    }
   ],
   "source": [
    "negative = '\\n'.join(senti_wrd)\n",
    "negative"
   ]
  },
  {
   "cell_type": "code",
   "execution_count": 147,
   "metadata": {},
   "outputs": [
    {
     "data": {
      "image/png": "[encoded data removed]",
      "text/plain": [
       "<Figure size 864x864 with 1 Axes>"
      ]
     },
     "metadata": {
      "needs_background": "light"
     },
     "output_type": "display_data"
    }
   ],
   "source": [
    "wordcloud = WordCloud(background_color='white',\n",
    "                     ).generate(negative) \n",
    "\n",
    "fig = plt.figure(1, figsize=(12, 12))\n",
    "plt.axis('off')\n",
    "plt.imshow(wordcloud)\n",
    "plt.title('Wordcloud of most frequently used NEGATIVE words',fontdict={'fontfamily':'serif','fontsize':20})\n",
    "plt.show()"
   ]
  },
  {
   "cell_type": "markdown",
   "metadata": {},
   "source": [
    "### Conclusion:\n",
    "\n",
    "**NASB(North American Savings Bank)** seems to have the majority negative review."
   ]
  }
 ],
 "metadata": {
  "kernelspec": {
   "display_name": "Python 3",
   "language": "python",
   "name": "python3"
  },
  "language_info": {
   "codemirror_mode": {
    "name": "ipython",
    "version": 3
   },
   "file_extension": ".py",
   "mimetype": "text/x-python",
   "name": "python",
   "nbconvert_exporter": "python",
   "pygments_lexer": "ipython3",
   "version": "3.7.3"
  }
 },
 "nbformat": 4,
 "nbformat_minor": 2
}
