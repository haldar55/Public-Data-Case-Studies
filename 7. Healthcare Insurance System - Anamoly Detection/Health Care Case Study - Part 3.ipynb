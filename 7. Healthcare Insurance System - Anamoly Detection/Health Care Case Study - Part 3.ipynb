{
 "cells": [
  {
   "cell_type": "code",
   "execution_count": 151,
   "metadata": {},
   "outputs": [],
   "source": [
    "import pandas as pd\n",
    "import numpy as np\n",
    "import datetime as dt\n",
    "import os\n",
    "from dateutil.relativedelta import relativedelta\n",
    "import scipy.stats as stats\n",
    "import math\n",
    "import textwrap\n",
    "\n",
    "import statsmodels.formula.api as smf\n",
    "import statsmodels.tsa.api as smt\n",
    "\n",
    "import matplotlib.pyplot as plt\n",
    "import pylab\n",
    "import seaborn as sns\n",
    "from matplotlib.ticker import PercentFormatter\n",
    "\n",
    "from sklearn.preprocessing import StandardScaler, MinMaxScaler\n",
    "from sklearn.neighbors import LocalOutlierFactor\n",
    "from sklearn.model_selection import train_test_split, cross_val_score\n",
    "from sklearn.cluster import KMeans\n",
    "from sklearn import metrics\n",
    "from sklearn.naive_bayes import GaussianNB\n",
    "from sklearn.feature_selection import RFE,SelectKBest, f_classif\n",
    "from sklearn.decomposition import PCA\n",
    "\n",
    "from imblearn.over_sampling import SMOTE"
   ]
  },
  {
   "cell_type": "markdown",
   "metadata": {},
   "source": [
    "## Part 3: Identify 10000 Medicare patients who are involved in anomalous activities.\n",
    "\n",
    "We have a list of Patients (Patient_history_samp.csv), and we have a list of procedures that that patient has undergone (Transaction_coo.csv). We also have a small set of patients (5000) and transactions identified to be reviewed. We need to find a way to classify 5000 more patients as potential review required."
   ]
  },
  {
   "cell_type": "code",
   "execution_count": 327,
   "metadata": {},
   "outputs": [],
   "source": [
    "patient = pd.read_csv(\"Patient_history_samp.csv\",low_memory = False)\n",
    "transaction = pd.read_csv(\"Transaction_coo.csv\",low_memory = False)\n",
    "review_p = pd.read_csv(\"Review_patient_history_samp.csv\",low_memory = False)\n",
    "review_t = pd.read_csv(\"Rreview_transaction_coo.csv\",low_memory = False)\n"
   ]
  },
  {
   "cell_type": "markdown",
   "metadata": {},
   "source": [
    "### Data Cleaning and Feature Engineering"
   ]
  },
  {
   "cell_type": "code",
   "execution_count": 328,
   "metadata": {},
   "outputs": [
    {
     "data": {
      "text/plain": [
       "[left_only, both]\n",
       "Categories (2, object): [left_only, both]"
      ]
     },
     "execution_count": 328,
     "metadata": {},
     "output_type": "execute_result"
    }
   ],
   "source": [
    "# Check if all review transactions are part of transaction data\n",
    "pd.merge(transaction,review_t,on=[\"id\",\"global_proc_id\"],how='outer',indicator=True)._merge.unique()"
   ]
  },
  {
   "cell_type": "markdown",
   "metadata": {},
   "source": [
    "Yes they are. So we will now Transpose this df such that for each patient we have one row, and all the procedure ID will be in columns. And the body will reflect how many times the user has utilised that procedure.<br>\n",
    "We are doing this because the review is based on a patients behaviour and we do not need to maintain the granularity of procedure ID."
   ]
  },
  {
   "cell_type": "code",
   "execution_count": 329,
   "metadata": {},
   "outputs": [
    {
     "data": {
      "text/html": [
       "<div>\n",
       "<style scoped>\n",
       "    .dataframe tbody tr th:only-of-type {\n",
       "        vertical-align: middle;\n",
       "    }\n",
       "\n",
       "    .dataframe tbody tr th {\n",
       "        vertical-align: top;\n",
       "    }\n",
       "\n",
       "    .dataframe thead th {\n",
       "        text-align: right;\n",
       "    }\n",
       "</style>\n",
       "<table border=\"1\" class=\"dataframe\">\n",
       "  <thead>\n",
       "    <tr style=\"text-align: right;\">\n",
       "      <th></th>\n",
       "      <th>count</th>\n",
       "      <th>proc__2</th>\n",
       "      <th>proc__3</th>\n",
       "      <th>proc__4</th>\n",
       "      <th>proc__5</th>\n",
       "      <th>proc__6</th>\n",
       "      <th>proc__7</th>\n",
       "      <th>proc__8</th>\n",
       "      <th>proc__9</th>\n",
       "      <th>proc__10</th>\n",
       "      <th>...</th>\n",
       "      <th>proc__121</th>\n",
       "      <th>proc__122</th>\n",
       "      <th>proc__123</th>\n",
       "      <th>proc__124</th>\n",
       "      <th>proc__125</th>\n",
       "      <th>proc__126</th>\n",
       "      <th>proc__127</th>\n",
       "      <th>proc__128</th>\n",
       "      <th>proc__129</th>\n",
       "      <th>proc__130</th>\n",
       "    </tr>\n",
       "    <tr>\n",
       "      <th>id</th>\n",
       "      <th></th>\n",
       "      <th></th>\n",
       "      <th></th>\n",
       "      <th></th>\n",
       "      <th></th>\n",
       "      <th></th>\n",
       "      <th></th>\n",
       "      <th></th>\n",
       "      <th></th>\n",
       "      <th></th>\n",
       "      <th></th>\n",
       "      <th></th>\n",
       "      <th></th>\n",
       "      <th></th>\n",
       "      <th></th>\n",
       "      <th></th>\n",
       "      <th></th>\n",
       "      <th></th>\n",
       "      <th></th>\n",
       "      <th></th>\n",
       "      <th></th>\n",
       "    </tr>\n",
       "  </thead>\n",
       "  <tbody>\n",
       "    <tr>\n",
       "      <th>7561</th>\n",
       "      <td>2</td>\n",
       "      <td>0</td>\n",
       "      <td>0</td>\n",
       "      <td>0</td>\n",
       "      <td>0</td>\n",
       "      <td>0</td>\n",
       "      <td>0</td>\n",
       "      <td>0</td>\n",
       "      <td>0</td>\n",
       "      <td>0</td>\n",
       "      <td>...</td>\n",
       "      <td>0</td>\n",
       "      <td>0</td>\n",
       "      <td>0</td>\n",
       "      <td>0</td>\n",
       "      <td>0</td>\n",
       "      <td>0</td>\n",
       "      <td>0</td>\n",
       "      <td>0</td>\n",
       "      <td>0</td>\n",
       "      <td>0</td>\n",
       "    </tr>\n",
       "    <tr>\n",
       "      <th>7619</th>\n",
       "      <td>2</td>\n",
       "      <td>0</td>\n",
       "      <td>0</td>\n",
       "      <td>0</td>\n",
       "      <td>0</td>\n",
       "      <td>0</td>\n",
       "      <td>0</td>\n",
       "      <td>0</td>\n",
       "      <td>0</td>\n",
       "      <td>0</td>\n",
       "      <td>...</td>\n",
       "      <td>0</td>\n",
       "      <td>0</td>\n",
       "      <td>0</td>\n",
       "      <td>0</td>\n",
       "      <td>0</td>\n",
       "      <td>0</td>\n",
       "      <td>0</td>\n",
       "      <td>0</td>\n",
       "      <td>0</td>\n",
       "      <td>0</td>\n",
       "    </tr>\n",
       "    <tr>\n",
       "      <th>10479</th>\n",
       "      <td>4</td>\n",
       "      <td>1</td>\n",
       "      <td>0</td>\n",
       "      <td>0</td>\n",
       "      <td>0</td>\n",
       "      <td>0</td>\n",
       "      <td>0</td>\n",
       "      <td>0</td>\n",
       "      <td>1</td>\n",
       "      <td>0</td>\n",
       "      <td>...</td>\n",
       "      <td>0</td>\n",
       "      <td>0</td>\n",
       "      <td>0</td>\n",
       "      <td>0</td>\n",
       "      <td>0</td>\n",
       "      <td>0</td>\n",
       "      <td>0</td>\n",
       "      <td>0</td>\n",
       "      <td>0</td>\n",
       "      <td>0</td>\n",
       "    </tr>\n",
       "    <tr>\n",
       "      <th>13515</th>\n",
       "      <td>2</td>\n",
       "      <td>0</td>\n",
       "      <td>0</td>\n",
       "      <td>0</td>\n",
       "      <td>0</td>\n",
       "      <td>0</td>\n",
       "      <td>0</td>\n",
       "      <td>0</td>\n",
       "      <td>0</td>\n",
       "      <td>0</td>\n",
       "      <td>...</td>\n",
       "      <td>0</td>\n",
       "      <td>0</td>\n",
       "      <td>0</td>\n",
       "      <td>0</td>\n",
       "      <td>0</td>\n",
       "      <td>0</td>\n",
       "      <td>0</td>\n",
       "      <td>0</td>\n",
       "      <td>0</td>\n",
       "      <td>0</td>\n",
       "    </tr>\n",
       "    <tr>\n",
       "      <th>15213</th>\n",
       "      <td>6</td>\n",
       "      <td>0</td>\n",
       "      <td>0</td>\n",
       "      <td>0</td>\n",
       "      <td>0</td>\n",
       "      <td>0</td>\n",
       "      <td>0</td>\n",
       "      <td>0</td>\n",
       "      <td>0</td>\n",
       "      <td>0</td>\n",
       "      <td>...</td>\n",
       "      <td>0</td>\n",
       "      <td>0</td>\n",
       "      <td>0</td>\n",
       "      <td>0</td>\n",
       "      <td>0</td>\n",
       "      <td>0</td>\n",
       "      <td>0</td>\n",
       "      <td>0</td>\n",
       "      <td>0</td>\n",
       "      <td>0</td>\n",
       "    </tr>\n",
       "  </tbody>\n",
       "</table>\n",
       "<p>5 rows × 130 columns</p>\n",
       "</div>"
      ],
      "text/plain": [
       "       count  proc__2  proc__3  proc__4  proc__5  proc__6  proc__7  proc__8  \\\n",
       "id                                                                            \n",
       "7561       2        0        0        0        0        0        0        0   \n",
       "7619       2        0        0        0        0        0        0        0   \n",
       "10479      4        1        0        0        0        0        0        0   \n",
       "13515      2        0        0        0        0        0        0        0   \n",
       "15213      6        0        0        0        0        0        0        0   \n",
       "\n",
       "       proc__9  proc__10  ...  proc__121  proc__122  proc__123  proc__124  \\\n",
       "id                        ...                                               \n",
       "7561         0         0  ...          0          0          0          0   \n",
       "7619         0         0  ...          0          0          0          0   \n",
       "10479        1         0  ...          0          0          0          0   \n",
       "13515        0         0  ...          0          0          0          0   \n",
       "15213        0         0  ...          0          0          0          0   \n",
       "\n",
       "       proc__125  proc__126  proc__127  proc__128  proc__129  proc__130  \n",
       "id                                                                       \n",
       "7561           0          0          0          0          0          0  \n",
       "7619           0          0          0          0          0          0  \n",
       "10479          0          0          0          0          0          0  \n",
       "13515          0          0          0          0          0          0  \n",
       "15213          0          0          0          0          0          0  \n",
       "\n",
       "[5 rows x 130 columns]"
      ]
     },
     "execution_count": 329,
     "metadata": {},
     "output_type": "execute_result"
    }
   ],
   "source": [
    "transaction_wide = transaction.copy()\n",
    "proc_df = pd.get_dummies(transaction_wide[\"global_proc_id\"],prefix=\"proc_\",drop_first=True)\n",
    "transaction_wide = pd.concat([transaction_wide,proc_df],axis =1 )\n",
    "transaction_wide.drop(\"global_proc_id\",axis =1 ,inplace=True)\n",
    "transac = transaction_wide.groupby(\"id\").sum()\n",
    "transac.head()"
   ]
  },
  {
   "cell_type": "code",
   "execution_count": 330,
   "metadata": {},
   "outputs": [
    {
     "data": {
      "text/plain": [
       "[left_only, right_only]\n",
       "Categories (2, object): [left_only, right_only]"
      ]
     },
     "execution_count": 330,
     "metadata": {},
     "output_type": "execute_result"
    }
   ],
   "source": [
    "# to check that all the patients in review transaction file are also present in samp patient file\n",
    "pd.merge(review_p,patient,on=[\"id\"],how='outer',indicator=True)._merge.unique()"
   ]
  },
  {
   "cell_type": "markdown",
   "metadata": {},
   "source": [
    "This shows that both the files are exlusive, we would need to concat them to get the full dataset."
   ]
  },
  {
   "cell_type": "code",
   "execution_count": 331,
   "metadata": {},
   "outputs": [],
   "source": [
    "patient[\"for_review\"] = 0\n",
    "review_p[\"for_review\"] = 1"
   ]
  },
  {
   "cell_type": "code",
   "execution_count": 332,
   "metadata": {},
   "outputs": [
    {
     "name": "stdout",
     "output_type": "stream",
     "text": [
      "<class 'pandas.core.frame.DataFrame'>\n",
      "Int64Index: 505000 entries, 0 to 4999\n",
      "Data columns (total 5 columns):\n",
      "age           502444 non-null object\n",
      "for_review    505000 non-null int64\n",
      "gender        505000 non-null object\n",
      "id            505000 non-null int64\n",
      "income        502443 non-null object\n",
      "dtypes: int64(2), object(3)\n",
      "memory usage: 23.1+ MB\n"
     ]
    }
   ],
   "source": [
    "# concatenating patient history files to get the full data\n",
    "patient = pd.concat([patient,review_p],axis =0,sort=True)\n",
    "patient.info()"
   ]
  },
  {
   "cell_type": "code",
   "execution_count": 333,
   "metadata": {
    "scrolled": false
   },
   "outputs": [
    {
     "name": "stdout",
     "output_type": "stream",
     "text": [
      "<class 'pandas.core.frame.DataFrame'>\n",
      "Int64Index: 505000 entries, 0 to 4999\n",
      "Data columns (total 5 columns):\n",
      "age           505000 non-null object\n",
      "for_review    505000 non-null int64\n",
      "gender        505000 non-null object\n",
      "id            505000 non-null int64\n",
      "income        505000 non-null object\n",
      "dtypes: int64(2), object(3)\n",
      "memory usage: 23.1+ MB\n"
     ]
    }
   ],
   "source": [
    "# Handeling missing values using mode\n",
    "patient.age=patient.age.fillna(patient.age.mode()[0])\n",
    "patient.income=patient.income.fillna(patient.income.mode()[0])\n",
    "patient.info()"
   ]
  },
  {
   "cell_type": "code",
   "execution_count": 334,
   "metadata": {},
   "outputs": [
    {
     "data": {
      "text/html": [
       "<div>\n",
       "<style scoped>\n",
       "    .dataframe tbody tr th:only-of-type {\n",
       "        vertical-align: middle;\n",
       "    }\n",
       "\n",
       "    .dataframe tbody tr th {\n",
       "        vertical-align: top;\n",
       "    }\n",
       "\n",
       "    .dataframe thead th {\n",
       "        text-align: right;\n",
       "    }\n",
       "</style>\n",
       "<table border=\"1\" class=\"dataframe\">\n",
       "  <thead>\n",
       "    <tr style=\"text-align: right;\">\n",
       "      <th></th>\n",
       "      <th>age</th>\n",
       "      <th>for_review</th>\n",
       "      <th>gender</th>\n",
       "      <th>id</th>\n",
       "      <th>income</th>\n",
       "      <th>count</th>\n",
       "      <th>proc__2</th>\n",
       "      <th>proc__3</th>\n",
       "      <th>proc__4</th>\n",
       "      <th>proc__5</th>\n",
       "      <th>...</th>\n",
       "      <th>proc__121</th>\n",
       "      <th>proc__122</th>\n",
       "      <th>proc__123</th>\n",
       "      <th>proc__124</th>\n",
       "      <th>proc__125</th>\n",
       "      <th>proc__126</th>\n",
       "      <th>proc__127</th>\n",
       "      <th>proc__128</th>\n",
       "      <th>proc__129</th>\n",
       "      <th>proc__130</th>\n",
       "    </tr>\n",
       "  </thead>\n",
       "  <tbody>\n",
       "    <tr>\n",
       "      <th>0</th>\n",
       "      <td>65-74</td>\n",
       "      <td>0</td>\n",
       "      <td>F</td>\n",
       "      <td>306535165</td>\n",
       "      <td>24000-31999</td>\n",
       "      <td>4</td>\n",
       "      <td>0</td>\n",
       "      <td>0</td>\n",
       "      <td>0</td>\n",
       "      <td>0</td>\n",
       "      <td>...</td>\n",
       "      <td>0</td>\n",
       "      <td>0</td>\n",
       "      <td>0</td>\n",
       "      <td>1</td>\n",
       "      <td>0</td>\n",
       "      <td>0</td>\n",
       "      <td>0</td>\n",
       "      <td>0</td>\n",
       "      <td>0</td>\n",
       "      <td>0</td>\n",
       "    </tr>\n",
       "    <tr>\n",
       "      <th>1</th>\n",
       "      <td>65-74</td>\n",
       "      <td>0</td>\n",
       "      <td>F</td>\n",
       "      <td>742231134</td>\n",
       "      <td>48000+</td>\n",
       "      <td>1</td>\n",
       "      <td>0</td>\n",
       "      <td>0</td>\n",
       "      <td>0</td>\n",
       "      <td>0</td>\n",
       "      <td>...</td>\n",
       "      <td>0</td>\n",
       "      <td>0</td>\n",
       "      <td>0</td>\n",
       "      <td>0</td>\n",
       "      <td>0</td>\n",
       "      <td>0</td>\n",
       "      <td>0</td>\n",
       "      <td>0</td>\n",
       "      <td>0</td>\n",
       "      <td>0</td>\n",
       "    </tr>\n",
       "    <tr>\n",
       "      <th>2</th>\n",
       "      <td>75-84</td>\n",
       "      <td>0</td>\n",
       "      <td>M</td>\n",
       "      <td>928807201</td>\n",
       "      <td>24000-31999</td>\n",
       "      <td>2</td>\n",
       "      <td>0</td>\n",
       "      <td>0</td>\n",
       "      <td>0</td>\n",
       "      <td>0</td>\n",
       "      <td>...</td>\n",
       "      <td>0</td>\n",
       "      <td>0</td>\n",
       "      <td>0</td>\n",
       "      <td>0</td>\n",
       "      <td>0</td>\n",
       "      <td>0</td>\n",
       "      <td>0</td>\n",
       "      <td>0</td>\n",
       "      <td>0</td>\n",
       "      <td>0</td>\n",
       "    </tr>\n",
       "    <tr>\n",
       "      <th>3</th>\n",
       "      <td>&lt;65</td>\n",
       "      <td>0</td>\n",
       "      <td>F</td>\n",
       "      <td>83686538</td>\n",
       "      <td>32000-47999</td>\n",
       "      <td>2</td>\n",
       "      <td>1</td>\n",
       "      <td>0</td>\n",
       "      <td>0</td>\n",
       "      <td>0</td>\n",
       "      <td>...</td>\n",
       "      <td>0</td>\n",
       "      <td>0</td>\n",
       "      <td>0</td>\n",
       "      <td>0</td>\n",
       "      <td>0</td>\n",
       "      <td>0</td>\n",
       "      <td>0</td>\n",
       "      <td>0</td>\n",
       "      <td>0</td>\n",
       "      <td>0</td>\n",
       "    </tr>\n",
       "    <tr>\n",
       "      <th>4</th>\n",
       "      <td>65-74</td>\n",
       "      <td>0</td>\n",
       "      <td>F</td>\n",
       "      <td>755607449</td>\n",
       "      <td>48000+</td>\n",
       "      <td>4</td>\n",
       "      <td>0</td>\n",
       "      <td>0</td>\n",
       "      <td>0</td>\n",
       "      <td>0</td>\n",
       "      <td>...</td>\n",
       "      <td>0</td>\n",
       "      <td>0</td>\n",
       "      <td>0</td>\n",
       "      <td>0</td>\n",
       "      <td>0</td>\n",
       "      <td>0</td>\n",
       "      <td>0</td>\n",
       "      <td>0</td>\n",
       "      <td>0</td>\n",
       "      <td>0</td>\n",
       "    </tr>\n",
       "  </tbody>\n",
       "</table>\n",
       "<p>5 rows × 135 columns</p>\n",
       "</div>"
      ],
      "text/plain": [
       "     age  for_review gender         id       income  count  proc__2  proc__3  \\\n",
       "0  65-74           0      F  306535165  24000-31999      4        0        0   \n",
       "1  65-74           0      F  742231134       48000+      1        0        0   \n",
       "2  75-84           0      M  928807201  24000-31999      2        0        0   \n",
       "3    <65           0      F   83686538  32000-47999      2        1        0   \n",
       "4  65-74           0      F  755607449       48000+      4        0        0   \n",
       "\n",
       "   proc__4  proc__5  ...  proc__121  proc__122  proc__123  proc__124  \\\n",
       "0        0        0  ...          0          0          0          1   \n",
       "1        0        0  ...          0          0          0          0   \n",
       "2        0        0  ...          0          0          0          0   \n",
       "3        0        0  ...          0          0          0          0   \n",
       "4        0        0  ...          0          0          0          0   \n",
       "\n",
       "   proc__125  proc__126  proc__127  proc__128  proc__129  proc__130  \n",
       "0          0          0          0          0          0          0  \n",
       "1          0          0          0          0          0          0  \n",
       "2          0          0          0          0          0          0  \n",
       "3          0          0          0          0          0          0  \n",
       "4          0          0          0          0          0          0  \n",
       "\n",
       "[5 rows x 135 columns]"
      ]
     },
     "execution_count": 334,
     "metadata": {},
     "output_type": "execute_result"
    }
   ],
   "source": [
    "# Merging data in orig form\n",
    "all_data = pd.merge(patient,transac,on=[\"id\"],how='inner')\n",
    "all_data.head()"
   ]
  },
  {
   "cell_type": "code",
   "execution_count": 192,
   "metadata": {},
   "outputs": [
    {
     "name": "stdout",
     "output_type": "stream",
     "text": [
      "<class 'pandas.core.frame.DataFrame'>\n",
      "Int64Index: 505000 entries, 0 to 504999\n",
      "Columns: 135 entries, age to proc__130\n",
      "dtypes: int64(3), object(3), uint8(129)\n",
      "memory usage: 89.1+ MB\n"
     ]
    }
   ],
   "source": [
    "all_data.info()"
   ]
  },
  {
   "cell_type": "code",
   "execution_count": 335,
   "metadata": {},
   "outputs": [],
   "source": [
    "# Creating Label encoder for columns with less cardinality\n",
    "patient[\"gender\"] = patient[\"gender\"].astype('category')\n",
    "patient[\"age\"] = patient[\"age\"].astype('category')\n",
    "patient[\"income\"] = patient[\"income\"].astype('category')\n",
    "\n",
    "patient[\"gender_cd\"] = patient['gender'].cat.codes\n",
    "patient[\"age_cd\"] = patient['age'].cat.codes\n",
    "patient[\"income_cd\"] = patient['income'].cat.codes\n"
   ]
  },
  {
   "cell_type": "code",
   "execution_count": 336,
   "metadata": {},
   "outputs": [
    {
     "name": "stdout",
     "output_type": "stream",
     "text": [
      "<class 'pandas.core.frame.DataFrame'>\n",
      "Int64Index: 505000 entries, 0 to 504999\n",
      "Columns: 138 entries, age to proc__130\n",
      "dtypes: category(3), int64(3), int8(3), uint8(129)\n",
      "memory usage: 80.4 MB\n"
     ]
    }
   ],
   "source": [
    "#Merging df to get analysis dataset\n",
    "analysis_df = pd.merge(patient,transac,on=[\"id\"],how='inner')\n",
    "analysis_df.info()"
   ]
  },
  {
   "cell_type": "code",
   "execution_count": 337,
   "metadata": {},
   "outputs": [
    {
     "name": "stdout",
     "output_type": "stream",
     "text": [
      "<class 'pandas.core.frame.DataFrame'>\n",
      "Int64Index: 505000 entries, 0 to 504999\n",
      "Columns: 134 entries, for_review to proc__130\n",
      "dtypes: int64(2), int8(3), uint8(129)\n",
      "memory usage: 75.1 MB\n"
     ]
    }
   ],
   "source": [
    "#Dropping columns for which we have already created the label codes\n",
    "#Also dropping the id column due to high cardinality\n",
    "id_index = analysis_df.id\n",
    "analysis_df.drop([\"gender\",'age','id','income'],axis = 1,inplace=True)\n",
    "analysis_df.info()"
   ]
  },
  {
   "cell_type": "code",
   "execution_count": 338,
   "metadata": {},
   "outputs": [
    {
     "data": {
      "text/plain": [
       "0    500000\n",
       "1      5000\n",
       "Name: for_review, dtype: int64"
      ]
     },
     "execution_count": 338,
     "metadata": {},
     "output_type": "execute_result"
    }
   ],
   "source": [
    "analysis_df.for_review.value_counts()"
   ]
  },
  {
   "cell_type": "code",
   "execution_count": 401,
   "metadata": {},
   "outputs": [],
   "source": [
    "unreviewed_df = analysis_df[analysis_df.for_review==0].copy()\n",
    "X_unrev = unreviewed_df[unreviewed_df.columns.difference([\"for_review\"])]"
   ]
  },
  {
   "cell_type": "markdown",
   "metadata": {},
   "source": [
    "## Approach :\n",
    "We have 5k rows that tells us the kind of patients that have been previously picked for review.<br>\n",
    "We will:<br>\n",
    "1. Find the probability that a row can be classified as \"for_review =1\". We will use **Classification Algo** for this classification.\n",
    "2. To be able to use a classifier, we need to have sufficient training data. As of now the ratio of for review to no review is 1:100. Hence we will be using oversampling on our training data."
   ]
  },
  {
   "cell_type": "code",
   "execution_count": 341,
   "metadata": {},
   "outputs": [
    {
     "name": "stdout",
     "output_type": "stream",
     "text": [
      "<class 'pandas.core.frame.DataFrame'>\n",
      "Int64Index: 55000 entries, 309232 to 504999\n",
      "Columns: 134 entries, age_cd to proc__99\n",
      "dtypes: int64(2), int8(3), uint8(129)\n",
      "memory usage: 8.2 MB\n"
     ]
    }
   ],
   "source": [
    "#Picking a fraction of unreviewed data\n",
    "sample_subset = unreviewed_df.sample(frac=0.1)\n",
    "#This will reduce the ratio of rev:unrev from 1:100 to 1:10, which is going to be more practical for us\n",
    "reviewed_df = analysis_df[analysis_df.for_review==1].copy()\n",
    "training_data = pd.concat([sample_subset,reviewed_df],axis=0,sort=True)\n",
    "training_data.info()"
   ]
  },
  {
   "cell_type": "code",
   "execution_count": 342,
   "metadata": {},
   "outputs": [],
   "source": [
    "X = training_data[training_data.columns.difference([\"for_review\"])]\n",
    "y = training_data['for_review']\n",
    "train_X, test_X, train_y, test_y = train_test_split( X,y,test_size = 0.2,random_state = 42 )"
   ]
  },
  {
   "cell_type": "code",
   "execution_count": 343,
   "metadata": {},
   "outputs": [],
   "source": [
    "# Oversampling using SMOTE\n",
    "# Found by reading the article: https://imbalanced-learn.readthedocs.io/en/stable/over_sampling.html\n",
    "sm = SMOTE(sampling_strategy=0.5, random_state=42)\n",
    "x_train_resample, y_train_resample = sm.fit_resample(train_X,  train_y)"
   ]
  },
  {
   "cell_type": "code",
   "execution_count": 344,
   "metadata": {},
   "outputs": [
    {
     "data": {
      "text/plain": [
       "0    40013\n",
       "1    20006\n",
       "Name: for_review, dtype: int64"
      ]
     },
     "execution_count": 344,
     "metadata": {},
     "output_type": "execute_result"
    }
   ],
   "source": [
    "y_train_resample.value_counts()"
   ]
  },
  {
   "cell_type": "code",
   "execution_count": 345,
   "metadata": {},
   "outputs": [
    {
     "data": {
      "text/plain": [
       "GaussianNB()"
      ]
     },
     "execution_count": 345,
     "metadata": {},
     "output_type": "execute_result"
    }
   ],
   "source": [
    "nb =  GaussianNB()\n",
    "nb.fit(x_train_resample, y_train_resample)"
   ]
  },
  {
   "cell_type": "code",
   "execution_count": 346,
   "metadata": {},
   "outputs": [],
   "source": [
    "# Making predictions\n",
    "pred_train = nb.predict(x_train_resample)\n",
    "prob_train = nb.predict_proba(x_train_resample)\n",
    "pred_test = nb.predict(test_X)\n"
   ]
  },
  {
   "cell_type": "code",
   "execution_count": 347,
   "metadata": {},
   "outputs": [
    {
     "name": "stdout",
     "output_type": "stream",
     "text": [
      "Accuracy train:  0.9210583315283494\n",
      "Accuracy test:  0.8944545454545455\n"
     ]
    }
   ],
   "source": [
    "print(\"Accuracy train: \", nb.score(x_train_resample, y_train_resample))\n",
    "print(\"Accuracy test: \", nb.score(test_X, test_y))"
   ]
  },
  {
   "cell_type": "markdown",
   "metadata": {},
   "source": [
    "Accuracy result seem promising. Let us give a try to RandomForestClassifier once to see if we can improve on the accuracy."
   ]
  },
  {
   "cell_type": "code",
   "execution_count": 348,
   "metadata": {},
   "outputs": [
    {
     "data": {
      "text/plain": [
       "RandomForestClassifier(n_estimators=50)"
      ]
     },
     "execution_count": 348,
     "metadata": {},
     "output_type": "execute_result"
    }
   ],
   "source": [
    "from sklearn.ensemble import RandomForestClassifier\n",
    "\n",
    "rf = RandomForestClassifier(n_estimators=50 )\n",
    "rf.fit(x_train_resample, y_train_resample)"
   ]
  },
  {
   "cell_type": "code",
   "execution_count": 349,
   "metadata": {},
   "outputs": [
    {
     "name": "stdout",
     "output_type": "stream",
     "text": [
      "Accuracy train:  0.992102500874723\n",
      "Accuracy test:  0.9459090909090909\n"
     ]
    }
   ],
   "source": [
    "print(\"Accuracy train: \", rf.score(x_train_resample, y_train_resample))\n",
    "print(\"Accuracy test: \", rf.score(test_X, test_y))"
   ]
  },
  {
   "cell_type": "markdown",
   "metadata": {},
   "source": [
    "RandomForestClassifier has given better accuracy for both datasets, we will go forward with using RF."
   ]
  },
  {
   "cell_type": "code",
   "execution_count": 350,
   "metadata": {},
   "outputs": [],
   "source": [
    "#Predicting on the full unreviewed dataset using the RF model\n",
    "pred_all = rf.predict(X_unrev)\n",
    "pred_prob = rf.predict_proba(X_unrev)"
   ]
  },
  {
   "cell_type": "code",
   "execution_count": 402,
   "metadata": {},
   "outputs": [],
   "source": [
    "unreviewed_df[\"predicted_review\"] = pred_all\n",
    "unreviewed_df[\"probability_of_review\"] = pred_prob[:,1]"
   ]
  },
  {
   "cell_type": "code",
   "execution_count": 403,
   "metadata": {
    "scrolled": true
   },
   "outputs": [
    {
     "data": {
      "text/html": [
       "<div>\n",
       "<style scoped>\n",
       "    .dataframe tbody tr th:only-of-type {\n",
       "        vertical-align: middle;\n",
       "    }\n",
       "\n",
       "    .dataframe tbody tr th {\n",
       "        vertical-align: top;\n",
       "    }\n",
       "\n",
       "    .dataframe thead th {\n",
       "        text-align: right;\n",
       "    }\n",
       "</style>\n",
       "<table border=\"1\" class=\"dataframe\">\n",
       "  <thead>\n",
       "    <tr style=\"text-align: right;\">\n",
       "      <th></th>\n",
       "      <th>for_review</th>\n",
       "      <th>gender_cd</th>\n",
       "      <th>age_cd</th>\n",
       "      <th>income_cd</th>\n",
       "      <th>count</th>\n",
       "      <th>proc__2</th>\n",
       "      <th>proc__3</th>\n",
       "      <th>proc__4</th>\n",
       "      <th>proc__5</th>\n",
       "      <th>proc__6</th>\n",
       "      <th>...</th>\n",
       "      <th>proc__124</th>\n",
       "      <th>proc__125</th>\n",
       "      <th>proc__126</th>\n",
       "      <th>proc__127</th>\n",
       "      <th>proc__128</th>\n",
       "      <th>proc__129</th>\n",
       "      <th>proc__130</th>\n",
       "      <th>id</th>\n",
       "      <th>predicted_review</th>\n",
       "      <th>probability_of_review</th>\n",
       "    </tr>\n",
       "  </thead>\n",
       "  <tbody>\n",
       "    <tr>\n",
       "      <th>0</th>\n",
       "      <td>0</td>\n",
       "      <td>0</td>\n",
       "      <td>0</td>\n",
       "      <td>1</td>\n",
       "      <td>4</td>\n",
       "      <td>0</td>\n",
       "      <td>0</td>\n",
       "      <td>0</td>\n",
       "      <td>0</td>\n",
       "      <td>0</td>\n",
       "      <td>...</td>\n",
       "      <td>1</td>\n",
       "      <td>0</td>\n",
       "      <td>0</td>\n",
       "      <td>0</td>\n",
       "      <td>0</td>\n",
       "      <td>0</td>\n",
       "      <td>0</td>\n",
       "      <td>306535165</td>\n",
       "      <td>0</td>\n",
       "      <td>0.00</td>\n",
       "    </tr>\n",
       "    <tr>\n",
       "      <th>1</th>\n",
       "      <td>0</td>\n",
       "      <td>0</td>\n",
       "      <td>0</td>\n",
       "      <td>3</td>\n",
       "      <td>1</td>\n",
       "      <td>0</td>\n",
       "      <td>0</td>\n",
       "      <td>0</td>\n",
       "      <td>0</td>\n",
       "      <td>0</td>\n",
       "      <td>...</td>\n",
       "      <td>0</td>\n",
       "      <td>0</td>\n",
       "      <td>0</td>\n",
       "      <td>0</td>\n",
       "      <td>0</td>\n",
       "      <td>0</td>\n",
       "      <td>0</td>\n",
       "      <td>742231134</td>\n",
       "      <td>0</td>\n",
       "      <td>0.00</td>\n",
       "    </tr>\n",
       "    <tr>\n",
       "      <th>2</th>\n",
       "      <td>0</td>\n",
       "      <td>1</td>\n",
       "      <td>1</td>\n",
       "      <td>1</td>\n",
       "      <td>2</td>\n",
       "      <td>0</td>\n",
       "      <td>0</td>\n",
       "      <td>0</td>\n",
       "      <td>0</td>\n",
       "      <td>0</td>\n",
       "      <td>...</td>\n",
       "      <td>0</td>\n",
       "      <td>0</td>\n",
       "      <td>0</td>\n",
       "      <td>0</td>\n",
       "      <td>0</td>\n",
       "      <td>0</td>\n",
       "      <td>0</td>\n",
       "      <td>928807201</td>\n",
       "      <td>0</td>\n",
       "      <td>0.30</td>\n",
       "    </tr>\n",
       "    <tr>\n",
       "      <th>3</th>\n",
       "      <td>0</td>\n",
       "      <td>0</td>\n",
       "      <td>3</td>\n",
       "      <td>2</td>\n",
       "      <td>2</td>\n",
       "      <td>1</td>\n",
       "      <td>0</td>\n",
       "      <td>0</td>\n",
       "      <td>0</td>\n",
       "      <td>0</td>\n",
       "      <td>...</td>\n",
       "      <td>0</td>\n",
       "      <td>0</td>\n",
       "      <td>0</td>\n",
       "      <td>0</td>\n",
       "      <td>0</td>\n",
       "      <td>0</td>\n",
       "      <td>0</td>\n",
       "      <td>83686538</td>\n",
       "      <td>0</td>\n",
       "      <td>0.08</td>\n",
       "    </tr>\n",
       "    <tr>\n",
       "      <th>4</th>\n",
       "      <td>0</td>\n",
       "      <td>0</td>\n",
       "      <td>0</td>\n",
       "      <td>3</td>\n",
       "      <td>4</td>\n",
       "      <td>0</td>\n",
       "      <td>0</td>\n",
       "      <td>0</td>\n",
       "      <td>0</td>\n",
       "      <td>0</td>\n",
       "      <td>...</td>\n",
       "      <td>0</td>\n",
       "      <td>0</td>\n",
       "      <td>0</td>\n",
       "      <td>0</td>\n",
       "      <td>0</td>\n",
       "      <td>0</td>\n",
       "      <td>0</td>\n",
       "      <td>755607449</td>\n",
       "      <td>0</td>\n",
       "      <td>0.00</td>\n",
       "    </tr>\n",
       "  </tbody>\n",
       "</table>\n",
       "<p>5 rows × 137 columns</p>\n",
       "</div>"
      ],
      "text/plain": [
       "   for_review  gender_cd  age_cd  income_cd  count  proc__2  proc__3  proc__4  \\\n",
       "0           0          0       0          1      4        0        0        0   \n",
       "1           0          0       0          3      1        0        0        0   \n",
       "2           0          1       1          1      2        0        0        0   \n",
       "3           0          0       3          2      2        1        0        0   \n",
       "4           0          0       0          3      4        0        0        0   \n",
       "\n",
       "   proc__5  proc__6  ...  proc__124  proc__125  proc__126  proc__127  \\\n",
       "0        0        0  ...          1          0          0          0   \n",
       "1        0        0  ...          0          0          0          0   \n",
       "2        0        0  ...          0          0          0          0   \n",
       "3        0        0  ...          0          0          0          0   \n",
       "4        0        0  ...          0          0          0          0   \n",
       "\n",
       "   proc__128  proc__129  proc__130         id  predicted_review  \\\n",
       "0          0          0          0  306535165                 0   \n",
       "1          0          0          0  742231134                 0   \n",
       "2          0          0          0  928807201                 0   \n",
       "3          0          0          0   83686538                 0   \n",
       "4          0          0          0  755607449                 0   \n",
       "\n",
       "   probability_of_review  \n",
       "0                   0.00  \n",
       "1                   0.00  \n",
       "2                   0.30  \n",
       "3                   0.08  \n",
       "4                   0.00  \n",
       "\n",
       "[5 rows x 137 columns]"
      ]
     },
     "execution_count": 403,
     "metadata": {},
     "output_type": "execute_result"
    }
   ],
   "source": [
    "unreviewed_df.head()"
   ]
  },
  {
   "cell_type": "code",
   "execution_count": 404,
   "metadata": {},
   "outputs": [
    {
     "data": {
      "text/plain": [
       "0    480469\n",
       "1     19531\n",
       "Name: predicted_review, dtype: int64"
      ]
     },
     "execution_count": 404,
     "metadata": {},
     "output_type": "execute_result"
    }
   ],
   "source": [
    "# Patients with probability of review = 1 is greater than 0.5, we will consider as anomolous\n",
    "unreviewed_df.predicted_review.value_counts()"
   ]
  },
  {
   "cell_type": "code",
   "execution_count": 405,
   "metadata": {
    "scrolled": true
   },
   "outputs": [
    {
     "data": {
      "text/html": [
       "<div>\n",
       "<style scoped>\n",
       "    .dataframe tbody tr th:only-of-type {\n",
       "        vertical-align: middle;\n",
       "    }\n",
       "\n",
       "    .dataframe tbody tr th {\n",
       "        vertical-align: top;\n",
       "    }\n",
       "\n",
       "    .dataframe thead th {\n",
       "        text-align: right;\n",
       "    }\n",
       "</style>\n",
       "<table border=\"1\" class=\"dataframe\">\n",
       "  <thead>\n",
       "    <tr style=\"text-align: right;\">\n",
       "      <th></th>\n",
       "      <th>for_review</th>\n",
       "      <th>gender_cd</th>\n",
       "      <th>age_cd</th>\n",
       "      <th>income_cd</th>\n",
       "      <th>count</th>\n",
       "      <th>proc__2</th>\n",
       "      <th>proc__3</th>\n",
       "      <th>proc__4</th>\n",
       "      <th>proc__5</th>\n",
       "      <th>proc__6</th>\n",
       "      <th>...</th>\n",
       "      <th>proc__124</th>\n",
       "      <th>proc__125</th>\n",
       "      <th>proc__126</th>\n",
       "      <th>proc__127</th>\n",
       "      <th>proc__128</th>\n",
       "      <th>proc__129</th>\n",
       "      <th>proc__130</th>\n",
       "      <th>id</th>\n",
       "      <th>predicted_review</th>\n",
       "      <th>probability_of_review</th>\n",
       "    </tr>\n",
       "  </thead>\n",
       "  <tbody>\n",
       "    <tr>\n",
       "      <th>0</th>\n",
       "      <td>0</td>\n",
       "      <td>0</td>\n",
       "      <td>0</td>\n",
       "      <td>1</td>\n",
       "      <td>4</td>\n",
       "      <td>0</td>\n",
       "      <td>0</td>\n",
       "      <td>0</td>\n",
       "      <td>0</td>\n",
       "      <td>0</td>\n",
       "      <td>...</td>\n",
       "      <td>1</td>\n",
       "      <td>0</td>\n",
       "      <td>0</td>\n",
       "      <td>0</td>\n",
       "      <td>0</td>\n",
       "      <td>0</td>\n",
       "      <td>0</td>\n",
       "      <td>306535165</td>\n",
       "      <td>0</td>\n",
       "      <td>0.00</td>\n",
       "    </tr>\n",
       "    <tr>\n",
       "      <th>1</th>\n",
       "      <td>0</td>\n",
       "      <td>0</td>\n",
       "      <td>0</td>\n",
       "      <td>3</td>\n",
       "      <td>1</td>\n",
       "      <td>0</td>\n",
       "      <td>0</td>\n",
       "      <td>0</td>\n",
       "      <td>0</td>\n",
       "      <td>0</td>\n",
       "      <td>...</td>\n",
       "      <td>0</td>\n",
       "      <td>0</td>\n",
       "      <td>0</td>\n",
       "      <td>0</td>\n",
       "      <td>0</td>\n",
       "      <td>0</td>\n",
       "      <td>0</td>\n",
       "      <td>742231134</td>\n",
       "      <td>0</td>\n",
       "      <td>0.00</td>\n",
       "    </tr>\n",
       "    <tr>\n",
       "      <th>2</th>\n",
       "      <td>0</td>\n",
       "      <td>1</td>\n",
       "      <td>1</td>\n",
       "      <td>1</td>\n",
       "      <td>2</td>\n",
       "      <td>0</td>\n",
       "      <td>0</td>\n",
       "      <td>0</td>\n",
       "      <td>0</td>\n",
       "      <td>0</td>\n",
       "      <td>...</td>\n",
       "      <td>0</td>\n",
       "      <td>0</td>\n",
       "      <td>0</td>\n",
       "      <td>0</td>\n",
       "      <td>0</td>\n",
       "      <td>0</td>\n",
       "      <td>0</td>\n",
       "      <td>928807201</td>\n",
       "      <td>0</td>\n",
       "      <td>0.30</td>\n",
       "    </tr>\n",
       "    <tr>\n",
       "      <th>3</th>\n",
       "      <td>0</td>\n",
       "      <td>0</td>\n",
       "      <td>3</td>\n",
       "      <td>2</td>\n",
       "      <td>2</td>\n",
       "      <td>1</td>\n",
       "      <td>0</td>\n",
       "      <td>0</td>\n",
       "      <td>0</td>\n",
       "      <td>0</td>\n",
       "      <td>...</td>\n",
       "      <td>0</td>\n",
       "      <td>0</td>\n",
       "      <td>0</td>\n",
       "      <td>0</td>\n",
       "      <td>0</td>\n",
       "      <td>0</td>\n",
       "      <td>0</td>\n",
       "      <td>83686538</td>\n",
       "      <td>0</td>\n",
       "      <td>0.08</td>\n",
       "    </tr>\n",
       "    <tr>\n",
       "      <th>4</th>\n",
       "      <td>0</td>\n",
       "      <td>0</td>\n",
       "      <td>0</td>\n",
       "      <td>3</td>\n",
       "      <td>4</td>\n",
       "      <td>0</td>\n",
       "      <td>0</td>\n",
       "      <td>0</td>\n",
       "      <td>0</td>\n",
       "      <td>0</td>\n",
       "      <td>...</td>\n",
       "      <td>0</td>\n",
       "      <td>0</td>\n",
       "      <td>0</td>\n",
       "      <td>0</td>\n",
       "      <td>0</td>\n",
       "      <td>0</td>\n",
       "      <td>0</td>\n",
       "      <td>755607449</td>\n",
       "      <td>0</td>\n",
       "      <td>0.00</td>\n",
       "    </tr>\n",
       "  </tbody>\n",
       "</table>\n",
       "<p>5 rows × 137 columns</p>\n",
       "</div>"
      ],
      "text/plain": [
       "   for_review  gender_cd  age_cd  income_cd  count  proc__2  proc__3  proc__4  \\\n",
       "0           0          0       0          1      4        0        0        0   \n",
       "1           0          0       0          3      1        0        0        0   \n",
       "2           0          1       1          1      2        0        0        0   \n",
       "3           0          0       3          2      2        1        0        0   \n",
       "4           0          0       0          3      4        0        0        0   \n",
       "\n",
       "   proc__5  proc__6  ...  proc__124  proc__125  proc__126  proc__127  \\\n",
       "0        0        0  ...          1          0          0          0   \n",
       "1        0        0  ...          0          0          0          0   \n",
       "2        0        0  ...          0          0          0          0   \n",
       "3        0        0  ...          0          0          0          0   \n",
       "4        0        0  ...          0          0          0          0   \n",
       "\n",
       "   proc__128  proc__129  proc__130         id  predicted_review  \\\n",
       "0          0          0          0  306535165                 0   \n",
       "1          0          0          0  742231134                 0   \n",
       "2          0          0          0  928807201                 0   \n",
       "3          0          0          0   83686538                 0   \n",
       "4          0          0          0  755607449                 0   \n",
       "\n",
       "   probability_of_review  \n",
       "0                   0.00  \n",
       "1                   0.00  \n",
       "2                   0.30  \n",
       "3                   0.08  \n",
       "4                   0.00  \n",
       "\n",
       "[5 rows x 137 columns]"
      ]
     },
     "execution_count": 405,
     "metadata": {},
     "output_type": "execute_result"
    }
   ],
   "source": [
    "unreviewed_df[\"id\"] = all_data[all_data.for_review==0][\"id\"]\n",
    "unreviewed_df.head()"
   ]
  },
  {
   "cell_type": "code",
   "execution_count": 355,
   "metadata": {},
   "outputs": [
    {
     "data": {
      "text/html": [
       "<div>\n",
       "<style scoped>\n",
       "    .dataframe tbody tr th:only-of-type {\n",
       "        vertical-align: middle;\n",
       "    }\n",
       "\n",
       "    .dataframe tbody tr th {\n",
       "        vertical-align: top;\n",
       "    }\n",
       "\n",
       "    .dataframe thead th {\n",
       "        text-align: right;\n",
       "    }\n",
       "</style>\n",
       "<table border=\"1\" class=\"dataframe\">\n",
       "  <thead>\n",
       "    <tr style=\"text-align: right;\">\n",
       "      <th></th>\n",
       "      <th>age</th>\n",
       "      <th>for_review</th>\n",
       "      <th>gender</th>\n",
       "      <th>id</th>\n",
       "      <th>income</th>\n",
       "      <th>count</th>\n",
       "      <th>proc__2</th>\n",
       "      <th>proc__3</th>\n",
       "      <th>proc__4</th>\n",
       "      <th>proc__5</th>\n",
       "      <th>...</th>\n",
       "      <th>proc__121</th>\n",
       "      <th>proc__122</th>\n",
       "      <th>proc__123</th>\n",
       "      <th>proc__124</th>\n",
       "      <th>proc__125</th>\n",
       "      <th>proc__126</th>\n",
       "      <th>proc__127</th>\n",
       "      <th>proc__128</th>\n",
       "      <th>proc__129</th>\n",
       "      <th>proc__130</th>\n",
       "    </tr>\n",
       "  </thead>\n",
       "  <tbody>\n",
       "    <tr>\n",
       "      <th>0</th>\n",
       "      <td>65-74</td>\n",
       "      <td>0</td>\n",
       "      <td>F</td>\n",
       "      <td>306535165</td>\n",
       "      <td>24000-31999</td>\n",
       "      <td>4</td>\n",
       "      <td>0</td>\n",
       "      <td>0</td>\n",
       "      <td>0</td>\n",
       "      <td>0</td>\n",
       "      <td>...</td>\n",
       "      <td>0</td>\n",
       "      <td>0</td>\n",
       "      <td>0</td>\n",
       "      <td>1</td>\n",
       "      <td>0</td>\n",
       "      <td>0</td>\n",
       "      <td>0</td>\n",
       "      <td>0</td>\n",
       "      <td>0</td>\n",
       "      <td>0</td>\n",
       "    </tr>\n",
       "    <tr>\n",
       "      <th>1</th>\n",
       "      <td>65-74</td>\n",
       "      <td>0</td>\n",
       "      <td>F</td>\n",
       "      <td>742231134</td>\n",
       "      <td>48000+</td>\n",
       "      <td>1</td>\n",
       "      <td>0</td>\n",
       "      <td>0</td>\n",
       "      <td>0</td>\n",
       "      <td>0</td>\n",
       "      <td>...</td>\n",
       "      <td>0</td>\n",
       "      <td>0</td>\n",
       "      <td>0</td>\n",
       "      <td>0</td>\n",
       "      <td>0</td>\n",
       "      <td>0</td>\n",
       "      <td>0</td>\n",
       "      <td>0</td>\n",
       "      <td>0</td>\n",
       "      <td>0</td>\n",
       "    </tr>\n",
       "    <tr>\n",
       "      <th>2</th>\n",
       "      <td>75-84</td>\n",
       "      <td>0</td>\n",
       "      <td>M</td>\n",
       "      <td>928807201</td>\n",
       "      <td>24000-31999</td>\n",
       "      <td>2</td>\n",
       "      <td>0</td>\n",
       "      <td>0</td>\n",
       "      <td>0</td>\n",
       "      <td>0</td>\n",
       "      <td>...</td>\n",
       "      <td>0</td>\n",
       "      <td>0</td>\n",
       "      <td>0</td>\n",
       "      <td>0</td>\n",
       "      <td>0</td>\n",
       "      <td>0</td>\n",
       "      <td>0</td>\n",
       "      <td>0</td>\n",
       "      <td>0</td>\n",
       "      <td>0</td>\n",
       "    </tr>\n",
       "    <tr>\n",
       "      <th>3</th>\n",
       "      <td>&lt;65</td>\n",
       "      <td>0</td>\n",
       "      <td>F</td>\n",
       "      <td>83686538</td>\n",
       "      <td>32000-47999</td>\n",
       "      <td>2</td>\n",
       "      <td>1</td>\n",
       "      <td>0</td>\n",
       "      <td>0</td>\n",
       "      <td>0</td>\n",
       "      <td>...</td>\n",
       "      <td>0</td>\n",
       "      <td>0</td>\n",
       "      <td>0</td>\n",
       "      <td>0</td>\n",
       "      <td>0</td>\n",
       "      <td>0</td>\n",
       "      <td>0</td>\n",
       "      <td>0</td>\n",
       "      <td>0</td>\n",
       "      <td>0</td>\n",
       "    </tr>\n",
       "    <tr>\n",
       "      <th>4</th>\n",
       "      <td>65-74</td>\n",
       "      <td>0</td>\n",
       "      <td>F</td>\n",
       "      <td>755607449</td>\n",
       "      <td>48000+</td>\n",
       "      <td>4</td>\n",
       "      <td>0</td>\n",
       "      <td>0</td>\n",
       "      <td>0</td>\n",
       "      <td>0</td>\n",
       "      <td>...</td>\n",
       "      <td>0</td>\n",
       "      <td>0</td>\n",
       "      <td>0</td>\n",
       "      <td>0</td>\n",
       "      <td>0</td>\n",
       "      <td>0</td>\n",
       "      <td>0</td>\n",
       "      <td>0</td>\n",
       "      <td>0</td>\n",
       "      <td>0</td>\n",
       "    </tr>\n",
       "  </tbody>\n",
       "</table>\n",
       "<p>5 rows × 135 columns</p>\n",
       "</div>"
      ],
      "text/plain": [
       "     age  for_review gender         id       income  count  proc__2  proc__3  \\\n",
       "0  65-74           0      F  306535165  24000-31999      4        0        0   \n",
       "1  65-74           0      F  742231134       48000+      1        0        0   \n",
       "2  75-84           0      M  928807201  24000-31999      2        0        0   \n",
       "3    <65           0      F   83686538  32000-47999      2        1        0   \n",
       "4  65-74           0      F  755607449       48000+      4        0        0   \n",
       "\n",
       "   proc__4  proc__5  ...  proc__121  proc__122  proc__123  proc__124  \\\n",
       "0        0        0  ...          0          0          0          1   \n",
       "1        0        0  ...          0          0          0          0   \n",
       "2        0        0  ...          0          0          0          0   \n",
       "3        0        0  ...          0          0          0          0   \n",
       "4        0        0  ...          0          0          0          0   \n",
       "\n",
       "   proc__125  proc__126  proc__127  proc__128  proc__129  proc__130  \n",
       "0          0          0          0          0          0          0  \n",
       "1          0          0          0          0          0          0  \n",
       "2          0          0          0          0          0          0  \n",
       "3          0          0          0          0          0          0  \n",
       "4          0          0          0          0          0          0  \n",
       "\n",
       "[5 rows x 135 columns]"
      ]
     },
     "execution_count": 355,
     "metadata": {},
     "output_type": "execute_result"
    }
   ],
   "source": [
    "all_data[all_data.for_review==0].head()"
   ]
  },
  {
   "cell_type": "code",
   "execution_count": 356,
   "metadata": {},
   "outputs": [],
   "source": [
    "#List of patients marked for review using RandomForestClassification\n",
    "unreviewed_df[unreviewed_df.predicted_review==1].to_excel(\"analysis_result/anomolous_patients_RFClassifier.xlsx\")"
   ]
  },
  {
   "cell_type": "code",
   "execution_count": 364,
   "metadata": {},
   "outputs": [
    {
     "name": "stdout",
     "output_type": "stream",
     "text": [
      "<class 'pandas.core.frame.DataFrame'>\n",
      "Int64Index: 19531 entries, 62 to 499995\n",
      "Columns: 137 entries, for_review to id\n",
      "dtypes: float64(1), int64(4), int8(3), uint8(129)\n",
      "memory usage: 3.4 MB\n"
     ]
    }
   ],
   "source": [
    "to_check_df = unreviewed_df[unreviewed_df.predicted_review==1]\n",
    "to_check_df.info()"
   ]
  },
  {
   "cell_type": "markdown",
   "metadata": {},
   "source": [
    "Thus we have identified **19,531** users who might be engaging in anomolous activities. \n",
    "\n",
    "## Refining Approach :\n",
    "Further utilizing **clustering analysis** to see if we can refine our findings.<br>\n",
    "We will use the newly marked records for review and the already existing review dataset to further check if we get any more patients to cluster in their vicinity.\n",
    "\n",
    "### Feature Selection\n",
    "We have 136 features, and clustering will work better with smaller feature set. We will go ahead with some feature selection process."
   ]
  },
  {
   "cell_type": "code",
   "execution_count": 357,
   "metadata": {},
   "outputs": [
    {
     "data": {
      "text/plain": [
       "RFE(estimator=RandomForestClassifier(), n_features_to_select=20)"
      ]
     },
     "execution_count": 357,
     "metadata": {},
     "output_type": "execute_result"
    }
   ],
   "source": [
    "classifier = RandomForestClassifier()\n",
    "rfe = RFE(classifier, n_features_to_select=20)\n",
    "rfe.fit(x_train_resample, y_train_resample)"
   ]
  },
  {
   "cell_type": "code",
   "execution_count": 358,
   "metadata": {
    "scrolled": true
   },
   "outputs": [
    {
     "name": "stdout",
     "output_type": "stream",
     "text": [
      "['age_cd', 'count', 'income_cd', 'proc__11', 'proc__124', 'proc__13', 'proc__14', 'proc__17', 'proc__19', 'proc__2', 'proc__20', 'proc__22', 'proc__25', 'proc__26', 'proc__27', 'proc__28', 'proc__3', 'proc__34', 'proc__8', 'proc__99']\n"
     ]
    }
   ],
   "source": [
    "imp_vars_RFE = list(x_train_resample.columns[rfe.support_])\n",
    "print(imp_vars_RFE)"
   ]
  },
  {
   "cell_type": "code",
   "execution_count": 359,
   "metadata": {},
   "outputs": [
    {
     "data": {
      "text/plain": [
       "0.951598660424199"
      ]
     },
     "execution_count": 359,
     "metadata": {},
     "output_type": "execute_result"
    }
   ],
   "source": [
    "rfe.score(x_train_resample,y_train_resample)"
   ]
  },
  {
   "cell_type": "code",
   "execution_count": 360,
   "metadata": {},
   "outputs": [],
   "source": [
    "SKB = SelectKBest(f_classif, k=20).fit(x_train_resample, y_train_resample )"
   ]
  },
  {
   "cell_type": "code",
   "execution_count": 361,
   "metadata": {},
   "outputs": [
    {
     "name": "stdout",
     "output_type": "stream",
     "text": [
      "['proc__11', 'proc__122', 'proc__123', 'proc__124', 'proc__13', 'proc__17', 'proc__19', 'proc__2', 'proc__20', 'proc__22', 'proc__25', 'proc__26', 'proc__27', 'proc__28', 'proc__3', 'proc__34', 'proc__58', 'proc__83', 'proc__97', 'proc__99']\n"
     ]
    }
   ],
   "source": [
    "imp_vars_SKB = list(x_train_resample.columns[SKB.get_support()])\n",
    "print(imp_vars_SKB)"
   ]
  },
  {
   "cell_type": "code",
   "execution_count": 430,
   "metadata": {
    "scrolled": true
   },
   "outputs": [
    {
     "data": {
      "text/plain": [
       "['proc__19',\n",
       " 'proc__28',\n",
       " 'proc__27',\n",
       " 'proc__34',\n",
       " 'proc__97',\n",
       " 'proc__17',\n",
       " 'proc__8',\n",
       " 'income_cd',\n",
       " 'proc__20',\n",
       " 'proc__83',\n",
       " 'proc__122',\n",
       " 'age_cd',\n",
       " 'proc__58',\n",
       " 'proc__3',\n",
       " 'count',\n",
       " 'proc__26',\n",
       " 'proc__14',\n",
       " 'proc__124',\n",
       " 'proc__99',\n",
       " 'proc__11',\n",
       " 'proc__25',\n",
       " 'proc__2',\n",
       " 'proc__123',\n",
       " 'proc__13',\n",
       " 'proc__22',\n",
       " 'gender_cd']"
      ]
     },
     "execution_count": 430,
     "metadata": {},
     "output_type": "execute_result"
    }
   ],
   "source": [
    "feature_list = list(set(imp_vars_SKB + imp_vars_RFE))\n",
    "# We will also include gender code in our feature list\n",
    "feature_list.extend(['gender_cd'])\n",
    "feature_list"
   ]
  },
  {
   "cell_type": "markdown",
   "metadata": {},
   "source": [
    "Preparing the dataset that will be used for clustering. <br>\n",
    "We need to refine our already existing result of patients that have been clasified using RandomForestClassifier.<br>\n"
   ]
  },
  {
   "cell_type": "code",
   "execution_count": 418,
   "metadata": {},
   "outputs": [
    {
     "data": {
      "text/plain": [
       "(0, 136)"
      ]
     },
     "execution_count": 418,
     "metadata": {},
     "output_type": "execute_result"
    }
   ],
   "source": [
    "unreviewed_df[unreviewed_df.for_review==1].shape"
   ]
  },
  {
   "cell_type": "code",
   "execution_count": 419,
   "metadata": {},
   "outputs": [],
   "source": [
    "analysis_df[\"id\"] = id_index\n",
    "unreviewed_df.drop([\"probability_of_review\"],axis=1,inplace=True)\n",
    "analysis_df[\"predicted_review\"]=\"\"\n",
    "\n",
    "clustering_df = pd.concat([unreviewed_df[unreviewed_df.predicted_review==1],analysis_df[analysis_df.for_review==1]],axis =0,sort=True)"
   ]
  },
  {
   "cell_type": "code",
   "execution_count": 420,
   "metadata": {
    "scrolled": true
   },
   "outputs": [
    {
     "data": {
      "text/html": [
       "<div>\n",
       "<style scoped>\n",
       "    .dataframe tbody tr th:only-of-type {\n",
       "        vertical-align: middle;\n",
       "    }\n",
       "\n",
       "    .dataframe tbody tr th {\n",
       "        vertical-align: top;\n",
       "    }\n",
       "\n",
       "    .dataframe thead th {\n",
       "        text-align: right;\n",
       "    }\n",
       "</style>\n",
       "<table border=\"1\" class=\"dataframe\">\n",
       "  <thead>\n",
       "    <tr style=\"text-align: right;\">\n",
       "      <th></th>\n",
       "      <th>age_cd</th>\n",
       "      <th>count</th>\n",
       "      <th>for_review</th>\n",
       "      <th>gender_cd</th>\n",
       "      <th>id</th>\n",
       "      <th>income_cd</th>\n",
       "      <th>predicted_review</th>\n",
       "      <th>proc__10</th>\n",
       "      <th>proc__100</th>\n",
       "      <th>proc__101</th>\n",
       "      <th>...</th>\n",
       "      <th>proc__90</th>\n",
       "      <th>proc__91</th>\n",
       "      <th>proc__92</th>\n",
       "      <th>proc__93</th>\n",
       "      <th>proc__94</th>\n",
       "      <th>proc__95</th>\n",
       "      <th>proc__96</th>\n",
       "      <th>proc__97</th>\n",
       "      <th>proc__98</th>\n",
       "      <th>proc__99</th>\n",
       "    </tr>\n",
       "  </thead>\n",
       "  <tbody>\n",
       "    <tr>\n",
       "      <th>62</th>\n",
       "      <td>3</td>\n",
       "      <td>2</td>\n",
       "      <td>0</td>\n",
       "      <td>0</td>\n",
       "      <td>814793308</td>\n",
       "      <td>1</td>\n",
       "      <td>1</td>\n",
       "      <td>0</td>\n",
       "      <td>0</td>\n",
       "      <td>0</td>\n",
       "      <td>...</td>\n",
       "      <td>0</td>\n",
       "      <td>0</td>\n",
       "      <td>0</td>\n",
       "      <td>0</td>\n",
       "      <td>0</td>\n",
       "      <td>0</td>\n",
       "      <td>0</td>\n",
       "      <td>0</td>\n",
       "      <td>0</td>\n",
       "      <td>1</td>\n",
       "    </tr>\n",
       "    <tr>\n",
       "      <th>71</th>\n",
       "      <td>0</td>\n",
       "      <td>4</td>\n",
       "      <td>0</td>\n",
       "      <td>0</td>\n",
       "      <td>244992959</td>\n",
       "      <td>0</td>\n",
       "      <td>1</td>\n",
       "      <td>0</td>\n",
       "      <td>0</td>\n",
       "      <td>0</td>\n",
       "      <td>...</td>\n",
       "      <td>0</td>\n",
       "      <td>0</td>\n",
       "      <td>0</td>\n",
       "      <td>0</td>\n",
       "      <td>0</td>\n",
       "      <td>0</td>\n",
       "      <td>0</td>\n",
       "      <td>0</td>\n",
       "      <td>0</td>\n",
       "      <td>0</td>\n",
       "    </tr>\n",
       "    <tr>\n",
       "      <th>74</th>\n",
       "      <td>1</td>\n",
       "      <td>4</td>\n",
       "      <td>0</td>\n",
       "      <td>1</td>\n",
       "      <td>979844072</td>\n",
       "      <td>2</td>\n",
       "      <td>1</td>\n",
       "      <td>0</td>\n",
       "      <td>0</td>\n",
       "      <td>0</td>\n",
       "      <td>...</td>\n",
       "      <td>0</td>\n",
       "      <td>0</td>\n",
       "      <td>0</td>\n",
       "      <td>0</td>\n",
       "      <td>0</td>\n",
       "      <td>0</td>\n",
       "      <td>0</td>\n",
       "      <td>0</td>\n",
       "      <td>0</td>\n",
       "      <td>0</td>\n",
       "    </tr>\n",
       "    <tr>\n",
       "      <th>105</th>\n",
       "      <td>3</td>\n",
       "      <td>3</td>\n",
       "      <td>0</td>\n",
       "      <td>1</td>\n",
       "      <td>489459076</td>\n",
       "      <td>3</td>\n",
       "      <td>1</td>\n",
       "      <td>0</td>\n",
       "      <td>0</td>\n",
       "      <td>0</td>\n",
       "      <td>...</td>\n",
       "      <td>0</td>\n",
       "      <td>0</td>\n",
       "      <td>1</td>\n",
       "      <td>0</td>\n",
       "      <td>0</td>\n",
       "      <td>0</td>\n",
       "      <td>1</td>\n",
       "      <td>0</td>\n",
       "      <td>0</td>\n",
       "      <td>0</td>\n",
       "    </tr>\n",
       "    <tr>\n",
       "      <th>153</th>\n",
       "      <td>3</td>\n",
       "      <td>3</td>\n",
       "      <td>0</td>\n",
       "      <td>0</td>\n",
       "      <td>185607611</td>\n",
       "      <td>2</td>\n",
       "      <td>1</td>\n",
       "      <td>0</td>\n",
       "      <td>0</td>\n",
       "      <td>0</td>\n",
       "      <td>...</td>\n",
       "      <td>0</td>\n",
       "      <td>0</td>\n",
       "      <td>0</td>\n",
       "      <td>0</td>\n",
       "      <td>0</td>\n",
       "      <td>0</td>\n",
       "      <td>0</td>\n",
       "      <td>0</td>\n",
       "      <td>0</td>\n",
       "      <td>0</td>\n",
       "    </tr>\n",
       "  </tbody>\n",
       "</table>\n",
       "<p>5 rows × 136 columns</p>\n",
       "</div>"
      ],
      "text/plain": [
       "     age_cd  count  for_review  gender_cd         id  income_cd  \\\n",
       "62        3      2           0          0  814793308          1   \n",
       "71        0      4           0          0  244992959          0   \n",
       "74        1      4           0          1  979844072          2   \n",
       "105       3      3           0          1  489459076          3   \n",
       "153       3      3           0          0  185607611          2   \n",
       "\n",
       "    predicted_review  proc__10  proc__100  proc__101  ...  proc__90  proc__91  \\\n",
       "62                 1         0          0          0  ...         0         0   \n",
       "71                 1         0          0          0  ...         0         0   \n",
       "74                 1         0          0          0  ...         0         0   \n",
       "105                1         0          0          0  ...         0         0   \n",
       "153                1         0          0          0  ...         0         0   \n",
       "\n",
       "     proc__92  proc__93  proc__94  proc__95  proc__96  proc__97  proc__98  \\\n",
       "62          0         0         0         0         0         0         0   \n",
       "71          0         0         0         0         0         0         0   \n",
       "74          0         0         0         0         0         0         0   \n",
       "105         1         0         0         0         1         0         0   \n",
       "153         0         0         0         0         0         0         0   \n",
       "\n",
       "     proc__99  \n",
       "62          1  \n",
       "71          0  \n",
       "74          0  \n",
       "105         0  \n",
       "153         0  \n",
       "\n",
       "[5 rows x 136 columns]"
      ]
     },
     "execution_count": 420,
     "metadata": {},
     "output_type": "execute_result"
    }
   ],
   "source": [
    "clustering_df.head()"
   ]
  },
  {
   "cell_type": "code",
   "execution_count": 421,
   "metadata": {},
   "outputs": [
    {
     "name": "stdout",
     "output_type": "stream",
     "text": [
      "<class 'pandas.core.frame.DataFrame'>\n",
      "Int64Index: 24531 entries, 62 to 504999\n",
      "Columns: 136 entries, age_cd to proc__99\n",
      "dtypes: int64(3), int8(3), object(1), uint8(129)\n",
      "memory usage: 4.0+ MB\n"
     ]
    }
   ],
   "source": [
    "clustering_df.info()"
   ]
  },
  {
   "cell_type": "code",
   "execution_count": 369,
   "metadata": {},
   "outputs": [
    {
     "name": "stdout",
     "output_type": "stream",
     "text": [
      "<class 'pandas.core.frame.DataFrame'>\n",
      "Int64Index: 24531 entries, 62 to 504999\n",
      "Data columns (total 26 columns):\n",
      "proc__19     24531 non-null uint8\n",
      "proc__28     24531 non-null uint8\n",
      "proc__27     24531 non-null uint8\n",
      "proc__34     24531 non-null uint8\n",
      "proc__97     24531 non-null uint8\n",
      "proc__17     24531 non-null uint8\n",
      "proc__8      24531 non-null uint8\n",
      "income_cd    24531 non-null int8\n",
      "proc__20     24531 non-null uint8\n",
      "proc__83     24531 non-null uint8\n",
      "proc__122    24531 non-null uint8\n",
      "age_cd       24531 non-null int8\n",
      "proc__58     24531 non-null uint8\n",
      "proc__3      24531 non-null uint8\n",
      "count        24531 non-null int64\n",
      "proc__26     24531 non-null uint8\n",
      "proc__14     24531 non-null uint8\n",
      "proc__124    24531 non-null uint8\n",
      "proc__99     24531 non-null uint8\n",
      "proc__11     24531 non-null uint8\n",
      "proc__25     24531 non-null uint8\n",
      "proc__2      24531 non-null uint8\n",
      "proc__123    24531 non-null uint8\n",
      "proc__13     24531 non-null uint8\n",
      "proc__22     24531 non-null uint8\n",
      "gender_cd    24531 non-null int8\n",
      "dtypes: int64(1), int8(3), uint8(22)\n",
      "memory usage: 982.2 KB\n"
     ]
    }
   ],
   "source": [
    "# Standardizing the dataset with selected feautures\n",
    "cluster_df = clustering_df[feature_list].copy()\n",
    "cluster_df.info()"
   ]
  },
  {
   "cell_type": "code",
   "execution_count": 370,
   "metadata": {},
   "outputs": [
    {
     "data": {
      "text/html": [
       "<div>\n",
       "<style scoped>\n",
       "    .dataframe tbody tr th:only-of-type {\n",
       "        vertical-align: middle;\n",
       "    }\n",
       "\n",
       "    .dataframe tbody tr th {\n",
       "        vertical-align: top;\n",
       "    }\n",
       "\n",
       "    .dataframe thead th {\n",
       "        text-align: right;\n",
       "    }\n",
       "</style>\n",
       "<table border=\"1\" class=\"dataframe\">\n",
       "  <thead>\n",
       "    <tr style=\"text-align: right;\">\n",
       "      <th></th>\n",
       "      <th>proc__19</th>\n",
       "      <th>proc__28</th>\n",
       "      <th>proc__27</th>\n",
       "      <th>proc__34</th>\n",
       "      <th>proc__97</th>\n",
       "      <th>proc__17</th>\n",
       "      <th>proc__8</th>\n",
       "      <th>income_cd</th>\n",
       "      <th>proc__20</th>\n",
       "      <th>proc__83</th>\n",
       "      <th>...</th>\n",
       "      <th>proc__14</th>\n",
       "      <th>proc__124</th>\n",
       "      <th>proc__99</th>\n",
       "      <th>proc__11</th>\n",
       "      <th>proc__25</th>\n",
       "      <th>proc__2</th>\n",
       "      <th>proc__123</th>\n",
       "      <th>proc__13</th>\n",
       "      <th>proc__22</th>\n",
       "      <th>gender_cd</th>\n",
       "    </tr>\n",
       "  </thead>\n",
       "  <tbody>\n",
       "    <tr>\n",
       "      <th>0</th>\n",
       "      <td>-0.265647</td>\n",
       "      <td>-0.031294</td>\n",
       "      <td>-0.06525</td>\n",
       "      <td>-0.015641</td>\n",
       "      <td>-0.186668</td>\n",
       "      <td>-0.226392</td>\n",
       "      <td>-0.059314</td>\n",
       "      <td>-0.718320</td>\n",
       "      <td>-0.027841</td>\n",
       "      <td>-0.143802</td>\n",
       "      <td>...</td>\n",
       "      <td>-0.129075</td>\n",
       "      <td>-0.351239</td>\n",
       "      <td>2.554378</td>\n",
       "      <td>-0.041413</td>\n",
       "      <td>-0.033804</td>\n",
       "      <td>-0.020194</td>\n",
       "      <td>-0.129889</td>\n",
       "      <td>-0.114966</td>\n",
       "      <td>-0.228276</td>\n",
       "      <td>-0.876356</td>\n",
       "    </tr>\n",
       "    <tr>\n",
       "      <th>1</th>\n",
       "      <td>3.764397</td>\n",
       "      <td>-0.031294</td>\n",
       "      <td>-0.06525</td>\n",
       "      <td>-0.015641</td>\n",
       "      <td>-0.186668</td>\n",
       "      <td>-0.226392</td>\n",
       "      <td>-0.059314</td>\n",
       "      <td>-1.399066</td>\n",
       "      <td>-0.027841</td>\n",
       "      <td>-0.143802</td>\n",
       "      <td>...</td>\n",
       "      <td>-0.129075</td>\n",
       "      <td>2.847067</td>\n",
       "      <td>-0.391485</td>\n",
       "      <td>-0.041413</td>\n",
       "      <td>-0.033804</td>\n",
       "      <td>-0.020194</td>\n",
       "      <td>-0.129889</td>\n",
       "      <td>-0.114966</td>\n",
       "      <td>-0.228276</td>\n",
       "      <td>-0.876356</td>\n",
       "    </tr>\n",
       "    <tr>\n",
       "      <th>2</th>\n",
       "      <td>-0.265647</td>\n",
       "      <td>-0.031294</td>\n",
       "      <td>-0.06525</td>\n",
       "      <td>-0.015641</td>\n",
       "      <td>-0.186668</td>\n",
       "      <td>-0.226392</td>\n",
       "      <td>-0.059314</td>\n",
       "      <td>-0.037574</td>\n",
       "      <td>-0.027841</td>\n",
       "      <td>-0.143802</td>\n",
       "      <td>...</td>\n",
       "      <td>-0.129075</td>\n",
       "      <td>2.847067</td>\n",
       "      <td>-0.391485</td>\n",
       "      <td>-0.041413</td>\n",
       "      <td>-0.033804</td>\n",
       "      <td>-0.020194</td>\n",
       "      <td>-0.129889</td>\n",
       "      <td>8.698240</td>\n",
       "      <td>-0.228276</td>\n",
       "      <td>1.141089</td>\n",
       "    </tr>\n",
       "    <tr>\n",
       "      <th>3</th>\n",
       "      <td>-0.265647</td>\n",
       "      <td>-0.031294</td>\n",
       "      <td>-0.06525</td>\n",
       "      <td>-0.015641</td>\n",
       "      <td>-0.186668</td>\n",
       "      <td>4.417111</td>\n",
       "      <td>-0.059314</td>\n",
       "      <td>0.643172</td>\n",
       "      <td>-0.027841</td>\n",
       "      <td>-0.143802</td>\n",
       "      <td>...</td>\n",
       "      <td>-0.129075</td>\n",
       "      <td>-0.351239</td>\n",
       "      <td>-0.391485</td>\n",
       "      <td>-0.041413</td>\n",
       "      <td>-0.033804</td>\n",
       "      <td>-0.020194</td>\n",
       "      <td>-0.129889</td>\n",
       "      <td>-0.114966</td>\n",
       "      <td>-0.228276</td>\n",
       "      <td>1.141089</td>\n",
       "    </tr>\n",
       "    <tr>\n",
       "      <th>4</th>\n",
       "      <td>-0.265647</td>\n",
       "      <td>-0.031294</td>\n",
       "      <td>-0.06525</td>\n",
       "      <td>-0.015641</td>\n",
       "      <td>-0.186668</td>\n",
       "      <td>4.417111</td>\n",
       "      <td>-0.059314</td>\n",
       "      <td>-0.037574</td>\n",
       "      <td>-0.027841</td>\n",
       "      <td>-0.143802</td>\n",
       "      <td>...</td>\n",
       "      <td>-0.129075</td>\n",
       "      <td>-0.351239</td>\n",
       "      <td>-0.391485</td>\n",
       "      <td>-0.041413</td>\n",
       "      <td>-0.033804</td>\n",
       "      <td>-0.020194</td>\n",
       "      <td>-0.129889</td>\n",
       "      <td>-0.114966</td>\n",
       "      <td>-0.228276</td>\n",
       "      <td>-0.876356</td>\n",
       "    </tr>\n",
       "  </tbody>\n",
       "</table>\n",
       "<p>5 rows × 26 columns</p>\n",
       "</div>"
      ],
      "text/plain": [
       "   proc__19  proc__28  proc__27  proc__34  proc__97  proc__17   proc__8  \\\n",
       "0 -0.265647 -0.031294  -0.06525 -0.015641 -0.186668 -0.226392 -0.059314   \n",
       "1  3.764397 -0.031294  -0.06525 -0.015641 -0.186668 -0.226392 -0.059314   \n",
       "2 -0.265647 -0.031294  -0.06525 -0.015641 -0.186668 -0.226392 -0.059314   \n",
       "3 -0.265647 -0.031294  -0.06525 -0.015641 -0.186668  4.417111 -0.059314   \n",
       "4 -0.265647 -0.031294  -0.06525 -0.015641 -0.186668  4.417111 -0.059314   \n",
       "\n",
       "   income_cd  proc__20  proc__83  ...  proc__14  proc__124  proc__99  \\\n",
       "0  -0.718320 -0.027841 -0.143802  ... -0.129075  -0.351239  2.554378   \n",
       "1  -1.399066 -0.027841 -0.143802  ... -0.129075   2.847067 -0.391485   \n",
       "2  -0.037574 -0.027841 -0.143802  ... -0.129075   2.847067 -0.391485   \n",
       "3   0.643172 -0.027841 -0.143802  ... -0.129075  -0.351239 -0.391485   \n",
       "4  -0.037574 -0.027841 -0.143802  ... -0.129075  -0.351239 -0.391485   \n",
       "\n",
       "   proc__11  proc__25   proc__2  proc__123  proc__13  proc__22  gender_cd  \n",
       "0 -0.041413 -0.033804 -0.020194  -0.129889 -0.114966 -0.228276  -0.876356  \n",
       "1 -0.041413 -0.033804 -0.020194  -0.129889 -0.114966 -0.228276  -0.876356  \n",
       "2 -0.041413 -0.033804 -0.020194  -0.129889  8.698240 -0.228276   1.141089  \n",
       "3 -0.041413 -0.033804 -0.020194  -0.129889 -0.114966 -0.228276   1.141089  \n",
       "4 -0.041413 -0.033804 -0.020194  -0.129889 -0.114966 -0.228276  -0.876356  \n",
       "\n",
       "[5 rows x 26 columns]"
      ]
     },
     "execution_count": 370,
     "metadata": {},
     "output_type": "execute_result"
    }
   ],
   "source": [
    "sc=StandardScaler()\n",
    "cluster_df_scaled=sc.fit_transform(cluster_df)\n",
    "cluster_df_scaled = pd.DataFrame(cluster_df_scaled)\n",
    "cluster_df_scaled.columns = cluster_df.columns\n",
    "cluster_df_scaled.head()"
   ]
  },
  {
   "cell_type": "code",
   "execution_count": 371,
   "metadata": {},
   "outputs": [
    {
     "data": {
      "text/plain": [
       "PCA(n_components=26)"
      ]
     },
     "execution_count": 371,
     "metadata": {},
     "output_type": "execute_result"
    }
   ],
   "source": [
    "# Prepare reduced cr from PCA to run the Kmeans algo\n",
    "# https://365datascience.com/pca-k-means/\n",
    "pca = PCA(n_components=26)\n",
    "pca.fit(cluster_df_scaled)"
   ]
  },
  {
   "cell_type": "code",
   "execution_count": 372,
   "metadata": {},
   "outputs": [
    {
     "data": {
      "text/plain": [
       "array([  5.65,  10.51,  15.01,  19.28,  23.42,  27.51,  31.54,  35.55,\n",
       "        39.52,  43.46,  47.38,  51.26,  55.11,  58.93,  62.74,  66.52,\n",
       "        70.3 ,  74.01,  77.68,  81.32,  84.92,  88.48,  91.96,  95.21,\n",
       "        98.11, 100.01])"
      ]
     },
     "execution_count": 372,
     "metadata": {},
     "output_type": "execute_result"
    }
   ],
   "source": [
    "#Cumulative Variance explains\n",
    "pca_var_pct=np.cumsum(np.round(pca.explained_variance_ratio_, decimals=4)*100)\n",
    "pca_var_pct"
   ]
  },
  {
   "cell_type": "markdown",
   "metadata": {},
   "source": [
    "**Choosing first 23 Principle Components as they are explaining 92% of the cumulative variance**"
   ]
  },
  {
   "cell_type": "code",
   "execution_count": 373,
   "metadata": {},
   "outputs": [
    {
     "data": {
      "text/plain": [
       "array([1.46856724, 1.2633721 , 1.16946728, 1.11128497, 1.07756214,\n",
       "       1.06413997, 1.04715381, 1.04193608, 1.03141566, 1.02397589,\n",
       "       1.02045377, 1.00763409, 1.00053424, 0.99200998, 0.98981669,\n",
       "       0.98372357, 0.98250214, 0.96407731, 0.95527958, 0.9457158 ,\n",
       "       0.93562717, 0.92672379, 0.90386368])"
      ]
     },
     "execution_count": 373,
     "metadata": {},
     "output_type": "execute_result"
    }
   ],
   "source": [
    "pca_final=PCA(n_components=23).fit(cluster_df_scaled)\n",
    "pca_final.explained_variance_"
   ]
  },
  {
   "cell_type": "code",
   "execution_count": 374,
   "metadata": {},
   "outputs": [
    {
     "data": {
      "text/plain": [
       "(24531, 23)"
      ]
     },
     "execution_count": 374,
     "metadata": {},
     "output_type": "execute_result"
    }
   ],
   "source": [
    "reduced_cr=pca_final.transform(cluster_df_scaled)\n",
    "reduced_cr.shape"
   ]
  },
  {
   "cell_type": "code",
   "execution_count": 379,
   "metadata": {
    "scrolled": false
   },
   "outputs": [
    {
     "data": {
      "image/png": "[encoded data removed]",
      "text/plain": [
       "<Figure size 720x648 with 1 Axes>"
      ]
     },
     "metadata": {},
     "output_type": "display_data"
    }
   ],
   "source": [
    "# Using the elbow method to figure out the best number of clusters\n",
    "wcss = []\n",
    "for i in range(2,20):\n",
    "    kmeans = KMeans(n_clusters=i, init='k-means++', random_state=42)\n",
    "    kmeans.fit(reduced_cr)\n",
    "    wcss.append(kmeans.inertia_)\n",
    "plt.plot(range(2,20), wcss)\n",
    "plt.title('Elbow Method')\n",
    "plt.xlabel('Number of clusters')\n",
    "plt.ylabel('WCSS')\n",
    "plt.show()"
   ]
  },
  {
   "cell_type": "code",
   "execution_count": 380,
   "metadata": {},
   "outputs": [
    {
     "data": {
      "image/png": "[encoded data removed]",
      "text/plain": [
       "<Figure size 720x648 with 1 Axes>"
      ]
     },
     "metadata": {},
     "output_type": "display_data"
    }
   ],
   "source": [
    "# calculate SC\n",
    "k_range = range(2, 20)\n",
    "sil_sc = []\n",
    "for k in k_range:\n",
    "    km = KMeans(n_clusters=k, init='k-means++', random_state=42)\n",
    "    km.fit(reduced_cr)\n",
    "    sil_sc.append(metrics.silhouette_score(reduced_cr, km.labels_))\n",
    "\n",
    "\n",
    "# plot the results\n",
    "plt.plot(k_range, sil_sc)\n",
    "plt.xlabel('Number of clusters')\n",
    "plt.ylabel('Silhouette Coefficient')\n",
    "plt.grid(True)"
   ]
  },
  {
   "cell_type": "code",
   "execution_count": 381,
   "metadata": {},
   "outputs": [
    {
     "data": {
      "text/plain": [
       "[0.3903128525144223,\n",
       " 0.7913122613719511,\n",
       " 0.3007162856133605,\n",
       " 0.12320563920879159,\n",
       " 0.31875412229567185,\n",
       " 0.12891642125103575,\n",
       " 0.15838302473251598,\n",
       " 0.1681214293507869,\n",
       " 0.16991922818675637,\n",
       " 0.17556988553478683,\n",
       " 0.18038209449347037,\n",
       " 0.18818899570705544,\n",
       " 0.1917482062291559,\n",
       " 0.20515894406665403,\n",
       " 0.223665549890061,\n",
       " 0.22787423713635593,\n",
       " 0.24856684303885523,\n",
       " 0.27504408868442176]"
      ]
     },
     "execution_count": 381,
     "metadata": {},
     "output_type": "execute_result"
    }
   ],
   "source": [
    "sil_sc"
   ]
  },
  {
   "cell_type": "markdown",
   "metadata": {},
   "source": [
    "Using **k=3** for analysis as Silhoutte Score is highest for that cluster"
   ]
  },
  {
   "cell_type": "code",
   "execution_count": 382,
   "metadata": {},
   "outputs": [],
   "source": [
    "kmeans_3 = KMeans(n_clusters=3, init='k-means++', random_state=42)\n",
    "km_3 = kmeans_3.fit(reduced_cr)"
   ]
  },
  {
   "cell_type": "code",
   "execution_count": 422,
   "metadata": {},
   "outputs": [
    {
     "data": {
      "text/plain": [
       "['proc__19',\n",
       " 'proc__28',\n",
       " 'proc__27',\n",
       " 'proc__34',\n",
       " 'proc__97',\n",
       " 'proc__17',\n",
       " 'proc__8',\n",
       " 'income_cd',\n",
       " 'proc__20',\n",
       " 'proc__83',\n",
       " 'proc__122',\n",
       " 'age_cd',\n",
       " 'proc__58',\n",
       " 'proc__3',\n",
       " 'count',\n",
       " 'proc__26',\n",
       " 'proc__14',\n",
       " 'proc__124',\n",
       " 'proc__99',\n",
       " 'proc__11',\n",
       " 'proc__25',\n",
       " 'proc__2',\n",
       " 'proc__123',\n",
       " 'proc__13',\n",
       " 'proc__22',\n",
       " 'gender_cd',\n",
       " 'id',\n",
       " 'for_review']"
      ]
     },
     "execution_count": 422,
     "metadata": {},
     "output_type": "execute_result"
    }
   ],
   "source": [
    "feature_list"
   ]
  },
  {
   "cell_type": "code",
   "execution_count": 438,
   "metadata": {
    "scrolled": true
   },
   "outputs": [
    {
     "data": {
      "text/html": [
       "<div>\n",
       "<style scoped>\n",
       "    .dataframe tbody tr th:only-of-type {\n",
       "        vertical-align: middle;\n",
       "    }\n",
       "\n",
       "    .dataframe tbody tr th {\n",
       "        vertical-align: top;\n",
       "    }\n",
       "\n",
       "    .dataframe thead th {\n",
       "        text-align: right;\n",
       "    }\n",
       "</style>\n",
       "<table border=\"1\" class=\"dataframe\">\n",
       "  <thead>\n",
       "    <tr style=\"text-align: right;\">\n",
       "      <th></th>\n",
       "      <th>proc__19</th>\n",
       "      <th>proc__28</th>\n",
       "      <th>proc__27</th>\n",
       "      <th>proc__34</th>\n",
       "      <th>proc__97</th>\n",
       "      <th>proc__17</th>\n",
       "      <th>proc__8</th>\n",
       "      <th>income_cd</th>\n",
       "      <th>proc__20</th>\n",
       "      <th>proc__83</th>\n",
       "      <th>...</th>\n",
       "      <th>14</th>\n",
       "      <th>15</th>\n",
       "      <th>16</th>\n",
       "      <th>17</th>\n",
       "      <th>18</th>\n",
       "      <th>19</th>\n",
       "      <th>20</th>\n",
       "      <th>21</th>\n",
       "      <th>22</th>\n",
       "      <th>seg_pca_cluster</th>\n",
       "    </tr>\n",
       "  </thead>\n",
       "  <tbody>\n",
       "    <tr>\n",
       "      <th>0</th>\n",
       "      <td>0</td>\n",
       "      <td>0</td>\n",
       "      <td>0</td>\n",
       "      <td>0</td>\n",
       "      <td>0</td>\n",
       "      <td>0</td>\n",
       "      <td>0</td>\n",
       "      <td>1</td>\n",
       "      <td>0</td>\n",
       "      <td>0</td>\n",
       "      <td>...</td>\n",
       "      <td>-2.881515</td>\n",
       "      <td>1.369709</td>\n",
       "      <td>-2.044364</td>\n",
       "      <td>2.111050</td>\n",
       "      <td>-0.485451</td>\n",
       "      <td>-1.223982</td>\n",
       "      <td>-0.098727</td>\n",
       "      <td>0.366408</td>\n",
       "      <td>-1.783283</td>\n",
       "      <td>0</td>\n",
       "    </tr>\n",
       "    <tr>\n",
       "      <th>1</th>\n",
       "      <td>1</td>\n",
       "      <td>0</td>\n",
       "      <td>0</td>\n",
       "      <td>0</td>\n",
       "      <td>0</td>\n",
       "      <td>0</td>\n",
       "      <td>0</td>\n",
       "      <td>0</td>\n",
       "      <td>0</td>\n",
       "      <td>0</td>\n",
       "      <td>...</td>\n",
       "      <td>-0.343219</td>\n",
       "      <td>-0.680862</td>\n",
       "      <td>0.431299</td>\n",
       "      <td>0.204657</td>\n",
       "      <td>-0.198253</td>\n",
       "      <td>0.785036</td>\n",
       "      <td>-0.898275</td>\n",
       "      <td>-0.528605</td>\n",
       "      <td>-0.942467</td>\n",
       "      <td>0</td>\n",
       "    </tr>\n",
       "    <tr>\n",
       "      <th>2</th>\n",
       "      <td>0</td>\n",
       "      <td>0</td>\n",
       "      <td>0</td>\n",
       "      <td>0</td>\n",
       "      <td>0</td>\n",
       "      <td>0</td>\n",
       "      <td>0</td>\n",
       "      <td>2</td>\n",
       "      <td>0</td>\n",
       "      <td>0</td>\n",
       "      <td>...</td>\n",
       "      <td>-1.639398</td>\n",
       "      <td>0.841701</td>\n",
       "      <td>0.138071</td>\n",
       "      <td>-1.930236</td>\n",
       "      <td>-0.295244</td>\n",
       "      <td>2.589051</td>\n",
       "      <td>2.633346</td>\n",
       "      <td>-1.903915</td>\n",
       "      <td>-1.818678</td>\n",
       "      <td>0</td>\n",
       "    </tr>\n",
       "    <tr>\n",
       "      <th>3</th>\n",
       "      <td>0</td>\n",
       "      <td>0</td>\n",
       "      <td>0</td>\n",
       "      <td>0</td>\n",
       "      <td>0</td>\n",
       "      <td>1</td>\n",
       "      <td>0</td>\n",
       "      <td>3</td>\n",
       "      <td>0</td>\n",
       "      <td>0</td>\n",
       "      <td>...</td>\n",
       "      <td>-0.032381</td>\n",
       "      <td>0.101888</td>\n",
       "      <td>0.349084</td>\n",
       "      <td>-0.241304</td>\n",
       "      <td>0.722750</td>\n",
       "      <td>0.346637</td>\n",
       "      <td>-0.182388</td>\n",
       "      <td>0.217768</td>\n",
       "      <td>-1.484728</td>\n",
       "      <td>0</td>\n",
       "    </tr>\n",
       "    <tr>\n",
       "      <th>4</th>\n",
       "      <td>0</td>\n",
       "      <td>0</td>\n",
       "      <td>0</td>\n",
       "      <td>0</td>\n",
       "      <td>0</td>\n",
       "      <td>1</td>\n",
       "      <td>0</td>\n",
       "      <td>2</td>\n",
       "      <td>0</td>\n",
       "      <td>0</td>\n",
       "      <td>...</td>\n",
       "      <td>0.619668</td>\n",
       "      <td>-0.458418</td>\n",
       "      <td>-0.110231</td>\n",
       "      <td>0.701572</td>\n",
       "      <td>0.737957</td>\n",
       "      <td>-0.202560</td>\n",
       "      <td>-0.955301</td>\n",
       "      <td>3.441691</td>\n",
       "      <td>-2.351295</td>\n",
       "      <td>0</td>\n",
       "    </tr>\n",
       "  </tbody>\n",
       "</table>\n",
       "<p>5 rows × 53 columns</p>\n",
       "</div>"
      ],
      "text/plain": [
       "   proc__19  proc__28  proc__27  proc__34  proc__97  proc__17  proc__8  \\\n",
       "0         0         0         0         0         0         0        0   \n",
       "1         1         0         0         0         0         0        0   \n",
       "2         0         0         0         0         0         0        0   \n",
       "3         0         0         0         0         0         1        0   \n",
       "4         0         0         0         0         0         1        0   \n",
       "\n",
       "   income_cd  proc__20  proc__83  ...        14        15        16        17  \\\n",
       "0          1         0         0  ... -2.881515  1.369709 -2.044364  2.111050   \n",
       "1          0         0         0  ... -0.343219 -0.680862  0.431299  0.204657   \n",
       "2          2         0         0  ... -1.639398  0.841701  0.138071 -1.930236   \n",
       "3          3         0         0  ... -0.032381  0.101888  0.349084 -0.241304   \n",
       "4          2         0         0  ...  0.619668 -0.458418 -0.110231  0.701572   \n",
       "\n",
       "         18        19        20        21        22  seg_pca_cluster  \n",
       "0 -0.485451 -1.223982 -0.098727  0.366408 -1.783283                0  \n",
       "1 -0.198253  0.785036 -0.898275 -0.528605 -0.942467                0  \n",
       "2 -0.295244  2.589051  2.633346 -1.903915 -1.818678                0  \n",
       "3  0.722750  0.346637 -0.182388  0.217768 -1.484728                0  \n",
       "4  0.737957 -0.202560 -0.955301  3.441691 -2.351295                0  \n",
       "\n",
       "[5 rows x 53 columns]"
      ]
     },
     "execution_count": 438,
     "metadata": {},
     "output_type": "execute_result"
    }
   ],
   "source": [
    "feature_list.extend(['id','for_review','predicted_review'])\n",
    "dataset = clustering_df[feature_list].copy()\n",
    "\n",
    "df_cluster_pca = pd.concat([dataset.reset_index(drop=True),pd.DataFrame(reduced_cr)],axis =1)\n",
    "\n",
    "df_cluster_pca[\"seg_pca_cluster\"] = km_3.labels_\n",
    "df_cluster_pca.head()"
   ]
  },
  {
   "cell_type": "code",
   "execution_count": 426,
   "metadata": {
    "scrolled": true
   },
   "outputs": [
    {
     "data": {
      "text/plain": [
       "0    24477\n",
       "2       42\n",
       "1       12\n",
       "Name: seg_pca_cluster, dtype: int64"
      ]
     },
     "execution_count": 426,
     "metadata": {},
     "output_type": "execute_result"
    }
   ],
   "source": [
    "df_cluster_pca.seg_pca_cluster.value_counts()"
   ]
  },
  {
   "cell_type": "code",
   "execution_count": 440,
   "metadata": {},
   "outputs": [
    {
     "data": {
      "text/plain": [
       "1    19531\n",
       "0     5000\n",
       "Name: predicted_review, dtype: int64"
      ]
     },
     "execution_count": 440,
     "metadata": {},
     "output_type": "execute_result"
    }
   ],
   "source": [
    "df_cluster_pca.predicted_review = df_cluster_pca.predicted_review.apply(lambda x: 0 if x==\"\" else x )\n",
    "df_cluster_pca.predicted_review.value_counts()"
   ]
  },
  {
   "cell_type": "code",
   "execution_count": 441,
   "metadata": {},
   "outputs": [],
   "source": [
    "segments_review = df_cluster_pca.groupby([\"seg_pca_cluster\"]).agg({\"for_review\":\"sum\",\"predicted_review\":\"sum\"})\n"
   ]
  },
  {
   "cell_type": "code",
   "execution_count": 442,
   "metadata": {
    "scrolled": true
   },
   "outputs": [
    {
     "data": {
      "text/html": [
       "<div>\n",
       "<style scoped>\n",
       "    .dataframe tbody tr th:only-of-type {\n",
       "        vertical-align: middle;\n",
       "    }\n",
       "\n",
       "    .dataframe tbody tr th {\n",
       "        vertical-align: top;\n",
       "    }\n",
       "\n",
       "    .dataframe thead th {\n",
       "        text-align: right;\n",
       "    }\n",
       "</style>\n",
       "<table border=\"1\" class=\"dataframe\">\n",
       "  <thead>\n",
       "    <tr style=\"text-align: right;\">\n",
       "      <th></th>\n",
       "      <th>for_review</th>\n",
       "      <th>predicted_review</th>\n",
       "    </tr>\n",
       "    <tr>\n",
       "      <th>seg_pca_cluster</th>\n",
       "      <th></th>\n",
       "      <th></th>\n",
       "    </tr>\n",
       "  </thead>\n",
       "  <tbody>\n",
       "    <tr>\n",
       "      <th>0</th>\n",
       "      <td>4978</td>\n",
       "      <td>19499</td>\n",
       "    </tr>\n",
       "    <tr>\n",
       "      <th>1</th>\n",
       "      <td>10</td>\n",
       "      <td>2</td>\n",
       "    </tr>\n",
       "    <tr>\n",
       "      <th>2</th>\n",
       "      <td>12</td>\n",
       "      <td>30</td>\n",
       "    </tr>\n",
       "  </tbody>\n",
       "</table>\n",
       "</div>"
      ],
      "text/plain": [
       "                 for_review  predicted_review\n",
       "seg_pca_cluster                              \n",
       "0                      4978             19499\n",
       "1                        10                 2\n",
       "2                        12                30"
      ]
     },
     "execution_count": 442,
     "metadata": {},
     "output_type": "execute_result"
    }
   ],
   "source": [
    "#segments_review.pivot_table(columns=\"seg_pca_cluster\",index=\"for_review\",values=\"id\")\n",
    "segments_review"
   ]
  },
  {
   "cell_type": "markdown",
   "metadata": {},
   "source": [
    "# Conclusion:\n",
    "So it does look like out of the three clusters that we have created, the max of the 5000 review patients are clustered in Cluster 0(total 4978). And with them are also clustered the 19,499 other individuals who were also identified as part of RandomForestClassifier. So these people should definitely be looked at. (Downloading data for these patients)"
   ]
  },
  {
   "cell_type": "code",
   "execution_count": 444,
   "metadata": {},
   "outputs": [],
   "source": [
    "to_review = df_cluster_pca[(df_cluster_pca.seg_pca_cluster==0)&(df_cluster_pca.predicted_review)==1]\n",
    "to_review.to_excel(\"analysis_result/Cluster0_final_patients_to_review.xlsx\",index=False)"
   ]
  }
 ],
 "metadata": {
  "kernelspec": {
   "display_name": "Python 3 (ipykernel)",
   "language": "python",
   "name": "python3"
  },
  "language_info": {
   "codemirror_mode": {
    "name": "ipython",
    "version": 3
   },
   "file_extension": ".py",
   "mimetype": "text/x-python",
   "name": "python",
   "nbconvert_exporter": "python",
   "pygments_lexer": "ipython3",
   "version": "3.10.4"
  }
 },
 "nbformat": 4,
 "nbformat_minor": 2
}
