{
 "cells": [
  {
   "cell_type": "code",
   "execution_count": 1,
   "metadata": {},
   "outputs": [],
   "source": [
    "# Section that will be used to define all the required package imports\n",
    "import pandas as pd\n",
    "import numpy as np\n",
    "import datetime as dt\n",
    "import os\n",
    "from dateutil.relativedelta import relativedelta\n",
    "import scipy.stats as stats\n",
    "import math\n",
    "\n",
    "import pandas_profiling\n",
    "from matplotlib.backends.backend_pdf import PdfPages\n",
    "\n",
    "# For plotting bar and charts\n",
    "import matplotlib.pyplot as plt\n",
    "\n",
    "from sklearn import metrics\n",
    "from sklearn.feature_selection import RFE, RFECV, SelectKBest, chi2, SelectPercentile, f_classif, mutual_info_classif, f_regression, VarianceThreshold, SelectFromModel, mutual_info_classif, mutual_info_regression, SelectFpr, SelectFdr, SelectFwe\n",
    "import statsmodels.formula.api as sm\n",
    "import seaborn as sns\n",
    "from sklearn.preprocessing import StandardScaler, StandardScaler\n",
    "from sklearn.metrics import confusion_matrix, classification_report\n",
    "from sklearn.model_selection import GridSearchCV, cross_val_score, train_test_split\n",
    "from sklearn.neighbors import KNeighborsClassifier\n",
    "from sklearn.ensemble import RandomForestClassifier\n",
    "from sklearn.svm import SVC\n"
   ]
  },
  {
   "cell_type": "code",
   "execution_count": 2,
   "metadata": {},
   "outputs": [],
   "source": [
    "np.set_printoptions(formatter={'all':lambda x: str(x)})"
   ]
  },
  {
   "cell_type": "code",
   "execution_count": 3,
   "metadata": {},
   "outputs": [
    {
     "data": {
      "text/html": [
       "<div>\n",
       "<style scoped>\n",
       "    .dataframe tbody tr th:only-of-type {\n",
       "        vertical-align: middle;\n",
       "    }\n",
       "\n",
       "    .dataframe tbody tr th {\n",
       "        vertical-align: top;\n",
       "    }\n",
       "\n",
       "    .dataframe thead th {\n",
       "        text-align: right;\n",
       "    }\n",
       "</style>\n",
       "<table border=\"1\" class=\"dataframe\">\n",
       "  <thead>\n",
       "    <tr style=\"text-align: right;\">\n",
       "      <th></th>\n",
       "      <th>duration</th>\n",
       "      <th>protocol_type</th>\n",
       "      <th>service</th>\n",
       "      <th>flag</th>\n",
       "      <th>src_bytes</th>\n",
       "      <th>dst_bytes</th>\n",
       "      <th>land</th>\n",
       "      <th>wrong_fragment</th>\n",
       "      <th>urgent</th>\n",
       "      <th>hot</th>\n",
       "      <th>...</th>\n",
       "      <th>dst_host_same_srv_rate</th>\n",
       "      <th>dst_host_diff_srv_rate</th>\n",
       "      <th>dst_host_same_src_port_rate</th>\n",
       "      <th>dst_host_srv_diff_host_rate</th>\n",
       "      <th>dst_host_serror_rate</th>\n",
       "      <th>dst_host_srv_serror_rate</th>\n",
       "      <th>dst_host_rerror_rate</th>\n",
       "      <th>dst_host_srv_rerror_rate</th>\n",
       "      <th>attack</th>\n",
       "      <th>last_flag</th>\n",
       "    </tr>\n",
       "  </thead>\n",
       "  <tbody>\n",
       "    <tr>\n",
       "      <th>0</th>\n",
       "      <td>0</td>\n",
       "      <td>tcp</td>\n",
       "      <td>ftp_data</td>\n",
       "      <td>SF</td>\n",
       "      <td>491</td>\n",
       "      <td>0</td>\n",
       "      <td>0</td>\n",
       "      <td>0</td>\n",
       "      <td>0</td>\n",
       "      <td>0</td>\n",
       "      <td>...</td>\n",
       "      <td>0.17</td>\n",
       "      <td>0.03</td>\n",
       "      <td>0.17</td>\n",
       "      <td>0.00</td>\n",
       "      <td>0.00</td>\n",
       "      <td>0.00</td>\n",
       "      <td>0.05</td>\n",
       "      <td>0.00</td>\n",
       "      <td>normal</td>\n",
       "      <td>20</td>\n",
       "    </tr>\n",
       "    <tr>\n",
       "      <th>1</th>\n",
       "      <td>0</td>\n",
       "      <td>udp</td>\n",
       "      <td>other</td>\n",
       "      <td>SF</td>\n",
       "      <td>146</td>\n",
       "      <td>0</td>\n",
       "      <td>0</td>\n",
       "      <td>0</td>\n",
       "      <td>0</td>\n",
       "      <td>0</td>\n",
       "      <td>...</td>\n",
       "      <td>0.00</td>\n",
       "      <td>0.60</td>\n",
       "      <td>0.88</td>\n",
       "      <td>0.00</td>\n",
       "      <td>0.00</td>\n",
       "      <td>0.00</td>\n",
       "      <td>0.00</td>\n",
       "      <td>0.00</td>\n",
       "      <td>normal</td>\n",
       "      <td>15</td>\n",
       "    </tr>\n",
       "    <tr>\n",
       "      <th>2</th>\n",
       "      <td>0</td>\n",
       "      <td>tcp</td>\n",
       "      <td>private</td>\n",
       "      <td>S0</td>\n",
       "      <td>0</td>\n",
       "      <td>0</td>\n",
       "      <td>0</td>\n",
       "      <td>0</td>\n",
       "      <td>0</td>\n",
       "      <td>0</td>\n",
       "      <td>...</td>\n",
       "      <td>0.10</td>\n",
       "      <td>0.05</td>\n",
       "      <td>0.00</td>\n",
       "      <td>0.00</td>\n",
       "      <td>1.00</td>\n",
       "      <td>1.00</td>\n",
       "      <td>0.00</td>\n",
       "      <td>0.00</td>\n",
       "      <td>neptune</td>\n",
       "      <td>19</td>\n",
       "    </tr>\n",
       "    <tr>\n",
       "      <th>3</th>\n",
       "      <td>0</td>\n",
       "      <td>tcp</td>\n",
       "      <td>http</td>\n",
       "      <td>SF</td>\n",
       "      <td>232</td>\n",
       "      <td>8153</td>\n",
       "      <td>0</td>\n",
       "      <td>0</td>\n",
       "      <td>0</td>\n",
       "      <td>0</td>\n",
       "      <td>...</td>\n",
       "      <td>1.00</td>\n",
       "      <td>0.00</td>\n",
       "      <td>0.03</td>\n",
       "      <td>0.04</td>\n",
       "      <td>0.03</td>\n",
       "      <td>0.01</td>\n",
       "      <td>0.00</td>\n",
       "      <td>0.01</td>\n",
       "      <td>normal</td>\n",
       "      <td>21</td>\n",
       "    </tr>\n",
       "    <tr>\n",
       "      <th>4</th>\n",
       "      <td>0</td>\n",
       "      <td>tcp</td>\n",
       "      <td>http</td>\n",
       "      <td>SF</td>\n",
       "      <td>199</td>\n",
       "      <td>420</td>\n",
       "      <td>0</td>\n",
       "      <td>0</td>\n",
       "      <td>0</td>\n",
       "      <td>0</td>\n",
       "      <td>...</td>\n",
       "      <td>1.00</td>\n",
       "      <td>0.00</td>\n",
       "      <td>0.00</td>\n",
       "      <td>0.00</td>\n",
       "      <td>0.00</td>\n",
       "      <td>0.00</td>\n",
       "      <td>0.00</td>\n",
       "      <td>0.00</td>\n",
       "      <td>normal</td>\n",
       "      <td>21</td>\n",
       "    </tr>\n",
       "  </tbody>\n",
       "</table>\n",
       "<p>5 rows × 43 columns</p>\n",
       "</div>"
      ],
      "text/plain": [
       "   duration protocol_type   service flag  src_bytes  dst_bytes  land  \\\n",
       "0         0           tcp  ftp_data   SF        491          0     0   \n",
       "1         0           udp     other   SF        146          0     0   \n",
       "2         0           tcp   private   S0          0          0     0   \n",
       "3         0           tcp      http   SF        232       8153     0   \n",
       "4         0           tcp      http   SF        199        420     0   \n",
       "\n",
       "   wrong_fragment  urgent  hot  ...  dst_host_same_srv_rate  \\\n",
       "0               0       0    0  ...                    0.17   \n",
       "1               0       0    0  ...                    0.00   \n",
       "2               0       0    0  ...                    0.10   \n",
       "3               0       0    0  ...                    1.00   \n",
       "4               0       0    0  ...                    1.00   \n",
       "\n",
       "   dst_host_diff_srv_rate  dst_host_same_src_port_rate  \\\n",
       "0                    0.03                         0.17   \n",
       "1                    0.60                         0.88   \n",
       "2                    0.05                         0.00   \n",
       "3                    0.00                         0.03   \n",
       "4                    0.00                         0.00   \n",
       "\n",
       "   dst_host_srv_diff_host_rate  dst_host_serror_rate  \\\n",
       "0                         0.00                  0.00   \n",
       "1                         0.00                  0.00   \n",
       "2                         0.00                  1.00   \n",
       "3                         0.04                  0.03   \n",
       "4                         0.00                  0.00   \n",
       "\n",
       "   dst_host_srv_serror_rate  dst_host_rerror_rate  dst_host_srv_rerror_rate  \\\n",
       "0                      0.00                  0.05                      0.00   \n",
       "1                      0.00                  0.00                      0.00   \n",
       "2                      1.00                  0.00                      0.00   \n",
       "3                      0.01                  0.00                      0.01   \n",
       "4                      0.00                  0.00                      0.00   \n",
       "\n",
       "    attack  last_flag  \n",
       "0   normal         20  \n",
       "1   normal         15  \n",
       "2  neptune         19  \n",
       "3   normal         21  \n",
       "4   normal         21  \n",
       "\n",
       "[5 rows x 43 columns]"
      ]
     },
     "execution_count": 3,
     "metadata": {},
     "output_type": "execute_result"
    }
   ],
   "source": [
    "nid_train = pd.read_csv(\"NSL_Dataset\\\\Train.csv\",header = 0)\n",
    "nid_train.columns = [\"duration\",\"protocol_type\",\"service\",\"flag\",\"src_bytes\",\"dst_bytes\",\"land\",\"wrong_fragment\",\"urgent\",\"hot\",\"num_failed_logins\",\"logged_in\",\"num_compromised\",\"root_shell\",\"su_attempted\",\"num_root\",\"num_file_creations\",\"num_shells\",\"num_access_files\",\"num_outbound_cmds\",\"is_host_login\",\"is_guest_login\",\"count\",\"srv_count\",\"serror_rate\", \"srv_serror_rate\",\"rerror_rate\",\"srv_rerror_rate\",\"same_srv_rate\", \"diff_srv_rate\",\"srv_diff_host_rate\",\"dst_host_count\",\"dst_host_srv_count\",\"dst_host_same_srv_rate\",\"dst_host_diff_srv_rate\",\"dst_host_same_src_port_rate\",\"dst_host_srv_diff_host_rate\",\"dst_host_serror_rate\",\"dst_host_srv_serror_rate\",\"dst_host_rerror_rate\",\"dst_host_srv_rerror_rate\",\"attack\",\"last_flag\"]\n",
    "nid_train.head()"
   ]
  },
  {
   "cell_type": "code",
   "execution_count": 4,
   "metadata": {},
   "outputs": [],
   "source": [
    "nid_test = pd.read_csv(\"NSL_Dataset\\\\Test.csv\",header = 0,low_memory = False)\n",
    "nid_test.columns = [\"duration\",\"protocol_type\",\"service\",\"flag\",\"src_bytes\",\"dst_bytes\",\"land\",\"wrong_fragment\",\"urgent\",\"hot\",\"num_failed_logins\",\"logged_in\",\"num_compromised\",\"root_shell\",\"su_attempted\",\"num_root\",\"num_file_creations\",\"num_shells\",\"num_access_files\",\"num_outbound_cmds\",\"is_host_login\",\"is_guest_login\",\"count\",\"srv_count\",\"serror_rate\", \"srv_serror_rate\",\"rerror_rate\",\"srv_rerror_rate\",\"same_srv_rate\", \"diff_srv_rate\",\"srv_diff_host_rate\",\"dst_host_count\",\"dst_host_srv_count\",\"dst_host_same_srv_rate\",\"dst_host_diff_srv_rate\",\"dst_host_same_src_port_rate\",\"dst_host_srv_diff_host_rate\",\"dst_host_serror_rate\",\"dst_host_srv_serror_rate\",\"dst_host_rerror_rate\",\"dst_host_srv_rerror_rate\",\"attack\",\"last_flag\"]"
   ]
  },
  {
   "cell_type": "markdown",
   "metadata": {},
   "source": [
    "# Multiclass Classification: What is the kind of Attack?\n",
    "### Using KNN Classifier to identify attack type(DoS,Probe,R2L or U2R)\n",
    "> a. DoS = 1<br>\n",
    "> b. Probe = 2<br>\n",
    "> c. R2L = 3<br>\n",
    "> d. U2R = 4"
   ]
  },
  {
   "cell_type": "code",
   "execution_count": 5,
   "metadata": {},
   "outputs": [],
   "source": [
    "# Function to classify the attack variable in multiclass categorical Y variable\n",
    "def multi_classification(x):\n",
    "    if x in ([\"back\",\"land\",\"neptune\",\"pod\",\"smurf\",\"teardrop\",\"apache2\",\"udpstorm\",\"processtable\",\"worm\"]):\n",
    "        return 1\n",
    "    elif x in ([\"satan\",\"ipsweep\",\"nmap\",\"portsweep\",\"mscan\",\"saint\"]):\n",
    "        return 2\n",
    "    elif x in ([\"guess_passwd\",\"ftp_write\",\"imap\",\"phf\",\"multihop\",\"warezmaster\",\"warezclient\",\"spy\",\"xlock\",\"xsnoop\",\"snmpguess\",\"snmpgetattack\",\"httptunnel\",\"sendmail\",\"named\"]):\n",
    "        return 3\n",
    "    elif x in ([\"buffer_overflow\",\"loadmodule\",\"rootkit\",\"perl\",\"sqlattack\",\"xterm\",\"ps\"]):\n",
    "        return 4\n",
    "    else:\n",
    "        return 0\n",
    "    "
   ]
  },
  {
   "cell_type": "code",
   "execution_count": 6,
   "metadata": {},
   "outputs": [],
   "source": [
    "nid_train[\"Attack_Multiclass\"] = nid_train.apply(lambda x: multi_classification(x[\"attack\"]),axis =1)"
   ]
  },
  {
   "cell_type": "code",
   "execution_count": 7,
   "metadata": {
    "scrolled": true
   },
   "outputs": [
    {
     "data": {
      "text/html": [
       "<div>\n",
       "<style scoped>\n",
       "    .dataframe tbody tr th:only-of-type {\n",
       "        vertical-align: middle;\n",
       "    }\n",
       "\n",
       "    .dataframe tbody tr th {\n",
       "        vertical-align: top;\n",
       "    }\n",
       "\n",
       "    .dataframe thead th {\n",
       "        text-align: right;\n",
       "    }\n",
       "</style>\n",
       "<table border=\"1\" class=\"dataframe\">\n",
       "  <thead>\n",
       "    <tr style=\"text-align: right;\">\n",
       "      <th></th>\n",
       "      <th>duration</th>\n",
       "      <th>protocol_type</th>\n",
       "      <th>service</th>\n",
       "      <th>flag</th>\n",
       "      <th>src_bytes</th>\n",
       "      <th>dst_bytes</th>\n",
       "      <th>land</th>\n",
       "      <th>wrong_fragment</th>\n",
       "      <th>urgent</th>\n",
       "      <th>hot</th>\n",
       "      <th>...</th>\n",
       "      <th>dst_host_diff_srv_rate</th>\n",
       "      <th>dst_host_same_src_port_rate</th>\n",
       "      <th>dst_host_srv_diff_host_rate</th>\n",
       "      <th>dst_host_serror_rate</th>\n",
       "      <th>dst_host_srv_serror_rate</th>\n",
       "      <th>dst_host_rerror_rate</th>\n",
       "      <th>dst_host_srv_rerror_rate</th>\n",
       "      <th>attack</th>\n",
       "      <th>last_flag</th>\n",
       "      <th>Attack_Multiclass</th>\n",
       "    </tr>\n",
       "  </thead>\n",
       "  <tbody>\n",
       "    <tr>\n",
       "      <th>0</th>\n",
       "      <td>0</td>\n",
       "      <td>tcp</td>\n",
       "      <td>ftp_data</td>\n",
       "      <td>SF</td>\n",
       "      <td>491</td>\n",
       "      <td>0</td>\n",
       "      <td>0</td>\n",
       "      <td>0</td>\n",
       "      <td>0</td>\n",
       "      <td>0</td>\n",
       "      <td>...</td>\n",
       "      <td>0.03</td>\n",
       "      <td>0.17</td>\n",
       "      <td>0.00</td>\n",
       "      <td>0.00</td>\n",
       "      <td>0.00</td>\n",
       "      <td>0.05</td>\n",
       "      <td>0.00</td>\n",
       "      <td>normal</td>\n",
       "      <td>20</td>\n",
       "      <td>0</td>\n",
       "    </tr>\n",
       "    <tr>\n",
       "      <th>1</th>\n",
       "      <td>0</td>\n",
       "      <td>udp</td>\n",
       "      <td>other</td>\n",
       "      <td>SF</td>\n",
       "      <td>146</td>\n",
       "      <td>0</td>\n",
       "      <td>0</td>\n",
       "      <td>0</td>\n",
       "      <td>0</td>\n",
       "      <td>0</td>\n",
       "      <td>...</td>\n",
       "      <td>0.60</td>\n",
       "      <td>0.88</td>\n",
       "      <td>0.00</td>\n",
       "      <td>0.00</td>\n",
       "      <td>0.00</td>\n",
       "      <td>0.00</td>\n",
       "      <td>0.00</td>\n",
       "      <td>normal</td>\n",
       "      <td>15</td>\n",
       "      <td>0</td>\n",
       "    </tr>\n",
       "    <tr>\n",
       "      <th>2</th>\n",
       "      <td>0</td>\n",
       "      <td>tcp</td>\n",
       "      <td>private</td>\n",
       "      <td>S0</td>\n",
       "      <td>0</td>\n",
       "      <td>0</td>\n",
       "      <td>0</td>\n",
       "      <td>0</td>\n",
       "      <td>0</td>\n",
       "      <td>0</td>\n",
       "      <td>...</td>\n",
       "      <td>0.05</td>\n",
       "      <td>0.00</td>\n",
       "      <td>0.00</td>\n",
       "      <td>1.00</td>\n",
       "      <td>1.00</td>\n",
       "      <td>0.00</td>\n",
       "      <td>0.00</td>\n",
       "      <td>neptune</td>\n",
       "      <td>19</td>\n",
       "      <td>1</td>\n",
       "    </tr>\n",
       "    <tr>\n",
       "      <th>3</th>\n",
       "      <td>0</td>\n",
       "      <td>tcp</td>\n",
       "      <td>http</td>\n",
       "      <td>SF</td>\n",
       "      <td>232</td>\n",
       "      <td>8153</td>\n",
       "      <td>0</td>\n",
       "      <td>0</td>\n",
       "      <td>0</td>\n",
       "      <td>0</td>\n",
       "      <td>...</td>\n",
       "      <td>0.00</td>\n",
       "      <td>0.03</td>\n",
       "      <td>0.04</td>\n",
       "      <td>0.03</td>\n",
       "      <td>0.01</td>\n",
       "      <td>0.00</td>\n",
       "      <td>0.01</td>\n",
       "      <td>normal</td>\n",
       "      <td>21</td>\n",
       "      <td>0</td>\n",
       "    </tr>\n",
       "    <tr>\n",
       "      <th>4</th>\n",
       "      <td>0</td>\n",
       "      <td>tcp</td>\n",
       "      <td>http</td>\n",
       "      <td>SF</td>\n",
       "      <td>199</td>\n",
       "      <td>420</td>\n",
       "      <td>0</td>\n",
       "      <td>0</td>\n",
       "      <td>0</td>\n",
       "      <td>0</td>\n",
       "      <td>...</td>\n",
       "      <td>0.00</td>\n",
       "      <td>0.00</td>\n",
       "      <td>0.00</td>\n",
       "      <td>0.00</td>\n",
       "      <td>0.00</td>\n",
       "      <td>0.00</td>\n",
       "      <td>0.00</td>\n",
       "      <td>normal</td>\n",
       "      <td>21</td>\n",
       "      <td>0</td>\n",
       "    </tr>\n",
       "  </tbody>\n",
       "</table>\n",
       "<p>5 rows × 44 columns</p>\n",
       "</div>"
      ],
      "text/plain": [
       "   duration protocol_type   service flag  src_bytes  dst_bytes  land  \\\n",
       "0         0           tcp  ftp_data   SF        491          0     0   \n",
       "1         0           udp     other   SF        146          0     0   \n",
       "2         0           tcp   private   S0          0          0     0   \n",
       "3         0           tcp      http   SF        232       8153     0   \n",
       "4         0           tcp      http   SF        199        420     0   \n",
       "\n",
       "   wrong_fragment  urgent  hot  ...  dst_host_diff_srv_rate  \\\n",
       "0               0       0    0  ...                    0.03   \n",
       "1               0       0    0  ...                    0.60   \n",
       "2               0       0    0  ...                    0.05   \n",
       "3               0       0    0  ...                    0.00   \n",
       "4               0       0    0  ...                    0.00   \n",
       "\n",
       "   dst_host_same_src_port_rate  dst_host_srv_diff_host_rate  \\\n",
       "0                         0.17                         0.00   \n",
       "1                         0.88                         0.00   \n",
       "2                         0.00                         0.00   \n",
       "3                         0.03                         0.04   \n",
       "4                         0.00                         0.00   \n",
       "\n",
       "   dst_host_serror_rate  dst_host_srv_serror_rate  dst_host_rerror_rate  \\\n",
       "0                  0.00                      0.00                  0.05   \n",
       "1                  0.00                      0.00                  0.00   \n",
       "2                  1.00                      1.00                  0.00   \n",
       "3                  0.03                      0.01                  0.00   \n",
       "4                  0.00                      0.00                  0.00   \n",
       "\n",
       "   dst_host_srv_rerror_rate   attack  last_flag  Attack_Multiclass  \n",
       "0                      0.00   normal         20                  0  \n",
       "1                      0.00   normal         15                  0  \n",
       "2                      0.00  neptune         19                  1  \n",
       "3                      0.01   normal         21                  0  \n",
       "4                      0.00   normal         21                  0  \n",
       "\n",
       "[5 rows x 44 columns]"
      ]
     },
     "execution_count": 7,
     "metadata": {},
     "output_type": "execute_result"
    }
   ],
   "source": [
    "nid_train.head()"
   ]
  },
  {
   "cell_type": "code",
   "execution_count": 8,
   "metadata": {},
   "outputs": [
    {
     "name": "stdout",
     "output_type": "stream",
     "text": [
      "<class 'pandas.core.frame.DataFrame'>\n",
      "RangeIndex: 125973 entries, 0 to 125972\n",
      "Data columns (total 43 columns):\n",
      "duration                       125973 non-null int64\n",
      "protocol_type                  125973 non-null object\n",
      "service                        125973 non-null object\n",
      "flag                           125973 non-null object\n",
      "src_bytes                      125973 non-null int64\n",
      "dst_bytes                      125973 non-null int64\n",
      "land                           125973 non-null int64\n",
      "wrong_fragment                 125973 non-null int64\n",
      "urgent                         125973 non-null int64\n",
      "hot                            125973 non-null int64\n",
      "num_failed_logins              125973 non-null int64\n",
      "logged_in                      125973 non-null int64\n",
      "num_compromised                125973 non-null int64\n",
      "root_shell                     125973 non-null int64\n",
      "su_attempted                   125973 non-null int64\n",
      "num_root                       125973 non-null int64\n",
      "num_file_creations             125973 non-null int64\n",
      "num_shells                     125973 non-null int64\n",
      "num_access_files               125973 non-null int64\n",
      "num_outbound_cmds              125973 non-null int64\n",
      "is_host_login                  125973 non-null int64\n",
      "is_guest_login                 125973 non-null int64\n",
      "count                          125973 non-null int64\n",
      "srv_count                      125973 non-null int64\n",
      "serror_rate                    125973 non-null float64\n",
      "srv_serror_rate                125973 non-null float64\n",
      "rerror_rate                    125973 non-null float64\n",
      "srv_rerror_rate                125973 non-null float64\n",
      "same_srv_rate                  125973 non-null float64\n",
      "diff_srv_rate                  125973 non-null float64\n",
      "srv_diff_host_rate             125973 non-null float64\n",
      "dst_host_count                 125973 non-null int64\n",
      "dst_host_srv_count             125973 non-null int64\n",
      "dst_host_same_srv_rate         125973 non-null float64\n",
      "dst_host_diff_srv_rate         125973 non-null float64\n",
      "dst_host_same_src_port_rate    125973 non-null float64\n",
      "dst_host_srv_diff_host_rate    125973 non-null float64\n",
      "dst_host_serror_rate           125973 non-null float64\n",
      "dst_host_srv_serror_rate       125973 non-null float64\n",
      "dst_host_rerror_rate           125973 non-null float64\n",
      "dst_host_srv_rerror_rate       125973 non-null float64\n",
      "last_flag                      125973 non-null int64\n",
      "Attack_Multiclass              125973 non-null int64\n",
      "dtypes: float64(15), int64(25), object(3)\n",
      "memory usage: 41.3+ MB\n"
     ]
    }
   ],
   "source": [
    "nid_train.drop(['attack'],axis = 1,inplace=True)\n",
    "nid_train.info()"
   ]
  },
  {
   "cell_type": "code",
   "execution_count": 9,
   "metadata": {},
   "outputs": [
    {
     "data": {
      "text/plain": [
       "(22543, 43)"
      ]
     },
     "execution_count": 9,
     "metadata": {},
     "output_type": "execute_result"
    }
   ],
   "source": [
    "nid_test[\"Attack_Multiclass\"] = nid_test.apply(lambda x: multi_classification(x[\"attack\"]),axis =1)\n",
    "nid_test.drop(['attack'],axis = 1,inplace=True)\n",
    "nid_test.shape"
   ]
  },
  {
   "cell_type": "code",
   "execution_count": 10,
   "metadata": {},
   "outputs": [
    {
     "data": {
      "text/plain": [
       "(125973, 43)"
      ]
     },
     "execution_count": 10,
     "metadata": {},
     "output_type": "execute_result"
    }
   ],
   "source": [
    "nid_train.shape"
   ]
  },
  {
   "cell_type": "code",
   "execution_count": 11,
   "metadata": {},
   "outputs": [],
   "source": [
    "output = pandas_profiling.ProfileReport(nid_train)\n",
    "output.to_file(output_file='NID_Profiling_Multinomial.html')"
   ]
  },
  {
   "cell_type": "markdown",
   "metadata": {},
   "source": [
    "## Profiling output : Detailed Analysis\n",
    "\n",
    "1. Ignoring warning for duplicate rows, since its a valid scenario as we do not have a unique identifier in our rows.\n",
    "2. Most of the columns marked as Skewed are valid, since 0 entries imply that that particular network feature wasn't utuilised completely.\n",
    "3. Following columns are going to be dropped:<br>\n",
    "    a. **service** : due to High cardinality<br>\n",
    "    b. **num_outbound_cmds** : since it has only 0 as value<br>\n",
    "\n",
    "> We will also be avoiding Outlier capping, since the data skewness is high in columns"
   ]
  },
  {
   "cell_type": "code",
   "execution_count": 12,
   "metadata": {},
   "outputs": [],
   "source": [
    "# copying the dataframes (in case need to start over)\n",
    "nid_train_1 = nid_train.copy()\n",
    "nid_test_1 = nid_test.copy()"
   ]
  },
  {
   "cell_type": "code",
   "execution_count": 13,
   "metadata": {
    "scrolled": true
   },
   "outputs": [
    {
     "data": {
      "text/html": [
       "<div>\n",
       "<style scoped>\n",
       "    .dataframe tbody tr th:only-of-type {\n",
       "        vertical-align: middle;\n",
       "    }\n",
       "\n",
       "    .dataframe tbody tr th {\n",
       "        vertical-align: top;\n",
       "    }\n",
       "\n",
       "    .dataframe thead th {\n",
       "        text-align: right;\n",
       "    }\n",
       "</style>\n",
       "<table border=\"1\" class=\"dataframe\">\n",
       "  <thead>\n",
       "    <tr style=\"text-align: right;\">\n",
       "      <th></th>\n",
       "      <th>duration</th>\n",
       "      <th>src_bytes</th>\n",
       "      <th>dst_bytes</th>\n",
       "      <th>land</th>\n",
       "      <th>wrong_fragment</th>\n",
       "      <th>urgent</th>\n",
       "      <th>hot</th>\n",
       "      <th>num_failed_logins</th>\n",
       "      <th>logged_in</th>\n",
       "      <th>num_compromised</th>\n",
       "      <th>...</th>\n",
       "      <th>flag_REJ</th>\n",
       "      <th>flag_RSTO</th>\n",
       "      <th>flag_RSTOS0</th>\n",
       "      <th>flag_RSTR</th>\n",
       "      <th>flag_S0</th>\n",
       "      <th>flag_S1</th>\n",
       "      <th>flag_S2</th>\n",
       "      <th>flag_S3</th>\n",
       "      <th>flag_SF</th>\n",
       "      <th>flag_SH</th>\n",
       "    </tr>\n",
       "  </thead>\n",
       "  <tbody>\n",
       "    <tr>\n",
       "      <th>0</th>\n",
       "      <td>0</td>\n",
       "      <td>491</td>\n",
       "      <td>0</td>\n",
       "      <td>0</td>\n",
       "      <td>0</td>\n",
       "      <td>0</td>\n",
       "      <td>0</td>\n",
       "      <td>0</td>\n",
       "      <td>0</td>\n",
       "      <td>0</td>\n",
       "      <td>...</td>\n",
       "      <td>0</td>\n",
       "      <td>0</td>\n",
       "      <td>0</td>\n",
       "      <td>0</td>\n",
       "      <td>0</td>\n",
       "      <td>0</td>\n",
       "      <td>0</td>\n",
       "      <td>0</td>\n",
       "      <td>1</td>\n",
       "      <td>0</td>\n",
       "    </tr>\n",
       "    <tr>\n",
       "      <th>1</th>\n",
       "      <td>0</td>\n",
       "      <td>146</td>\n",
       "      <td>0</td>\n",
       "      <td>0</td>\n",
       "      <td>0</td>\n",
       "      <td>0</td>\n",
       "      <td>0</td>\n",
       "      <td>0</td>\n",
       "      <td>0</td>\n",
       "      <td>0</td>\n",
       "      <td>...</td>\n",
       "      <td>0</td>\n",
       "      <td>0</td>\n",
       "      <td>0</td>\n",
       "      <td>0</td>\n",
       "      <td>0</td>\n",
       "      <td>0</td>\n",
       "      <td>0</td>\n",
       "      <td>0</td>\n",
       "      <td>1</td>\n",
       "      <td>0</td>\n",
       "    </tr>\n",
       "    <tr>\n",
       "      <th>2</th>\n",
       "      <td>0</td>\n",
       "      <td>0</td>\n",
       "      <td>0</td>\n",
       "      <td>0</td>\n",
       "      <td>0</td>\n",
       "      <td>0</td>\n",
       "      <td>0</td>\n",
       "      <td>0</td>\n",
       "      <td>0</td>\n",
       "      <td>0</td>\n",
       "      <td>...</td>\n",
       "      <td>0</td>\n",
       "      <td>0</td>\n",
       "      <td>0</td>\n",
       "      <td>0</td>\n",
       "      <td>1</td>\n",
       "      <td>0</td>\n",
       "      <td>0</td>\n",
       "      <td>0</td>\n",
       "      <td>0</td>\n",
       "      <td>0</td>\n",
       "    </tr>\n",
       "    <tr>\n",
       "      <th>3</th>\n",
       "      <td>0</td>\n",
       "      <td>232</td>\n",
       "      <td>8153</td>\n",
       "      <td>0</td>\n",
       "      <td>0</td>\n",
       "      <td>0</td>\n",
       "      <td>0</td>\n",
       "      <td>0</td>\n",
       "      <td>1</td>\n",
       "      <td>0</td>\n",
       "      <td>...</td>\n",
       "      <td>0</td>\n",
       "      <td>0</td>\n",
       "      <td>0</td>\n",
       "      <td>0</td>\n",
       "      <td>0</td>\n",
       "      <td>0</td>\n",
       "      <td>0</td>\n",
       "      <td>0</td>\n",
       "      <td>1</td>\n",
       "      <td>0</td>\n",
       "    </tr>\n",
       "    <tr>\n",
       "      <th>4</th>\n",
       "      <td>0</td>\n",
       "      <td>199</td>\n",
       "      <td>420</td>\n",
       "      <td>0</td>\n",
       "      <td>0</td>\n",
       "      <td>0</td>\n",
       "      <td>0</td>\n",
       "      <td>0</td>\n",
       "      <td>1</td>\n",
       "      <td>0</td>\n",
       "      <td>...</td>\n",
       "      <td>0</td>\n",
       "      <td>0</td>\n",
       "      <td>0</td>\n",
       "      <td>0</td>\n",
       "      <td>0</td>\n",
       "      <td>0</td>\n",
       "      <td>0</td>\n",
       "      <td>0</td>\n",
       "      <td>1</td>\n",
       "      <td>0</td>\n",
       "    </tr>\n",
       "  </tbody>\n",
       "</table>\n",
       "<p>5 rows × 51 columns</p>\n",
       "</div>"
      ],
      "text/plain": [
       "   duration  src_bytes  dst_bytes  land  wrong_fragment  urgent  hot  \\\n",
       "0         0        491          0     0               0       0    0   \n",
       "1         0        146          0     0               0       0    0   \n",
       "2         0          0          0     0               0       0    0   \n",
       "3         0        232       8153     0               0       0    0   \n",
       "4         0        199        420     0               0       0    0   \n",
       "\n",
       "   num_failed_logins  logged_in  num_compromised  ...  flag_REJ  flag_RSTO  \\\n",
       "0                  0          0                0  ...         0          0   \n",
       "1                  0          0                0  ...         0          0   \n",
       "2                  0          0                0  ...         0          0   \n",
       "3                  0          1                0  ...         0          0   \n",
       "4                  0          1                0  ...         0          0   \n",
       "\n",
       "   flag_RSTOS0  flag_RSTR  flag_S0  flag_S1  flag_S2  flag_S3  flag_SF  \\\n",
       "0            0          0        0        0        0        0        1   \n",
       "1            0          0        0        0        0        0        1   \n",
       "2            0          0        1        0        0        0        0   \n",
       "3            0          0        0        0        0        0        1   \n",
       "4            0          0        0        0        0        0        1   \n",
       "\n",
       "   flag_SH  \n",
       "0        0  \n",
       "1        0  \n",
       "2        0  \n",
       "3        0  \n",
       "4        0  \n",
       "\n",
       "[5 rows x 51 columns]"
      ]
     },
     "execution_count": 13,
     "metadata": {},
     "output_type": "execute_result"
    }
   ],
   "source": [
    "#Dummy code the protocol type and flag columns\n",
    "protocol_type_dummy= pd.get_dummies(nid_train['protocol_type'], prefix='protocol', drop_first=True)\n",
    "flag_dummy = pd.get_dummies(nid_train['flag'], prefix='flag', drop_first=True)\n",
    "nid_train = pd.concat([nid_train, protocol_type_dummy,flag_dummy], axis=1)\n",
    "nid_train.drop( 'protocol_type', axis = 1, inplace = True )\n",
    "nid_train.drop( 'flag', axis = 1, inplace = True )\n",
    "\n",
    "#dropping the rejected columns as well\n",
    "nid_train.drop( 'service', axis = 1, inplace = True )\n",
    "nid_train.drop( 'num_outbound_cmds', axis = 1, inplace = True )\n",
    "\n",
    "nid_train.head()"
   ]
  },
  {
   "cell_type": "code",
   "execution_count": 14,
   "metadata": {},
   "outputs": [
    {
     "data": {
      "text/plain": [
       "(125973, 51)"
      ]
     },
     "execution_count": 14,
     "metadata": {},
     "output_type": "execute_result"
    }
   ],
   "source": [
    "nid_train.shape"
   ]
  },
  {
   "cell_type": "code",
   "execution_count": 15,
   "metadata": {},
   "outputs": [
    {
     "name": "stdout",
     "output_type": "stream",
     "text": [
      "(88181, 50)\n",
      "(88181, 1)\n"
     ]
    }
   ],
   "source": [
    "# Separting X variables and Y variable\n",
    "X = nid_train[nid_train.columns.difference(['Attack_Multiclass'])]\n",
    "Y = nid_train[['Attack_Multiclass']]\n",
    "\n",
    "# Splitting training dataset into training and testing\n",
    "train_x, test_x, train_y, test_y = train_test_split(X, Y, test_size=0.3, random_state=42)\n",
    "print(train_x.shape)\n",
    "print(train_y.shape)"
   ]
  },
  {
   "cell_type": "code",
   "execution_count": 16,
   "metadata": {},
   "outputs": [],
   "source": [
    "#Feature Scaling\n",
    "sc = StandardScaler()\n",
    "train_x = sc.fit_transform(train_x)\n",
    "test_x = sc.transform(test_x)"
   ]
  },
  {
   "cell_type": "code",
   "execution_count": 17,
   "metadata": {},
   "outputs": [],
   "source": [
    "# Fitting KNN Classifier\n",
    "model = KNeighborsClassifier(n_neighbors=5, weights='distance')\n",
    "model = model.fit(train_x, train_y)"
   ]
  },
  {
   "cell_type": "code",
   "execution_count": 18,
   "metadata": {},
   "outputs": [
    {
     "name": "stdout",
     "output_type": "stream",
     "text": [
      "Best Accuracy: 99.85 %\n",
      "Best Parameters: {'metric': 'minkowski', 'n_neighbors': 3, 'p': 2, 'weights': 'distance'}\n"
     ]
    }
   ],
   "source": [
    "# Using GridSearchCV to determine best pair of parameters\n",
    "parameters = [{'n_neighbors': [3,4,5,6], 'weights': ['uniform','distance'],'metric' : ['minkowski'], 'p' :[2]}]\n",
    "grid_search = GridSearchCV(estimator = model,\n",
    "                           param_grid = parameters,\n",
    "                           scoring = 'accuracy',\n",
    "                           cv = 5,\n",
    "                           n_jobs = -1)\n",
    "grid_search = grid_search.fit(train_x, train_y)\n",
    "best_accuracy = grid_search.best_score_\n",
    "best_parameters = grid_search.best_params_\n",
    "print(\"Best Accuracy: {:.2f} %\".format(best_accuracy*100))\n",
    "print(\"Best Parameters:\", best_parameters)"
   ]
  },
  {
   "cell_type": "markdown",
   "metadata": {},
   "source": [
    "> **Fitting model again based on best parameters**"
   ]
  },
  {
   "cell_type": "code",
   "execution_count": 19,
   "metadata": {},
   "outputs": [],
   "source": [
    "# Fitting KNN Classifier\n",
    "model = KNeighborsClassifier(n_neighbors=3, weights='distance',metric ='minkowski', p=2)\n",
    "model = model.fit(train_x, train_y)"
   ]
  },
  {
   "cell_type": "code",
   "execution_count": 20,
   "metadata": {},
   "outputs": [],
   "source": [
    "train_predict = model.predict(train_x)\n",
    "train_predict_probability = model.predict_proba(train_x)"
   ]
  },
  {
   "cell_type": "code",
   "execution_count": 21,
   "metadata": {},
   "outputs": [
    {
     "name": "stdout",
     "output_type": "stream",
     "text": [
      "-------------- Classification Report ----------------------\n",
      "              precision    recall  f1-score   support\n",
      "\n",
      "      normal       1.00      1.00      1.00     47260\n",
      "         dos       1.00      1.00      1.00     32102\n",
      "       probe       1.00      1.00      1.00      8116\n",
      "         r2l       1.00      1.00      1.00       668\n",
      "         u2r       1.00      1.00      1.00        35\n",
      "\n",
      "    accuracy                           1.00     88181\n",
      "   macro avg       1.00      1.00      1.00     88181\n",
      "weighted avg       1.00      1.00      1.00     88181\n",
      "\n"
     ]
    }
   ],
   "source": [
    "lbl = np.array([0,1,2,3,4])\n",
    "tgt = ['normal','dos','probe','r2l','u2r']\n",
    "print(\"-------------- Classification Report ----------------------\")\n",
    "print(metrics.classification_report(train_y,train_predict,labels = lbl,target_names = tgt))"
   ]
  },
  {
   "cell_type": "code",
   "execution_count": 22,
   "metadata": {},
   "outputs": [],
   "source": [
    "test_predict = model.predict(test_x)\n",
    "test_predict_probability = model.predict_proba(test_x)"
   ]
  },
  {
   "cell_type": "code",
   "execution_count": 23,
   "metadata": {},
   "outputs": [
    {
     "name": "stdout",
     "output_type": "stream",
     "text": [
      "-------------- Classification Report ----------------------\n",
      "              precision    recall  f1-score   support\n",
      "\n",
      "      normal       1.00      1.00      1.00     20083\n",
      "         dos       1.00      1.00      1.00     13825\n",
      "       probe       0.99      1.00      1.00      3540\n",
      "         r2l       0.98      0.96      0.97       327\n",
      "         u2r       0.75      0.53      0.62        17\n",
      "\n",
      "    accuracy                           1.00     37792\n",
      "   macro avg       0.95      0.90      0.92     37792\n",
      "weighted avg       1.00      1.00      1.00     37792\n",
      "\n"
     ]
    }
   ],
   "source": [
    "lbl = np.array([0,1,2,3,4])\n",
    "tgt = ['normal','dos','probe','r2l','u2r']\n",
    "print(\"-------------- Classification Report ----------------------\")\n",
    "print(metrics.classification_report(test_y,test_predict,labels = lbl,target_names = tgt))"
   ]
  },
  {
   "cell_type": "markdown",
   "metadata": {},
   "source": [
    "### Fitting the model  to the actual Test.csv data\n",
    "\n",
    "#### Starting with processing Test data to fit the model"
   ]
  },
  {
   "cell_type": "code",
   "execution_count": 24,
   "metadata": {},
   "outputs": [],
   "source": [
    "#1. Dummyfing relevant columns\n",
    "protocol_type_dummy= pd.get_dummies(nid_test['protocol_type'], prefix='protocol', drop_first=True)\n",
    "flag_dummy = pd.get_dummies(nid_test['flag'], prefix='flag', drop_first=True)\n",
    "nid_test_std = pd.concat([nid_test, protocol_type_dummy,flag_dummy], axis=1)\n",
    "\n",
    "#2. Getting rid of unnecessary columns\n",
    "nid_test_std.drop( 'protocol_type', axis = 1, inplace = True )\n",
    "nid_test_std.drop( 'flag', axis = 1, inplace = True )\n",
    "nid_test_std.drop( 'service', axis = 1, inplace = True )\n",
    "nid_test_std.drop( 'num_outbound_cmds', axis = 1, inplace = True )\n",
    "\n",
    "#4. Splitting test data into X and Y vars (since we have Y var in the dataset)\n",
    "t_test_x = nid_test_std[nid_test_std.columns.difference(['Attack_Multiclass'])]\n",
    "t_test_y = nid_test_std[['Attack_Multiclass']]\n",
    "\n",
    "#5. Standardizing the dataset\n",
    "t_test_x = sc.transform(t_test_x)\n"
   ]
  },
  {
   "cell_type": "code",
   "execution_count": 25,
   "metadata": {},
   "outputs": [],
   "source": [
    "# Getting predicted data\n",
    "t_test_predict = model.predict(t_test_x)\n",
    "t_test_predict_probability = model.predict_proba(t_test_x)"
   ]
  },
  {
   "cell_type": "code",
   "execution_count": 26,
   "metadata": {},
   "outputs": [
    {
     "name": "stdout",
     "output_type": "stream",
     "text": [
      "-------------- Classification Report ----------------------\n",
      "              precision    recall  f1-score   support\n",
      "\n",
      "      normal       0.73      0.96      0.83     10004\n",
      "         dos       0.91      0.84      0.87      7166\n",
      "       probe       0.71      0.72      0.71      2421\n",
      "         r2l       0.96      0.07      0.14      2885\n",
      "         u2r       0.44      0.31      0.37        67\n",
      "\n",
      "    accuracy                           0.78     22543\n",
      "   macro avg       0.75      0.58      0.58     22543\n",
      "weighted avg       0.81      0.78      0.74     22543\n",
      "\n"
     ]
    }
   ],
   "source": [
    "#Getting test fit metrics\n",
    "lbl = np.array([0,1,2,3,4])\n",
    "tgt = ['normal','dos','probe','r2l','u2r']\n",
    "print(\"-------------- Classification Report ----------------------\")\n",
    "print(metrics.classification_report(t_test_y,t_test_predict,labels = lbl,target_names = tgt))"
   ]
  },
  {
   "cell_type": "code",
   "execution_count": 27,
   "metadata": {},
   "outputs": [
    {
     "data": {
      "text/plain": [
       "(22543, 44)"
      ]
     },
     "execution_count": 27,
     "metadata": {},
     "output_type": "execute_result"
    }
   ],
   "source": [
    "nid_test_final = pd.concat([nid_test, pd.DataFrame(data = t_test_predict,columns = ['Predicted_Multiclass'])], axis=1)\n",
    "nid_test_final.shape"
   ]
  },
  {
   "cell_type": "code",
   "execution_count": 28,
   "metadata": {},
   "outputs": [],
   "source": [
    "nid_test_final.to_csv(\"Test_data_output.csv\")"
   ]
  },
  {
   "cell_type": "markdown",
   "metadata": {},
   "source": [
    "### With 78% accuracy, we can try a different algorithm to get better accuracy.\n",
    "\n",
    "## Support Vector Machine for multiclass Classifiction"
   ]
  },
  {
   "cell_type": "code",
   "execution_count": 29,
   "metadata": {},
   "outputs": [],
   "source": [
    "nid_train = nid_train_1.copy()\n",
    "protocol_type_dummy= pd.get_dummies(nid_train['protocol_type'], prefix='protocol', drop_first=True)\n",
    "flag_dummy = pd.get_dummies(nid_train['flag'], prefix='flag', drop_first=True)\n",
    "nid_train = pd.concat([nid_train, protocol_type_dummy,flag_dummy], axis=1)"
   ]
  },
  {
   "cell_type": "code",
   "execution_count": 31,
   "metadata": {},
   "outputs": [
    {
     "data": {
      "text/html": [
       "<div>\n",
       "<style scoped>\n",
       "    .dataframe tbody tr th:only-of-type {\n",
       "        vertical-align: middle;\n",
       "    }\n",
       "\n",
       "    .dataframe tbody tr th {\n",
       "        vertical-align: top;\n",
       "    }\n",
       "\n",
       "    .dataframe thead th {\n",
       "        text-align: right;\n",
       "    }\n",
       "</style>\n",
       "<table border=\"1\" class=\"dataframe\">\n",
       "  <thead>\n",
       "    <tr style=\"text-align: right;\">\n",
       "      <th></th>\n",
       "      <th>duration</th>\n",
       "      <th>src_bytes</th>\n",
       "      <th>dst_bytes</th>\n",
       "      <th>land</th>\n",
       "      <th>wrong_fragment</th>\n",
       "      <th>urgent</th>\n",
       "      <th>hot</th>\n",
       "      <th>num_failed_logins</th>\n",
       "      <th>logged_in</th>\n",
       "      <th>num_compromised</th>\n",
       "      <th>...</th>\n",
       "      <th>flag_REJ</th>\n",
       "      <th>flag_RSTO</th>\n",
       "      <th>flag_RSTOS0</th>\n",
       "      <th>flag_RSTR</th>\n",
       "      <th>flag_S0</th>\n",
       "      <th>flag_S1</th>\n",
       "      <th>flag_S2</th>\n",
       "      <th>flag_S3</th>\n",
       "      <th>flag_SF</th>\n",
       "      <th>flag_SH</th>\n",
       "    </tr>\n",
       "  </thead>\n",
       "  <tbody>\n",
       "    <tr>\n",
       "      <th>0</th>\n",
       "      <td>0</td>\n",
       "      <td>491</td>\n",
       "      <td>0</td>\n",
       "      <td>0</td>\n",
       "      <td>0</td>\n",
       "      <td>0</td>\n",
       "      <td>0</td>\n",
       "      <td>0</td>\n",
       "      <td>0</td>\n",
       "      <td>0</td>\n",
       "      <td>...</td>\n",
       "      <td>0</td>\n",
       "      <td>0</td>\n",
       "      <td>0</td>\n",
       "      <td>0</td>\n",
       "      <td>0</td>\n",
       "      <td>0</td>\n",
       "      <td>0</td>\n",
       "      <td>0</td>\n",
       "      <td>1</td>\n",
       "      <td>0</td>\n",
       "    </tr>\n",
       "    <tr>\n",
       "      <th>1</th>\n",
       "      <td>0</td>\n",
       "      <td>146</td>\n",
       "      <td>0</td>\n",
       "      <td>0</td>\n",
       "      <td>0</td>\n",
       "      <td>0</td>\n",
       "      <td>0</td>\n",
       "      <td>0</td>\n",
       "      <td>0</td>\n",
       "      <td>0</td>\n",
       "      <td>...</td>\n",
       "      <td>0</td>\n",
       "      <td>0</td>\n",
       "      <td>0</td>\n",
       "      <td>0</td>\n",
       "      <td>0</td>\n",
       "      <td>0</td>\n",
       "      <td>0</td>\n",
       "      <td>0</td>\n",
       "      <td>1</td>\n",
       "      <td>0</td>\n",
       "    </tr>\n",
       "    <tr>\n",
       "      <th>2</th>\n",
       "      <td>0</td>\n",
       "      <td>0</td>\n",
       "      <td>0</td>\n",
       "      <td>0</td>\n",
       "      <td>0</td>\n",
       "      <td>0</td>\n",
       "      <td>0</td>\n",
       "      <td>0</td>\n",
       "      <td>0</td>\n",
       "      <td>0</td>\n",
       "      <td>...</td>\n",
       "      <td>0</td>\n",
       "      <td>0</td>\n",
       "      <td>0</td>\n",
       "      <td>0</td>\n",
       "      <td>1</td>\n",
       "      <td>0</td>\n",
       "      <td>0</td>\n",
       "      <td>0</td>\n",
       "      <td>0</td>\n",
       "      <td>0</td>\n",
       "    </tr>\n",
       "    <tr>\n",
       "      <th>3</th>\n",
       "      <td>0</td>\n",
       "      <td>232</td>\n",
       "      <td>8153</td>\n",
       "      <td>0</td>\n",
       "      <td>0</td>\n",
       "      <td>0</td>\n",
       "      <td>0</td>\n",
       "      <td>0</td>\n",
       "      <td>1</td>\n",
       "      <td>0</td>\n",
       "      <td>...</td>\n",
       "      <td>0</td>\n",
       "      <td>0</td>\n",
       "      <td>0</td>\n",
       "      <td>0</td>\n",
       "      <td>0</td>\n",
       "      <td>0</td>\n",
       "      <td>0</td>\n",
       "      <td>0</td>\n",
       "      <td>1</td>\n",
       "      <td>0</td>\n",
       "    </tr>\n",
       "    <tr>\n",
       "      <th>4</th>\n",
       "      <td>0</td>\n",
       "      <td>199</td>\n",
       "      <td>420</td>\n",
       "      <td>0</td>\n",
       "      <td>0</td>\n",
       "      <td>0</td>\n",
       "      <td>0</td>\n",
       "      <td>0</td>\n",
       "      <td>1</td>\n",
       "      <td>0</td>\n",
       "      <td>...</td>\n",
       "      <td>0</td>\n",
       "      <td>0</td>\n",
       "      <td>0</td>\n",
       "      <td>0</td>\n",
       "      <td>0</td>\n",
       "      <td>0</td>\n",
       "      <td>0</td>\n",
       "      <td>0</td>\n",
       "      <td>1</td>\n",
       "      <td>0</td>\n",
       "    </tr>\n",
       "  </tbody>\n",
       "</table>\n",
       "<p>5 rows × 52 columns</p>\n",
       "</div>"
      ],
      "text/plain": [
       "   duration  src_bytes  dst_bytes  land  wrong_fragment  urgent  hot  \\\n",
       "0         0        491          0     0               0       0    0   \n",
       "1         0        146          0     0               0       0    0   \n",
       "2         0          0          0     0               0       0    0   \n",
       "3         0        232       8153     0               0       0    0   \n",
       "4         0        199        420     0               0       0    0   \n",
       "\n",
       "   num_failed_logins  logged_in  num_compromised  ...  flag_REJ  flag_RSTO  \\\n",
       "0                  0          0                0  ...         0          0   \n",
       "1                  0          0                0  ...         0          0   \n",
       "2                  0          0                0  ...         0          0   \n",
       "3                  0          1                0  ...         0          0   \n",
       "4                  0          1                0  ...         0          0   \n",
       "\n",
       "   flag_RSTOS0  flag_RSTR  flag_S0  flag_S1  flag_S2  flag_S3  flag_SF  \\\n",
       "0            0          0        0        0        0        0        1   \n",
       "1            0          0        0        0        0        0        1   \n",
       "2            0          0        1        0        0        0        0   \n",
       "3            0          0        0        0        0        0        1   \n",
       "4            0          0        0        0        0        0        1   \n",
       "\n",
       "   flag_SH  \n",
       "0        0  \n",
       "1        0  \n",
       "2        0  \n",
       "3        0  \n",
       "4        0  \n",
       "\n",
       "[5 rows x 52 columns]"
      ]
     },
     "execution_count": 31,
     "metadata": {},
     "output_type": "execute_result"
    }
   ],
   "source": [
    "nid_train.drop(['protocol_type','flag','service'],axis = 1,inplace=True)\n",
    "nid_train.head()"
   ]
  },
  {
   "cell_type": "code",
   "execution_count": 33,
   "metadata": {},
   "outputs": [
    {
     "data": {
      "text/html": [
       "<div>\n",
       "<style scoped>\n",
       "    .dataframe tbody tr th:only-of-type {\n",
       "        vertical-align: middle;\n",
       "    }\n",
       "\n",
       "    .dataframe tbody tr th {\n",
       "        vertical-align: top;\n",
       "    }\n",
       "\n",
       "    .dataframe thead th {\n",
       "        text-align: right;\n",
       "    }\n",
       "</style>\n",
       "<table border=\"1\" class=\"dataframe\">\n",
       "  <thead>\n",
       "    <tr style=\"text-align: right;\">\n",
       "      <th></th>\n",
       "      <th>duration</th>\n",
       "      <th>src_bytes</th>\n",
       "      <th>dst_bytes</th>\n",
       "      <th>wrong_fragment</th>\n",
       "      <th>urgent</th>\n",
       "      <th>hot</th>\n",
       "      <th>num_failed_logins</th>\n",
       "      <th>num_compromised</th>\n",
       "      <th>num_root</th>\n",
       "      <th>num_file_creations</th>\n",
       "      <th>...</th>\n",
       "      <th>dst_host_count</th>\n",
       "      <th>dst_host_srv_count</th>\n",
       "      <th>dst_host_same_srv_rate</th>\n",
       "      <th>dst_host_diff_srv_rate</th>\n",
       "      <th>dst_host_same_src_port_rate</th>\n",
       "      <th>dst_host_srv_diff_host_rate</th>\n",
       "      <th>dst_host_serror_rate</th>\n",
       "      <th>dst_host_srv_serror_rate</th>\n",
       "      <th>dst_host_rerror_rate</th>\n",
       "      <th>dst_host_srv_rerror_rate</th>\n",
       "    </tr>\n",
       "  </thead>\n",
       "  <tbody>\n",
       "    <tr>\n",
       "      <th>0</th>\n",
       "      <td>0</td>\n",
       "      <td>491</td>\n",
       "      <td>0</td>\n",
       "      <td>0</td>\n",
       "      <td>0</td>\n",
       "      <td>0</td>\n",
       "      <td>0</td>\n",
       "      <td>0</td>\n",
       "      <td>0</td>\n",
       "      <td>0</td>\n",
       "      <td>...</td>\n",
       "      <td>150</td>\n",
       "      <td>25</td>\n",
       "      <td>0.17</td>\n",
       "      <td>0.03</td>\n",
       "      <td>0.17</td>\n",
       "      <td>0.00</td>\n",
       "      <td>0.00</td>\n",
       "      <td>0.00</td>\n",
       "      <td>0.05</td>\n",
       "      <td>0.00</td>\n",
       "    </tr>\n",
       "    <tr>\n",
       "      <th>1</th>\n",
       "      <td>0</td>\n",
       "      <td>146</td>\n",
       "      <td>0</td>\n",
       "      <td>0</td>\n",
       "      <td>0</td>\n",
       "      <td>0</td>\n",
       "      <td>0</td>\n",
       "      <td>0</td>\n",
       "      <td>0</td>\n",
       "      <td>0</td>\n",
       "      <td>...</td>\n",
       "      <td>255</td>\n",
       "      <td>1</td>\n",
       "      <td>0.00</td>\n",
       "      <td>0.60</td>\n",
       "      <td>0.88</td>\n",
       "      <td>0.00</td>\n",
       "      <td>0.00</td>\n",
       "      <td>0.00</td>\n",
       "      <td>0.00</td>\n",
       "      <td>0.00</td>\n",
       "    </tr>\n",
       "    <tr>\n",
       "      <th>2</th>\n",
       "      <td>0</td>\n",
       "      <td>0</td>\n",
       "      <td>0</td>\n",
       "      <td>0</td>\n",
       "      <td>0</td>\n",
       "      <td>0</td>\n",
       "      <td>0</td>\n",
       "      <td>0</td>\n",
       "      <td>0</td>\n",
       "      <td>0</td>\n",
       "      <td>...</td>\n",
       "      <td>255</td>\n",
       "      <td>26</td>\n",
       "      <td>0.10</td>\n",
       "      <td>0.05</td>\n",
       "      <td>0.00</td>\n",
       "      <td>0.00</td>\n",
       "      <td>1.00</td>\n",
       "      <td>1.00</td>\n",
       "      <td>0.00</td>\n",
       "      <td>0.00</td>\n",
       "    </tr>\n",
       "    <tr>\n",
       "      <th>3</th>\n",
       "      <td>0</td>\n",
       "      <td>232</td>\n",
       "      <td>8153</td>\n",
       "      <td>0</td>\n",
       "      <td>0</td>\n",
       "      <td>0</td>\n",
       "      <td>0</td>\n",
       "      <td>0</td>\n",
       "      <td>0</td>\n",
       "      <td>0</td>\n",
       "      <td>...</td>\n",
       "      <td>30</td>\n",
       "      <td>255</td>\n",
       "      <td>1.00</td>\n",
       "      <td>0.00</td>\n",
       "      <td>0.03</td>\n",
       "      <td>0.04</td>\n",
       "      <td>0.03</td>\n",
       "      <td>0.01</td>\n",
       "      <td>0.00</td>\n",
       "      <td>0.01</td>\n",
       "    </tr>\n",
       "    <tr>\n",
       "      <th>4</th>\n",
       "      <td>0</td>\n",
       "      <td>199</td>\n",
       "      <td>420</td>\n",
       "      <td>0</td>\n",
       "      <td>0</td>\n",
       "      <td>0</td>\n",
       "      <td>0</td>\n",
       "      <td>0</td>\n",
       "      <td>0</td>\n",
       "      <td>0</td>\n",
       "      <td>...</td>\n",
       "      <td>255</td>\n",
       "      <td>255</td>\n",
       "      <td>1.00</td>\n",
       "      <td>0.00</td>\n",
       "      <td>0.00</td>\n",
       "      <td>0.00</td>\n",
       "      <td>0.00</td>\n",
       "      <td>0.00</td>\n",
       "      <td>0.00</td>\n",
       "      <td>0.00</td>\n",
       "    </tr>\n",
       "  </tbody>\n",
       "</table>\n",
       "<p>5 rows × 31 columns</p>\n",
       "</div>"
      ],
      "text/plain": [
       "   duration  src_bytes  dst_bytes  wrong_fragment  urgent  hot  \\\n",
       "0         0        491          0               0       0    0   \n",
       "1         0        146          0               0       0    0   \n",
       "2         0          0          0               0       0    0   \n",
       "3         0        232       8153               0       0    0   \n",
       "4         0        199        420               0       0    0   \n",
       "\n",
       "   num_failed_logins  num_compromised  num_root  num_file_creations  ...  \\\n",
       "0                  0                0         0                   0  ...   \n",
       "1                  0                0         0                   0  ...   \n",
       "2                  0                0         0                   0  ...   \n",
       "3                  0                0         0                   0  ...   \n",
       "4                  0                0         0                   0  ...   \n",
       "\n",
       "   dst_host_count  dst_host_srv_count  dst_host_same_srv_rate  \\\n",
       "0             150                  25                    0.17   \n",
       "1             255                   1                    0.00   \n",
       "2             255                  26                    0.10   \n",
       "3              30                 255                    1.00   \n",
       "4             255                 255                    1.00   \n",
       "\n",
       "   dst_host_diff_srv_rate  dst_host_same_src_port_rate  \\\n",
       "0                    0.03                         0.17   \n",
       "1                    0.60                         0.88   \n",
       "2                    0.05                         0.00   \n",
       "3                    0.00                         0.03   \n",
       "4                    0.00                         0.00   \n",
       "\n",
       "   dst_host_srv_diff_host_rate  dst_host_serror_rate  \\\n",
       "0                         0.00                  0.00   \n",
       "1                         0.00                  0.00   \n",
       "2                         0.00                  1.00   \n",
       "3                         0.04                  0.03   \n",
       "4                         0.00                  0.00   \n",
       "\n",
       "   dst_host_srv_serror_rate  dst_host_rerror_rate  dst_host_srv_rerror_rate  \n",
       "0                      0.00                  0.05                      0.00  \n",
       "1                      0.00                  0.00                      0.00  \n",
       "2                      1.00                  0.00                      0.00  \n",
       "3                      0.01                  0.00                      0.01  \n",
       "4                      0.00                  0.00                      0.00  \n",
       "\n",
       "[5 rows x 31 columns]"
      ]
     },
     "execution_count": 33,
     "metadata": {},
     "output_type": "execute_result"
    }
   ],
   "source": [
    "nid_train_cont = nid_train[['duration','src_bytes','dst_bytes','wrong_fragment','urgent','hot','num_failed_logins','num_compromised','num_root','num_file_creations','num_shells','num_access_files','count','srv_count','serror_rate','srv_serror_rate','rerror_rate','srv_rerror_rate','same_srv_rate','diff_srv_rate','srv_diff_host_rate','dst_host_count','dst_host_srv_count','dst_host_same_srv_rate','dst_host_diff_srv_rate','dst_host_same_src_port_rate','dst_host_srv_diff_host_rate','dst_host_serror_rate','dst_host_srv_serror_rate','dst_host_rerror_rate','dst_host_srv_rerror_rate']]\n",
    "nid_train_cont.head()"
   ]
  },
  {
   "cell_type": "code",
   "execution_count": 36,
   "metadata": {},
   "outputs": [
    {
     "name": "stdout",
     "output_type": "stream",
     "text": [
      "<class 'pandas.core.frame.DataFrame'>\n",
      "RangeIndex: 125973 entries, 0 to 125972\n",
      "Data columns (total 20 columns):\n",
      "Attack_Multiclass    125973 non-null int64\n",
      "flag_REJ             125973 non-null uint8\n",
      "flag_RSTO            125973 non-null uint8\n",
      "flag_RSTOS0          125973 non-null uint8\n",
      "flag_RSTR            125973 non-null uint8\n",
      "flag_S0              125973 non-null uint8\n",
      "flag_S1              125973 non-null uint8\n",
      "flag_S2              125973 non-null uint8\n",
      "flag_S3              125973 non-null uint8\n",
      "flag_SF              125973 non-null uint8\n",
      "flag_SH              125973 non-null uint8\n",
      "is_guest_login       125973 non-null int64\n",
      "is_host_login        125973 non-null int64\n",
      "land                 125973 non-null int64\n",
      "last_flag            125973 non-null int64\n",
      "logged_in            125973 non-null int64\n",
      "protocol_tcp         125973 non-null uint8\n",
      "protocol_udp         125973 non-null uint8\n",
      "root_shell           125973 non-null int64\n",
      "su_attempted         125973 non-null int64\n",
      "dtypes: int64(8), uint8(12)\n",
      "memory usage: 9.1 MB\n"
     ]
    }
   ],
   "source": [
    "nid_train_categ = nid_train[nid_train.columns.difference(['duration','src_bytes','dst_bytes','wrong_fragment','urgent','hot','num_failed_logins','num_compromised','num_root','num_file_creations','num_shells','num_access_files','count','srv_count','serror_rate','srv_serror_rate','rerror_rate','srv_rerror_rate','same_srv_rate','diff_srv_rate','srv_diff_host_rate','dst_host_count','dst_host_srv_count','dst_host_same_srv_rate','dst_host_diff_srv_rate','dst_host_same_src_port_rate','dst_host_srv_diff_host_rate','dst_host_serror_rate','dst_host_srv_serror_rate','dst_host_rerror_rate','dst_host_srv_rerror_rate'])]\n",
    "nid_train_categ.drop(['num_outbound_cmds'],axis = 1,inplace=True)\n",
    "nid_train_categ.info()"
   ]
  },
  {
   "cell_type": "code",
   "execution_count": 34,
   "metadata": {},
   "outputs": [],
   "source": [
    "corr = nid_train_cont.corr()\n",
    "corr.to_csv(\"Correlation_matrix_multiclass.csv\")"
   ]
  },
  {
   "cell_type": "code",
   "execution_count": 37,
   "metadata": {
    "scrolled": false
   },
   "outputs": [
    {
     "data": {
      "text/html": [
       "<div>\n",
       "<style scoped>\n",
       "    .dataframe tbody tr th:only-of-type {\n",
       "        vertical-align: middle;\n",
       "    }\n",
       "\n",
       "    .dataframe tbody tr th {\n",
       "        vertical-align: top;\n",
       "    }\n",
       "\n",
       "    .dataframe thead th {\n",
       "        text-align: right;\n",
       "    }\n",
       "</style>\n",
       "<table border=\"1\" class=\"dataframe\">\n",
       "  <thead>\n",
       "    <tr style=\"text-align: right;\">\n",
       "      <th></th>\n",
       "      <th>duration</th>\n",
       "      <th>src_bytes</th>\n",
       "      <th>dst_bytes</th>\n",
       "      <th>wrong_fragment</th>\n",
       "      <th>urgent</th>\n",
       "      <th>hot</th>\n",
       "      <th>num_failed_logins</th>\n",
       "      <th>num_root</th>\n",
       "      <th>num_file_creations</th>\n",
       "      <th>num_shells</th>\n",
       "      <th>...</th>\n",
       "      <th>count</th>\n",
       "      <th>srv_count</th>\n",
       "      <th>serror_rate</th>\n",
       "      <th>rerror_rate</th>\n",
       "      <th>diff_srv_rate</th>\n",
       "      <th>srv_diff_host_rate</th>\n",
       "      <th>dst_host_count</th>\n",
       "      <th>dst_host_diff_srv_rate</th>\n",
       "      <th>dst_host_same_src_port_rate</th>\n",
       "      <th>dst_host_srv_diff_host_rate</th>\n",
       "    </tr>\n",
       "  </thead>\n",
       "  <tbody>\n",
       "    <tr>\n",
       "      <th>0</th>\n",
       "      <td>0</td>\n",
       "      <td>491</td>\n",
       "      <td>0</td>\n",
       "      <td>0</td>\n",
       "      <td>0</td>\n",
       "      <td>0</td>\n",
       "      <td>0</td>\n",
       "      <td>0</td>\n",
       "      <td>0</td>\n",
       "      <td>0</td>\n",
       "      <td>...</td>\n",
       "      <td>2</td>\n",
       "      <td>2</td>\n",
       "      <td>0.0</td>\n",
       "      <td>0.0</td>\n",
       "      <td>0.00</td>\n",
       "      <td>0.00</td>\n",
       "      <td>150</td>\n",
       "      <td>0.03</td>\n",
       "      <td>0.17</td>\n",
       "      <td>0.00</td>\n",
       "    </tr>\n",
       "    <tr>\n",
       "      <th>1</th>\n",
       "      <td>0</td>\n",
       "      <td>146</td>\n",
       "      <td>0</td>\n",
       "      <td>0</td>\n",
       "      <td>0</td>\n",
       "      <td>0</td>\n",
       "      <td>0</td>\n",
       "      <td>0</td>\n",
       "      <td>0</td>\n",
       "      <td>0</td>\n",
       "      <td>...</td>\n",
       "      <td>13</td>\n",
       "      <td>1</td>\n",
       "      <td>0.0</td>\n",
       "      <td>0.0</td>\n",
       "      <td>0.15</td>\n",
       "      <td>0.00</td>\n",
       "      <td>255</td>\n",
       "      <td>0.60</td>\n",
       "      <td>0.88</td>\n",
       "      <td>0.00</td>\n",
       "    </tr>\n",
       "    <tr>\n",
       "      <th>2</th>\n",
       "      <td>0</td>\n",
       "      <td>0</td>\n",
       "      <td>0</td>\n",
       "      <td>0</td>\n",
       "      <td>0</td>\n",
       "      <td>0</td>\n",
       "      <td>0</td>\n",
       "      <td>0</td>\n",
       "      <td>0</td>\n",
       "      <td>0</td>\n",
       "      <td>...</td>\n",
       "      <td>123</td>\n",
       "      <td>6</td>\n",
       "      <td>1.0</td>\n",
       "      <td>0.0</td>\n",
       "      <td>0.07</td>\n",
       "      <td>0.00</td>\n",
       "      <td>255</td>\n",
       "      <td>0.05</td>\n",
       "      <td>0.00</td>\n",
       "      <td>0.00</td>\n",
       "    </tr>\n",
       "    <tr>\n",
       "      <th>3</th>\n",
       "      <td>0</td>\n",
       "      <td>232</td>\n",
       "      <td>8153</td>\n",
       "      <td>0</td>\n",
       "      <td>0</td>\n",
       "      <td>0</td>\n",
       "      <td>0</td>\n",
       "      <td>0</td>\n",
       "      <td>0</td>\n",
       "      <td>0</td>\n",
       "      <td>...</td>\n",
       "      <td>5</td>\n",
       "      <td>5</td>\n",
       "      <td>0.2</td>\n",
       "      <td>0.0</td>\n",
       "      <td>0.00</td>\n",
       "      <td>0.00</td>\n",
       "      <td>30</td>\n",
       "      <td>0.00</td>\n",
       "      <td>0.03</td>\n",
       "      <td>0.04</td>\n",
       "    </tr>\n",
       "    <tr>\n",
       "      <th>4</th>\n",
       "      <td>0</td>\n",
       "      <td>199</td>\n",
       "      <td>420</td>\n",
       "      <td>0</td>\n",
       "      <td>0</td>\n",
       "      <td>0</td>\n",
       "      <td>0</td>\n",
       "      <td>0</td>\n",
       "      <td>0</td>\n",
       "      <td>0</td>\n",
       "      <td>...</td>\n",
       "      <td>30</td>\n",
       "      <td>32</td>\n",
       "      <td>0.0</td>\n",
       "      <td>0.0</td>\n",
       "      <td>0.00</td>\n",
       "      <td>0.09</td>\n",
       "      <td>255</td>\n",
       "      <td>0.00</td>\n",
       "      <td>0.00</td>\n",
       "      <td>0.00</td>\n",
       "    </tr>\n",
       "  </tbody>\n",
       "</table>\n",
       "<p>5 rows × 21 columns</p>\n",
       "</div>"
      ],
      "text/plain": [
       "   duration  src_bytes  dst_bytes  wrong_fragment  urgent  hot  \\\n",
       "0         0        491          0               0       0    0   \n",
       "1         0        146          0               0       0    0   \n",
       "2         0          0          0               0       0    0   \n",
       "3         0        232       8153               0       0    0   \n",
       "4         0        199        420               0       0    0   \n",
       "\n",
       "   num_failed_logins  num_root  num_file_creations  num_shells  ...  count  \\\n",
       "0                  0         0                   0           0  ...      2   \n",
       "1                  0         0                   0           0  ...     13   \n",
       "2                  0         0                   0           0  ...    123   \n",
       "3                  0         0                   0           0  ...      5   \n",
       "4                  0         0                   0           0  ...     30   \n",
       "\n",
       "   srv_count  serror_rate  rerror_rate  diff_srv_rate  srv_diff_host_rate  \\\n",
       "0          2          0.0          0.0           0.00                0.00   \n",
       "1          1          0.0          0.0           0.15                0.00   \n",
       "2          6          1.0          0.0           0.07                0.00   \n",
       "3          5          0.2          0.0           0.00                0.00   \n",
       "4         32          0.0          0.0           0.00                0.09   \n",
       "\n",
       "   dst_host_count  dst_host_diff_srv_rate  dst_host_same_src_port_rate  \\\n",
       "0             150                    0.03                         0.17   \n",
       "1             255                    0.60                         0.88   \n",
       "2             255                    0.05                         0.00   \n",
       "3              30                    0.00                         0.03   \n",
       "4             255                    0.00                         0.00   \n",
       "\n",
       "   dst_host_srv_diff_host_rate  \n",
       "0                         0.00  \n",
       "1                         0.00  \n",
       "2                         0.00  \n",
       "3                         0.04  \n",
       "4                         0.00  \n",
       "\n",
       "[5 rows x 21 columns]"
      ]
     },
     "execution_count": 37,
     "metadata": {},
     "output_type": "execute_result"
    }
   ],
   "source": [
    "# Based on Correlation matrix, dropping following columns:\n",
    "# 'num_compromised','srv_serror_rate','srv_rerror_rate','same_srv_rate','dst_host_srv_count','dst_host_same_srv_rate','dst_host_serror_rate','dst_host_srv_serror_rate','dst_host_rerror_rate','dst_host_srv_rerror_rate'\n",
    "nid_train_cont.drop(['num_compromised','srv_serror_rate','srv_rerror_rate','same_srv_rate','dst_host_srv_count','dst_host_same_srv_rate','dst_host_serror_rate','dst_host_srv_serror_rate','dst_host_rerror_rate','dst_host_srv_rerror_rate'],axis = 1,inplace = True)\n",
    "nid_train_cont.head()"
   ]
  },
  {
   "cell_type": "code",
   "execution_count": 40,
   "metadata": {},
   "outputs": [
    {
     "name": "stdout",
     "output_type": "stream",
     "text": [
      "(125973, 21)\n",
      "(125973, 20)\n"
     ]
    }
   ],
   "source": [
    "print(nid_train_cont.shape)\n",
    "print(nid_train_categ.shape)"
   ]
  },
  {
   "cell_type": "code",
   "execution_count": 41,
   "metadata": {},
   "outputs": [],
   "source": [
    "nid_train_trim = pd.concat([nid_train_cont,nid_train_categ],axis=1)"
   ]
  },
  {
   "cell_type": "code",
   "execution_count": 42,
   "metadata": {
    "scrolled": true
   },
   "outputs": [
    {
     "data": {
      "text/plain": [
       "(125973, 41)"
      ]
     },
     "execution_count": 42,
     "metadata": {},
     "output_type": "execute_result"
    }
   ],
   "source": [
    "nid_train_trim.shape"
   ]
  },
  {
   "cell_type": "markdown",
   "metadata": {},
   "source": [
    "### To gather important columns\n",
    "#### 1. RFE"
   ]
  },
  {
   "cell_type": "code",
   "execution_count": 45,
   "metadata": {},
   "outputs": [],
   "source": [
    "X = nid_train_trim[nid_train_trim.columns.difference(['Attack_Multiclass'])]\n",
    "y = nid_train_trim['Attack_Multiclass']\n",
    "classifier = RandomForestClassifier()\n",
    "rfe = RFE(classifier, 20)\n",
    "rfe = rfe.fit(X, y )"
   ]
  },
  {
   "cell_type": "code",
   "execution_count": 46,
   "metadata": {
    "scrolled": true
   },
   "outputs": [
    {
     "data": {
      "text/plain": [
       "['count',\n",
       " 'diff_srv_rate',\n",
       " 'dst_bytes',\n",
       " 'dst_host_count',\n",
       " 'dst_host_diff_srv_rate',\n",
       " 'dst_host_same_src_port_rate',\n",
       " 'dst_host_srv_diff_host_rate',\n",
       " 'flag_RSTR',\n",
       " 'flag_S0',\n",
       " 'flag_SF',\n",
       " 'hot',\n",
       " 'last_flag',\n",
       " 'logged_in',\n",
       " 'protocol_tcp',\n",
       " 'protocol_udp',\n",
       " 'rerror_rate',\n",
       " 'serror_rate',\n",
       " 'src_bytes',\n",
       " 'srv_count',\n",
       " 'wrong_fragment']"
      ]
     },
     "execution_count": 46,
     "metadata": {},
     "output_type": "execute_result"
    }
   ],
   "source": [
    "imp_rfe = list(X.columns[rfe.support_])\n",
    "imp_rfe"
   ]
  },
  {
   "cell_type": "markdown",
   "metadata": {},
   "source": [
    "#### 2. Select KBest"
   ]
  },
  {
   "cell_type": "code",
   "execution_count": 47,
   "metadata": {},
   "outputs": [],
   "source": [
    "SKB = SelectKBest(f_classif, k=20).fit(X, y )"
   ]
  },
  {
   "cell_type": "code",
   "execution_count": 48,
   "metadata": {},
   "outputs": [
    {
     "data": {
      "text/plain": [
       "['count',\n",
       " 'diff_srv_rate',\n",
       " 'dst_host_count',\n",
       " 'dst_host_diff_srv_rate',\n",
       " 'dst_host_same_src_port_rate',\n",
       " 'dst_host_srv_diff_host_rate',\n",
       " 'flag_REJ',\n",
       " 'flag_RSTR',\n",
       " 'flag_S0',\n",
       " 'flag_SF',\n",
       " 'hot',\n",
       " 'is_guest_login',\n",
       " 'last_flag',\n",
       " 'logged_in',\n",
       " 'protocol_tcp',\n",
       " 'protocol_udp',\n",
       " 'rerror_rate',\n",
       " 'root_shell',\n",
       " 'serror_rate',\n",
       " 'srv_diff_host_rate']"
      ]
     },
     "execution_count": 48,
     "metadata": {},
     "output_type": "execute_result"
    }
   ],
   "source": [
    "SKB.get_support()\n",
    "imp_vars_SKB = list(X.columns[SKB.get_support()])\n",
    "imp_vars_SKB"
   ]
  },
  {
   "cell_type": "code",
   "execution_count": 49,
   "metadata": {
    "scrolled": true
   },
   "outputs": [
    {
     "data": {
      "text/plain": [
       "['protocol_udp',\n",
       " 'dst_host_srv_diff_host_rate',\n",
       " 'serror_rate',\n",
       " 'src_bytes',\n",
       " 'dst_host_count',\n",
       " 'srv_diff_host_rate',\n",
       " 'dst_host_diff_srv_rate',\n",
       " 'srv_count',\n",
       " 'flag_S0',\n",
       " 'flag_RSTR',\n",
       " 'dst_bytes',\n",
       " 'logged_in',\n",
       " 'dst_host_same_src_port_rate',\n",
       " 'rerror_rate',\n",
       " 'last_flag',\n",
       " 'root_shell',\n",
       " 'protocol_tcp',\n",
       " 'is_guest_login',\n",
       " 'hot',\n",
       " 'flag_REJ',\n",
       " 'wrong_fragment',\n",
       " 'flag_SF',\n",
       " 'count',\n",
       " 'diff_srv_rate']"
      ]
     },
     "execution_count": 49,
     "metadata": {},
     "output_type": "execute_result"
    }
   ],
   "source": [
    "Final_list = list(set(imp_vars_SKB + imp_rfe ))\n",
    "Final_list"
   ]
  },
  {
   "cell_type": "markdown",
   "metadata": {},
   "source": [
    "## Fitting `Model 1` using RFE variables "
   ]
  },
  {
   "cell_type": "code",
   "execution_count": 50,
   "metadata": {},
   "outputs": [
    {
     "data": {
      "text/plain": [
       "(125973, 21)"
      ]
     },
     "execution_count": 50,
     "metadata": {},
     "output_type": "execute_result"
    }
   ],
   "source": [
    "nid_rfe = nid_train[imp_rfe]\n",
    "nid_rfe['Attack_Multiclass']=nid_train.Attack_Multiclass\n",
    "nid_rfe.shape"
   ]
  },
  {
   "cell_type": "code",
   "execution_count": 51,
   "metadata": {},
   "outputs": [],
   "source": [
    "target_rfe = nid_rfe[['Attack_Multiclass']]\n",
    "features_rfe = nid_rfe[nid_rfe.columns.difference(['Attack_Multiclass'])]\n",
    "train_y_rfe, test_y_rfe, train_X_rfe, test_X_rfe = train_test_split(target_rfe,features_rfe, test_size=0.3, random_state=42)"
   ]
  },
  {
   "cell_type": "code",
   "execution_count": 52,
   "metadata": {},
   "outputs": [],
   "source": [
    "sc = StandardScaler()\n",
    "train_X_rfe = sc.fit_transform(train_X_rfe)\n",
    "test_X_rfe = sc.transform(test_X_rfe)"
   ]
  },
  {
   "cell_type": "code",
   "execution_count": 53,
   "metadata": {},
   "outputs": [
    {
     "data": {
      "text/plain": [
       "SVC(C=1.0, break_ties=False, cache_size=200, class_weight=None, coef0=0.0,\n",
       "    decision_function_shape='ovr', degree=3, gamma='scale', kernel='rbf',\n",
       "    max_iter=-1, probability=False, random_state=42, shrinking=True, tol=0.001,\n",
       "    verbose=False)"
      ]
     },
     "execution_count": 53,
     "metadata": {},
     "output_type": "execute_result"
    }
   ],
   "source": [
    "classifier = SVC(kernel = 'rbf', random_state = 42)\n",
    "classifier.fit(train_X_rfe, train_y_rfe)"
   ]
  },
  {
   "cell_type": "code",
   "execution_count": 54,
   "metadata": {},
   "outputs": [
    {
     "name": "stdout",
     "output_type": "stream",
     "text": [
      "------------Parameters: C=1.0,kernel = 'rbf'------------\n",
      "              precision    recall  f1-score   support\n",
      "\n",
      "      normal       1.00      1.00      1.00     47260\n",
      "         dos       1.00      1.00      1.00     32102\n",
      "       probe       0.98      0.99      0.99      8116\n",
      "         r2l       0.94      0.94      0.94       668\n",
      "         u2r       0.75      0.43      0.55        35\n",
      "\n",
      "    accuracy                           1.00     88181\n",
      "   macro avg       0.93      0.87      0.89     88181\n",
      "weighted avg       1.00      1.00      1.00     88181\n",
      "\n"
     ]
    }
   ],
   "source": [
    "train_predict_rfe = classifier.predict(train_X_rfe)\n",
    "tgt = ['normal','dos','probe','r2l','u2r']\n",
    "print(\"------------Parameters: C=1.0,kernel = 'rbf'------------\")\n",
    "print(classification_report(train_y_rfe, train_predict_rfe,target_names=tgt))"
   ]
  },
  {
   "cell_type": "code",
   "execution_count": 55,
   "metadata": {},
   "outputs": [
    {
     "name": "stdout",
     "output_type": "stream",
     "text": [
      "------------Parameters: C=1.0,kernel = 'rbf'------------\n",
      "              precision    recall  f1-score   support\n",
      "\n",
      "      normal       1.00      0.99      1.00     20083\n",
      "         dos       1.00      1.00      1.00     13825\n",
      "       probe       0.98      0.99      0.98      3540\n",
      "         r2l       0.93      0.93      0.93       327\n",
      "         u2r       0.71      0.29      0.42        17\n",
      "\n",
      "    accuracy                           0.99     37792\n",
      "   macro avg       0.92      0.84      0.86     37792\n",
      "weighted avg       0.99      0.99      0.99     37792\n",
      "\n"
     ]
    }
   ],
   "source": [
    "test_predict_rfe = classifier.predict(test_X_rfe)\n",
    "tgt = ['normal','dos','probe','r2l','u2r']\n",
    "print(\"------------Parameters: C=1.0,kernel = 'rbf'------------\")\n",
    "print(classification_report(test_y_rfe, test_predict_rfe,target_names=tgt))"
   ]
  },
  {
   "cell_type": "markdown",
   "metadata": {},
   "source": [
    "### Testing the actual Test Data using the RFE variables"
   ]
  },
  {
   "cell_type": "code",
   "execution_count": 57,
   "metadata": {},
   "outputs": [
    {
     "name": "stdout",
     "output_type": "stream",
     "text": [
      "------------Parameters: C=1.0,kernel = 'rbf'------------\n",
      "              precision    recall  f1-score   support\n",
      "\n",
      "      normal       0.73      0.97      0.83     10004\n",
      "         dos       0.90      0.82      0.86      7166\n",
      "       probe       0.67      0.75      0.71      2421\n",
      "         r2l       0.67      0.02      0.04      2885\n",
      "         u2r       0.44      0.24      0.31        67\n",
      "\n",
      "    accuracy                           0.77     22543\n",
      "   macro avg       0.68      0.56      0.55     22543\n",
      "weighted avg       0.77      0.77      0.73     22543\n",
      "\n"
     ]
    }
   ],
   "source": [
    "#1. Creating the required dummy columns\n",
    "protocol_type_dummy= pd.get_dummies(nid_test['protocol_type'], prefix='protocol', drop_first=True)\n",
    "flag_dummy = pd.get_dummies(nid_test['flag'], prefix='flag', drop_first=True)\n",
    "nid_test = pd.concat([nid_test, protocol_type_dummy,flag_dummy], axis=1)\n",
    "\n",
    "#2. Getting rid of unnecessary columns\n",
    "nid_test_trim = nid_test[imp_rfe]\n",
    "nid_test_trim[\"Attack_Multiclass\"] = nid_test[\"Attack_Multiclass\"]\n",
    "\n",
    "#3. Splitting test data into X and Y vars (since we have Y var in the dataset)\n",
    "t_test_x_rfe = nid_test_trim[nid_test_trim.columns.difference(['Attack_Multiclass'])]\n",
    "t_test_y_rfe = nid_test_trim[['Attack_Multiclass']]\n",
    "\n",
    "#4. Standardizing the dataset\n",
    "t_test_x_rfe = sc.transform(t_test_x_rfe)\n",
    "\n",
    "#5. Fitting the Model\n",
    "t_test_predict_rfe = classifier.predict(t_test_x_rfe)\n",
    "tgt = ['normal','dos','probe','r2l','u2r']\n",
    "print(\"------------Parameters: C=1.0,kernel = 'rbf'------------\")\n",
    "print(classification_report(t_test_y_rfe, t_test_predict_rfe,target_names=tgt))"
   ]
  },
  {
   "cell_type": "code",
   "execution_count": 61,
   "metadata": {},
   "outputs": [
    {
     "name": "stdout",
     "output_type": "stream",
     "text": [
      "------------Train Parameters: C=15.0,kernel = 'linear'------------\n",
      "              precision    recall  f1-score   support\n",
      "\n",
      "      normal       0.98      0.99      0.99     47260\n",
      "         dos       0.99      0.99      0.99     32102\n",
      "       probe       0.97      0.94      0.96      8116\n",
      "         r2l       0.88      0.94      0.90       668\n",
      "         u2r       0.81      0.37      0.51        35\n",
      "\n",
      "    accuracy                           0.98     88181\n",
      "   macro avg       0.93      0.85      0.87     88181\n",
      "weighted avg       0.98      0.98      0.98     88181\n",
      "\n",
      "------------Test Parameters: C=15.0,kernel = 'linear'------------\n",
      "              precision    recall  f1-score   support\n",
      "\n",
      "      normal       0.98      0.99      0.98     20083\n",
      "         dos       0.99      0.99      0.99     13825\n",
      "       probe       0.96      0.94      0.95      3540\n",
      "         r2l       0.87      0.91      0.89       327\n",
      "         u2r       0.50      0.18      0.26        17\n",
      "\n",
      "    accuracy                           0.98     37792\n",
      "   macro avg       0.86      0.80      0.82     37792\n",
      "weighted avg       0.98      0.98      0.98     37792\n",
      "\n"
     ]
    }
   ],
   "source": [
    "classifier = SVC(C=15, kernel = 'linear')\n",
    "classifier.fit(train_X_rfe, train_y_rfe)\n",
    "train_predict_rfe = classifier.predict(train_X_rfe)\n",
    "tgt = ['normal','dos','probe','r2l','u2r']\n",
    "print(\"------------Train Parameters: C=15.0,kernel = 'linear'------------\")\n",
    "print(classification_report(train_y_rfe, train_predict_rfe,target_names=tgt))\n",
    "\n",
    "test_predict_rfe = classifier.predict(test_X_rfe)\n",
    "tgt = ['normal','dos','probe','r2l','u2r']\n",
    "print(\"------------Test Parameters: C=15.0,kernel = 'linear'------------\")\n",
    "print(classification_report(test_y_rfe, test_predict_rfe,target_names=tgt))"
   ]
  },
  {
   "cell_type": "code",
   "execution_count": 59,
   "metadata": {},
   "outputs": [
    {
     "name": "stdout",
     "output_type": "stream",
     "text": [
      "------------Parameters: C=10.0,kernel = 'linear'------------\n",
      "              precision    recall  f1-score   support\n",
      "\n",
      "      normal       0.78      0.95      0.85     10004\n",
      "         dos       0.86      0.86      0.86      7166\n",
      "       probe       0.64      0.78      0.70      2421\n",
      "         r2l       0.58      0.02      0.03      2885\n",
      "         u2r       0.08      0.24      0.12        67\n",
      "\n",
      "    accuracy                           0.78     22543\n",
      "   macro avg       0.59      0.57      0.51     22543\n",
      "weighted avg       0.76      0.78      0.73     22543\n",
      "\n"
     ]
    }
   ],
   "source": [
    "# Fitting the Model to actual test data\n",
    "t_test_predict_rfe = classifier.predict(t_test_x_rfe)\n",
    "tgt = ['normal','dos','probe','r2l','u2r']\n",
    "print(\"------------Parameters: C=10.0,kernel = 'linear'------------\")\n",
    "print(classification_report(t_test_y_rfe, t_test_predict_rfe,target_names=tgt))"
   ]
  },
  {
   "cell_type": "code",
   "execution_count": 62,
   "metadata": {
    "scrolled": true
   },
   "outputs": [
    {
     "name": "stdout",
     "output_type": "stream",
     "text": [
      "------------Parameters: C=15.0,kernel = 'linear'------------\n",
      "              precision    recall  f1-score   support\n",
      "\n",
      "      normal       0.78      0.95      0.85     10004\n",
      "         dos       0.87      0.86      0.86      7166\n",
      "       probe       0.64      0.78      0.70      2421\n",
      "         r2l       0.58      0.02      0.03      2885\n",
      "         u2r       0.08      0.24      0.12        67\n",
      "\n",
      "    accuracy                           0.78     22543\n",
      "   macro avg       0.59      0.57      0.51     22543\n",
      "weighted avg       0.76      0.78      0.73     22543\n",
      "\n"
     ]
    }
   ],
   "source": [
    "# Fitting the Model to actual test data - C=15\n",
    "t_test_predict_rfe = classifier.predict(t_test_x_rfe)\n",
    "tgt = ['normal','dos','probe','r2l','u2r']\n",
    "print(\"------------Parameters: C=15.0,kernel = 'linear'------------\")\n",
    "print(classification_report(t_test_y_rfe, t_test_predict_rfe,target_names=tgt))"
   ]
  },
  {
   "cell_type": "code",
   "execution_count": 63,
   "metadata": {},
   "outputs": [
    {
     "name": "stdout",
     "output_type": "stream",
     "text": [
      "------------Train Parameters: C=3.0,kernel = 'rbf'------------\n",
      "              precision    recall  f1-score   support\n",
      "\n",
      "      normal       1.00      1.00      1.00     47260\n",
      "         dos       1.00      1.00      1.00     32102\n",
      "       probe       0.99      0.99      0.99      8116\n",
      "         r2l       0.96      0.96      0.96       668\n",
      "         u2r       0.84      0.60      0.70        35\n",
      "\n",
      "    accuracy                           1.00     88181\n",
      "   macro avg       0.96      0.91      0.93     88181\n",
      "weighted avg       1.00      1.00      1.00     88181\n",
      "\n",
      "------------Test Parameters: C=3.0,kernel = 'rbf'------------\n",
      "              precision    recall  f1-score   support\n",
      "\n",
      "      normal       1.00      1.00      1.00     20083\n",
      "         dos       1.00      1.00      1.00     13825\n",
      "       probe       0.98      0.99      0.99      3540\n",
      "         r2l       0.94      0.94      0.94       327\n",
      "         u2r       0.75      0.35      0.48        17\n",
      "\n",
      "    accuracy                           1.00     37792\n",
      "   macro avg       0.93      0.86      0.88     37792\n",
      "weighted avg       1.00      1.00      1.00     37792\n",
      "\n"
     ]
    }
   ],
   "source": [
    "classifier = SVC(C=3, kernel = 'rbf')\n",
    "classifier.fit(train_X_rfe, train_y_rfe)\n",
    "train_predict_rfe = classifier.predict(train_X_rfe)\n",
    "tgt = ['normal','dos','probe','r2l','u2r']\n",
    "print(\"------------Train Parameters: C=3.0,kernel = 'rbf'------------\")\n",
    "print(classification_report(train_y_rfe, train_predict_rfe,target_names=tgt))\n",
    "\n",
    "test_predict_rfe = classifier.predict(test_X_rfe)\n",
    "tgt = ['normal','dos','probe','r2l','u2r']\n",
    "print(\"------------Test Parameters: C=3.0,kernel = 'rbf'------------\")\n",
    "print(classification_report(test_y_rfe, test_predict_rfe,target_names=tgt))"
   ]
  },
  {
   "cell_type": "code",
   "execution_count": 64,
   "metadata": {},
   "outputs": [
    {
     "name": "stdout",
     "output_type": "stream",
     "text": [
      "------------Parameters: C=3.0,kernel = 'rbf'------------\n",
      "              precision    recall  f1-score   support\n",
      "\n",
      "      normal       0.74      0.97      0.84     10004\n",
      "         dos       0.89      0.82      0.86      7166\n",
      "       probe       0.68      0.75      0.71      2421\n",
      "         r2l       0.66      0.02      0.04      2885\n",
      "         u2r       0.33      0.24      0.28        67\n",
      "\n",
      "    accuracy                           0.78     22543\n",
      "   macro avg       0.66      0.56      0.54     22543\n",
      "weighted avg       0.77      0.78      0.73     22543\n",
      "\n"
     ]
    }
   ],
   "source": [
    "# Fitting the Model to actual test data - C=3 rbf kernel\n",
    "t_test_predict_rfe = classifier.predict(t_test_x_rfe)\n",
    "tgt = ['normal','dos','probe','r2l','u2r']\n",
    "print(\"------------Parameters: C=3.0,kernel = 'rbf'------------\")\n",
    "print(classification_report(t_test_y_rfe, t_test_predict_rfe,target_names=tgt))"
   ]
  },
  {
   "cell_type": "markdown",
   "metadata": {},
   "source": [
    "## `Model 1 Conclusion` :\n",
    "For **RFE based variable, best classifier params: C=1,kernel='rbf'**"
   ]
  },
  {
   "cell_type": "markdown",
   "metadata": {},
   "source": [
    "## Fitting `Model 2` using Select K-Best variables "
   ]
  },
  {
   "cell_type": "code",
   "execution_count": 65,
   "metadata": {},
   "outputs": [
    {
     "data": {
      "text/plain": [
       "(125973, 21)"
      ]
     },
     "execution_count": 65,
     "metadata": {},
     "output_type": "execute_result"
    }
   ],
   "source": [
    "nid_skb = nid_train[imp_vars_SKB]\n",
    "nid_skb['Attack_Multiclass']=nid_train.Attack_Multiclass\n",
    "nid_skb.shape"
   ]
  },
  {
   "cell_type": "code",
   "execution_count": 66,
   "metadata": {},
   "outputs": [],
   "source": [
    "target_skb = nid_skb[['Attack_Multiclass']]\n",
    "features_skb = nid_skb[nid_skb.columns.difference(['Attack_Multiclass'])]\n",
    "train_y_skb, test_y_skb, train_X_skb, test_X_skb = train_test_split(target_skb,features_skb, test_size=0.3, random_state=42)"
   ]
  },
  {
   "cell_type": "code",
   "execution_count": 67,
   "metadata": {},
   "outputs": [],
   "source": [
    "sc = StandardScaler()\n",
    "train_X_skb = sc.fit_transform(train_X_skb)\n",
    "test_X_skb = sc.transform(test_X_skb)"
   ]
  },
  {
   "cell_type": "code",
   "execution_count": 68,
   "metadata": {},
   "outputs": [
    {
     "data": {
      "text/plain": [
       "SVC(C=1.0, break_ties=False, cache_size=200, class_weight=None, coef0=0.0,\n",
       "    decision_function_shape='ovr', degree=3, gamma='scale', kernel='rbf',\n",
       "    max_iter=-1, probability=False, random_state=42, shrinking=True, tol=0.001,\n",
       "    verbose=False)"
      ]
     },
     "execution_count": 68,
     "metadata": {},
     "output_type": "execute_result"
    }
   ],
   "source": [
    "classifier = SVC(kernel = 'rbf', random_state = 42)\n",
    "classifier.fit(train_X_skb, train_y_skb)"
   ]
  },
  {
   "cell_type": "code",
   "execution_count": 69,
   "metadata": {
    "scrolled": true
   },
   "outputs": [
    {
     "name": "stdout",
     "output_type": "stream",
     "text": [
      "------------SKB Parameters: C=1.0,kernel = 'rbf'------------\n",
      "              precision    recall  f1-score   support\n",
      "\n",
      "      normal       1.00      0.99      1.00     47260\n",
      "         dos       1.00      1.00      1.00     32102\n",
      "       probe       0.98      0.98      0.98      8116\n",
      "         r2l       0.94      0.94      0.94       668\n",
      "         u2r       0.86      0.54      0.67        35\n",
      "\n",
      "    accuracy                           0.99     88181\n",
      "   macro avg       0.96      0.89      0.92     88181\n",
      "weighted avg       0.99      0.99      0.99     88181\n",
      "\n"
     ]
    }
   ],
   "source": [
    "train_predict_skb = classifier.predict(train_X_skb)\n",
    "tgt = ['normal','dos','probe','r2l','u2r']\n",
    "print(\"------------SKB Parameters: C=1.0,kernel = 'rbf'------------\")\n",
    "print(classification_report(train_y_skb, train_predict_skb,target_names=tgt))"
   ]
  },
  {
   "cell_type": "code",
   "execution_count": 70,
   "metadata": {},
   "outputs": [
    {
     "name": "stdout",
     "output_type": "stream",
     "text": [
      "------------SKB Parameters: C=1.0,kernel = 'rbf'------------\n",
      "              precision    recall  f1-score   support\n",
      "\n",
      "      normal       1.00      0.99      0.99     20083\n",
      "         dos       0.99      1.00      1.00     13825\n",
      "       probe       0.98      0.99      0.98      3540\n",
      "         r2l       0.92      0.92      0.92       327\n",
      "         u2r       0.71      0.29      0.42        17\n",
      "\n",
      "    accuracy                           0.99     37792\n",
      "   macro avg       0.92      0.84      0.86     37792\n",
      "weighted avg       0.99      0.99      0.99     37792\n",
      "\n"
     ]
    }
   ],
   "source": [
    "test_predict_skb = classifier.predict(test_X_skb)\n",
    "tgt = ['normal','dos','probe','r2l','u2r']\n",
    "print(\"------------SKB Parameters: C=1.0,kernel = 'rbf'------------\")\n",
    "print(classification_report(test_y_skb, test_predict_skb,target_names=tgt))"
   ]
  },
  {
   "cell_type": "markdown",
   "metadata": {},
   "source": [
    "### Testing the actual Test Data using the RFE variables"
   ]
  },
  {
   "cell_type": "code",
   "execution_count": 71,
   "metadata": {
    "scrolled": false
   },
   "outputs": [
    {
     "name": "stdout",
     "output_type": "stream",
     "text": [
      "------------SKB Parameters: C=1.0,kernel = 'rbf'------------\n",
      "              precision    recall  f1-score   support\n",
      "\n",
      "      normal       0.73      0.96      0.83     10004\n",
      "         dos       0.91      0.82      0.86      7166\n",
      "       probe       0.67      0.67      0.67      2421\n",
      "         r2l       0.94      0.15      0.26      2885\n",
      "         u2r       0.73      0.28      0.41        67\n",
      "\n",
      "    accuracy                           0.78     22543\n",
      "   macro avg       0.80      0.58      0.61     22543\n",
      "weighted avg       0.81      0.78      0.75     22543\n",
      "\n"
     ]
    }
   ],
   "source": [
    "#1. Culling to keep relevant columns\n",
    "nid_test_trim = nid_test[imp_vars_SKB]\n",
    "nid_test_trim[\"Attack_Multiclass\"] = nid_test[\"Attack_Multiclass\"]\n",
    "\n",
    "#2. Splitting test data into X and Y vars (since we have Y var in the dataset)\n",
    "t_test_x_skb = nid_test_trim[nid_test_trim.columns.difference(['Attack_Multiclass'])]\n",
    "t_test_y_skb = nid_test_trim[['Attack_Multiclass']]\n",
    "\n",
    "#3. Standardizing the dataset\n",
    "t_test_x_skb = sc.transform(t_test_x_skb)\n",
    "\n",
    "#4. Fitting the Model\n",
    "t_test_predict_skb = classifier.predict(t_test_x_skb)\n",
    "tgt = ['normal','dos','probe','r2l','u2r']\n",
    "print(\"------------SKB Parameters: C=1.0,kernel = 'rbf'------------\")\n",
    "print(classification_report(t_test_y_skb, t_test_predict_skb,target_names=tgt))"
   ]
  },
  {
   "cell_type": "code",
   "execution_count": 73,
   "metadata": {},
   "outputs": [
    {
     "name": "stdout",
     "output_type": "stream",
     "text": [
      "------------SKB Train Parameters: C=10,kernel = 'linear'------------\n",
      "              precision    recall  f1-score   support\n",
      "\n",
      "      normal       0.98      0.98      0.98     47260\n",
      "         dos       0.98      0.98      0.98     32102\n",
      "       probe       0.95      0.90      0.92      8116\n",
      "         r2l       0.87      0.96      0.91       668\n",
      "         u2r       0.88      0.63      0.73        35\n",
      "\n",
      "    accuracy                           0.97     88181\n",
      "   macro avg       0.93      0.89      0.91     88181\n",
      "weighted avg       0.97      0.97      0.97     88181\n",
      "\n",
      "------------SKB Test Parameters: C=10,kernel = 'linear'------------\n",
      "              precision    recall  f1-score   support\n",
      "\n",
      "      normal       0.97      0.98      0.98     20083\n",
      "         dos       0.98      0.98      0.98     13825\n",
      "       probe       0.94      0.90      0.92      3540\n",
      "         r2l       0.88      0.94      0.91       327\n",
      "         u2r       0.82      0.53      0.64        17\n",
      "\n",
      "    accuracy                           0.97     37792\n",
      "   macro avg       0.92      0.87      0.89     37792\n",
      "weighted avg       0.97      0.97      0.97     37792\n",
      "\n"
     ]
    }
   ],
   "source": [
    "# Fitting the Model to actual test data - C=10 kernel= linear\n",
    "classifier = SVC(C=10, kernel = 'linear')\n",
    "classifier.fit(train_X_skb, train_y_skb)\n",
    "train_predict_skb = classifier.predict(train_X_skb)\n",
    "tgt = ['normal','dos','probe','r2l','u2r']\n",
    "print(\"------------SKB Train Parameters: C=10,kernel = 'linear'------------\")\n",
    "print(classification_report(train_y_skb, train_predict_skb,target_names=tgt))\n",
    "\n",
    "test_predict_skb = classifier.predict(test_X_skb)\n",
    "tgt = ['normal','dos','probe','r2l','u2r']\n",
    "print(\"------------SKB Test Parameters: C=10,kernel = 'linear'------------\")\n",
    "print(classification_report(test_y_skb, test_predict_skb,target_names=tgt))"
   ]
  },
  {
   "cell_type": "code",
   "execution_count": 74,
   "metadata": {},
   "outputs": [
    {
     "name": "stdout",
     "output_type": "stream",
     "text": [
      "------------SKB Parameters: C=10,kernel = 'linear'------------\n",
      "              precision    recall  f1-score   support\n",
      "\n",
      "      normal       0.76      0.93      0.83     10004\n",
      "         dos       0.84      0.88      0.86      7166\n",
      "       probe       0.77      0.79      0.78      2421\n",
      "         r2l       0.89      0.09      0.17      2885\n",
      "         u2r       0.59      0.30      0.40        67\n",
      "\n",
      "    accuracy                           0.79     22543\n",
      "   macro avg       0.77      0.60      0.61     22543\n",
      "weighted avg       0.80      0.79      0.75     22543\n",
      "\n"
     ]
    }
   ],
   "source": [
    "# Fitting the Model to actual test data - C=10 kernel= linear\n",
    "t_test_predict_skb = classifier.predict(t_test_x_skb)\n",
    "tgt = ['normal','dos','probe','r2l','u2r']\n",
    "print(\"------------SKB Parameters: C=10,kernel = 'linear'------------\")\n",
    "print(classification_report(t_test_y_skb, t_test_predict_skb,target_names=tgt))"
   ]
  },
  {
   "cell_type": "markdown",
   "metadata": {},
   "source": [
    "## `Model 2 Conclusion` :\n",
    "For **SKB based variable, best classifier params: C=10,kernel='linear'**"
   ]
  },
  {
   "cell_type": "markdown",
   "metadata": {},
   "source": [
    "## Fitting `Model 3` using both sets of best variables "
   ]
  },
  {
   "cell_type": "code",
   "execution_count": 75,
   "metadata": {},
   "outputs": [
    {
     "data": {
      "text/plain": [
       "(125973, 25)"
      ]
     },
     "execution_count": 75,
     "metadata": {},
     "output_type": "execute_result"
    }
   ],
   "source": [
    "nid_all = nid_train[Final_list]\n",
    "nid_all['Attack_Multiclass']=nid_train.Attack_Multiclass\n",
    "nid_all.shape"
   ]
  },
  {
   "cell_type": "code",
   "execution_count": 77,
   "metadata": {},
   "outputs": [],
   "source": [
    "target_all = nid_all[['Attack_Multiclass']]\n",
    "features_all = nid_all[nid_all.columns.difference(['Attack_Multiclass'])]\n",
    "train_y_all, test_y_all, train_X_all, test_X_all = train_test_split(target_all,features_all, test_size=0.3, random_state=42)"
   ]
  },
  {
   "cell_type": "code",
   "execution_count": 78,
   "metadata": {},
   "outputs": [],
   "source": [
    "sc = StandardScaler()\n",
    "train_X_all = sc.fit_transform(train_X_all)\n",
    "test_X_all = sc.transform(test_X_all)"
   ]
  },
  {
   "cell_type": "code",
   "execution_count": 79,
   "metadata": {},
   "outputs": [
    {
     "data": {
      "text/plain": [
       "SVC(C=1.0, break_ties=False, cache_size=200, class_weight=None, coef0=0.0,\n",
       "    decision_function_shape='ovr', degree=3, gamma='scale', kernel='rbf',\n",
       "    max_iter=-1, probability=False, random_state=42, shrinking=True, tol=0.001,\n",
       "    verbose=False)"
      ]
     },
     "execution_count": 79,
     "metadata": {},
     "output_type": "execute_result"
    }
   ],
   "source": [
    "classifier = SVC(kernel = 'rbf', random_state = 42)\n",
    "classifier.fit(train_X_all, train_y_all)"
   ]
  },
  {
   "cell_type": "code",
   "execution_count": 80,
   "metadata": {
    "scrolled": true
   },
   "outputs": [
    {
     "name": "stdout",
     "output_type": "stream",
     "text": [
      "------------all Parameters: C=1.0,kernel = 'rbf'------------\n",
      "              precision    recall  f1-score   support\n",
      "\n",
      "      normal       1.00      1.00      1.00     47260\n",
      "         dos       1.00      1.00      1.00     32102\n",
      "       probe       0.98      0.99      0.99      8116\n",
      "         r2l       0.93      0.95      0.94       668\n",
      "         u2r       0.86      0.51      0.64        35\n",
      "\n",
      "    accuracy                           1.00     88181\n",
      "   macro avg       0.95      0.89      0.91     88181\n",
      "weighted avg       1.00      1.00      1.00     88181\n",
      "\n"
     ]
    }
   ],
   "source": [
    "train_predict_all = classifier.predict(train_X_all)\n",
    "tgt = ['normal','dos','probe','r2l','u2r']\n",
    "print(\"------------all Parameters: C=1.0,kernel = 'rbf'------------\")\n",
    "print(classification_report(train_y_all, train_predict_all,target_names=tgt))"
   ]
  },
  {
   "cell_type": "code",
   "execution_count": 81,
   "metadata": {},
   "outputs": [
    {
     "name": "stdout",
     "output_type": "stream",
     "text": [
      "------------all Parameters: C=1.0,kernel = 'rbf'------------\n",
      "              precision    recall  f1-score   support\n",
      "\n",
      "      normal       1.00      0.99      1.00     20083\n",
      "         dos       1.00      1.00      1.00     13825\n",
      "       probe       0.97      0.99      0.98      3540\n",
      "         r2l       0.92      0.93      0.93       327\n",
      "         u2r       0.71      0.29      0.42        17\n",
      "\n",
      "    accuracy                           0.99     37792\n",
      "   macro avg       0.92      0.84      0.86     37792\n",
      "weighted avg       0.99      0.99      0.99     37792\n",
      "\n"
     ]
    }
   ],
   "source": [
    "test_predict_all = classifier.predict(test_X_all)\n",
    "tgt = ['normal','dos','probe','r2l','u2r']\n",
    "print(\"------------all Parameters: C=1.0,kernel = 'rbf'------------\")\n",
    "print(classification_report(test_y_all, test_predict_all,target_names=tgt))"
   ]
  },
  {
   "cell_type": "markdown",
   "metadata": {},
   "source": [
    "### Testing the actual Test Data using the RFE variables"
   ]
  },
  {
   "cell_type": "code",
   "execution_count": 82,
   "metadata": {
    "scrolled": false
   },
   "outputs": [
    {
     "name": "stdout",
     "output_type": "stream",
     "text": [
      "------------SKB Parameters: C=1.0,kernel = 'rbf'------------\n",
      "              precision    recall  f1-score   support\n",
      "\n",
      "      normal       0.73      0.97      0.83     10004\n",
      "         dos       0.96      0.82      0.89      7166\n",
      "       probe       0.66      0.70      0.68      2421\n",
      "         r2l       0.94      0.14      0.25      2885\n",
      "         u2r       0.73      0.28      0.41        67\n",
      "\n",
      "    accuracy                           0.79     22543\n",
      "   macro avg       0.80      0.58      0.61     22543\n",
      "weighted avg       0.82      0.79      0.76     22543\n",
      "\n"
     ]
    }
   ],
   "source": [
    "#1. Culling to keep relevant columns\n",
    "nid_test_trim = nid_test[Final_list]\n",
    "nid_test_trim[\"Attack_Multiclass\"] = nid_test[\"Attack_Multiclass\"]\n",
    "\n",
    "#2. Splitting test data into X and Y vars (since we have Y var in the dataset)\n",
    "t_test_x_all = nid_test_trim[nid_test_trim.columns.difference(['Attack_Multiclass'])]\n",
    "t_test_y_all = nid_test_trim[['Attack_Multiclass']]\n",
    "\n",
    "#3. Standardizing the dataset\n",
    "t_test_x_all = sc.transform(t_test_x_all)\n",
    "\n",
    "#4. Fitting the Model\n",
    "t_test_predict_all = classifier.predict(t_test_x_all)\n",
    "tgt = ['normal','dos','probe','r2l','u2r']\n",
    "print(\"------------SKB Parameters: C=1.0,kernel = 'rbf'------------\")\n",
    "print(classification_report(t_test_y_all, t_test_predict_all,target_names=tgt))"
   ]
  },
  {
   "cell_type": "code",
   "execution_count": 83,
   "metadata": {},
   "outputs": [
    {
     "name": "stdout",
     "output_type": "stream",
     "text": [
      "------------all Train Parameters: C=10,kernel = 'linear'------------\n",
      "              precision    recall  f1-score   support\n",
      "\n",
      "      normal       0.99      0.99      0.99     47260\n",
      "         dos       0.99      1.00      1.00     32102\n",
      "       probe       0.97      0.94      0.95      8116\n",
      "         r2l       0.90      0.94      0.92       668\n",
      "         u2r       0.88      0.63      0.73        35\n",
      "\n",
      "    accuracy                           0.99     88181\n",
      "   macro avg       0.94      0.90      0.92     88181\n",
      "weighted avg       0.99      0.99      0.99     88181\n",
      "\n",
      "------------all Test Parameters: C=10,kernel = 'linear'------------\n",
      "              precision    recall  f1-score   support\n",
      "\n",
      "      normal       0.99      0.99      0.99     20083\n",
      "         dos       0.99      1.00      1.00     13825\n",
      "       probe       0.96      0.94      0.95      3540\n",
      "         r2l       0.89      0.93      0.91       327\n",
      "         u2r       0.82      0.53      0.64        17\n",
      "\n",
      "    accuracy                           0.99     37792\n",
      "   macro avg       0.93      0.88      0.90     37792\n",
      "weighted avg       0.99      0.99      0.99     37792\n",
      "\n"
     ]
    }
   ],
   "source": [
    "# Fitting the Model to actual test data - C=10 kernel= linear\n",
    "classifier = SVC(C=10, kernel = 'linear')\n",
    "classifier.fit(train_X_all, train_y_all)\n",
    "train_predict_all = classifier.predict(train_X_all)\n",
    "tgt = ['normal','dos','probe','r2l','u2r']\n",
    "print(\"------------all Train Parameters: C=10,kernel = 'linear'------------\")\n",
    "print(classification_report(train_y_all, train_predict_all,target_names=tgt))\n",
    "\n",
    "test_predict_all = classifier.predict(test_X_all)\n",
    "tgt = ['normal','dos','probe','r2l','u2r']\n",
    "print(\"------------all Test Parameters: C=10,kernel = 'linear'------------\")\n",
    "print(classification_report(test_y_all, test_predict_all,target_names=tgt))"
   ]
  },
  {
   "cell_type": "code",
   "execution_count": 84,
   "metadata": {
    "scrolled": true
   },
   "outputs": [
    {
     "name": "stdout",
     "output_type": "stream",
     "text": [
      "------------all Parameters: C=10,kernel = 'linear'------------\n",
      "              precision    recall  f1-score   support\n",
      "\n",
      "      normal       0.77      0.96      0.85     10004\n",
      "         dos       0.95      0.89      0.92      7166\n",
      "       probe       0.67      0.82      0.74      2421\n",
      "         r2l       0.92      0.10      0.18      2885\n",
      "         u2r       0.59      0.30      0.40        67\n",
      "\n",
      "    accuracy                           0.81     22543\n",
      "   macro avg       0.78      0.61      0.62     22543\n",
      "weighted avg       0.83      0.81      0.77     22543\n",
      "\n"
     ]
    }
   ],
   "source": [
    "# Fitting the Model to actual test data - C=10 kernel= linear\n",
    "t_test_predict_all = classifier.predict(t_test_x_all)\n",
    "tgt = ['normal','dos','probe','r2l','u2r']\n",
    "print(\"------------all Parameters: C=10,kernel = 'linear'------------\")\n",
    "print(classification_report(t_test_y_all, t_test_predict_all,target_names=tgt))"
   ]
  },
  {
   "cell_type": "markdown",
   "metadata": {},
   "source": [
    "# Conclusion:\n",
    "\n",
    "**_Best Algo_:** SVC<br>\n",
    "**_Best Params_:** C=10;kernel=linear<br>\n",
    "**_Best predictive variables_:** 'protocol_udp','dst_host_srv_diff_host_rate','serror_rate','src_bytes','dst_host_count','srv_diff_host_rate','dst_host_diff_srv_rate','srv_count','flag_S0','flag_RSTR','dst_bytes','logged_in','dst_host_same_src_port_rate','rerror_rate','last_flag','root_shell','protocol_tcp','is_guest_login','hot','flag_REJ','wrong_fragment','flag_SF','count','diff_srv_rate'"
   ]
  },
  {
   "cell_type": "markdown",
   "metadata": {},
   "source": [
    "## GridSearch CV\n",
    "\n",
    "I ran the GridSearchCV once. It took me over 12 hours to run the below piece of GridSearch. Hence I have not ran it again and have instead taken an approximation for trial and error above"
   ]
  },
  {
   "cell_type": "code",
   "execution_count": 39,
   "metadata": {},
   "outputs": [
    {
     "name": "stderr",
     "output_type": "stream",
     "text": [
      "C:\\ProgramData\\Anaconda3\\lib\\site-packages\\sklearn\\utils\\validation.py:760: DataConversionWarning: A column-vector y was passed when a 1d array was expected. Please change the shape of y to (n_samples, ), for example using ravel().\n",
      "  y = column_or_1d(y, warn=True)\n"
     ]
    },
    {
     "data": {
      "text/plain": [
       "SVC(C=1.0, break_ties=False, cache_size=200, class_weight=None, coef0=0.0,\n",
       "    decision_function_shape='ovr', degree=3, gamma='scale', kernel='rbf',\n",
       "    max_iter=-1, probability=False, random_state=42, shrinking=True, tol=0.001,\n",
       "    verbose=False)"
      ]
     },
     "execution_count": 39,
     "metadata": {},
     "output_type": "execute_result"
    }
   ],
   "source": [
    "classifier = SVC(kernel = 'rbf', random_state = 42)\n",
    "classifier.fit(train_X, train_y)"
   ]
  },
  {
   "cell_type": "code",
   "execution_count": 40,
   "metadata": {},
   "outputs": [
    {
     "name": "stdout",
     "output_type": "stream",
     "text": [
      "------------Parameters: C=1.0,kernel = 'rbf'------------\n",
      "              precision    recall  f1-score   support\n",
      "\n",
      "           0       0.97      0.99      0.98     47260\n",
      "           1       0.99      0.99      0.99     32102\n",
      "           2       0.98      0.89      0.93      8116\n",
      "           3       0.88      0.72      0.79       668\n",
      "           4       0.00      0.00      0.00        35\n",
      "\n",
      "    accuracy                           0.98     88181\n",
      "   macro avg       0.76      0.72      0.74     88181\n",
      "weighted avg       0.98      0.98      0.98     88181\n",
      "\n"
     ]
    },
    {
     "name": "stderr",
     "output_type": "stream",
     "text": [
      "C:\\ProgramData\\Anaconda3\\lib\\site-packages\\sklearn\\metrics\\_classification.py:1272: UndefinedMetricWarning: Precision and F-score are ill-defined and being set to 0.0 in labels with no predicted samples. Use `zero_division` parameter to control this behavior.\n",
      "  _warn_prf(average, modifier, msg_start, len(result))\n",
      "C:\\ProgramData\\Anaconda3\\lib\\site-packages\\sklearn\\metrics\\_classification.py:1272: UndefinedMetricWarning: Precision and F-score are ill-defined and being set to 0.0 in labels with no predicted samples. Use `zero_division` parameter to control this behavior.\n",
      "  _warn_prf(average, modifier, msg_start, len(result))\n",
      "C:\\ProgramData\\Anaconda3\\lib\\site-packages\\sklearn\\metrics\\_classification.py:1272: UndefinedMetricWarning: Precision and F-score are ill-defined and being set to 0.0 in labels with no predicted samples. Use `zero_division` parameter to control this behavior.\n",
      "  _warn_prf(average, modifier, msg_start, len(result))\n"
     ]
    }
   ],
   "source": [
    "train_predict = classifier.predict(train_X)\n",
    "print(\"------------Parameters: C=1.0,kernel = 'rbf'------------\")\n",
    "print(classification_report(train_y, train_predict))"
   ]
  },
  {
   "cell_type": "code",
   "execution_count": 41,
   "metadata": {
    "scrolled": true
   },
   "outputs": [
    {
     "name": "stdout",
     "output_type": "stream",
     "text": [
      "------------Test prediction: Parameters: C=1.0,kernel = 'rbf'------------\n",
      "              precision    recall  f1-score   support\n",
      "\n",
      "           0       0.97      0.99      0.98     20083\n",
      "           1       0.99      0.99      0.99     13825\n",
      "           2       0.98      0.89      0.93      3540\n",
      "           3       0.89      0.74      0.81       327\n",
      "           4       0.00      0.00      0.00        17\n",
      "\n",
      "    accuracy                           0.98     37792\n",
      "   macro avg       0.76      0.72      0.74     37792\n",
      "weighted avg       0.98      0.98      0.98     37792\n",
      "\n"
     ]
    },
    {
     "name": "stderr",
     "output_type": "stream",
     "text": [
      "C:\\ProgramData\\Anaconda3\\lib\\site-packages\\sklearn\\metrics\\_classification.py:1272: UndefinedMetricWarning: Precision and F-score are ill-defined and being set to 0.0 in labels with no predicted samples. Use `zero_division` parameter to control this behavior.\n",
      "  _warn_prf(average, modifier, msg_start, len(result))\n",
      "C:\\ProgramData\\Anaconda3\\lib\\site-packages\\sklearn\\metrics\\_classification.py:1272: UndefinedMetricWarning: Precision and F-score are ill-defined and being set to 0.0 in labels with no predicted samples. Use `zero_division` parameter to control this behavior.\n",
      "  _warn_prf(average, modifier, msg_start, len(result))\n",
      "C:\\ProgramData\\Anaconda3\\lib\\site-packages\\sklearn\\metrics\\_classification.py:1272: UndefinedMetricWarning: Precision and F-score are ill-defined and being set to 0.0 in labels with no predicted samples. Use `zero_division` parameter to control this behavior.\n",
      "  _warn_prf(average, modifier, msg_start, len(result))\n"
     ]
    }
   ],
   "source": [
    "test_predict = classifier.predict(test_X)\n",
    "print(\"------------Test prediction: Parameters: C=1.0,kernel = 'rbf'------------\")\n",
    "print(classification_report(test_y, test_predict))"
   ]
  },
  {
   "cell_type": "code",
   "execution_count": 44,
   "metadata": {},
   "outputs": [],
   "source": [
    "# Running GridSearchCV to determine the best tuning parameter for the SVM classifier\n",
    "parameters = [{'C': [10, 50, 100], 'kernel': ['linear']}]\n",
    "grid_search = GridSearchCV(estimator = classifier,\n",
    "                           param_grid = parameters,\n",
    "                           scoring = 'accuracy',\n",
    "                           cv = 5,\n",
    "                           n_jobs = -1)"
   ]
  },
  {
   "cell_type": "code",
   "execution_count": null,
   "metadata": {},
   "outputs": [],
   "source": [
    "grid_search = grid_search.fit(train_X, train_y)"
   ]
  },
  {
   "cell_type": "code",
   "execution_count": 29,
   "metadata": {},
   "outputs": [
    {
     "name": "stdout",
     "output_type": "stream",
     "text": [
      "Best Accuracy: 100.00 %\n",
      "Best Parameters: {'C': 10, 'kernel': 'linear'}\n"
     ]
    }
   ],
   "source": [
    "best_accuracy = grid_search.best_score_\n",
    "best_parameters = grid_search.best_params_\n",
    "print(\"Best Accuracy: {:.2f} %\".format(best_accuracy*100))\n",
    "print(\"Best Parameters:\", best_parameters)"
   ]
  }
 ],
 "metadata": {
  "kernelspec": {
   "display_name": "Python 3",
   "language": "python",
   "name": "python3"
  },
  "language_info": {
   "codemirror_mode": {
    "name": "ipython",
    "version": 3
   },
   "file_extension": ".py",
   "mimetype": "text/x-python",
   "name": "python",
   "nbconvert_exporter": "python",
   "pygments_lexer": "ipython3",
   "version": "3.7.3"
  }
 },
 "nbformat": 4,
 "nbformat_minor": 2
}
